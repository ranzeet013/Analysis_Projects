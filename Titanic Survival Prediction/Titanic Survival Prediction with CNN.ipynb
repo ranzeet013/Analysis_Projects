{
 "cells": [
  {
   "cell_type": "markdown",
   "id": "74e9db3e",
   "metadata": {},
   "source": [
    "# Predicting Titanic Survival with CNN"
   ]
  },
  {
   "cell_type": "markdown",
   "id": "5daac9fa",
   "metadata": {},
   "source": [
    "The goal of a project predicting Titanic survival with a CNN (Convolutional Neural Network) could be to develop a machine learning model that can accurately classify passengers as survivors or non-survivors based on their characteristics and features. The project may involve using the CNN architecture, which is well-suited for analyzing visual data like images, to extract meaningful patterns and features from the available data."
   ]
  },
  {
   "cell_type": "markdown",
   "id": "cf68ba08",
   "metadata": {},
   "source": [
    "# Importing Libraries"
   ]
  },
  {
   "cell_type": "markdown",
   "id": "1f187485",
   "metadata": {},
   "source": [
    "These are just a few examples of popular Python libraries. You can import any other library using the same import statement followed by the library name or alias:\n",
    "\n",
    "NumPy: for numerical operations and array manipulation\n",
    "\n",
    "Pandas: for data manipulation and analysis\n",
    "\n",
    "Matplotlib: for creating visualizations\n",
    "\n",
    "Scikit-learn: for machine learning algorithms"
   ]
  },
  {
   "cell_type": "code",
   "execution_count": 1,
   "id": "ce7ca303",
   "metadata": {},
   "outputs": [],
   "source": [
    "import pandas as pd\n",
    "import numpy as np\n",
    "import seaborn as sns\n",
    "import matplotlib.pyplot as plt\n",
    "\n",
    "%matplotlib inline"
   ]
  },
  {
   "cell_type": "code",
   "execution_count": 2,
   "id": "1ef755b8",
   "metadata": {},
   "outputs": [],
   "source": [
    "import warnings\n",
    "warnings.filterwarnings('ignore')"
   ]
  },
  {
   "cell_type": "markdown",
   "id": "0f156d8f",
   "metadata": {},
   "source": [
    "# Importing Dataset"
   ]
  },
  {
   "cell_type": "code",
   "execution_count": 3,
   "id": "060d1498",
   "metadata": {},
   "outputs": [],
   "source": [
    "dataframe = pd.read_csv('SVMtrain.csv')"
   ]
  },
  {
   "cell_type": "markdown",
   "id": "7805736d",
   "metadata": {},
   "source": [
    "# Exploring Dataset"
   ]
  },
  {
   "cell_type": "markdown",
   "id": "c55fb682",
   "metadata": {},
   "source": [
    "Exploring a dataset involves analyzing and understanding its structure, content, and characteristics. It helps in gaining insights into the data, identifying patterns, and making informed decisions about data preprocessing, feature engineering, and modeling."
   ]
  },
  {
   "cell_type": "code",
   "execution_count": 4,
   "id": "ac05a4aa",
   "metadata": {},
   "outputs": [
    {
     "data": {
      "text/html": [
       "<div>\n",
       "<style scoped>\n",
       "    .dataframe tbody tr th:only-of-type {\n",
       "        vertical-align: middle;\n",
       "    }\n",
       "\n",
       "    .dataframe tbody tr th {\n",
       "        vertical-align: top;\n",
       "    }\n",
       "\n",
       "    .dataframe thead th {\n",
       "        text-align: right;\n",
       "    }\n",
       "</style>\n",
       "<table border=\"1\" class=\"dataframe\">\n",
       "  <thead>\n",
       "    <tr style=\"text-align: right;\">\n",
       "      <th></th>\n",
       "      <th>PassengerId</th>\n",
       "      <th>Survived</th>\n",
       "      <th>Pclass</th>\n",
       "      <th>Sex</th>\n",
       "      <th>Age</th>\n",
       "      <th>SibSp</th>\n",
       "      <th>Parch</th>\n",
       "      <th>Fare</th>\n",
       "      <th>Embarked</th>\n",
       "    </tr>\n",
       "  </thead>\n",
       "  <tbody>\n",
       "    <tr>\n",
       "      <th>0</th>\n",
       "      <td>1</td>\n",
       "      <td>0</td>\n",
       "      <td>3</td>\n",
       "      <td>Male</td>\n",
       "      <td>22.0</td>\n",
       "      <td>1</td>\n",
       "      <td>0</td>\n",
       "      <td>7.2500</td>\n",
       "      <td>3</td>\n",
       "    </tr>\n",
       "    <tr>\n",
       "      <th>1</th>\n",
       "      <td>2</td>\n",
       "      <td>1</td>\n",
       "      <td>1</td>\n",
       "      <td>female</td>\n",
       "      <td>38.0</td>\n",
       "      <td>1</td>\n",
       "      <td>0</td>\n",
       "      <td>71.2833</td>\n",
       "      <td>1</td>\n",
       "    </tr>\n",
       "    <tr>\n",
       "      <th>2</th>\n",
       "      <td>3</td>\n",
       "      <td>1</td>\n",
       "      <td>3</td>\n",
       "      <td>female</td>\n",
       "      <td>26.0</td>\n",
       "      <td>0</td>\n",
       "      <td>0</td>\n",
       "      <td>7.9250</td>\n",
       "      <td>3</td>\n",
       "    </tr>\n",
       "    <tr>\n",
       "      <th>3</th>\n",
       "      <td>4</td>\n",
       "      <td>1</td>\n",
       "      <td>1</td>\n",
       "      <td>female</td>\n",
       "      <td>35.0</td>\n",
       "      <td>1</td>\n",
       "      <td>0</td>\n",
       "      <td>53.1000</td>\n",
       "      <td>3</td>\n",
       "    </tr>\n",
       "    <tr>\n",
       "      <th>4</th>\n",
       "      <td>5</td>\n",
       "      <td>0</td>\n",
       "      <td>3</td>\n",
       "      <td>Male</td>\n",
       "      <td>35.0</td>\n",
       "      <td>0</td>\n",
       "      <td>0</td>\n",
       "      <td>8.0500</td>\n",
       "      <td>3</td>\n",
       "    </tr>\n",
       "  </tbody>\n",
       "</table>\n",
       "</div>"
      ],
      "text/plain": [
       "   PassengerId  Survived  Pclass     Sex   Age  SibSp  Parch     Fare  \\\n",
       "0            1         0       3    Male  22.0      1      0   7.2500   \n",
       "1            2         1       1  female  38.0      1      0  71.2833   \n",
       "2            3         1       3  female  26.0      0      0   7.9250   \n",
       "3            4         1       1  female  35.0      1      0  53.1000   \n",
       "4            5         0       3    Male  35.0      0      0   8.0500   \n",
       "\n",
       "   Embarked  \n",
       "0         3  \n",
       "1         1  \n",
       "2         3  \n",
       "3         3  \n",
       "4         3  "
      ]
     },
     "execution_count": 4,
     "metadata": {},
     "output_type": "execute_result"
    }
   ],
   "source": [
    "dataframe.head()"
   ]
  },
  {
   "cell_type": "code",
   "execution_count": 5,
   "id": "ee2fe072",
   "metadata": {},
   "outputs": [
    {
     "data": {
      "text/html": [
       "<div>\n",
       "<style scoped>\n",
       "    .dataframe tbody tr th:only-of-type {\n",
       "        vertical-align: middle;\n",
       "    }\n",
       "\n",
       "    .dataframe tbody tr th {\n",
       "        vertical-align: top;\n",
       "    }\n",
       "\n",
       "    .dataframe thead th {\n",
       "        text-align: right;\n",
       "    }\n",
       "</style>\n",
       "<table border=\"1\" class=\"dataframe\">\n",
       "  <thead>\n",
       "    <tr style=\"text-align: right;\">\n",
       "      <th></th>\n",
       "      <th>PassengerId</th>\n",
       "      <th>Survived</th>\n",
       "      <th>Pclass</th>\n",
       "      <th>Sex</th>\n",
       "      <th>Age</th>\n",
       "      <th>SibSp</th>\n",
       "      <th>Parch</th>\n",
       "      <th>Fare</th>\n",
       "      <th>Embarked</th>\n",
       "    </tr>\n",
       "  </thead>\n",
       "  <tbody>\n",
       "    <tr>\n",
       "      <th>884</th>\n",
       "      <td>887</td>\n",
       "      <td>0</td>\n",
       "      <td>2</td>\n",
       "      <td>Male</td>\n",
       "      <td>27.0</td>\n",
       "      <td>0</td>\n",
       "      <td>0</td>\n",
       "      <td>13.00</td>\n",
       "      <td>3</td>\n",
       "    </tr>\n",
       "    <tr>\n",
       "      <th>885</th>\n",
       "      <td>888</td>\n",
       "      <td>1</td>\n",
       "      <td>1</td>\n",
       "      <td>female</td>\n",
       "      <td>19.0</td>\n",
       "      <td>0</td>\n",
       "      <td>0</td>\n",
       "      <td>30.00</td>\n",
       "      <td>3</td>\n",
       "    </tr>\n",
       "    <tr>\n",
       "      <th>886</th>\n",
       "      <td>889</td>\n",
       "      <td>0</td>\n",
       "      <td>3</td>\n",
       "      <td>female</td>\n",
       "      <td>60.0</td>\n",
       "      <td>1</td>\n",
       "      <td>2</td>\n",
       "      <td>23.45</td>\n",
       "      <td>3</td>\n",
       "    </tr>\n",
       "    <tr>\n",
       "      <th>887</th>\n",
       "      <td>890</td>\n",
       "      <td>1</td>\n",
       "      <td>1</td>\n",
       "      <td>Male</td>\n",
       "      <td>26.0</td>\n",
       "      <td>0</td>\n",
       "      <td>0</td>\n",
       "      <td>30.00</td>\n",
       "      <td>1</td>\n",
       "    </tr>\n",
       "    <tr>\n",
       "      <th>888</th>\n",
       "      <td>891</td>\n",
       "      <td>0</td>\n",
       "      <td>3</td>\n",
       "      <td>Male</td>\n",
       "      <td>32.0</td>\n",
       "      <td>0</td>\n",
       "      <td>0</td>\n",
       "      <td>7.75</td>\n",
       "      <td>2</td>\n",
       "    </tr>\n",
       "  </tbody>\n",
       "</table>\n",
       "</div>"
      ],
      "text/plain": [
       "     PassengerId  Survived  Pclass     Sex   Age  SibSp  Parch   Fare  \\\n",
       "884          887         0       2    Male  27.0      0      0  13.00   \n",
       "885          888         1       1  female  19.0      0      0  30.00   \n",
       "886          889         0       3  female  60.0      1      2  23.45   \n",
       "887          890         1       1    Male  26.0      0      0  30.00   \n",
       "888          891         0       3    Male  32.0      0      0   7.75   \n",
       "\n",
       "     Embarked  \n",
       "884         3  \n",
       "885         3  \n",
       "886         3  \n",
       "887         1  \n",
       "888         2  "
      ]
     },
     "execution_count": 5,
     "metadata": {},
     "output_type": "execute_result"
    }
   ],
   "source": [
    "dataframe.tail()"
   ]
  },
  {
   "cell_type": "code",
   "execution_count": 6,
   "id": "8083b788",
   "metadata": {},
   "outputs": [],
   "source": [
    "dataframe['Sex'] = dataframe['Sex'].map({'female':0, 'Male':1})"
   ]
  },
  {
   "cell_type": "code",
   "execution_count": 7,
   "id": "f9c27f51",
   "metadata": {},
   "outputs": [
    {
     "data": {
      "text/html": [
       "<div>\n",
       "<style scoped>\n",
       "    .dataframe tbody tr th:only-of-type {\n",
       "        vertical-align: middle;\n",
       "    }\n",
       "\n",
       "    .dataframe tbody tr th {\n",
       "        vertical-align: top;\n",
       "    }\n",
       "\n",
       "    .dataframe thead th {\n",
       "        text-align: right;\n",
       "    }\n",
       "</style>\n",
       "<table border=\"1\" class=\"dataframe\">\n",
       "  <thead>\n",
       "    <tr style=\"text-align: right;\">\n",
       "      <th></th>\n",
       "      <th>PassengerId</th>\n",
       "      <th>Survived</th>\n",
       "      <th>Pclass</th>\n",
       "      <th>Sex</th>\n",
       "      <th>Age</th>\n",
       "      <th>SibSp</th>\n",
       "      <th>Parch</th>\n",
       "      <th>Fare</th>\n",
       "      <th>Embarked</th>\n",
       "    </tr>\n",
       "  </thead>\n",
       "  <tbody>\n",
       "    <tr>\n",
       "      <th>0</th>\n",
       "      <td>1</td>\n",
       "      <td>0</td>\n",
       "      <td>3</td>\n",
       "      <td>1</td>\n",
       "      <td>22.0</td>\n",
       "      <td>1</td>\n",
       "      <td>0</td>\n",
       "      <td>7.2500</td>\n",
       "      <td>3</td>\n",
       "    </tr>\n",
       "    <tr>\n",
       "      <th>1</th>\n",
       "      <td>2</td>\n",
       "      <td>1</td>\n",
       "      <td>1</td>\n",
       "      <td>0</td>\n",
       "      <td>38.0</td>\n",
       "      <td>1</td>\n",
       "      <td>0</td>\n",
       "      <td>71.2833</td>\n",
       "      <td>1</td>\n",
       "    </tr>\n",
       "    <tr>\n",
       "      <th>2</th>\n",
       "      <td>3</td>\n",
       "      <td>1</td>\n",
       "      <td>3</td>\n",
       "      <td>0</td>\n",
       "      <td>26.0</td>\n",
       "      <td>0</td>\n",
       "      <td>0</td>\n",
       "      <td>7.9250</td>\n",
       "      <td>3</td>\n",
       "    </tr>\n",
       "    <tr>\n",
       "      <th>3</th>\n",
       "      <td>4</td>\n",
       "      <td>1</td>\n",
       "      <td>1</td>\n",
       "      <td>0</td>\n",
       "      <td>35.0</td>\n",
       "      <td>1</td>\n",
       "      <td>0</td>\n",
       "      <td>53.1000</td>\n",
       "      <td>3</td>\n",
       "    </tr>\n",
       "    <tr>\n",
       "      <th>4</th>\n",
       "      <td>5</td>\n",
       "      <td>0</td>\n",
       "      <td>3</td>\n",
       "      <td>1</td>\n",
       "      <td>35.0</td>\n",
       "      <td>0</td>\n",
       "      <td>0</td>\n",
       "      <td>8.0500</td>\n",
       "      <td>3</td>\n",
       "    </tr>\n",
       "  </tbody>\n",
       "</table>\n",
       "</div>"
      ],
      "text/plain": [
       "   PassengerId  Survived  Pclass  Sex   Age  SibSp  Parch     Fare  Embarked\n",
       "0            1         0       3    1  22.0      1      0   7.2500         3\n",
       "1            2         1       1    0  38.0      1      0  71.2833         1\n",
       "2            3         1       3    0  26.0      0      0   7.9250         3\n",
       "3            4         1       1    0  35.0      1      0  53.1000         3\n",
       "4            5         0       3    1  35.0      0      0   8.0500         3"
      ]
     },
     "execution_count": 7,
     "metadata": {},
     "output_type": "execute_result"
    }
   ],
   "source": [
    "dataframe.head()"
   ]
  },
  {
   "cell_type": "code",
   "execution_count": 8,
   "id": "b5de8aba",
   "metadata": {},
   "outputs": [
    {
     "data": {
      "text/plain": [
       "1    577\n",
       "0    312\n",
       "Name: Sex, dtype: int64"
      ]
     },
     "execution_count": 8,
     "metadata": {},
     "output_type": "execute_result"
    }
   ],
   "source": [
    "dataframe['Sex'].value_counts()"
   ]
  },
  {
   "cell_type": "code",
   "execution_count": 9,
   "id": "45ceb268",
   "metadata": {},
   "outputs": [
    {
     "data": {
      "text/plain": [
       "(889, 9)"
      ]
     },
     "execution_count": 9,
     "metadata": {},
     "output_type": "execute_result"
    }
   ],
   "source": [
    "dataframe.shape"
   ]
  },
  {
   "cell_type": "code",
   "execution_count": 10,
   "id": "9c0e8624",
   "metadata": {},
   "outputs": [
    {
     "name": "stdout",
     "output_type": "stream",
     "text": [
      "<class 'pandas.core.frame.DataFrame'>\n",
      "RangeIndex: 889 entries, 0 to 888\n",
      "Data columns (total 9 columns):\n",
      " #   Column       Non-Null Count  Dtype  \n",
      "---  ------       --------------  -----  \n",
      " 0   PassengerId  889 non-null    int64  \n",
      " 1   Survived     889 non-null    int64  \n",
      " 2   Pclass       889 non-null    int64  \n",
      " 3   Sex          889 non-null    int64  \n",
      " 4   Age          889 non-null    float64\n",
      " 5   SibSp        889 non-null    int64  \n",
      " 6   Parch        889 non-null    int64  \n",
      " 7   Fare         889 non-null    float64\n",
      " 8   Embarked     889 non-null    int64  \n",
      "dtypes: float64(2), int64(7)\n",
      "memory usage: 62.6 KB\n"
     ]
    }
   ],
   "source": [
    "dataframe.info()"
   ]
  },
  {
   "cell_type": "code",
   "execution_count": 11,
   "id": "8f66229a",
   "metadata": {},
   "outputs": [
    {
     "data": {
      "text/plain": [
       "False"
      ]
     },
     "execution_count": 11,
     "metadata": {},
     "output_type": "execute_result"
    }
   ],
   "source": [
    "dataframe.isna().sum().any()"
   ]
  },
  {
   "cell_type": "code",
   "execution_count": 12,
   "id": "b3547667",
   "metadata": {},
   "outputs": [
    {
     "data": {
      "text/plain": [
       "PassengerId    0\n",
       "Survived       0\n",
       "Pclass         0\n",
       "Sex            0\n",
       "Age            0\n",
       "SibSp          0\n",
       "Parch          0\n",
       "Fare           0\n",
       "Embarked       0\n",
       "dtype: int64"
      ]
     },
     "execution_count": 12,
     "metadata": {},
     "output_type": "execute_result"
    }
   ],
   "source": [
    "dataframe.isna().sum()"
   ]
  },
  {
   "cell_type": "code",
   "execution_count": 13,
   "id": "dfa9a1db",
   "metadata": {},
   "outputs": [
    {
     "data": {
      "text/plain": [
       "<AxesSubplot:title={'center':'Survived'}>"
      ]
     },
     "execution_count": 13,
     "metadata": {},
     "output_type": "execute_result"
    },
    {
     "data": {
      "image/png": "[encoded data removed]",
      "text/plain": [
       "<Figure size 720x360 with 1 Axes>"
      ]
     },
     "metadata": {
      "needs_background": "light"
     },
     "output_type": "display_data"
    }
   ],
   "source": [
    "dataframe['Survived'].value_counts().plot(kind = 'bar',\n",
    "                                         figsize = (10, 5), \n",
    "                                         title = 'Survived', \n",
    "                                         rot = 90, \n",
    "                                         cmap = 'magma')"
   ]
  },
  {
   "cell_type": "markdown",
   "id": "1eb779fb",
   "metadata": {},
   "source": [
    "# Statical Info"
   ]
  },
  {
   "cell_type": "markdown",
   "id": "25f70cb9",
   "metadata": {},
   "source": [
    "Statistical information refers to numerical data or metrics that describe various aspects of a dataset or population. These statistics provide quantitative measures of central tendency, dispersion, relationships, and other properties of the data."
   ]
  },
  {
   "cell_type": "code",
   "execution_count": 14,
   "id": "88913c52",
   "metadata": {},
   "outputs": [
    {
     "data": {
      "text/html": [
       "<div>\n",
       "<style scoped>\n",
       "    .dataframe tbody tr th:only-of-type {\n",
       "        vertical-align: middle;\n",
       "    }\n",
       "\n",
       "    .dataframe tbody tr th {\n",
       "        vertical-align: top;\n",
       "    }\n",
       "\n",
       "    .dataframe thead th {\n",
       "        text-align: right;\n",
       "    }\n",
       "</style>\n",
       "<table border=\"1\" class=\"dataframe\">\n",
       "  <thead>\n",
       "    <tr style=\"text-align: right;\">\n",
       "      <th></th>\n",
       "      <th>PassengerId</th>\n",
       "      <th>Survived</th>\n",
       "      <th>Pclass</th>\n",
       "      <th>Sex</th>\n",
       "      <th>Age</th>\n",
       "      <th>SibSp</th>\n",
       "      <th>Parch</th>\n",
       "      <th>Fare</th>\n",
       "      <th>Embarked</th>\n",
       "    </tr>\n",
       "  </thead>\n",
       "  <tbody>\n",
       "    <tr>\n",
       "      <th>count</th>\n",
       "      <td>889.000000</td>\n",
       "      <td>889.000000</td>\n",
       "      <td>889.000000</td>\n",
       "      <td>889.000000</td>\n",
       "      <td>889.000000</td>\n",
       "      <td>889.000000</td>\n",
       "      <td>889.000000</td>\n",
       "      <td>889.000000</td>\n",
       "      <td>889.000000</td>\n",
       "    </tr>\n",
       "    <tr>\n",
       "      <th>mean</th>\n",
       "      <td>446.000000</td>\n",
       "      <td>0.382452</td>\n",
       "      <td>2.311586</td>\n",
       "      <td>0.649044</td>\n",
       "      <td>35.686355</td>\n",
       "      <td>0.524184</td>\n",
       "      <td>0.382452</td>\n",
       "      <td>32.096681</td>\n",
       "      <td>2.535433</td>\n",
       "    </tr>\n",
       "    <tr>\n",
       "      <th>std</th>\n",
       "      <td>256.998173</td>\n",
       "      <td>0.486260</td>\n",
       "      <td>0.834700</td>\n",
       "      <td>0.477538</td>\n",
       "      <td>17.756733</td>\n",
       "      <td>1.103705</td>\n",
       "      <td>0.806761</td>\n",
       "      <td>49.697504</td>\n",
       "      <td>0.792088</td>\n",
       "    </tr>\n",
       "    <tr>\n",
       "      <th>min</th>\n",
       "      <td>1.000000</td>\n",
       "      <td>0.000000</td>\n",
       "      <td>1.000000</td>\n",
       "      <td>0.000000</td>\n",
       "      <td>0.420000</td>\n",
       "      <td>0.000000</td>\n",
       "      <td>0.000000</td>\n",
       "      <td>0.000000</td>\n",
       "      <td>1.000000</td>\n",
       "    </tr>\n",
       "    <tr>\n",
       "      <th>25%</th>\n",
       "      <td>224.000000</td>\n",
       "      <td>0.000000</td>\n",
       "      <td>2.000000</td>\n",
       "      <td>0.000000</td>\n",
       "      <td>22.000000</td>\n",
       "      <td>0.000000</td>\n",
       "      <td>0.000000</td>\n",
       "      <td>7.895800</td>\n",
       "      <td>2.000000</td>\n",
       "    </tr>\n",
       "    <tr>\n",
       "      <th>50%</th>\n",
       "      <td>446.000000</td>\n",
       "      <td>0.000000</td>\n",
       "      <td>3.000000</td>\n",
       "      <td>1.000000</td>\n",
       "      <td>32.000000</td>\n",
       "      <td>0.000000</td>\n",
       "      <td>0.000000</td>\n",
       "      <td>14.454200</td>\n",
       "      <td>3.000000</td>\n",
       "    </tr>\n",
       "    <tr>\n",
       "      <th>75%</th>\n",
       "      <td>668.000000</td>\n",
       "      <td>1.000000</td>\n",
       "      <td>3.000000</td>\n",
       "      <td>1.000000</td>\n",
       "      <td>54.000000</td>\n",
       "      <td>1.000000</td>\n",
       "      <td>0.000000</td>\n",
       "      <td>31.000000</td>\n",
       "      <td>3.000000</td>\n",
       "    </tr>\n",
       "    <tr>\n",
       "      <th>max</th>\n",
       "      <td>891.000000</td>\n",
       "      <td>1.000000</td>\n",
       "      <td>3.000000</td>\n",
       "      <td>1.000000</td>\n",
       "      <td>80.000000</td>\n",
       "      <td>8.000000</td>\n",
       "      <td>6.000000</td>\n",
       "      <td>512.329200</td>\n",
       "      <td>3.000000</td>\n",
       "    </tr>\n",
       "  </tbody>\n",
       "</table>\n",
       "</div>"
      ],
      "text/plain": [
       "       PassengerId    Survived      Pclass         Sex         Age  \\\n",
       "count   889.000000  889.000000  889.000000  889.000000  889.000000   \n",
       "mean    446.000000    0.382452    2.311586    0.649044   35.686355   \n",
       "std     256.998173    0.486260    0.834700    0.477538   17.756733   \n",
       "min       1.000000    0.000000    1.000000    0.000000    0.420000   \n",
       "25%     224.000000    0.000000    2.000000    0.000000   22.000000   \n",
       "50%     446.000000    0.000000    3.000000    1.000000   32.000000   \n",
       "75%     668.000000    1.000000    3.000000    1.000000   54.000000   \n",
       "max     891.000000    1.000000    3.000000    1.000000   80.000000   \n",
       "\n",
       "            SibSp       Parch        Fare    Embarked  \n",
       "count  889.000000  889.000000  889.000000  889.000000  \n",
       "mean     0.524184    0.382452   32.096681    2.535433  \n",
       "std      1.103705    0.806761   49.697504    0.792088  \n",
       "min      0.000000    0.000000    0.000000    1.000000  \n",
       "25%      0.000000    0.000000    7.895800    2.000000  \n",
       "50%      0.000000    0.000000   14.454200    3.000000  \n",
       "75%      1.000000    0.000000   31.000000    3.000000  \n",
       "max      8.000000    6.000000  512.329200    3.000000  "
      ]
     },
     "execution_count": 14,
     "metadata": {},
     "output_type": "execute_result"
    }
   ],
   "source": [
    "dataframe.describe()"
   ]
  },
  {
   "cell_type": "markdown",
   "id": "6c12e4c3",
   "metadata": {},
   "source": [
    "# Correlation Matrix"
   ]
  },
  {
   "cell_type": "markdown",
   "id": "41be4396",
   "metadata": {},
   "source": [
    "A correlation matrix is a table that shows the pairwise correlations between variables in a dataset. Each cell in the table represents the correlation between two variables, and the strength and direction of the correlation is indicated by the color and magnitude of the cell.\n",
    "\n",
    "Correlation matrices are commonly used in data analysis to identify relationships between variables and to help understand the structure of the data. The values in the correlation matrix range from -1 to 1, with -1 indicating a perfect negative correlation, 1 indicating a perfect positive correlation, and 0 indicating no correlation."
   ]
  },
  {
   "cell_type": "code",
   "execution_count": 15,
   "id": "39100b9e",
   "metadata": {},
   "outputs": [],
   "source": [
    "corr_matrix = dataframe.corr()"
   ]
  },
  {
   "cell_type": "code",
   "execution_count": 16,
   "id": "247e31f2",
   "metadata": {},
   "outputs": [
    {
     "data": {
      "text/html": [
       "<div>\n",
       "<style scoped>\n",
       "    .dataframe tbody tr th:only-of-type {\n",
       "        vertical-align: middle;\n",
       "    }\n",
       "\n",
       "    .dataframe tbody tr th {\n",
       "        vertical-align: top;\n",
       "    }\n",
       "\n",
       "    .dataframe thead th {\n",
       "        text-align: right;\n",
       "    }\n",
       "</style>\n",
       "<table border=\"1\" class=\"dataframe\">\n",
       "  <thead>\n",
       "    <tr style=\"text-align: right;\">\n",
       "      <th></th>\n",
       "      <th>PassengerId</th>\n",
       "      <th>Survived</th>\n",
       "      <th>Pclass</th>\n",
       "      <th>Sex</th>\n",
       "      <th>Age</th>\n",
       "      <th>SibSp</th>\n",
       "      <th>Parch</th>\n",
       "      <th>Fare</th>\n",
       "      <th>Embarked</th>\n",
       "    </tr>\n",
       "  </thead>\n",
       "  <tbody>\n",
       "    <tr>\n",
       "      <th>PassengerId</th>\n",
       "      <td>1.000000</td>\n",
       "      <td>-0.005028</td>\n",
       "      <td>-0.035330</td>\n",
       "      <td>0.043136</td>\n",
       "      <td>0.008341</td>\n",
       "      <td>-0.057686</td>\n",
       "      <td>-0.001657</td>\n",
       "      <td>0.012703</td>\n",
       "      <td>0.013166</td>\n",
       "    </tr>\n",
       "    <tr>\n",
       "      <th>Survived</th>\n",
       "      <td>-0.005028</td>\n",
       "      <td>1.000000</td>\n",
       "      <td>-0.335549</td>\n",
       "      <td>-0.541585</td>\n",
       "      <td>-0.116558</td>\n",
       "      <td>-0.034040</td>\n",
       "      <td>0.083151</td>\n",
       "      <td>0.255290</td>\n",
       "      <td>-0.169718</td>\n",
       "    </tr>\n",
       "    <tr>\n",
       "      <th>Pclass</th>\n",
       "      <td>-0.035330</td>\n",
       "      <td>-0.335549</td>\n",
       "      <td>1.000000</td>\n",
       "      <td>0.127741</td>\n",
       "      <td>-0.122449</td>\n",
       "      <td>0.081656</td>\n",
       "      <td>0.016824</td>\n",
       "      <td>-0.548193</td>\n",
       "      <td>0.164681</td>\n",
       "    </tr>\n",
       "    <tr>\n",
       "      <th>Sex</th>\n",
       "      <td>0.043136</td>\n",
       "      <td>-0.541585</td>\n",
       "      <td>0.127741</td>\n",
       "      <td>1.000000</td>\n",
       "      <td>0.102014</td>\n",
       "      <td>-0.116348</td>\n",
       "      <td>-0.247508</td>\n",
       "      <td>-0.179958</td>\n",
       "      <td>0.110320</td>\n",
       "    </tr>\n",
       "    <tr>\n",
       "      <th>Age</th>\n",
       "      <td>0.008341</td>\n",
       "      <td>-0.116558</td>\n",
       "      <td>-0.122449</td>\n",
       "      <td>0.102014</td>\n",
       "      <td>1.000000</td>\n",
       "      <td>-0.156777</td>\n",
       "      <td>-0.215191</td>\n",
       "      <td>-0.003307</td>\n",
       "      <td>-0.124894</td>\n",
       "    </tr>\n",
       "    <tr>\n",
       "      <th>SibSp</th>\n",
       "      <td>-0.057686</td>\n",
       "      <td>-0.034040</td>\n",
       "      <td>0.081656</td>\n",
       "      <td>-0.116348</td>\n",
       "      <td>-0.156777</td>\n",
       "      <td>1.000000</td>\n",
       "      <td>0.414542</td>\n",
       "      <td>0.160887</td>\n",
       "      <td>0.068900</td>\n",
       "    </tr>\n",
       "    <tr>\n",
       "      <th>Parch</th>\n",
       "      <td>-0.001657</td>\n",
       "      <td>0.083151</td>\n",
       "      <td>0.016824</td>\n",
       "      <td>-0.247508</td>\n",
       "      <td>-0.215191</td>\n",
       "      <td>0.414542</td>\n",
       "      <td>1.000000</td>\n",
       "      <td>0.217532</td>\n",
       "      <td>0.040449</td>\n",
       "    </tr>\n",
       "    <tr>\n",
       "      <th>Fare</th>\n",
       "      <td>0.012703</td>\n",
       "      <td>0.255290</td>\n",
       "      <td>-0.548193</td>\n",
       "      <td>-0.179958</td>\n",
       "      <td>-0.003307</td>\n",
       "      <td>0.160887</td>\n",
       "      <td>0.217532</td>\n",
       "      <td>1.000000</td>\n",
       "      <td>-0.226311</td>\n",
       "    </tr>\n",
       "    <tr>\n",
       "      <th>Embarked</th>\n",
       "      <td>0.013166</td>\n",
       "      <td>-0.169718</td>\n",
       "      <td>0.164681</td>\n",
       "      <td>0.110320</td>\n",
       "      <td>-0.124894</td>\n",
       "      <td>0.068900</td>\n",
       "      <td>0.040449</td>\n",
       "      <td>-0.226311</td>\n",
       "      <td>1.000000</td>\n",
       "    </tr>\n",
       "  </tbody>\n",
       "</table>\n",
       "</div>"
      ],
      "text/plain": [
       "             PassengerId  Survived    Pclass       Sex       Age     SibSp  \\\n",
       "PassengerId     1.000000 -0.005028 -0.035330  0.043136  0.008341 -0.057686   \n",
       "Survived       -0.005028  1.000000 -0.335549 -0.541585 -0.116558 -0.034040   \n",
       "Pclass         -0.035330 -0.335549  1.000000  0.127741 -0.122449  0.081656   \n",
       "Sex             0.043136 -0.541585  0.127741  1.000000  0.102014 -0.116348   \n",
       "Age             0.008341 -0.116558 -0.122449  0.102014  1.000000 -0.156777   \n",
       "SibSp          -0.057686 -0.034040  0.081656 -0.116348 -0.156777  1.000000   \n",
       "Parch          -0.001657  0.083151  0.016824 -0.247508 -0.215191  0.414542   \n",
       "Fare            0.012703  0.255290 -0.548193 -0.179958 -0.003307  0.160887   \n",
       "Embarked        0.013166 -0.169718  0.164681  0.110320 -0.124894  0.068900   \n",
       "\n",
       "                Parch      Fare  Embarked  \n",
       "PassengerId -0.001657  0.012703  0.013166  \n",
       "Survived     0.083151  0.255290 -0.169718  \n",
       "Pclass       0.016824 -0.548193  0.164681  \n",
       "Sex         -0.247508 -0.179958  0.110320  \n",
       "Age         -0.215191 -0.003307 -0.124894  \n",
       "SibSp        0.414542  0.160887  0.068900  \n",
       "Parch        1.000000  0.217532  0.040449  \n",
       "Fare         0.217532  1.000000 -0.226311  \n",
       "Embarked     0.040449 -0.226311  1.000000  "
      ]
     },
     "execution_count": 16,
     "metadata": {},
     "output_type": "execute_result"
    }
   ],
   "source": [
    "corr_matrix"
   ]
  },
  {
   "cell_type": "code",
   "execution_count": 40,
   "id": "58c5eb47",
   "metadata": {},
   "outputs": [
    {
     "data": {
      "text/plain": [
       "<AxesSubplot:>"
      ]
     },
     "execution_count": 40,
     "metadata": {},
     "output_type": "execute_result"
    },
    {
     "data": {
      "image/png": "[encoded data removed]",
      "text/plain": [
       "<Figure size 864x432 with 2 Axes>"
      ]
     },
     "metadata": {
      "needs_background": "light"
     },
     "output_type": "display_data"
    }
   ],
   "source": [
    "plt.figure(figsize = (12, 6))\n",
    "sns.heatmap(corr_matrix,\n",
    "            annot = True, \n",
    "            cmap = 'inferno')"
   ]
  },
  {
   "cell_type": "code",
   "execution_count": 19,
   "id": "b886a2a8",
   "metadata": {},
   "outputs": [],
   "source": [
    "dataset = dataframe.drop('Survived', axis = 1)"
   ]
  },
  {
   "cell_type": "code",
   "execution_count": 20,
   "id": "408c8916",
   "metadata": {},
   "outputs": [
    {
     "data": {
      "text/html": [
       "<div>\n",
       "<style scoped>\n",
       "    .dataframe tbody tr th:only-of-type {\n",
       "        vertical-align: middle;\n",
       "    }\n",
       "\n",
       "    .dataframe tbody tr th {\n",
       "        vertical-align: top;\n",
       "    }\n",
       "\n",
       "    .dataframe thead th {\n",
       "        text-align: right;\n",
       "    }\n",
       "</style>\n",
       "<table border=\"1\" class=\"dataframe\">\n",
       "  <thead>\n",
       "    <tr style=\"text-align: right;\">\n",
       "      <th></th>\n",
       "      <th>PassengerId</th>\n",
       "      <th>Pclass</th>\n",
       "      <th>Sex</th>\n",
       "      <th>Age</th>\n",
       "      <th>SibSp</th>\n",
       "      <th>Parch</th>\n",
       "      <th>Fare</th>\n",
       "      <th>Embarked</th>\n",
       "    </tr>\n",
       "  </thead>\n",
       "  <tbody>\n",
       "    <tr>\n",
       "      <th>0</th>\n",
       "      <td>1</td>\n",
       "      <td>3</td>\n",
       "      <td>1</td>\n",
       "      <td>22.0</td>\n",
       "      <td>1</td>\n",
       "      <td>0</td>\n",
       "      <td>7.2500</td>\n",
       "      <td>3</td>\n",
       "    </tr>\n",
       "    <tr>\n",
       "      <th>1</th>\n",
       "      <td>2</td>\n",
       "      <td>1</td>\n",
       "      <td>0</td>\n",
       "      <td>38.0</td>\n",
       "      <td>1</td>\n",
       "      <td>0</td>\n",
       "      <td>71.2833</td>\n",
       "      <td>1</td>\n",
       "    </tr>\n",
       "    <tr>\n",
       "      <th>2</th>\n",
       "      <td>3</td>\n",
       "      <td>3</td>\n",
       "      <td>0</td>\n",
       "      <td>26.0</td>\n",
       "      <td>0</td>\n",
       "      <td>0</td>\n",
       "      <td>7.9250</td>\n",
       "      <td>3</td>\n",
       "    </tr>\n",
       "    <tr>\n",
       "      <th>3</th>\n",
       "      <td>4</td>\n",
       "      <td>1</td>\n",
       "      <td>0</td>\n",
       "      <td>35.0</td>\n",
       "      <td>1</td>\n",
       "      <td>0</td>\n",
       "      <td>53.1000</td>\n",
       "      <td>3</td>\n",
       "    </tr>\n",
       "    <tr>\n",
       "      <th>4</th>\n",
       "      <td>5</td>\n",
       "      <td>3</td>\n",
       "      <td>1</td>\n",
       "      <td>35.0</td>\n",
       "      <td>0</td>\n",
       "      <td>0</td>\n",
       "      <td>8.0500</td>\n",
       "      <td>3</td>\n",
       "    </tr>\n",
       "  </tbody>\n",
       "</table>\n",
       "</div>"
      ],
      "text/plain": [
       "   PassengerId  Pclass  Sex   Age  SibSp  Parch     Fare  Embarked\n",
       "0            1       3    1  22.0      1      0   7.2500         3\n",
       "1            2       1    0  38.0      1      0  71.2833         1\n",
       "2            3       3    0  26.0      0      0   7.9250         3\n",
       "3            4       1    0  35.0      1      0  53.1000         3\n",
       "4            5       3    1  35.0      0      0   8.0500         3"
      ]
     },
     "execution_count": 20,
     "metadata": {},
     "output_type": "execute_result"
    }
   ],
   "source": [
    "dataset.head()"
   ]
  },
  {
   "cell_type": "markdown",
   "id": "44d2949c",
   "metadata": {},
   "source": [
    "# Correlation Diagram"
   ]
  },
  {
   "cell_type": "markdown",
   "id": "efe1a26f",
   "metadata": {},
   "source": [
    "A correlation diagram, also known as a correlation matrix or correlation heatmap, is a graphical representation that displays the correlation coefficients between variables in a dataset. It provides a visual summary of the relationships between pairs of variables, allowing you to quickly identify patterns and dependencies."
   ]
  },
  {
   "cell_type": "code",
   "execution_count": 21,
   "id": "e4cb9e38",
   "metadata": {},
   "outputs": [
    {
     "data": {
      "text/plain": [
       "<AxesSubplot:title={'center':'Correlation with Survived'}>"
      ]
     },
     "execution_count": 21,
     "metadata": {},
     "output_type": "execute_result"
    },
    {
     "data": {
      "image/png": "[encoded data removed]",
      "text/plain": [
       "<Figure size 864x360 with 1 Axes>"
      ]
     },
     "metadata": {
      "needs_background": "light"
     },
     "output_type": "display_data"
    }
   ],
   "source": [
    "dataset.corrwith(dataframe['Survived']).plot.bar(\n",
    "    figsize = (12, 5), \n",
    "    title = 'Correlation with Survived', \n",
    "    cmap = 'ocean', \n",
    "    rot =90\n",
    ")"
   ]
  },
  {
   "cell_type": "code",
   "execution_count": 22,
   "id": "180354e3",
   "metadata": {},
   "outputs": [
    {
     "data": {
      "text/html": [
       "<div>\n",
       "<style scoped>\n",
       "    .dataframe tbody tr th:only-of-type {\n",
       "        vertical-align: middle;\n",
       "    }\n",
       "\n",
       "    .dataframe tbody tr th {\n",
       "        vertical-align: top;\n",
       "    }\n",
       "\n",
       "    .dataframe thead th {\n",
       "        text-align: right;\n",
       "    }\n",
       "</style>\n",
       "<table border=\"1\" class=\"dataframe\">\n",
       "  <thead>\n",
       "    <tr style=\"text-align: right;\">\n",
       "      <th></th>\n",
       "      <th>PassengerId</th>\n",
       "      <th>Survived</th>\n",
       "      <th>Pclass</th>\n",
       "      <th>Sex</th>\n",
       "      <th>Age</th>\n",
       "      <th>SibSp</th>\n",
       "      <th>Parch</th>\n",
       "      <th>Fare</th>\n",
       "      <th>Embarked</th>\n",
       "    </tr>\n",
       "  </thead>\n",
       "  <tbody>\n",
       "    <tr>\n",
       "      <th>0</th>\n",
       "      <td>1</td>\n",
       "      <td>0</td>\n",
       "      <td>3</td>\n",
       "      <td>1</td>\n",
       "      <td>22.0</td>\n",
       "      <td>1</td>\n",
       "      <td>0</td>\n",
       "      <td>7.2500</td>\n",
       "      <td>3</td>\n",
       "    </tr>\n",
       "    <tr>\n",
       "      <th>1</th>\n",
       "      <td>2</td>\n",
       "      <td>1</td>\n",
       "      <td>1</td>\n",
       "      <td>0</td>\n",
       "      <td>38.0</td>\n",
       "      <td>1</td>\n",
       "      <td>0</td>\n",
       "      <td>71.2833</td>\n",
       "      <td>1</td>\n",
       "    </tr>\n",
       "    <tr>\n",
       "      <th>2</th>\n",
       "      <td>3</td>\n",
       "      <td>1</td>\n",
       "      <td>3</td>\n",
       "      <td>0</td>\n",
       "      <td>26.0</td>\n",
       "      <td>0</td>\n",
       "      <td>0</td>\n",
       "      <td>7.9250</td>\n",
       "      <td>3</td>\n",
       "    </tr>\n",
       "    <tr>\n",
       "      <th>3</th>\n",
       "      <td>4</td>\n",
       "      <td>1</td>\n",
       "      <td>1</td>\n",
       "      <td>0</td>\n",
       "      <td>35.0</td>\n",
       "      <td>1</td>\n",
       "      <td>0</td>\n",
       "      <td>53.1000</td>\n",
       "      <td>3</td>\n",
       "    </tr>\n",
       "    <tr>\n",
       "      <th>4</th>\n",
       "      <td>5</td>\n",
       "      <td>0</td>\n",
       "      <td>3</td>\n",
       "      <td>1</td>\n",
       "      <td>35.0</td>\n",
       "      <td>0</td>\n",
       "      <td>0</td>\n",
       "      <td>8.0500</td>\n",
       "      <td>3</td>\n",
       "    </tr>\n",
       "  </tbody>\n",
       "</table>\n",
       "</div>"
      ],
      "text/plain": [
       "   PassengerId  Survived  Pclass  Sex   Age  SibSp  Parch     Fare  Embarked\n",
       "0            1         0       3    1  22.0      1      0   7.2500         3\n",
       "1            2         1       1    0  38.0      1      0  71.2833         1\n",
       "2            3         1       3    0  26.0      0      0   7.9250         3\n",
       "3            4         1       1    0  35.0      1      0  53.1000         3\n",
       "4            5         0       3    1  35.0      0      0   8.0500         3"
      ]
     },
     "execution_count": 22,
     "metadata": {},
     "output_type": "execute_result"
    }
   ],
   "source": [
    "dataframe.head()"
   ]
  },
  {
   "cell_type": "code",
   "execution_count": 23,
   "id": "32d37561",
   "metadata": {},
   "outputs": [
    {
     "data": {
      "text/plain": [
       "Index(['PassengerId', 'Survived', 'Pclass', 'Sex', 'Age', 'SibSp', 'Parch',\n",
       "       'Fare', 'Embarked'],\n",
       "      dtype='object')"
      ]
     },
     "execution_count": 23,
     "metadata": {},
     "output_type": "execute_result"
    }
   ],
   "source": [
    "dataframe.columns"
   ]
  },
  {
   "cell_type": "markdown",
   "id": "ba0a0ddc",
   "metadata": {},
   "source": [
    "# Splitting Dataset"
   ]
  },
  {
   "cell_type": "markdown",
   "id": "2a7b8c6c",
   "metadata": {},
   "source": [
    "Splitting a dataset refers to the process of dividing a given dataset into two or more subsets for training and evaluation purposes. The most common type of split is between the training set and the testing (or validation) set. This division allows us to assess the performance of a machine learning model on unseen data and evaluate its generalization capabilities.\n",
    "\n",
    "Train-Test Split: This is the most basic type of split, where the dataset is divided into a training set and a testing set. The training set is used to train the machine learning model, while the testing set is used to evaluate its performance. The split is typically done using a fixed ratio, such as 80% for training and 20% for testing."
   ]
  },
  {
   "cell_type": "code",
   "execution_count": 24,
   "id": "7627aaa1",
   "metadata": {},
   "outputs": [],
   "source": [
    "x = dataframe.drop('Survived', axis = 1)\n",
    "y = dataframe['Survived']"
   ]
  },
  {
   "cell_type": "code",
   "execution_count": 25,
   "id": "5218f7d2",
   "metadata": {},
   "outputs": [
    {
     "data": {
      "text/plain": [
       "((889, 8), (889,))"
      ]
     },
     "execution_count": 25,
     "metadata": {},
     "output_type": "execute_result"
    }
   ],
   "source": [
    "x.shape, y.shape"
   ]
  },
  {
   "cell_type": "code",
   "execution_count": 26,
   "id": "4e028862",
   "metadata": {},
   "outputs": [],
   "source": [
    "from sklearn.model_selection import train_test_split"
   ]
  },
  {
   "cell_type": "code",
   "execution_count": 27,
   "id": "3bf152a2",
   "metadata": {},
   "outputs": [],
   "source": [
    "x_train, x_test, y_train, y_test = train_test_split(x, \n",
    "                                                    y, \n",
    "                                                    test_size = 0.2, \n",
    "                                                    random_state = 101)"
   ]
  },
  {
   "cell_type": "code",
   "execution_count": 28,
   "id": "404e50e6",
   "metadata": {},
   "outputs": [
    {
     "data": {
      "text/plain": [
       "((711, 8), (178, 8), (711,), (178,))"
      ]
     },
     "execution_count": 28,
     "metadata": {},
     "output_type": "execute_result"
    }
   ],
   "source": [
    "x_train.shape, x_test.shape, y_train.shape, y_test.shape"
   ]
  },
  {
   "cell_type": "markdown",
   "id": "1d5ee813",
   "metadata": {},
   "source": [
    "# Scaling"
   ]
  },
  {
   "cell_type": "markdown",
   "id": "6e61b657",
   "metadata": {},
   "source": [
    "Scaling is a preprocessing technique used in machine learning to transform the input features to a similar scale. It is often necessary because features can have different units, ranges, or magnitudes, which can affect the performance of certain algorithms. Scaling ensures that all features contribute equally to the learning process and prevents features with larger values from dominating those with smaller values.\n",
    "\n",
    "StandardScaler is a commonly used method for scaling numerical features in machine learning. It is part of the preprocessing module in scikit-learn, a popular machine learning library in Python."
   ]
  },
  {
   "cell_type": "code",
   "execution_count": 29,
   "id": "055439af",
   "metadata": {},
   "outputs": [],
   "source": [
    "from sklearn.preprocessing import StandardScaler"
   ]
  },
  {
   "cell_type": "code",
   "execution_count": 30,
   "id": "142c1fc5",
   "metadata": {},
   "outputs": [],
   "source": [
    "scaler = StandardScaler()"
   ]
  },
  {
   "cell_type": "code",
   "execution_count": 31,
   "id": "8e920f17",
   "metadata": {},
   "outputs": [],
   "source": [
    "x_train = scaler.fit_transform(x_train)\n",
    "x_test = scaler.transform(x_test)"
   ]
  },
  {
   "cell_type": "code",
   "execution_count": 32,
   "id": "8ff65620",
   "metadata": {},
   "outputs": [
    {
     "data": {
      "text/plain": [
       "array([[-0.54928632, -1.5915643 , -1.33724915, ..., -0.46771929,\n",
       "         1.54520403, -1.96478908],\n",
       "       [-0.85533572,  0.8212336 , -1.33724915, ...,  0.76852018,\n",
       "        -0.12603058,  0.58209339],\n",
       "       [-1.43212112,  0.8212336 , -1.33724915, ..., -0.46771929,\n",
       "        -0.48015886, -0.69134784],\n",
       "       ...,\n",
       "       [-0.4276513 ,  0.8212336 ,  0.7478038 , ..., -0.46771929,\n",
       "        -0.47490078,  0.58209339],\n",
       "       [ 0.3021588 ,  0.8212336 ,  0.7478038 , ..., -0.46771929,\n",
       "        -0.49134205, -1.96478908],\n",
       "       [ 1.64014399, -0.38516535, -1.33724915, ..., -0.46771929,\n",
       "        -0.37574839,  0.58209339]])"
      ]
     },
     "execution_count": 32,
     "metadata": {},
     "output_type": "execute_result"
    }
   ],
   "source": [
    "x_train"
   ]
  },
  {
   "cell_type": "code",
   "execution_count": 33,
   "id": "5fb68788",
   "metadata": {},
   "outputs": [
    {
     "data": {
      "text/plain": [
       "array([[ 0.25115057,  0.8212336 ,  0.7478038 , ..., -0.46771929,\n",
       "        -0.47490078,  0.58209339],\n",
       "       [ 0.65136901,  0.8212336 ,  0.7478038 , ..., -0.46771929,\n",
       "        -0.48091002, -0.69134784],\n",
       "       [ 0.65921643, -0.38516535, -1.33724915, ...,  2.00475965,\n",
       "         0.66585251,  0.58209339],\n",
       "       ...,\n",
       "       [ 1.21245957,  0.8212336 ,  0.7478038 , ..., -0.46771929,\n",
       "        -0.47999261,  0.58209339],\n",
       "       [-1.02013155, -1.5915643 ,  0.7478038 , ..., -0.46771929,\n",
       "        -0.10433123,  0.58209339],\n",
       "       [-1.04759752,  0.8212336 , -1.33724915, ...,  2.00475965,\n",
       "         0.75699259,  0.58209339]])"
      ]
     },
     "execution_count": 33,
     "metadata": {},
     "output_type": "execute_result"
    }
   ],
   "source": [
    "x_test"
   ]
  },
  {
   "cell_type": "code",
   "execution_count": 34,
   "id": "15a2f782",
   "metadata": {},
   "outputs": [
    {
     "data": {
      "text/plain": [
       "((711, 8), (178, 8))"
      ]
     },
     "execution_count": 34,
     "metadata": {},
     "output_type": "execute_result"
    }
   ],
   "source": [
    "x_train.shape, x_test.shape"
   ]
  },
  {
   "cell_type": "markdown",
   "id": "789604f6",
   "metadata": {},
   "source": [
    "# Reshaping"
   ]
  },
  {
   "cell_type": "markdown",
   "id": "f4c846f7",
   "metadata": {},
   "source": [
    "Reshaping a tensor involves rearranging its elements into a new shape without changing their values. The reshaping operation can be applied to tensors of different dimensions, such as converting a 1D tensor into a 2D tensor or vice versa. Reshaping is commonly performed using the reshape() function or method available in most deep learning frameworks."
   ]
  },
  {
   "cell_type": "code",
   "execution_count": 35,
   "id": "f7d5a514",
   "metadata": {},
   "outputs": [],
   "source": [
    "x_train = x_train.reshape(711, 8, 1)\n",
    "x_test = x_test.reshape(178, 8, 1)"
   ]
  },
  {
   "cell_type": "code",
   "execution_count": 36,
   "id": "69d64722",
   "metadata": {},
   "outputs": [
    {
     "data": {
      "text/plain": [
       "((711, 8, 1), (178, 8, 1))"
      ]
     },
     "execution_count": 36,
     "metadata": {},
     "output_type": "execute_result"
    }
   ],
   "source": [
    "x_train.shape, x_test.shape"
   ]
  },
  {
   "cell_type": "markdown",
   "id": "63706cd6",
   "metadata": {},
   "source": [
    "# Building Model"
   ]
  },
  {
   "cell_type": "markdown",
   "id": "5f4fa276",
   "metadata": {},
   "source": [
    "Building a CNN (Convolutional Neural Network) model involves constructing a deep learning architecture specifically designed for image processing and analysis. CNNs are highly effective in capturing spatial patterns and features from images, making them a popular choice for tasks like image classification, object detection, and image segmentation."
   ]
  },
  {
   "cell_type": "code",
   "execution_count": 37,
   "id": "50e4b9bb",
   "metadata": {},
   "outputs": [],
   "source": [
    "from tensorflow.keras.models import Sequential\n",
    "from tensorflow.keras.layers import Dense, Flatten, Dropout, BatchNormalization\n",
    "from tensorflow.keras.layers import Conv1D, MaxPooling1D\n",
    "from tensorflow.keras.callbacks import EarlyStopping\n",
    "from tensorflow.keras.optimizers import Adam"
   ]
  },
  {
   "cell_type": "code",
   "execution_count": 44,
   "id": "55639615",
   "metadata": {},
   "outputs": [],
   "source": [
    "model = Sequential()\n",
    "model.add(Conv1D(32, kernel_size = 2, padding = 'same', activation = 'relu', input_shape = (8, 1)))\n",
    "model.add(MaxPooling1D(pool_size = 2))\n",
    "model.add(BatchNormalization())\n",
    "model.add(Dropout(0.))\n",
    "\n",
    "model.add(Conv1D(64, kernel_size = 2, padding = 'same', activation = 'relu'))\n",
    "model.add(MaxPooling1D(pool_size = 2))\n",
    "model.add(BatchNormalization())\n",
    "model.add(Dropout(0.4))\n",
    "\n",
    "model.add(Flatten())\n",
    "\n",
    "model.add(Dense(32, activation = 'relu'))\n",
    "model.add(Dropout(0.5))\n",
    "\n",
    "model.add(Dense(1, activation = 'sigmoid'))"
   ]
  },
  {
   "cell_type": "code",
   "execution_count": 45,
   "id": "7eef2c84",
   "metadata": {},
   "outputs": [
    {
     "name": "stdout",
     "output_type": "stream",
     "text": [
      "Model: \"sequential_1\"\n",
      "_________________________________________________________________\n",
      " Layer (type)                Output Shape              Param #   \n",
      "=================================================================\n",
      " conv1d_2 (Conv1D)           (None, 8, 32)             96        \n",
      "                                                                 \n",
      " max_pooling1d_2 (MaxPooling  (None, 4, 32)            0         \n",
      " 1D)                                                             \n",
      "                                                                 \n",
      " batch_normalization_2 (Batc  (None, 4, 32)            128       \n",
      " hNormalization)                                                 \n",
      "                                                                 \n",
      " dropout_3 (Dropout)         (None, 4, 32)             0         \n",
      "                                                                 \n",
      " conv1d_3 (Conv1D)           (None, 4, 64)             4160      \n",
      "                                                                 \n",
      " max_pooling1d_3 (MaxPooling  (None, 2, 64)            0         \n",
      " 1D)                                                             \n",
      "                                                                 \n",
      " batch_normalization_3 (Batc  (None, 2, 64)            256       \n",
      " hNormalization)                                                 \n",
      "                                                                 \n",
      " dropout_4 (Dropout)         (None, 2, 64)             0         \n",
      "                                                                 \n",
      " flatten_1 (Flatten)         (None, 128)               0         \n",
      "                                                                 \n",
      " dense_2 (Dense)             (None, 32)                4128      \n",
      "                                                                 \n",
      " dropout_5 (Dropout)         (None, 32)                0         \n",
      "                                                                 \n",
      " dense_3 (Dense)             (None, 1)                 33        \n",
      "                                                                 \n",
      "=================================================================\n",
      "Total params: 8,801\n",
      "Trainable params: 8,609\n",
      "Non-trainable params: 192\n",
      "_________________________________________________________________\n"
     ]
    }
   ],
   "source": [
    "model.summary()"
   ]
  },
  {
   "cell_type": "markdown",
   "id": "a36a64fc",
   "metadata": {},
   "source": [
    "Early stopping is a technique used during the training of machine learning models to prevent overfitting and find the optimal point at which to stop training. It involves monitoring the performance of the model on a validation dataset and stopping the training process when the model's performance on the validation dataset starts to degrade."
   ]
  },
  {
   "cell_type": "code",
   "execution_count": 46,
   "id": "00f686eb",
   "metadata": {},
   "outputs": [],
   "source": [
    "early_stop = EarlyStopping(monitor = 'val_loss', \n",
    "                           patience = 3, \n",
    "                           restore_best_weights = True)"
   ]
  },
  {
   "cell_type": "markdown",
   "id": "2e456521",
   "metadata": {},
   "source": [
    "# Compiling Model"
   ]
  },
  {
   "cell_type": "markdown",
   "id": "658520b7",
   "metadata": {},
   "source": [
    "Compiling a model in the context of deep learning refers to configuring its training process. It involves specifying the optimizer, the loss function, and any additional metrics that will be used during the training phase. Compiling a model is an essential step before training it on a dataset"
   ]
  },
  {
   "cell_type": "code",
   "execution_count": 47,
   "id": "50d86905",
   "metadata": {},
   "outputs": [],
   "source": [
    "model.compile(optimizer = Adam(0.0001), loss = 'binary_crossentropy', metrics = ['accuracy'])"
   ]
  },
  {
   "cell_type": "markdown",
   "id": "90887f2f",
   "metadata": {},
   "source": [
    "# Training Model"
   ]
  },
  {
   "cell_type": "markdown",
   "id": "94cb138e",
   "metadata": {},
   "source": [
    "Training a model in the context of deep learning involves the process of fitting the model to a training dataset, allowing it to learn from the data and adjust its internal parameters (weights and biases) to make accurate predictions."
   ]
  },
  {
   "cell_type": "code",
   "execution_count": 48,
   "id": "a31214d1",
   "metadata": {
    "scrolled": false
   },
   "outputs": [
    {
     "name": "stdout",
     "output_type": "stream",
     "text": [
      "Epoch 1/250\n",
      "23/23 [==============================] - 7s 62ms/step - loss: 0.8066 - accuracy: 0.6146 - val_loss: 0.6697 - val_accuracy: 0.6966\n",
      "Epoch 2/250\n",
      "23/23 [==============================] - 0s 15ms/step - loss: 0.7530 - accuracy: 0.6582 - val_loss: 0.6587 - val_accuracy: 0.7022\n",
      "Epoch 3/250\n",
      "23/23 [==============================] - 0s 15ms/step - loss: 0.7093 - accuracy: 0.6428 - val_loss: 0.6432 - val_accuracy: 0.7135\n",
      "Epoch 4/250\n",
      "23/23 [==============================] - 0s 14ms/step - loss: 0.6975 - accuracy: 0.6835 - val_loss: 0.6279 - val_accuracy: 0.7135\n",
      "Epoch 5/250\n",
      "23/23 [==============================] - 0s 15ms/step - loss: 0.6927 - accuracy: 0.6779 - val_loss: 0.6120 - val_accuracy: 0.7360\n",
      "Epoch 6/250\n",
      "23/23 [==============================] - 0s 19ms/step - loss: 0.6622 - accuracy: 0.7046 - val_loss: 0.5941 - val_accuracy: 0.7360\n",
      "Epoch 7/250\n",
      "23/23 [==============================] - 0s 13ms/step - loss: 0.6596 - accuracy: 0.7032 - val_loss: 0.5750 - val_accuracy: 0.7416\n",
      "Epoch 8/250\n",
      "23/23 [==============================] - 0s 17ms/step - loss: 0.6285 - accuracy: 0.7117 - val_loss: 0.5558 - val_accuracy: 0.7360\n",
      "Epoch 9/250\n",
      "23/23 [==============================] - 0s 14ms/step - loss: 0.6129 - accuracy: 0.7243 - val_loss: 0.5372 - val_accuracy: 0.7697\n",
      "Epoch 10/250\n",
      "23/23 [==============================] - 0s 14ms/step - loss: 0.6253 - accuracy: 0.7103 - val_loss: 0.5189 - val_accuracy: 0.7865\n",
      "Epoch 11/250\n",
      "23/23 [==============================] - 0s 16ms/step - loss: 0.6004 - accuracy: 0.7032 - val_loss: 0.5019 - val_accuracy: 0.8034\n",
      "Epoch 12/250\n",
      "23/23 [==============================] - 0s 13ms/step - loss: 0.6343 - accuracy: 0.7145 - val_loss: 0.4842 - val_accuracy: 0.8258\n",
      "Epoch 13/250\n",
      "23/23 [==============================] - 0s 16ms/step - loss: 0.6096 - accuracy: 0.7300 - val_loss: 0.4682 - val_accuracy: 0.8371\n",
      "Epoch 14/250\n",
      "23/23 [==============================] - 0s 13ms/step - loss: 0.5987 - accuracy: 0.7412 - val_loss: 0.4525 - val_accuracy: 0.8652\n",
      "Epoch 15/250\n",
      "23/23 [==============================] - 0s 17ms/step - loss: 0.6300 - accuracy: 0.7257 - val_loss: 0.4394 - val_accuracy: 0.8596\n",
      "Epoch 16/250\n",
      "23/23 [==============================] - 0s 16ms/step - loss: 0.6054 - accuracy: 0.7328 - val_loss: 0.4285 - val_accuracy: 0.8596\n",
      "Epoch 17/250\n",
      "23/23 [==============================] - 0s 14ms/step - loss: 0.5991 - accuracy: 0.7356 - val_loss: 0.4190 - val_accuracy: 0.8652\n",
      "Epoch 18/250\n",
      "23/23 [==============================] - 0s 17ms/step - loss: 0.6230 - accuracy: 0.7286 - val_loss: 0.4111 - val_accuracy: 0.8596\n",
      "Epoch 19/250\n",
      "23/23 [==============================] - 0s 13ms/step - loss: 0.5399 - accuracy: 0.7440 - val_loss: 0.4038 - val_accuracy: 0.8539\n",
      "Epoch 20/250\n",
      "23/23 [==============================] - 0s 14ms/step - loss: 0.5432 - accuracy: 0.7525 - val_loss: 0.3984 - val_accuracy: 0.8596\n",
      "Epoch 21/250\n",
      "23/23 [==============================] - 0s 16ms/step - loss: 0.5535 - accuracy: 0.7356 - val_loss: 0.3952 - val_accuracy: 0.8539\n",
      "Epoch 22/250\n",
      "23/23 [==============================] - 0s 14ms/step - loss: 0.6326 - accuracy: 0.7145 - val_loss: 0.3918 - val_accuracy: 0.8427\n",
      "Epoch 23/250\n",
      "23/23 [==============================] - 0s 16ms/step - loss: 0.6176 - accuracy: 0.7215 - val_loss: 0.3892 - val_accuracy: 0.8427\n",
      "Epoch 24/250\n",
      "23/23 [==============================] - 0s 14ms/step - loss: 0.5448 - accuracy: 0.7511 - val_loss: 0.3869 - val_accuracy: 0.8427\n",
      "Epoch 25/250\n",
      "23/23 [==============================] - 0s 13ms/step - loss: 0.5785 - accuracy: 0.7482 - val_loss: 0.3862 - val_accuracy: 0.8483\n",
      "Epoch 26/250\n",
      "23/23 [==============================] - 0s 17ms/step - loss: 0.5575 - accuracy: 0.7539 - val_loss: 0.3862 - val_accuracy: 0.8483\n",
      "Epoch 27/250\n",
      "23/23 [==============================] - 0s 13ms/step - loss: 0.5172 - accuracy: 0.7764 - val_loss: 0.3853 - val_accuracy: 0.8483\n",
      "Epoch 28/250\n",
      "23/23 [==============================] - 0s 13ms/step - loss: 0.5513 - accuracy: 0.7454 - val_loss: 0.3856 - val_accuracy: 0.8427\n",
      "Epoch 29/250\n",
      "23/23 [==============================] - 0s 15ms/step - loss: 0.5781 - accuracy: 0.7370 - val_loss: 0.3859 - val_accuracy: 0.8427\n",
      "Epoch 30/250\n",
      "23/23 [==============================] - 0s 14ms/step - loss: 0.5630 - accuracy: 0.7511 - val_loss: 0.3848 - val_accuracy: 0.8427\n",
      "Epoch 31/250\n",
      "23/23 [==============================] - 0s 13ms/step - loss: 0.5637 - accuracy: 0.7398 - val_loss: 0.3834 - val_accuracy: 0.8483\n",
      "Epoch 32/250\n",
      "23/23 [==============================] - 0s 18ms/step - loss: 0.5698 - accuracy: 0.7454 - val_loss: 0.3815 - val_accuracy: 0.8483\n",
      "Epoch 33/250\n",
      "23/23 [==============================] - 0s 14ms/step - loss: 0.5512 - accuracy: 0.7412 - val_loss: 0.3805 - val_accuracy: 0.8483\n",
      "Epoch 34/250\n",
      "23/23 [==============================] - 0s 13ms/step - loss: 0.5493 - accuracy: 0.7609 - val_loss: 0.3809 - val_accuracy: 0.8539\n",
      "Epoch 35/250\n",
      "23/23 [==============================] - 0s 16ms/step - loss: 0.5190 - accuracy: 0.7637 - val_loss: 0.3802 - val_accuracy: 0.8539\n",
      "Epoch 36/250\n",
      "23/23 [==============================] - 0s 14ms/step - loss: 0.5569 - accuracy: 0.7454 - val_loss: 0.3791 - val_accuracy: 0.8596\n",
      "Epoch 37/250\n",
      "23/23 [==============================] - 0s 14ms/step - loss: 0.5426 - accuracy: 0.7651 - val_loss: 0.3785 - val_accuracy: 0.8539\n",
      "Epoch 38/250\n",
      "23/23 [==============================] - 0s 14ms/step - loss: 0.5367 - accuracy: 0.7722 - val_loss: 0.3763 - val_accuracy: 0.8596\n",
      "Epoch 39/250\n",
      "23/23 [==============================] - 0s 15ms/step - loss: 0.5305 - accuracy: 0.7693 - val_loss: 0.3748 - val_accuracy: 0.8652\n",
      "Epoch 40/250\n",
      "23/23 [==============================] - 0s 17ms/step - loss: 0.5301 - accuracy: 0.7722 - val_loss: 0.3736 - val_accuracy: 0.8596\n",
      "Epoch 41/250\n",
      "23/23 [==============================] - 0s 17ms/step - loss: 0.5182 - accuracy: 0.7581 - val_loss: 0.3727 - val_accuracy: 0.8596\n",
      "Epoch 42/250\n",
      "23/23 [==============================] - 0s 20ms/step - loss: 0.5114 - accuracy: 0.7679 - val_loss: 0.3730 - val_accuracy: 0.8596\n",
      "Epoch 43/250\n",
      "23/23 [==============================] - 0s 16ms/step - loss: 0.5036 - accuracy: 0.7792 - val_loss: 0.3739 - val_accuracy: 0.8596\n",
      "Epoch 44/250\n",
      "23/23 [==============================] - 0s 17ms/step - loss: 0.5033 - accuracy: 0.7764 - val_loss: 0.3731 - val_accuracy: 0.8539\n"
     ]
    },
    {
     "data": {
      "text/plain": [
       "<keras.callbacks.History at 0x23081f17790>"
      ]
     },
     "execution_count": 48,
     "metadata": {},
     "output_type": "execute_result"
    }
   ],
   "source": [
    "model.fit(x_train, y_train, \n",
    "          validation_data = (x_test, y_test), \n",
    "          epochs = 250, \n",
    "          callbacks = [early_stop])"
   ]
  },
  {
   "cell_type": "code",
   "execution_count": 49,
   "id": "71272cca",
   "metadata": {},
   "outputs": [],
   "source": [
    "model.save('survival_pred_model.h5')"
   ]
  },
  {
   "cell_type": "markdown",
   "id": "b3235dfc",
   "metadata": {},
   "source": [
    "# Learning Curve"
   ]
  },
  {
   "cell_type": "markdown",
   "id": "9c9e4a39",
   "metadata": {},
   "source": [
    "The learning curve is a plot that shows how the loss and accuracy of a model change during training. It provides insights into how well the model is learning from the training data and how it generalizes to unseen data. The learning curve typically shows the training and validation loss/accuracy on the y-axis and the number of epochs on the x-axis. By analyzing the learning curve, you can identify if the model is overfitting (high training loss, low validation loss) or underfitting (high training and validation loss). It is a useful tool for monitoring and evaluating the performance of machine learning models."
   ]
  },
  {
   "cell_type": "code",
   "execution_count": 50,
   "id": "34fdd9e6",
   "metadata": {},
   "outputs": [],
   "source": [
    "losses = pd.DataFrame(model.history.history)"
   ]
  },
  {
   "cell_type": "code",
   "execution_count": 51,
   "id": "458a58f4",
   "metadata": {},
   "outputs": [
    {
     "data": {
      "text/html": [
       "<div>\n",
       "<style scoped>\n",
       "    .dataframe tbody tr th:only-of-type {\n",
       "        vertical-align: middle;\n",
       "    }\n",
       "\n",
       "    .dataframe tbody tr th {\n",
       "        vertical-align: top;\n",
       "    }\n",
       "\n",
       "    .dataframe thead th {\n",
       "        text-align: right;\n",
       "    }\n",
       "</style>\n",
       "<table border=\"1\" class=\"dataframe\">\n",
       "  <thead>\n",
       "    <tr style=\"text-align: right;\">\n",
       "      <th></th>\n",
       "      <th>loss</th>\n",
       "      <th>accuracy</th>\n",
       "      <th>val_loss</th>\n",
       "      <th>val_accuracy</th>\n",
       "    </tr>\n",
       "  </thead>\n",
       "  <tbody>\n",
       "    <tr>\n",
       "      <th>0</th>\n",
       "      <td>0.806579</td>\n",
       "      <td>0.614627</td>\n",
       "      <td>0.669729</td>\n",
       "      <td>0.696629</td>\n",
       "    </tr>\n",
       "    <tr>\n",
       "      <th>1</th>\n",
       "      <td>0.752963</td>\n",
       "      <td>0.658228</td>\n",
       "      <td>0.658720</td>\n",
       "      <td>0.702247</td>\n",
       "    </tr>\n",
       "    <tr>\n",
       "      <th>2</th>\n",
       "      <td>0.709312</td>\n",
       "      <td>0.642757</td>\n",
       "      <td>0.643167</td>\n",
       "      <td>0.713483</td>\n",
       "    </tr>\n",
       "    <tr>\n",
       "      <th>3</th>\n",
       "      <td>0.697517</td>\n",
       "      <td>0.683544</td>\n",
       "      <td>0.627912</td>\n",
       "      <td>0.713483</td>\n",
       "    </tr>\n",
       "    <tr>\n",
       "      <th>4</th>\n",
       "      <td>0.692701</td>\n",
       "      <td>0.677918</td>\n",
       "      <td>0.611974</td>\n",
       "      <td>0.735955</td>\n",
       "    </tr>\n",
       "  </tbody>\n",
       "</table>\n",
       "</div>"
      ],
      "text/plain": [
       "       loss  accuracy  val_loss  val_accuracy\n",
       "0  0.806579  0.614627  0.669729      0.696629\n",
       "1  0.752963  0.658228  0.658720      0.702247\n",
       "2  0.709312  0.642757  0.643167      0.713483\n",
       "3  0.697517  0.683544  0.627912      0.713483\n",
       "4  0.692701  0.677918  0.611974      0.735955"
      ]
     },
     "execution_count": 51,
     "metadata": {},
     "output_type": "execute_result"
    }
   ],
   "source": [
    "losses.head()"
   ]
  },
  {
   "cell_type": "code",
   "execution_count": 52,
   "id": "98b45446",
   "metadata": {},
   "outputs": [
    {
     "data": {
      "text/plain": [
       "<AxesSubplot:>"
      ]
     },
     "execution_count": 52,
     "metadata": {},
     "output_type": "execute_result"
    },
    {
     "data": {
      "image/png": "[encoded data removed]",
      "text/plain": [
       "<Figure size 432x288 with 1 Axes>"
      ]
     },
     "metadata": {
      "needs_background": "light"
     },
     "output_type": "display_data"
    }
   ],
   "source": [
    "losses.plot()"
   ]
  },
  {
   "cell_type": "markdown",
   "id": "77363bd8",
   "metadata": {},
   "source": [
    "# Accuracy Curve"
   ]
  },
  {
   "cell_type": "markdown",
   "id": "1306fb0b",
   "metadata": {},
   "source": [
    "An accuracy curve is a graphical representation that depicts how the accuracy of a machine learning model changes as a specific aspect of the model or training process varies. The accuracy curve is typically plotted against the varying parameter or condition to analyze its impact on the model's accuracy."
   ]
  },
  {
   "cell_type": "code",
   "execution_count": 53,
   "id": "0d07f892",
   "metadata": {},
   "outputs": [
    {
     "data": {
      "text/plain": [
       "<AxesSubplot:>"
      ]
     },
     "execution_count": 53,
     "metadata": {},
     "output_type": "execute_result"
    },
    {
     "data": {
      "image/png": "[encoded data removed]",
      "text/plain": [
       "<Figure size 432x288 with 1 Axes>"
      ]
     },
     "metadata": {
      "needs_background": "light"
     },
     "output_type": "display_data"
    }
   ],
   "source": [
    "losses[['accuracy', 'val_accuracy']].plot()"
   ]
  },
  {
   "cell_type": "markdown",
   "id": "50bb3c3e",
   "metadata": {},
   "source": [
    "# Loss Curve"
   ]
  },
  {
   "cell_type": "markdown",
   "id": "f4d71b73",
   "metadata": {},
   "source": [
    "A loss curve is a graphical representation that shows how the loss of a machine learning model changes over the course of training. Loss refers to the discrepancy between the predicted output of the model and the true or expected output. The loss curve helps in monitoring the progress of model training and assessing the convergence and performance of the model."
   ]
  },
  {
   "cell_type": "code",
   "execution_count": 54,
   "id": "4d267bd0",
   "metadata": {},
   "outputs": [
    {
     "data": {
      "text/plain": [
       "<AxesSubplot:>"
      ]
     },
     "execution_count": 54,
     "metadata": {},
     "output_type": "execute_result"
    },
    {
     "data": {
      "image/png": "[encoded data removed]",
      "text/plain": [
       "<Figure size 432x288 with 1 Axes>"
      ]
     },
     "metadata": {
      "needs_background": "light"
     },
     "output_type": "display_data"
    }
   ],
   "source": [
    "losses[['loss', 'val_loss']].plot()"
   ]
  },
  {
   "cell_type": "markdown",
   "id": "c7e7a65e",
   "metadata": {},
   "source": [
    "# Prediction on x-Test Data"
   ]
  },
  {
   "cell_type": "code",
   "execution_count": 55,
   "id": "17c09ea0",
   "metadata": {},
   "outputs": [
    {
     "name": "stdout",
     "output_type": "stream",
     "text": [
      "6/6 [==============================] - 0s 9ms/step\n"
     ]
    }
   ],
   "source": [
    "y_pred = model.predict(x_test)\n",
    "predict_class = y_pred.argmax(axis = 1)"
   ]
  },
  {
   "cell_type": "code",
   "execution_count": 57,
   "id": "5c221df8",
   "metadata": {},
   "outputs": [
    {
     "name": "stdout",
     "output_type": "stream",
     "text": [
      "0\n",
      "0\n"
     ]
    },
    {
     "data": {
      "text/plain": [
       "(None, None)"
      ]
     },
     "execution_count": 57,
     "metadata": {},
     "output_type": "execute_result"
    }
   ],
   "source": [
    "print(y_test.iloc[5]), print(predict_class[5])"
   ]
  },
  {
   "cell_type": "code",
   "execution_count": 58,
   "id": "a1afbaaa",
   "metadata": {},
   "outputs": [
    {
     "name": "stdout",
     "output_type": "stream",
     "text": [
      "0\n",
      "[0.0967266]\n"
     ]
    },
    {
     "data": {
      "text/plain": [
       "(None, None)"
      ]
     },
     "execution_count": 58,
     "metadata": {},
     "output_type": "execute_result"
    }
   ],
   "source": [
    "print(y_test.iloc[4]), print(y_pred[45])"
   ]
  },
  {
   "cell_type": "markdown",
   "id": "b307b884",
   "metadata": {},
   "source": [
    "# Error Analysis"
   ]
  },
  {
   "cell_type": "markdown",
   "id": "49743f4e",
   "metadata": {},
   "source": [
    "Error analysis is an important step in evaluating and improving the performance of a machine learning model. It involves analyzing the errors made by the model during prediction or classification tasks and gaining insights into the types of mistakes it is making. Error analysis can provide valuable information for model refinement and identifying areas for improvement\n",
    "\n"
   ]
  },
  {
   "cell_type": "code",
   "execution_count": 59,
   "id": "5ac79b18",
   "metadata": {},
   "outputs": [],
   "source": [
    "from sklearn.metrics import confusion_matrix"
   ]
  },
  {
   "cell_type": "markdown",
   "id": "1716f1e9",
   "metadata": {},
   "source": [
    "A confusion matrix, also known as an error matrix, is a table that summarizes the performance of a classification model by comparing predicted class labels with actual class labels. It provides a comprehensive view of the model's predictions and the associated errors. The confusion matrix is typically used in supervised learning tasks, where the true class labels are known."
   ]
  },
  {
   "cell_type": "code",
   "execution_count": 63,
   "id": "e3c1446d",
   "metadata": {},
   "outputs": [],
   "source": [
    "confusion_matrix = confusion_matrix(y_test, predict_class)"
   ]
  },
  {
   "cell_type": "code",
   "execution_count": 64,
   "id": "1ee5c9e1",
   "metadata": {},
   "outputs": [
    {
     "data": {
      "text/plain": [
       "array([[107,   0],\n",
       "       [ 71,   0]], dtype=int64)"
      ]
     },
     "execution_count": 64,
     "metadata": {},
     "output_type": "execute_result"
    }
   ],
   "source": [
    "confusion_matrix"
   ]
  },
  {
   "cell_type": "code",
   "execution_count": 65,
   "id": "44bf0ea3",
   "metadata": {},
   "outputs": [
    {
     "data": {
      "text/plain": [
       "<AxesSubplot:>"
      ]
     },
     "execution_count": 65,
     "metadata": {},
     "output_type": "execute_result"
    },
    {
     "data": {
      "image/png": "[encoded data removed]",
      "text/plain": [
       "<Figure size 432x288 with 2 Axes>"
      ]
     },
     "metadata": {
      "needs_background": "light"
     },
     "output_type": "display_data"
    }
   ],
   "source": [
    "plt.figure(figsize = (6, 4))\n",
    "sns.heatmap(confusion_matrix, \n",
    "            annot = True, \n",
    "            cmap = 'RdPu')"
   ]
  },
  {
   "cell_type": "markdown",
   "id": "b2c5f886",
   "metadata": {},
   "source": [
    "# Thanks !"
   ]
  }
 ],
 "metadata": {
  "kernelspec": {
   "display_name": "Python 3 (ipykernel)",
   "language": "python",
   "name": "python3"
  },
  "language_info": {
   "codemirror_mode": {
    "name": "ipython",
    "version": 3
   },
   "file_extension": ".py",
   "mimetype": "text/x-python",
   "name": "python",
   "nbconvert_exporter": "python",
   "pygments_lexer": "ipython3",
   "version": "3.10.9"
  }
 },
 "nbformat": 4,
 "nbformat_minor": 5
}
