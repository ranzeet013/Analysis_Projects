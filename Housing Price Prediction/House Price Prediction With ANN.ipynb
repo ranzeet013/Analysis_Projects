{
 "cells": [
  {
   "cell_type": "markdown",
   "id": "8beef6df",
   "metadata": {},
   "source": [
    "# House Price Prediction With ANN"
   ]
  },
  {
   "cell_type": "markdown",
   "id": "977c62ce",
   "metadata": {},
   "source": [
    "House price prediction using Artificial Neural Networks (ANN) is a popular application of machine learning and predictive analytics. ANNs are powerful models that can learn patterns and relationships from historical data to make predictions on new, unseen data. When it comes to house price prediction, an ANN can analyze various features or attributes of a house, such as its size, location, number of rooms, amenities, and more, to estimate its corresponding price."
   ]
  },
  {
   "cell_type": "markdown",
   "id": "4a5401c5",
   "metadata": {},
   "source": [
    "# Importing Python Libraries"
   ]
  },
  {
   "cell_type": "markdown",
   "id": "42cb6e8f",
   "metadata": {},
   "source": [
    "Importing libraries is an essential step in any data analysis or machine learning project. These libraries provide various functions and tools to manipulate, visualize, and analyze data efficiently. Here are explanations of some popular data analysis libraries:"
   ]
  },
  {
   "cell_type": "markdown",
   "id": "d0e5fa7e",
   "metadata": {},
   "source": [
    "Pandas: Pandas is a powerful and widely used library for data manipulation and analysis. It provides data structures like DataFrames and Series, which allow you to store and manipulate tabular data. Pandas offers a wide range of functions for data cleaning, filtering, aggregation, merging, and more. It also supports reading and writing data from various file formats such as CSV, Excel, SQL databases, and more."
   ]
  },
  {
   "cell_type": "markdown",
   "id": "76d54be3",
   "metadata": {},
   "source": [
    "NumPy: NumPy (Numerical Python) is a fundamental library for scientific computing in Python. It provides efficient data structures like arrays and matrices and a vast collection of mathematical functions. NumPy enables you to perform various numerical operations on large datasets, such as element-wise calculations, linear algebra, Fourier transforms, and random number generation. It also integrates well with other libraries for data analysis and machine learning."
   ]
  },
  {
   "cell_type": "markdown",
   "id": "cb5b9b5d",
   "metadata": {},
   "source": [
    "Matplotlib: Matplotlib is a popular plotting library that enables you to create a wide range of static, animated, and interactive visualizations. It provides a MATLAB-like interface and supports various types of plots, including line plots, scatter plots, bar plots, histograms, and more. Matplotlib gives you extensive control over plot customization, including labels, colors, legends, and annotations, allowing you to effectively communicate insights from your data"
   ]
  },
  {
   "cell_type": "markdown",
   "id": "dc7f9c6e",
   "metadata": {},
   "source": [
    "Seaborn: Seaborn is a statistical data visualization library that is built on top of Matplotlib. It provides a high-level interface for creating attractive and informative statistical graphics. Seaborn simplifies the process of creating complex visualizations like heatmaps, kernel density plots, violin plots, and regression plots. It also offers additional functionalities for handling categorical data, multi-plot grids, and color palettes."
   ]
  },
  {
   "cell_type": "code",
   "execution_count": 1,
   "id": "aba60b1d",
   "metadata": {},
   "outputs": [],
   "source": [
    "import pandas as pd\n",
    "import numpy as np\n",
    "import matplotlib.pyplot as plt\n",
    "import seaborn as sns"
   ]
  },
  {
   "cell_type": "code",
   "execution_count": 2,
   "id": "8626496e",
   "metadata": {},
   "outputs": [],
   "source": [
    "import warnings\n",
    "warnings.filterwarnings('ignore')"
   ]
  },
  {
   "cell_type": "markdown",
   "id": "3626a90c",
   "metadata": {},
   "source": [
    "# Reading Dataset"
   ]
  },
  {
   "cell_type": "code",
   "execution_count": 3,
   "id": "1ad6b378",
   "metadata": {},
   "outputs": [],
   "source": [
    "dataframe = pd.read_csv('data.csv')"
   ]
  },
  {
   "cell_type": "markdown",
   "id": "7ba90237",
   "metadata": {},
   "source": [
    "# Exploratory Data Analysis"
   ]
  },
  {
   "cell_type": "markdown",
   "id": "0edc858c",
   "metadata": {},
   "source": [
    "Exploratory Data Analysis (EDA) is a crucial step in the data analysis process that involves examining and summarizing the main characteristics of a dataset. Its main objective is to gain insights, discover patterns, and understand the structure of the data before proceeding with more advanced analysis or modeling techniques"
   ]
  },
  {
   "cell_type": "code",
   "execution_count": 4,
   "id": "f2f5b4ef",
   "metadata": {},
   "outputs": [
    {
     "data": {
      "text/html": [
       "<div>\n",
       "<style scoped>\n",
       "    .dataframe tbody tr th:only-of-type {\n",
       "        vertical-align: middle;\n",
       "    }\n",
       "\n",
       "    .dataframe tbody tr th {\n",
       "        vertical-align: top;\n",
       "    }\n",
       "\n",
       "    .dataframe thead th {\n",
       "        text-align: right;\n",
       "    }\n",
       "</style>\n",
       "<table border=\"1\" class=\"dataframe\">\n",
       "  <thead>\n",
       "    <tr style=\"text-align: right;\">\n",
       "      <th></th>\n",
       "      <th>date</th>\n",
       "      <th>price</th>\n",
       "      <th>bedrooms</th>\n",
       "      <th>bathrooms</th>\n",
       "      <th>sqft_living</th>\n",
       "      <th>sqft_lot</th>\n",
       "      <th>floors</th>\n",
       "      <th>waterfront</th>\n",
       "      <th>view</th>\n",
       "      <th>condition</th>\n",
       "      <th>sqft_above</th>\n",
       "      <th>sqft_basement</th>\n",
       "      <th>yr_built</th>\n",
       "      <th>yr_renovated</th>\n",
       "      <th>street</th>\n",
       "      <th>city</th>\n",
       "      <th>statezip</th>\n",
       "      <th>country</th>\n",
       "    </tr>\n",
       "  </thead>\n",
       "  <tbody>\n",
       "    <tr>\n",
       "      <th>0</th>\n",
       "      <td>2014-05-02 00:00:00</td>\n",
       "      <td>313000.0</td>\n",
       "      <td>3.0</td>\n",
       "      <td>1.50</td>\n",
       "      <td>1340</td>\n",
       "      <td>7912</td>\n",
       "      <td>1.5</td>\n",
       "      <td>0</td>\n",
       "      <td>0</td>\n",
       "      <td>3</td>\n",
       "      <td>1340</td>\n",
       "      <td>0</td>\n",
       "      <td>1955</td>\n",
       "      <td>2005</td>\n",
       "      <td>18810 Densmore Ave N</td>\n",
       "      <td>Shoreline</td>\n",
       "      <td>WA 98133</td>\n",
       "      <td>USA</td>\n",
       "    </tr>\n",
       "    <tr>\n",
       "      <th>1</th>\n",
       "      <td>2014-05-02 00:00:00</td>\n",
       "      <td>2384000.0</td>\n",
       "      <td>5.0</td>\n",
       "      <td>2.50</td>\n",
       "      <td>3650</td>\n",
       "      <td>9050</td>\n",
       "      <td>2.0</td>\n",
       "      <td>0</td>\n",
       "      <td>4</td>\n",
       "      <td>5</td>\n",
       "      <td>3370</td>\n",
       "      <td>280</td>\n",
       "      <td>1921</td>\n",
       "      <td>0</td>\n",
       "      <td>709 W Blaine St</td>\n",
       "      <td>Seattle</td>\n",
       "      <td>WA 98119</td>\n",
       "      <td>USA</td>\n",
       "    </tr>\n",
       "    <tr>\n",
       "      <th>2</th>\n",
       "      <td>2014-05-02 00:00:00</td>\n",
       "      <td>342000.0</td>\n",
       "      <td>3.0</td>\n",
       "      <td>2.00</td>\n",
       "      <td>1930</td>\n",
       "      <td>11947</td>\n",
       "      <td>1.0</td>\n",
       "      <td>0</td>\n",
       "      <td>0</td>\n",
       "      <td>4</td>\n",
       "      <td>1930</td>\n",
       "      <td>0</td>\n",
       "      <td>1966</td>\n",
       "      <td>0</td>\n",
       "      <td>26206-26214 143rd Ave SE</td>\n",
       "      <td>Kent</td>\n",
       "      <td>WA 98042</td>\n",
       "      <td>USA</td>\n",
       "    </tr>\n",
       "    <tr>\n",
       "      <th>3</th>\n",
       "      <td>2014-05-02 00:00:00</td>\n",
       "      <td>420000.0</td>\n",
       "      <td>3.0</td>\n",
       "      <td>2.25</td>\n",
       "      <td>2000</td>\n",
       "      <td>8030</td>\n",
       "      <td>1.0</td>\n",
       "      <td>0</td>\n",
       "      <td>0</td>\n",
       "      <td>4</td>\n",
       "      <td>1000</td>\n",
       "      <td>1000</td>\n",
       "      <td>1963</td>\n",
       "      <td>0</td>\n",
       "      <td>857 170th Pl NE</td>\n",
       "      <td>Bellevue</td>\n",
       "      <td>WA 98008</td>\n",
       "      <td>USA</td>\n",
       "    </tr>\n",
       "    <tr>\n",
       "      <th>4</th>\n",
       "      <td>2014-05-02 00:00:00</td>\n",
       "      <td>550000.0</td>\n",
       "      <td>4.0</td>\n",
       "      <td>2.50</td>\n",
       "      <td>1940</td>\n",
       "      <td>10500</td>\n",
       "      <td>1.0</td>\n",
       "      <td>0</td>\n",
       "      <td>0</td>\n",
       "      <td>4</td>\n",
       "      <td>1140</td>\n",
       "      <td>800</td>\n",
       "      <td>1976</td>\n",
       "      <td>1992</td>\n",
       "      <td>9105 170th Ave NE</td>\n",
       "      <td>Redmond</td>\n",
       "      <td>WA 98052</td>\n",
       "      <td>USA</td>\n",
       "    </tr>\n",
       "  </tbody>\n",
       "</table>\n",
       "</div>"
      ],
      "text/plain": [
       "                  date      price  bedrooms  bathrooms  sqft_living  sqft_lot  \\\n",
       "0  2014-05-02 00:00:00   313000.0       3.0       1.50         1340      7912   \n",
       "1  2014-05-02 00:00:00  2384000.0       5.0       2.50         3650      9050   \n",
       "2  2014-05-02 00:00:00   342000.0       3.0       2.00         1930     11947   \n",
       "3  2014-05-02 00:00:00   420000.0       3.0       2.25         2000      8030   \n",
       "4  2014-05-02 00:00:00   550000.0       4.0       2.50         1940     10500   \n",
       "\n",
       "   floors  waterfront  view  condition  sqft_above  sqft_basement  yr_built  \\\n",
       "0     1.5           0     0          3        1340              0      1955   \n",
       "1     2.0           0     4          5        3370            280      1921   \n",
       "2     1.0           0     0          4        1930              0      1966   \n",
       "3     1.0           0     0          4        1000           1000      1963   \n",
       "4     1.0           0     0          4        1140            800      1976   \n",
       "\n",
       "   yr_renovated                    street       city  statezip country  \n",
       "0          2005      18810 Densmore Ave N  Shoreline  WA 98133     USA  \n",
       "1             0           709 W Blaine St    Seattle  WA 98119     USA  \n",
       "2             0  26206-26214 143rd Ave SE       Kent  WA 98042     USA  \n",
       "3             0           857 170th Pl NE   Bellevue  WA 98008     USA  \n",
       "4          1992         9105 170th Ave NE    Redmond  WA 98052     USA  "
      ]
     },
     "execution_count": 4,
     "metadata": {},
     "output_type": "execute_result"
    }
   ],
   "source": [
    "dataframe.head()"
   ]
  },
  {
   "cell_type": "code",
   "execution_count": 5,
   "id": "eb1a6c81",
   "metadata": {},
   "outputs": [
    {
     "data": {
      "text/html": [
       "<div>\n",
       "<style scoped>\n",
       "    .dataframe tbody tr th:only-of-type {\n",
       "        vertical-align: middle;\n",
       "    }\n",
       "\n",
       "    .dataframe tbody tr th {\n",
       "        vertical-align: top;\n",
       "    }\n",
       "\n",
       "    .dataframe thead th {\n",
       "        text-align: right;\n",
       "    }\n",
       "</style>\n",
       "<table border=\"1\" class=\"dataframe\">\n",
       "  <thead>\n",
       "    <tr style=\"text-align: right;\">\n",
       "      <th></th>\n",
       "      <th>date</th>\n",
       "      <th>price</th>\n",
       "      <th>bedrooms</th>\n",
       "      <th>bathrooms</th>\n",
       "      <th>sqft_living</th>\n",
       "      <th>sqft_lot</th>\n",
       "      <th>floors</th>\n",
       "      <th>waterfront</th>\n",
       "      <th>view</th>\n",
       "      <th>condition</th>\n",
       "      <th>sqft_above</th>\n",
       "      <th>sqft_basement</th>\n",
       "      <th>yr_built</th>\n",
       "      <th>yr_renovated</th>\n",
       "      <th>street</th>\n",
       "      <th>city</th>\n",
       "      <th>statezip</th>\n",
       "      <th>country</th>\n",
       "    </tr>\n",
       "  </thead>\n",
       "  <tbody>\n",
       "    <tr>\n",
       "      <th>4595</th>\n",
       "      <td>2014-07-09 00:00:00</td>\n",
       "      <td>308166.666667</td>\n",
       "      <td>3.0</td>\n",
       "      <td>1.75</td>\n",
       "      <td>1510</td>\n",
       "      <td>6360</td>\n",
       "      <td>1.0</td>\n",
       "      <td>0</td>\n",
       "      <td>0</td>\n",
       "      <td>4</td>\n",
       "      <td>1510</td>\n",
       "      <td>0</td>\n",
       "      <td>1954</td>\n",
       "      <td>1979</td>\n",
       "      <td>501 N 143rd St</td>\n",
       "      <td>Seattle</td>\n",
       "      <td>WA 98133</td>\n",
       "      <td>USA</td>\n",
       "    </tr>\n",
       "    <tr>\n",
       "      <th>4596</th>\n",
       "      <td>2014-07-09 00:00:00</td>\n",
       "      <td>534333.333333</td>\n",
       "      <td>3.0</td>\n",
       "      <td>2.50</td>\n",
       "      <td>1460</td>\n",
       "      <td>7573</td>\n",
       "      <td>2.0</td>\n",
       "      <td>0</td>\n",
       "      <td>0</td>\n",
       "      <td>3</td>\n",
       "      <td>1460</td>\n",
       "      <td>0</td>\n",
       "      <td>1983</td>\n",
       "      <td>2009</td>\n",
       "      <td>14855 SE 10th Pl</td>\n",
       "      <td>Bellevue</td>\n",
       "      <td>WA 98007</td>\n",
       "      <td>USA</td>\n",
       "    </tr>\n",
       "    <tr>\n",
       "      <th>4597</th>\n",
       "      <td>2014-07-09 00:00:00</td>\n",
       "      <td>416904.166667</td>\n",
       "      <td>3.0</td>\n",
       "      <td>2.50</td>\n",
       "      <td>3010</td>\n",
       "      <td>7014</td>\n",
       "      <td>2.0</td>\n",
       "      <td>0</td>\n",
       "      <td>0</td>\n",
       "      <td>3</td>\n",
       "      <td>3010</td>\n",
       "      <td>0</td>\n",
       "      <td>2009</td>\n",
       "      <td>0</td>\n",
       "      <td>759 Ilwaco Pl NE</td>\n",
       "      <td>Renton</td>\n",
       "      <td>WA 98059</td>\n",
       "      <td>USA</td>\n",
       "    </tr>\n",
       "    <tr>\n",
       "      <th>4598</th>\n",
       "      <td>2014-07-10 00:00:00</td>\n",
       "      <td>203400.000000</td>\n",
       "      <td>4.0</td>\n",
       "      <td>2.00</td>\n",
       "      <td>2090</td>\n",
       "      <td>6630</td>\n",
       "      <td>1.0</td>\n",
       "      <td>0</td>\n",
       "      <td>0</td>\n",
       "      <td>3</td>\n",
       "      <td>1070</td>\n",
       "      <td>1020</td>\n",
       "      <td>1974</td>\n",
       "      <td>0</td>\n",
       "      <td>5148 S Creston St</td>\n",
       "      <td>Seattle</td>\n",
       "      <td>WA 98178</td>\n",
       "      <td>USA</td>\n",
       "    </tr>\n",
       "    <tr>\n",
       "      <th>4599</th>\n",
       "      <td>2014-07-10 00:00:00</td>\n",
       "      <td>220600.000000</td>\n",
       "      <td>3.0</td>\n",
       "      <td>2.50</td>\n",
       "      <td>1490</td>\n",
       "      <td>8102</td>\n",
       "      <td>2.0</td>\n",
       "      <td>0</td>\n",
       "      <td>0</td>\n",
       "      <td>4</td>\n",
       "      <td>1490</td>\n",
       "      <td>0</td>\n",
       "      <td>1990</td>\n",
       "      <td>0</td>\n",
       "      <td>18717 SE 258th St</td>\n",
       "      <td>Covington</td>\n",
       "      <td>WA 98042</td>\n",
       "      <td>USA</td>\n",
       "    </tr>\n",
       "  </tbody>\n",
       "</table>\n",
       "</div>"
      ],
      "text/plain": [
       "                     date          price  bedrooms  bathrooms  sqft_living  \\\n",
       "4595  2014-07-09 00:00:00  308166.666667       3.0       1.75         1510   \n",
       "4596  2014-07-09 00:00:00  534333.333333       3.0       2.50         1460   \n",
       "4597  2014-07-09 00:00:00  416904.166667       3.0       2.50         3010   \n",
       "4598  2014-07-10 00:00:00  203400.000000       4.0       2.00         2090   \n",
       "4599  2014-07-10 00:00:00  220600.000000       3.0       2.50         1490   \n",
       "\n",
       "      sqft_lot  floors  waterfront  view  condition  sqft_above  \\\n",
       "4595      6360     1.0           0     0          4        1510   \n",
       "4596      7573     2.0           0     0          3        1460   \n",
       "4597      7014     2.0           0     0          3        3010   \n",
       "4598      6630     1.0           0     0          3        1070   \n",
       "4599      8102     2.0           0     0          4        1490   \n",
       "\n",
       "      sqft_basement  yr_built  yr_renovated             street       city  \\\n",
       "4595              0      1954          1979     501 N 143rd St    Seattle   \n",
       "4596              0      1983          2009   14855 SE 10th Pl   Bellevue   \n",
       "4597              0      2009             0   759 Ilwaco Pl NE     Renton   \n",
       "4598           1020      1974             0  5148 S Creston St    Seattle   \n",
       "4599              0      1990             0  18717 SE 258th St  Covington   \n",
       "\n",
       "      statezip country  \n",
       "4595  WA 98133     USA  \n",
       "4596  WA 98007     USA  \n",
       "4597  WA 98059     USA  \n",
       "4598  WA 98178     USA  \n",
       "4599  WA 98042     USA  "
      ]
     },
     "execution_count": 5,
     "metadata": {},
     "output_type": "execute_result"
    }
   ],
   "source": [
    "dataframe.tail()"
   ]
  },
  {
   "cell_type": "code",
   "execution_count": 6,
   "id": "a53c4eee",
   "metadata": {},
   "outputs": [
    {
     "data": {
      "text/plain": [
       "(4600, 18)"
      ]
     },
     "execution_count": 6,
     "metadata": {},
     "output_type": "execute_result"
    }
   ],
   "source": [
    "dataframe.shape"
   ]
  },
  {
   "cell_type": "code",
   "execution_count": 7,
   "id": "4edd5863",
   "metadata": {},
   "outputs": [
    {
     "name": "stdout",
     "output_type": "stream",
     "text": [
      "<class 'pandas.core.frame.DataFrame'>\n",
      "RangeIndex: 4600 entries, 0 to 4599\n",
      "Data columns (total 18 columns):\n",
      " #   Column         Non-Null Count  Dtype  \n",
      "---  ------         --------------  -----  \n",
      " 0   date           4600 non-null   object \n",
      " 1   price          4600 non-null   float64\n",
      " 2   bedrooms       4600 non-null   float64\n",
      " 3   bathrooms      4600 non-null   float64\n",
      " 4   sqft_living    4600 non-null   int64  \n",
      " 5   sqft_lot       4600 non-null   int64  \n",
      " 6   floors         4600 non-null   float64\n",
      " 7   waterfront     4600 non-null   int64  \n",
      " 8   view           4600 non-null   int64  \n",
      " 9   condition      4600 non-null   int64  \n",
      " 10  sqft_above     4600 non-null   int64  \n",
      " 11  sqft_basement  4600 non-null   int64  \n",
      " 12  yr_built       4600 non-null   int64  \n",
      " 13  yr_renovated   4600 non-null   int64  \n",
      " 14  street         4600 non-null   object \n",
      " 15  city           4600 non-null   object \n",
      " 16  statezip       4600 non-null   object \n",
      " 17  country        4600 non-null   object \n",
      "dtypes: float64(4), int64(9), object(5)\n",
      "memory usage: 647.0+ KB\n"
     ]
    }
   ],
   "source": [
    "dataframe.info()"
   ]
  },
  {
   "cell_type": "code",
   "execution_count": 8,
   "id": "3bb080c5",
   "metadata": {},
   "outputs": [
    {
     "data": {
      "text/html": [
       "<div>\n",
       "<style scoped>\n",
       "    .dataframe tbody tr th:only-of-type {\n",
       "        vertical-align: middle;\n",
       "    }\n",
       "\n",
       "    .dataframe tbody tr th {\n",
       "        vertical-align: top;\n",
       "    }\n",
       "\n",
       "    .dataframe thead th {\n",
       "        text-align: right;\n",
       "    }\n",
       "</style>\n",
       "<table border=\"1\" class=\"dataframe\">\n",
       "  <thead>\n",
       "    <tr style=\"text-align: right;\">\n",
       "      <th></th>\n",
       "      <th>price</th>\n",
       "      <th>bedrooms</th>\n",
       "      <th>bathrooms</th>\n",
       "      <th>sqft_living</th>\n",
       "      <th>sqft_lot</th>\n",
       "      <th>floors</th>\n",
       "      <th>waterfront</th>\n",
       "      <th>view</th>\n",
       "      <th>condition</th>\n",
       "      <th>sqft_above</th>\n",
       "      <th>sqft_basement</th>\n",
       "      <th>yr_built</th>\n",
       "      <th>yr_renovated</th>\n",
       "    </tr>\n",
       "  </thead>\n",
       "  <tbody>\n",
       "    <tr>\n",
       "      <th>count</th>\n",
       "      <td>4.600000e+03</td>\n",
       "      <td>4600.000000</td>\n",
       "      <td>4600.000000</td>\n",
       "      <td>4600.000000</td>\n",
       "      <td>4.600000e+03</td>\n",
       "      <td>4600.000000</td>\n",
       "      <td>4600.000000</td>\n",
       "      <td>4600.000000</td>\n",
       "      <td>4600.000000</td>\n",
       "      <td>4600.000000</td>\n",
       "      <td>4600.000000</td>\n",
       "      <td>4600.000000</td>\n",
       "      <td>4600.000000</td>\n",
       "    </tr>\n",
       "    <tr>\n",
       "      <th>mean</th>\n",
       "      <td>5.519630e+05</td>\n",
       "      <td>3.400870</td>\n",
       "      <td>2.160815</td>\n",
       "      <td>2139.346957</td>\n",
       "      <td>1.485252e+04</td>\n",
       "      <td>1.512065</td>\n",
       "      <td>0.007174</td>\n",
       "      <td>0.240652</td>\n",
       "      <td>3.451739</td>\n",
       "      <td>1827.265435</td>\n",
       "      <td>312.081522</td>\n",
       "      <td>1970.786304</td>\n",
       "      <td>808.608261</td>\n",
       "    </tr>\n",
       "    <tr>\n",
       "      <th>std</th>\n",
       "      <td>5.638347e+05</td>\n",
       "      <td>0.908848</td>\n",
       "      <td>0.783781</td>\n",
       "      <td>963.206916</td>\n",
       "      <td>3.588444e+04</td>\n",
       "      <td>0.538288</td>\n",
       "      <td>0.084404</td>\n",
       "      <td>0.778405</td>\n",
       "      <td>0.677230</td>\n",
       "      <td>862.168977</td>\n",
       "      <td>464.137228</td>\n",
       "      <td>29.731848</td>\n",
       "      <td>979.414536</td>\n",
       "    </tr>\n",
       "    <tr>\n",
       "      <th>min</th>\n",
       "      <td>0.000000e+00</td>\n",
       "      <td>0.000000</td>\n",
       "      <td>0.000000</td>\n",
       "      <td>370.000000</td>\n",
       "      <td>6.380000e+02</td>\n",
       "      <td>1.000000</td>\n",
       "      <td>0.000000</td>\n",
       "      <td>0.000000</td>\n",
       "      <td>1.000000</td>\n",
       "      <td>370.000000</td>\n",
       "      <td>0.000000</td>\n",
       "      <td>1900.000000</td>\n",
       "      <td>0.000000</td>\n",
       "    </tr>\n",
       "    <tr>\n",
       "      <th>25%</th>\n",
       "      <td>3.228750e+05</td>\n",
       "      <td>3.000000</td>\n",
       "      <td>1.750000</td>\n",
       "      <td>1460.000000</td>\n",
       "      <td>5.000750e+03</td>\n",
       "      <td>1.000000</td>\n",
       "      <td>0.000000</td>\n",
       "      <td>0.000000</td>\n",
       "      <td>3.000000</td>\n",
       "      <td>1190.000000</td>\n",
       "      <td>0.000000</td>\n",
       "      <td>1951.000000</td>\n",
       "      <td>0.000000</td>\n",
       "    </tr>\n",
       "    <tr>\n",
       "      <th>50%</th>\n",
       "      <td>4.609435e+05</td>\n",
       "      <td>3.000000</td>\n",
       "      <td>2.250000</td>\n",
       "      <td>1980.000000</td>\n",
       "      <td>7.683000e+03</td>\n",
       "      <td>1.500000</td>\n",
       "      <td>0.000000</td>\n",
       "      <td>0.000000</td>\n",
       "      <td>3.000000</td>\n",
       "      <td>1590.000000</td>\n",
       "      <td>0.000000</td>\n",
       "      <td>1976.000000</td>\n",
       "      <td>0.000000</td>\n",
       "    </tr>\n",
       "    <tr>\n",
       "      <th>75%</th>\n",
       "      <td>6.549625e+05</td>\n",
       "      <td>4.000000</td>\n",
       "      <td>2.500000</td>\n",
       "      <td>2620.000000</td>\n",
       "      <td>1.100125e+04</td>\n",
       "      <td>2.000000</td>\n",
       "      <td>0.000000</td>\n",
       "      <td>0.000000</td>\n",
       "      <td>4.000000</td>\n",
       "      <td>2300.000000</td>\n",
       "      <td>610.000000</td>\n",
       "      <td>1997.000000</td>\n",
       "      <td>1999.000000</td>\n",
       "    </tr>\n",
       "    <tr>\n",
       "      <th>max</th>\n",
       "      <td>2.659000e+07</td>\n",
       "      <td>9.000000</td>\n",
       "      <td>8.000000</td>\n",
       "      <td>13540.000000</td>\n",
       "      <td>1.074218e+06</td>\n",
       "      <td>3.500000</td>\n",
       "      <td>1.000000</td>\n",
       "      <td>4.000000</td>\n",
       "      <td>5.000000</td>\n",
       "      <td>9410.000000</td>\n",
       "      <td>4820.000000</td>\n",
       "      <td>2014.000000</td>\n",
       "      <td>2014.000000</td>\n",
       "    </tr>\n",
       "  </tbody>\n",
       "</table>\n",
       "</div>"
      ],
      "text/plain": [
       "              price     bedrooms    bathrooms   sqft_living      sqft_lot  \\\n",
       "count  4.600000e+03  4600.000000  4600.000000   4600.000000  4.600000e+03   \n",
       "mean   5.519630e+05     3.400870     2.160815   2139.346957  1.485252e+04   \n",
       "std    5.638347e+05     0.908848     0.783781    963.206916  3.588444e+04   \n",
       "min    0.000000e+00     0.000000     0.000000    370.000000  6.380000e+02   \n",
       "25%    3.228750e+05     3.000000     1.750000   1460.000000  5.000750e+03   \n",
       "50%    4.609435e+05     3.000000     2.250000   1980.000000  7.683000e+03   \n",
       "75%    6.549625e+05     4.000000     2.500000   2620.000000  1.100125e+04   \n",
       "max    2.659000e+07     9.000000     8.000000  13540.000000  1.074218e+06   \n",
       "\n",
       "            floors   waterfront         view    condition   sqft_above  \\\n",
       "count  4600.000000  4600.000000  4600.000000  4600.000000  4600.000000   \n",
       "mean      1.512065     0.007174     0.240652     3.451739  1827.265435   \n",
       "std       0.538288     0.084404     0.778405     0.677230   862.168977   \n",
       "min       1.000000     0.000000     0.000000     1.000000   370.000000   \n",
       "25%       1.000000     0.000000     0.000000     3.000000  1190.000000   \n",
       "50%       1.500000     0.000000     0.000000     3.000000  1590.000000   \n",
       "75%       2.000000     0.000000     0.000000     4.000000  2300.000000   \n",
       "max       3.500000     1.000000     4.000000     5.000000  9410.000000   \n",
       "\n",
       "       sqft_basement     yr_built  yr_renovated  \n",
       "count    4600.000000  4600.000000   4600.000000  \n",
       "mean      312.081522  1970.786304    808.608261  \n",
       "std       464.137228    29.731848    979.414536  \n",
       "min         0.000000  1900.000000      0.000000  \n",
       "25%         0.000000  1951.000000      0.000000  \n",
       "50%         0.000000  1976.000000      0.000000  \n",
       "75%       610.000000  1997.000000   1999.000000  \n",
       "max      4820.000000  2014.000000   2014.000000  "
      ]
     },
     "execution_count": 8,
     "metadata": {},
     "output_type": "execute_result"
    }
   ],
   "source": [
    "dataframe.describe()"
   ]
  },
  {
   "cell_type": "code",
   "execution_count": 9,
   "id": "55993353",
   "metadata": {},
   "outputs": [
    {
     "data": {
      "text/html": [
       "<div>\n",
       "<style scoped>\n",
       "    .dataframe tbody tr th:only-of-type {\n",
       "        vertical-align: middle;\n",
       "    }\n",
       "\n",
       "    .dataframe tbody tr th {\n",
       "        vertical-align: top;\n",
       "    }\n",
       "\n",
       "    .dataframe thead th {\n",
       "        text-align: right;\n",
       "    }\n",
       "</style>\n",
       "<table border=\"1\" class=\"dataframe\">\n",
       "  <thead>\n",
       "    <tr style=\"text-align: right;\">\n",
       "      <th></th>\n",
       "      <th>count</th>\n",
       "      <th>mean</th>\n",
       "      <th>std</th>\n",
       "      <th>min</th>\n",
       "      <th>25%</th>\n",
       "      <th>50%</th>\n",
       "      <th>75%</th>\n",
       "      <th>max</th>\n",
       "    </tr>\n",
       "  </thead>\n",
       "  <tbody>\n",
       "    <tr>\n",
       "      <th>price</th>\n",
       "      <td>4600.0</td>\n",
       "      <td>551962.988473</td>\n",
       "      <td>563834.702547</td>\n",
       "      <td>0.0</td>\n",
       "      <td>322875.00</td>\n",
       "      <td>460943.461539</td>\n",
       "      <td>654962.50</td>\n",
       "      <td>26590000.0</td>\n",
       "    </tr>\n",
       "    <tr>\n",
       "      <th>bedrooms</th>\n",
       "      <td>4600.0</td>\n",
       "      <td>3.400870</td>\n",
       "      <td>0.908848</td>\n",
       "      <td>0.0</td>\n",
       "      <td>3.00</td>\n",
       "      <td>3.000000</td>\n",
       "      <td>4.00</td>\n",
       "      <td>9.0</td>\n",
       "    </tr>\n",
       "    <tr>\n",
       "      <th>bathrooms</th>\n",
       "      <td>4600.0</td>\n",
       "      <td>2.160815</td>\n",
       "      <td>0.783781</td>\n",
       "      <td>0.0</td>\n",
       "      <td>1.75</td>\n",
       "      <td>2.250000</td>\n",
       "      <td>2.50</td>\n",
       "      <td>8.0</td>\n",
       "    </tr>\n",
       "    <tr>\n",
       "      <th>sqft_living</th>\n",
       "      <td>4600.0</td>\n",
       "      <td>2139.346957</td>\n",
       "      <td>963.206916</td>\n",
       "      <td>370.0</td>\n",
       "      <td>1460.00</td>\n",
       "      <td>1980.000000</td>\n",
       "      <td>2620.00</td>\n",
       "      <td>13540.0</td>\n",
       "    </tr>\n",
       "    <tr>\n",
       "      <th>sqft_lot</th>\n",
       "      <td>4600.0</td>\n",
       "      <td>14852.516087</td>\n",
       "      <td>35884.436145</td>\n",
       "      <td>638.0</td>\n",
       "      <td>5000.75</td>\n",
       "      <td>7683.000000</td>\n",
       "      <td>11001.25</td>\n",
       "      <td>1074218.0</td>\n",
       "    </tr>\n",
       "    <tr>\n",
       "      <th>floors</th>\n",
       "      <td>4600.0</td>\n",
       "      <td>1.512065</td>\n",
       "      <td>0.538288</td>\n",
       "      <td>1.0</td>\n",
       "      <td>1.00</td>\n",
       "      <td>1.500000</td>\n",
       "      <td>2.00</td>\n",
       "      <td>3.5</td>\n",
       "    </tr>\n",
       "    <tr>\n",
       "      <th>waterfront</th>\n",
       "      <td>4600.0</td>\n",
       "      <td>0.007174</td>\n",
       "      <td>0.084404</td>\n",
       "      <td>0.0</td>\n",
       "      <td>0.00</td>\n",
       "      <td>0.000000</td>\n",
       "      <td>0.00</td>\n",
       "      <td>1.0</td>\n",
       "    </tr>\n",
       "    <tr>\n",
       "      <th>view</th>\n",
       "      <td>4600.0</td>\n",
       "      <td>0.240652</td>\n",
       "      <td>0.778405</td>\n",
       "      <td>0.0</td>\n",
       "      <td>0.00</td>\n",
       "      <td>0.000000</td>\n",
       "      <td>0.00</td>\n",
       "      <td>4.0</td>\n",
       "    </tr>\n",
       "    <tr>\n",
       "      <th>condition</th>\n",
       "      <td>4600.0</td>\n",
       "      <td>3.451739</td>\n",
       "      <td>0.677230</td>\n",
       "      <td>1.0</td>\n",
       "      <td>3.00</td>\n",
       "      <td>3.000000</td>\n",
       "      <td>4.00</td>\n",
       "      <td>5.0</td>\n",
       "    </tr>\n",
       "    <tr>\n",
       "      <th>sqft_above</th>\n",
       "      <td>4600.0</td>\n",
       "      <td>1827.265435</td>\n",
       "      <td>862.168977</td>\n",
       "      <td>370.0</td>\n",
       "      <td>1190.00</td>\n",
       "      <td>1590.000000</td>\n",
       "      <td>2300.00</td>\n",
       "      <td>9410.0</td>\n",
       "    </tr>\n",
       "    <tr>\n",
       "      <th>sqft_basement</th>\n",
       "      <td>4600.0</td>\n",
       "      <td>312.081522</td>\n",
       "      <td>464.137228</td>\n",
       "      <td>0.0</td>\n",
       "      <td>0.00</td>\n",
       "      <td>0.000000</td>\n",
       "      <td>610.00</td>\n",
       "      <td>4820.0</td>\n",
       "    </tr>\n",
       "    <tr>\n",
       "      <th>yr_built</th>\n",
       "      <td>4600.0</td>\n",
       "      <td>1970.786304</td>\n",
       "      <td>29.731848</td>\n",
       "      <td>1900.0</td>\n",
       "      <td>1951.00</td>\n",
       "      <td>1976.000000</td>\n",
       "      <td>1997.00</td>\n",
       "      <td>2014.0</td>\n",
       "    </tr>\n",
       "    <tr>\n",
       "      <th>yr_renovated</th>\n",
       "      <td>4600.0</td>\n",
       "      <td>808.608261</td>\n",
       "      <td>979.414536</td>\n",
       "      <td>0.0</td>\n",
       "      <td>0.00</td>\n",
       "      <td>0.000000</td>\n",
       "      <td>1999.00</td>\n",
       "      <td>2014.0</td>\n",
       "    </tr>\n",
       "  </tbody>\n",
       "</table>\n",
       "</div>"
      ],
      "text/plain": [
       "                count           mean            std     min        25%  \\\n",
       "price          4600.0  551962.988473  563834.702547     0.0  322875.00   \n",
       "bedrooms       4600.0       3.400870       0.908848     0.0       3.00   \n",
       "bathrooms      4600.0       2.160815       0.783781     0.0       1.75   \n",
       "sqft_living    4600.0    2139.346957     963.206916   370.0    1460.00   \n",
       "sqft_lot       4600.0   14852.516087   35884.436145   638.0    5000.75   \n",
       "floors         4600.0       1.512065       0.538288     1.0       1.00   \n",
       "waterfront     4600.0       0.007174       0.084404     0.0       0.00   \n",
       "view           4600.0       0.240652       0.778405     0.0       0.00   \n",
       "condition      4600.0       3.451739       0.677230     1.0       3.00   \n",
       "sqft_above     4600.0    1827.265435     862.168977   370.0    1190.00   \n",
       "sqft_basement  4600.0     312.081522     464.137228     0.0       0.00   \n",
       "yr_built       4600.0    1970.786304      29.731848  1900.0    1951.00   \n",
       "yr_renovated   4600.0     808.608261     979.414536     0.0       0.00   \n",
       "\n",
       "                         50%        75%         max  \n",
       "price          460943.461539  654962.50  26590000.0  \n",
       "bedrooms            3.000000       4.00         9.0  \n",
       "bathrooms           2.250000       2.50         8.0  \n",
       "sqft_living      1980.000000    2620.00     13540.0  \n",
       "sqft_lot         7683.000000   11001.25   1074218.0  \n",
       "floors              1.500000       2.00         3.5  \n",
       "waterfront          0.000000       0.00         1.0  \n",
       "view                0.000000       0.00         4.0  \n",
       "condition           3.000000       4.00         5.0  \n",
       "sqft_above       1590.000000    2300.00      9410.0  \n",
       "sqft_basement       0.000000     610.00      4820.0  \n",
       "yr_built         1976.000000    1997.00      2014.0  \n",
       "yr_renovated        0.000000    1999.00      2014.0  "
      ]
     },
     "execution_count": 9,
     "metadata": {},
     "output_type": "execute_result"
    }
   ],
   "source": [
    "dataframe.describe().T"
   ]
  },
  {
   "cell_type": "code",
   "execution_count": 10,
   "id": "5d75e263",
   "metadata": {},
   "outputs": [
    {
     "data": {
      "text/plain": [
       "date             0\n",
       "price            0\n",
       "bedrooms         0\n",
       "bathrooms        0\n",
       "sqft_living      0\n",
       "sqft_lot         0\n",
       "floors           0\n",
       "waterfront       0\n",
       "view             0\n",
       "condition        0\n",
       "sqft_above       0\n",
       "sqft_basement    0\n",
       "yr_built         0\n",
       "yr_renovated     0\n",
       "street           0\n",
       "city             0\n",
       "statezip         0\n",
       "country          0\n",
       "dtype: int64"
      ]
     },
     "execution_count": 10,
     "metadata": {},
     "output_type": "execute_result"
    }
   ],
   "source": [
    "dataframe.isnull().sum()"
   ]
  },
  {
   "cell_type": "markdown",
   "id": "123deab4",
   "metadata": {},
   "source": [
    "# Data Visualization"
   ]
  },
  {
   "cell_type": "markdown",
   "id": "42d2c97d",
   "metadata": {},
   "source": [
    "Data visualization is the graphical representation of data using visual elements such as charts, graphs, maps, and other visual tools. It aims to present complex data in a visual format that is easy to understand, interpret, and communicate"
   ]
  },
  {
   "cell_type": "code",
   "execution_count": 11,
   "id": "f1cd99cf",
   "metadata": {},
   "outputs": [
    {
     "data": {
      "text/plain": [
       "<AxesSubplot:xlabel='price', ylabel='Density'>"
      ]
     },
     "execution_count": 11,
     "metadata": {},
     "output_type": "execute_result"
    },
    {
     "data": {
      "image/png": "[encoded data removed]",
      "text/plain": [
       "<Figure size 864x360 with 1 Axes>"
      ]
     },
     "metadata": {
      "needs_background": "light"
     },
     "output_type": "display_data"
    }
   ],
   "source": [
    "plt.figure(figsize = (12, 5))\n",
    "sns.distplot(dataframe['price'])"
   ]
  },
  {
   "cell_type": "code",
   "execution_count": 12,
   "id": "b155b781",
   "metadata": {},
   "outputs": [
    {
     "data": {
      "text/plain": [
       "Index(['date', 'price', 'bedrooms', 'bathrooms', 'sqft_living', 'sqft_lot',\n",
       "       'floors', 'waterfront', 'view', 'condition', 'sqft_above',\n",
       "       'sqft_basement', 'yr_built', 'yr_renovated', 'street', 'city',\n",
       "       'statezip', 'country'],\n",
       "      dtype='object')"
      ]
     },
     "execution_count": 12,
     "metadata": {},
     "output_type": "execute_result"
    }
   ],
   "source": [
    "dataframe.columns"
   ]
  },
  {
   "cell_type": "code",
   "execution_count": 13,
   "id": "f4f70eaa",
   "metadata": {},
   "outputs": [
    {
     "data": {
      "text/plain": [
       "3.0    2032\n",
       "4.0    1531\n",
       "2.0     566\n",
       "5.0     353\n",
       "6.0      61\n",
       "1.0      38\n",
       "7.0      14\n",
       "8.0       2\n",
       "0.0       2\n",
       "9.0       1\n",
       "Name: bedrooms, dtype: int64"
      ]
     },
     "execution_count": 13,
     "metadata": {},
     "output_type": "execute_result"
    }
   ],
   "source": [
    "dataframe['bedrooms'].value_counts()"
   ]
  },
  {
   "cell_type": "code",
   "execution_count": 14,
   "id": "d8d9d140",
   "metadata": {},
   "outputs": [
    {
     "data": {
      "text/plain": [
       "<AxesSubplot:>"
      ]
     },
     "execution_count": 14,
     "metadata": {},
     "output_type": "execute_result"
    },
    {
     "data": {
      "image/png": "[encoded data removed]",
      "text/plain": [
       "<Figure size 432x288 with 1 Axes>"
      ]
     },
     "metadata": {
      "needs_background": "light"
     },
     "output_type": "display_data"
    }
   ],
   "source": [
    "sns.boxplot(dataframe['bedrooms'])"
   ]
  },
  {
   "cell_type": "code",
   "execution_count": 15,
   "id": "9df9d783",
   "metadata": {},
   "outputs": [
    {
     "data": {
      "text/plain": [
       "<AxesSubplot:xlabel='price', ylabel='sqft_living'>"
      ]
     },
     "execution_count": 15,
     "metadata": {},
     "output_type": "execute_result"
    },
    {
     "data": {
      "image/png": "[encoded data removed]",
      "text/plain": [
       "<Figure size 864x360 with 1 Axes>"
      ]
     },
     "metadata": {
      "needs_background": "light"
     },
     "output_type": "display_data"
    }
   ],
   "source": [
    "plt.figure(figsize = (12, 5))\n",
    "sns.scatterplot(x = 'price', y = 'sqft_living', data = dataframe)"
   ]
  },
  {
   "cell_type": "code",
   "execution_count": 16,
   "id": "ad70a424",
   "metadata": {},
   "outputs": [
    {
     "data": {
      "text/plain": [
       "<AxesSubplot:xlabel='bedrooms', ylabel='price'>"
      ]
     },
     "execution_count": 16,
     "metadata": {},
     "output_type": "execute_result"
    },
    {
     "data": {
      "image/png": "[encoded data removed]",
      "text/plain": [
       "<Figure size 432x288 with 1 Axes>"
      ]
     },
     "metadata": {
      "needs_background": "light"
     },
     "output_type": "display_data"
    }
   ],
   "source": [
    "sns.scatterplot(x = 'bedrooms', y = 'price', data = dataframe)"
   ]
  },
  {
   "cell_type": "code",
   "execution_count": 17,
   "id": "42087a74",
   "metadata": {},
   "outputs": [
    {
     "data": {
      "text/plain": [
       "<AxesSubplot:xlabel='sqft_above', ylabel='price'>"
      ]
     },
     "execution_count": 17,
     "metadata": {},
     "output_type": "execute_result"
    },
    {
     "data": {
      "image/png": "[encoded data removed]",
      "text/plain": [
       "<Figure size 864x360 with 1 Axes>"
      ]
     },
     "metadata": {
      "needs_background": "light"
     },
     "output_type": "display_data"
    }
   ],
   "source": [
    "plt.figure(figsize = (12, 5))\n",
    "sns.scatterplot(x = 'sqft_above', y = 'price', data = dataframe)"
   ]
  },
  {
   "cell_type": "code",
   "execution_count": 18,
   "id": "a27d1ca8",
   "metadata": {},
   "outputs": [
    {
     "data": {
      "text/plain": [
       "<AxesSubplot:xlabel='price', ylabel='sqft_basement'>"
      ]
     },
     "execution_count": 18,
     "metadata": {},
     "output_type": "execute_result"
    },
    {
     "data": {
      "image/png": "[encoded data removed]",
      "text/plain": [
       "<Figure size 864x360 with 1 Axes>"
      ]
     },
     "metadata": {
      "needs_background": "light"
     },
     "output_type": "display_data"
    }
   ],
   "source": [
    "plt.figure(figsize = (12, 5))\n",
    "sns.scatterplot(x = 'price', y = 'sqft_basement', data = dataframe)"
   ]
  },
  {
   "cell_type": "code",
   "execution_count": 19,
   "id": "d5ff1bc2",
   "metadata": {},
   "outputs": [
    {
     "data": {
      "text/plain": [
       "<AxesSubplot:xlabel='sqft_above', ylabel='sqft_basement'>"
      ]
     },
     "execution_count": 19,
     "metadata": {},
     "output_type": "execute_result"
    },
    {
     "data": {
      "image/png": "[encoded data removed]",
      "text/plain": [
       "<Figure size 864x360 with 1 Axes>"
      ]
     },
     "metadata": {
      "needs_background": "light"
     },
     "output_type": "display_data"
    }
   ],
   "source": [
    "plt.figure(figsize = (12, 5))\n",
    "sns.scatterplot(x = 'sqft_above', y = 'sqft_basement', data = dataframe, hue = 'price')"
   ]
  },
  {
   "cell_type": "code",
   "execution_count": 20,
   "id": "19f907dd",
   "metadata": {},
   "outputs": [
    {
     "data": {
      "text/html": [
       "<div>\n",
       "<style scoped>\n",
       "    .dataframe tbody tr th:only-of-type {\n",
       "        vertical-align: middle;\n",
       "    }\n",
       "\n",
       "    .dataframe tbody tr th {\n",
       "        vertical-align: top;\n",
       "    }\n",
       "\n",
       "    .dataframe thead th {\n",
       "        text-align: right;\n",
       "    }\n",
       "</style>\n",
       "<table border=\"1\" class=\"dataframe\">\n",
       "  <thead>\n",
       "    <tr style=\"text-align: right;\">\n",
       "      <th></th>\n",
       "      <th>date</th>\n",
       "      <th>price</th>\n",
       "      <th>bedrooms</th>\n",
       "      <th>bathrooms</th>\n",
       "      <th>sqft_living</th>\n",
       "      <th>sqft_lot</th>\n",
       "      <th>floors</th>\n",
       "      <th>waterfront</th>\n",
       "      <th>view</th>\n",
       "      <th>condition</th>\n",
       "      <th>sqft_above</th>\n",
       "      <th>sqft_basement</th>\n",
       "      <th>yr_built</th>\n",
       "      <th>yr_renovated</th>\n",
       "      <th>street</th>\n",
       "      <th>city</th>\n",
       "      <th>statezip</th>\n",
       "      <th>country</th>\n",
       "    </tr>\n",
       "  </thead>\n",
       "  <tbody>\n",
       "    <tr>\n",
       "      <th>4350</th>\n",
       "      <td>2014-07-03 00:00:00</td>\n",
       "      <td>26590000.0</td>\n",
       "      <td>3.0</td>\n",
       "      <td>2.00</td>\n",
       "      <td>1180</td>\n",
       "      <td>7793</td>\n",
       "      <td>1.0</td>\n",
       "      <td>0</td>\n",
       "      <td>0</td>\n",
       "      <td>4</td>\n",
       "      <td>1180</td>\n",
       "      <td>0</td>\n",
       "      <td>1992</td>\n",
       "      <td>0</td>\n",
       "      <td>12005 SE 219th Ct</td>\n",
       "      <td>Kent</td>\n",
       "      <td>WA 98031</td>\n",
       "      <td>USA</td>\n",
       "    </tr>\n",
       "    <tr>\n",
       "      <th>4346</th>\n",
       "      <td>2014-06-23 00:00:00</td>\n",
       "      <td>12899000.0</td>\n",
       "      <td>3.0</td>\n",
       "      <td>2.50</td>\n",
       "      <td>2190</td>\n",
       "      <td>11394</td>\n",
       "      <td>1.0</td>\n",
       "      <td>0</td>\n",
       "      <td>0</td>\n",
       "      <td>3</td>\n",
       "      <td>1550</td>\n",
       "      <td>640</td>\n",
       "      <td>1956</td>\n",
       "      <td>2001</td>\n",
       "      <td>5426 40th Ave W</td>\n",
       "      <td>Seattle</td>\n",
       "      <td>WA 98199</td>\n",
       "      <td>USA</td>\n",
       "    </tr>\n",
       "    <tr>\n",
       "      <th>2286</th>\n",
       "      <td>2014-06-11 00:00:00</td>\n",
       "      <td>7062500.0</td>\n",
       "      <td>5.0</td>\n",
       "      <td>4.50</td>\n",
       "      <td>10040</td>\n",
       "      <td>37325</td>\n",
       "      <td>2.0</td>\n",
       "      <td>1</td>\n",
       "      <td>2</td>\n",
       "      <td>3</td>\n",
       "      <td>7680</td>\n",
       "      <td>2360</td>\n",
       "      <td>1940</td>\n",
       "      <td>2001</td>\n",
       "      <td>4442 95th Ave NE</td>\n",
       "      <td>Bellevue</td>\n",
       "      <td>WA 98004</td>\n",
       "      <td>USA</td>\n",
       "    </tr>\n",
       "    <tr>\n",
       "      <th>2654</th>\n",
       "      <td>2014-06-17 00:00:00</td>\n",
       "      <td>4668000.0</td>\n",
       "      <td>5.0</td>\n",
       "      <td>6.75</td>\n",
       "      <td>9640</td>\n",
       "      <td>13068</td>\n",
       "      <td>1.0</td>\n",
       "      <td>1</td>\n",
       "      <td>4</td>\n",
       "      <td>3</td>\n",
       "      <td>4820</td>\n",
       "      <td>4820</td>\n",
       "      <td>1983</td>\n",
       "      <td>2009</td>\n",
       "      <td>5044 Butterworth Rd</td>\n",
       "      <td>Mercer Island</td>\n",
       "      <td>WA 98040</td>\n",
       "      <td>USA</td>\n",
       "    </tr>\n",
       "    <tr>\n",
       "      <th>2761</th>\n",
       "      <td>2014-06-18 00:00:00</td>\n",
       "      <td>4489000.0</td>\n",
       "      <td>4.0</td>\n",
       "      <td>3.00</td>\n",
       "      <td>6430</td>\n",
       "      <td>27517</td>\n",
       "      <td>2.0</td>\n",
       "      <td>0</td>\n",
       "      <td>0</td>\n",
       "      <td>3</td>\n",
       "      <td>6430</td>\n",
       "      <td>0</td>\n",
       "      <td>2001</td>\n",
       "      <td>0</td>\n",
       "      <td>1149-1199 91st Ave NE</td>\n",
       "      <td>Bellevue</td>\n",
       "      <td>WA 98004</td>\n",
       "      <td>USA</td>\n",
       "    </tr>\n",
       "    <tr>\n",
       "      <th>3729</th>\n",
       "      <td>2014-07-01 00:00:00</td>\n",
       "      <td>3800000.0</td>\n",
       "      <td>5.0</td>\n",
       "      <td>5.50</td>\n",
       "      <td>7050</td>\n",
       "      <td>42840</td>\n",
       "      <td>1.0</td>\n",
       "      <td>0</td>\n",
       "      <td>2</td>\n",
       "      <td>4</td>\n",
       "      <td>4320</td>\n",
       "      <td>2730</td>\n",
       "      <td>1978</td>\n",
       "      <td>2000</td>\n",
       "      <td>1365 91st Ave NE</td>\n",
       "      <td>Clyde Hill</td>\n",
       "      <td>WA 98004</td>\n",
       "      <td>USA</td>\n",
       "    </tr>\n",
       "    <tr>\n",
       "      <th>1637</th>\n",
       "      <td>2014-05-30 00:00:00</td>\n",
       "      <td>3710000.0</td>\n",
       "      <td>4.0</td>\n",
       "      <td>3.50</td>\n",
       "      <td>5550</td>\n",
       "      <td>28078</td>\n",
       "      <td>2.0</td>\n",
       "      <td>0</td>\n",
       "      <td>2</td>\n",
       "      <td>4</td>\n",
       "      <td>3350</td>\n",
       "      <td>2200</td>\n",
       "      <td>2000</td>\n",
       "      <td>0</td>\n",
       "      <td>3222 78th Pl NE</td>\n",
       "      <td>Medina</td>\n",
       "      <td>WA 98039</td>\n",
       "      <td>USA</td>\n",
       "    </tr>\n",
       "    <tr>\n",
       "      <th>252</th>\n",
       "      <td>2014-05-07 00:00:00</td>\n",
       "      <td>3200000.0</td>\n",
       "      <td>7.0</td>\n",
       "      <td>4.50</td>\n",
       "      <td>6210</td>\n",
       "      <td>8856</td>\n",
       "      <td>2.5</td>\n",
       "      <td>0</td>\n",
       "      <td>2</td>\n",
       "      <td>5</td>\n",
       "      <td>4760</td>\n",
       "      <td>1450</td>\n",
       "      <td>1910</td>\n",
       "      <td>0</td>\n",
       "      <td>1230 Warren Ave N</td>\n",
       "      <td>Seattle</td>\n",
       "      <td>WA 98109</td>\n",
       "      <td>USA</td>\n",
       "    </tr>\n",
       "    <tr>\n",
       "      <th>1567</th>\n",
       "      <td>2014-05-29 00:00:00</td>\n",
       "      <td>3100000.0</td>\n",
       "      <td>6.0</td>\n",
       "      <td>4.25</td>\n",
       "      <td>6980</td>\n",
       "      <td>15682</td>\n",
       "      <td>3.0</td>\n",
       "      <td>0</td>\n",
       "      <td>4</td>\n",
       "      <td>4</td>\n",
       "      <td>5330</td>\n",
       "      <td>1650</td>\n",
       "      <td>1999</td>\n",
       "      <td>0</td>\n",
       "      <td>5243 Forest Ave SE</td>\n",
       "      <td>Mercer Island</td>\n",
       "      <td>WA 98040</td>\n",
       "      <td>USA</td>\n",
       "    </tr>\n",
       "    <tr>\n",
       "      <th>2772</th>\n",
       "      <td>2014-06-18 00:00:00</td>\n",
       "      <td>3000000.0</td>\n",
       "      <td>4.0</td>\n",
       "      <td>4.25</td>\n",
       "      <td>4850</td>\n",
       "      <td>12445</td>\n",
       "      <td>2.0</td>\n",
       "      <td>1</td>\n",
       "      <td>4</td>\n",
       "      <td>5</td>\n",
       "      <td>3850</td>\n",
       "      <td>1000</td>\n",
       "      <td>1989</td>\n",
       "      <td>0</td>\n",
       "      <td>11031 Champagne Point Rd NE</td>\n",
       "      <td>Kirkland</td>\n",
       "      <td>WA 98034</td>\n",
       "      <td>USA</td>\n",
       "    </tr>\n",
       "  </tbody>\n",
       "</table>\n",
       "</div>"
      ],
      "text/plain": [
       "                     date       price  bedrooms  bathrooms  sqft_living  \\\n",
       "4350  2014-07-03 00:00:00  26590000.0       3.0       2.00         1180   \n",
       "4346  2014-06-23 00:00:00  12899000.0       3.0       2.50         2190   \n",
       "2286  2014-06-11 00:00:00   7062500.0       5.0       4.50        10040   \n",
       "2654  2014-06-17 00:00:00   4668000.0       5.0       6.75         9640   \n",
       "2761  2014-06-18 00:00:00   4489000.0       4.0       3.00         6430   \n",
       "3729  2014-07-01 00:00:00   3800000.0       5.0       5.50         7050   \n",
       "1637  2014-05-30 00:00:00   3710000.0       4.0       3.50         5550   \n",
       "252   2014-05-07 00:00:00   3200000.0       7.0       4.50         6210   \n",
       "1567  2014-05-29 00:00:00   3100000.0       6.0       4.25         6980   \n",
       "2772  2014-06-18 00:00:00   3000000.0       4.0       4.25         4850   \n",
       "\n",
       "      sqft_lot  floors  waterfront  view  condition  sqft_above  \\\n",
       "4350      7793     1.0           0     0          4        1180   \n",
       "4346     11394     1.0           0     0          3        1550   \n",
       "2286     37325     2.0           1     2          3        7680   \n",
       "2654     13068     1.0           1     4          3        4820   \n",
       "2761     27517     2.0           0     0          3        6430   \n",
       "3729     42840     1.0           0     2          4        4320   \n",
       "1637     28078     2.0           0     2          4        3350   \n",
       "252       8856     2.5           0     2          5        4760   \n",
       "1567     15682     3.0           0     4          4        5330   \n",
       "2772     12445     2.0           1     4          5        3850   \n",
       "\n",
       "      sqft_basement  yr_built  yr_renovated                       street  \\\n",
       "4350              0      1992             0            12005 SE 219th Ct   \n",
       "4346            640      1956          2001              5426 40th Ave W   \n",
       "2286           2360      1940          2001             4442 95th Ave NE   \n",
       "2654           4820      1983          2009          5044 Butterworth Rd   \n",
       "2761              0      2001             0        1149-1199 91st Ave NE   \n",
       "3729           2730      1978          2000             1365 91st Ave NE   \n",
       "1637           2200      2000             0              3222 78th Pl NE   \n",
       "252            1450      1910             0            1230 Warren Ave N   \n",
       "1567           1650      1999             0           5243 Forest Ave SE   \n",
       "2772           1000      1989             0  11031 Champagne Point Rd NE   \n",
       "\n",
       "               city  statezip country  \n",
       "4350           Kent  WA 98031     USA  \n",
       "4346        Seattle  WA 98199     USA  \n",
       "2286       Bellevue  WA 98004     USA  \n",
       "2654  Mercer Island  WA 98040     USA  \n",
       "2761       Bellevue  WA 98004     USA  \n",
       "3729     Clyde Hill  WA 98004     USA  \n",
       "1637         Medina  WA 98039     USA  \n",
       "252         Seattle  WA 98109     USA  \n",
       "1567  Mercer Island  WA 98040     USA  \n",
       "2772       Kirkland  WA 98034     USA  "
      ]
     },
     "execution_count": 20,
     "metadata": {},
     "output_type": "execute_result"
    }
   ],
   "source": [
    "dataframe.sort_values('price', ascending = False).head(10)"
   ]
  },
  {
   "cell_type": "code",
   "execution_count": 21,
   "id": "ffa409a4",
   "metadata": {},
   "outputs": [
    {
     "data": {
      "text/plain": [
       "46.0"
      ]
     },
     "execution_count": 21,
     "metadata": {},
     "output_type": "execute_result"
    }
   ],
   "source": [
    "len(dataframe)*(0.01)"
   ]
  },
  {
   "cell_type": "code",
   "execution_count": 22,
   "id": "91f64edc",
   "metadata": {},
   "outputs": [],
   "source": [
    "top_1_percent = dataframe.sort_values('price', ascending = False).iloc[46:]"
   ]
  },
  {
   "cell_type": "code",
   "execution_count": 23,
   "id": "441296de",
   "metadata": {},
   "outputs": [
    {
     "data": {
      "text/plain": [
       "<AxesSubplot:xlabel='sqft_above', ylabel='sqft_basement'>"
      ]
     },
     "execution_count": 23,
     "metadata": {},
     "output_type": "execute_result"
    },
    {
     "data": {
      "image/png": "[encoded data removed]",
      "text/plain": [
       "<Figure size 864x360 with 1 Axes>"
      ]
     },
     "metadata": {
      "needs_background": "light"
     },
     "output_type": "display_data"
    }
   ],
   "source": [
    "plt.figure(figsize = (12, 5))\n",
    "sns.scatterplot(x = 'sqft_above', y = 'sqft_basement', data = top_1_percent, \n",
    "                hue = 'price', palette = 'RdYlGn',\n",
    "                edgecolor = None, alpha = 0.2)"
   ]
  },
  {
   "cell_type": "code",
   "execution_count": 24,
   "id": "4037d128",
   "metadata": {},
   "outputs": [
    {
     "data": {
      "text/plain": [
       "<AxesSubplot:xlabel='waterfront', ylabel='price'>"
      ]
     },
     "execution_count": 24,
     "metadata": {},
     "output_type": "execute_result"
    },
    {
     "data": {
      "image/png": "[encoded data removed]",
      "text/plain": [
       "<Figure size 432x288 with 1 Axes>"
      ]
     },
     "metadata": {
      "needs_background": "light"
     },
     "output_type": "display_data"
    }
   ],
   "source": [
    "sns.boxplot(x = 'waterfront', y = 'price', data = dataframe)"
   ]
  },
  {
   "cell_type": "markdown",
   "id": "a954a54a",
   "metadata": {},
   "source": [
    "# Feature Engineering From Date"
   ]
  },
  {
   "cell_type": "markdown",
   "id": "fd4b4eaa",
   "metadata": {},
   "source": [
    "Feature engineering from date variables involves extracting relevant information or creating new features from date-related data"
   ]
  },
  {
   "cell_type": "markdown",
   "id": "06047214",
   "metadata": {},
   "source": [
    "Dates have various components such as year, month, day, day of the week, quarter, etc. Extracting these components as separate features can provide valuable information. For example, you can extract the month and create a feature indicating the season (e.g., spring, summer, fall, winter) based on the month"
   ]
  },
  {
   "cell_type": "code",
   "execution_count": 25,
   "id": "772d7e49",
   "metadata": {},
   "outputs": [
    {
     "data": {
      "text/html": [
       "<div>\n",
       "<style scoped>\n",
       "    .dataframe tbody tr th:only-of-type {\n",
       "        vertical-align: middle;\n",
       "    }\n",
       "\n",
       "    .dataframe tbody tr th {\n",
       "        vertical-align: top;\n",
       "    }\n",
       "\n",
       "    .dataframe thead th {\n",
       "        text-align: right;\n",
       "    }\n",
       "</style>\n",
       "<table border=\"1\" class=\"dataframe\">\n",
       "  <thead>\n",
       "    <tr style=\"text-align: right;\">\n",
       "      <th></th>\n",
       "      <th>date</th>\n",
       "      <th>price</th>\n",
       "      <th>bedrooms</th>\n",
       "      <th>bathrooms</th>\n",
       "      <th>sqft_living</th>\n",
       "      <th>sqft_lot</th>\n",
       "      <th>floors</th>\n",
       "      <th>waterfront</th>\n",
       "      <th>view</th>\n",
       "      <th>condition</th>\n",
       "      <th>sqft_above</th>\n",
       "      <th>sqft_basement</th>\n",
       "      <th>yr_built</th>\n",
       "      <th>yr_renovated</th>\n",
       "      <th>street</th>\n",
       "      <th>city</th>\n",
       "      <th>statezip</th>\n",
       "      <th>country</th>\n",
       "    </tr>\n",
       "  </thead>\n",
       "  <tbody>\n",
       "    <tr>\n",
       "      <th>0</th>\n",
       "      <td>2014-05-02 00:00:00</td>\n",
       "      <td>313000.0</td>\n",
       "      <td>3.0</td>\n",
       "      <td>1.50</td>\n",
       "      <td>1340</td>\n",
       "      <td>7912</td>\n",
       "      <td>1.5</td>\n",
       "      <td>0</td>\n",
       "      <td>0</td>\n",
       "      <td>3</td>\n",
       "      <td>1340</td>\n",
       "      <td>0</td>\n",
       "      <td>1955</td>\n",
       "      <td>2005</td>\n",
       "      <td>18810 Densmore Ave N</td>\n",
       "      <td>Shoreline</td>\n",
       "      <td>WA 98133</td>\n",
       "      <td>USA</td>\n",
       "    </tr>\n",
       "    <tr>\n",
       "      <th>1</th>\n",
       "      <td>2014-05-02 00:00:00</td>\n",
       "      <td>2384000.0</td>\n",
       "      <td>5.0</td>\n",
       "      <td>2.50</td>\n",
       "      <td>3650</td>\n",
       "      <td>9050</td>\n",
       "      <td>2.0</td>\n",
       "      <td>0</td>\n",
       "      <td>4</td>\n",
       "      <td>5</td>\n",
       "      <td>3370</td>\n",
       "      <td>280</td>\n",
       "      <td>1921</td>\n",
       "      <td>0</td>\n",
       "      <td>709 W Blaine St</td>\n",
       "      <td>Seattle</td>\n",
       "      <td>WA 98119</td>\n",
       "      <td>USA</td>\n",
       "    </tr>\n",
       "    <tr>\n",
       "      <th>2</th>\n",
       "      <td>2014-05-02 00:00:00</td>\n",
       "      <td>342000.0</td>\n",
       "      <td>3.0</td>\n",
       "      <td>2.00</td>\n",
       "      <td>1930</td>\n",
       "      <td>11947</td>\n",
       "      <td>1.0</td>\n",
       "      <td>0</td>\n",
       "      <td>0</td>\n",
       "      <td>4</td>\n",
       "      <td>1930</td>\n",
       "      <td>0</td>\n",
       "      <td>1966</td>\n",
       "      <td>0</td>\n",
       "      <td>26206-26214 143rd Ave SE</td>\n",
       "      <td>Kent</td>\n",
       "      <td>WA 98042</td>\n",
       "      <td>USA</td>\n",
       "    </tr>\n",
       "    <tr>\n",
       "      <th>3</th>\n",
       "      <td>2014-05-02 00:00:00</td>\n",
       "      <td>420000.0</td>\n",
       "      <td>3.0</td>\n",
       "      <td>2.25</td>\n",
       "      <td>2000</td>\n",
       "      <td>8030</td>\n",
       "      <td>1.0</td>\n",
       "      <td>0</td>\n",
       "      <td>0</td>\n",
       "      <td>4</td>\n",
       "      <td>1000</td>\n",
       "      <td>1000</td>\n",
       "      <td>1963</td>\n",
       "      <td>0</td>\n",
       "      <td>857 170th Pl NE</td>\n",
       "      <td>Bellevue</td>\n",
       "      <td>WA 98008</td>\n",
       "      <td>USA</td>\n",
       "    </tr>\n",
       "    <tr>\n",
       "      <th>4</th>\n",
       "      <td>2014-05-02 00:00:00</td>\n",
       "      <td>550000.0</td>\n",
       "      <td>4.0</td>\n",
       "      <td>2.50</td>\n",
       "      <td>1940</td>\n",
       "      <td>10500</td>\n",
       "      <td>1.0</td>\n",
       "      <td>0</td>\n",
       "      <td>0</td>\n",
       "      <td>4</td>\n",
       "      <td>1140</td>\n",
       "      <td>800</td>\n",
       "      <td>1976</td>\n",
       "      <td>1992</td>\n",
       "      <td>9105 170th Ave NE</td>\n",
       "      <td>Redmond</td>\n",
       "      <td>WA 98052</td>\n",
       "      <td>USA</td>\n",
       "    </tr>\n",
       "  </tbody>\n",
       "</table>\n",
       "</div>"
      ],
      "text/plain": [
       "                  date      price  bedrooms  bathrooms  sqft_living  sqft_lot  \\\n",
       "0  2014-05-02 00:00:00   313000.0       3.0       1.50         1340      7912   \n",
       "1  2014-05-02 00:00:00  2384000.0       5.0       2.50         3650      9050   \n",
       "2  2014-05-02 00:00:00   342000.0       3.0       2.00         1930     11947   \n",
       "3  2014-05-02 00:00:00   420000.0       3.0       2.25         2000      8030   \n",
       "4  2014-05-02 00:00:00   550000.0       4.0       2.50         1940     10500   \n",
       "\n",
       "   floors  waterfront  view  condition  sqft_above  sqft_basement  yr_built  \\\n",
       "0     1.5           0     0          3        1340              0      1955   \n",
       "1     2.0           0     4          5        3370            280      1921   \n",
       "2     1.0           0     0          4        1930              0      1966   \n",
       "3     1.0           0     0          4        1000           1000      1963   \n",
       "4     1.0           0     0          4        1140            800      1976   \n",
       "\n",
       "   yr_renovated                    street       city  statezip country  \n",
       "0          2005      18810 Densmore Ave N  Shoreline  WA 98133     USA  \n",
       "1             0           709 W Blaine St    Seattle  WA 98119     USA  \n",
       "2             0  26206-26214 143rd Ave SE       Kent  WA 98042     USA  \n",
       "3             0           857 170th Pl NE   Bellevue  WA 98008     USA  \n",
       "4          1992         9105 170th Ave NE    Redmond  WA 98052     USA  "
      ]
     },
     "execution_count": 25,
     "metadata": {},
     "output_type": "execute_result"
    }
   ],
   "source": [
    "dataframe.head()"
   ]
  },
  {
   "cell_type": "code",
   "execution_count": 29,
   "id": "cbf66b6e",
   "metadata": {},
   "outputs": [],
   "source": [
    "dataframe['date'] = pd.to_datetime(dataframe['date'])"
   ]
  },
  {
   "cell_type": "code",
   "execution_count": 31,
   "id": "2513e858",
   "metadata": {},
   "outputs": [],
   "source": [
    "dataframe['month'] = dataframe['date'].apply(lambda date:date.month)"
   ]
  },
  {
   "cell_type": "code",
   "execution_count": 33,
   "id": "12e2ab28",
   "metadata": {},
   "outputs": [],
   "source": [
    "dataframe['year'] = dataframe['date'].apply(lambda date:date.year)"
   ]
  },
  {
   "cell_type": "code",
   "execution_count": 36,
   "id": "d3a75bc0",
   "metadata": {},
   "outputs": [
    {
     "data": {
      "text/plain": [
       "<AxesSubplot:xlabel='year', ylabel='price'>"
      ]
     },
     "execution_count": 36,
     "metadata": {},
     "output_type": "execute_result"
    },
    {
     "data": {
      "image/png": "[encoded data removed]",
      "text/plain": [
       "<Figure size 432x288 with 1 Axes>"
      ]
     },
     "metadata": {
      "needs_background": "light"
     },
     "output_type": "display_data"
    }
   ],
   "source": [
    "sns.boxplot(x = 'year', y = 'price', data = dataframe)"
   ]
  },
  {
   "cell_type": "code",
   "execution_count": 37,
   "id": "157bbf59",
   "metadata": {},
   "outputs": [
    {
     "data": {
      "text/plain": [
       "<AxesSubplot:xlabel='month', ylabel='price'>"
      ]
     },
     "execution_count": 37,
     "metadata": {},
     "output_type": "execute_result"
    },
    {
     "data": {
      "image/png": "[encoded data removed]",
      "text/plain": [
       "<Figure size 432x288 with 1 Axes>"
      ]
     },
     "metadata": {
      "needs_background": "light"
     },
     "output_type": "display_data"
    }
   ],
   "source": [
    "sns.boxplot(x = 'month', y = 'price', data = dataframe)"
   ]
  },
  {
   "cell_type": "code",
   "execution_count": 38,
   "id": "d65ff706",
   "metadata": {},
   "outputs": [
    {
     "data": {
      "text/plain": [
       "<AxesSubplot:xlabel='month'>"
      ]
     },
     "execution_count": 38,
     "metadata": {},
     "output_type": "execute_result"
    },
    {
     "data": {
      "image/png": "[encoded data removed]",
      "text/plain": [
       "<Figure size 432x288 with 1 Axes>"
      ]
     },
     "metadata": {
      "needs_background": "light"
     },
     "output_type": "display_data"
    }
   ],
   "source": [
    "dataframe.groupby('month').mean()['price'].plot()"
   ]
  },
  {
   "cell_type": "code",
   "execution_count": 39,
   "id": "1d97a21b",
   "metadata": {},
   "outputs": [
    {
     "data": {
      "text/plain": [
       "<AxesSubplot:xlabel='year'>"
      ]
     },
     "execution_count": 39,
     "metadata": {},
     "output_type": "execute_result"
    },
    {
     "data": {
      "image/png": "[encoded data removed]",
      "text/plain": [
       "<Figure size 432x288 with 1 Axes>"
      ]
     },
     "metadata": {
      "needs_background": "light"
     },
     "output_type": "display_data"
    }
   ],
   "source": [
    "dataframe.groupby('year').mean()['price'].plot()"
   ]
  },
  {
   "cell_type": "code",
   "execution_count": 40,
   "id": "f9bb8b41",
   "metadata": {},
   "outputs": [
    {
     "data": {
      "text/html": [
       "<div>\n",
       "<style scoped>\n",
       "    .dataframe tbody tr th:only-of-type {\n",
       "        vertical-align: middle;\n",
       "    }\n",
       "\n",
       "    .dataframe tbody tr th {\n",
       "        vertical-align: top;\n",
       "    }\n",
       "\n",
       "    .dataframe thead th {\n",
       "        text-align: right;\n",
       "    }\n",
       "</style>\n",
       "<table border=\"1\" class=\"dataframe\">\n",
       "  <thead>\n",
       "    <tr style=\"text-align: right;\">\n",
       "      <th></th>\n",
       "      <th>date</th>\n",
       "      <th>price</th>\n",
       "      <th>bedrooms</th>\n",
       "      <th>bathrooms</th>\n",
       "      <th>sqft_living</th>\n",
       "      <th>sqft_lot</th>\n",
       "      <th>floors</th>\n",
       "      <th>waterfront</th>\n",
       "      <th>view</th>\n",
       "      <th>condition</th>\n",
       "      <th>sqft_above</th>\n",
       "      <th>sqft_basement</th>\n",
       "      <th>yr_built</th>\n",
       "      <th>yr_renovated</th>\n",
       "      <th>month</th>\n",
       "      <th>year</th>\n",
       "    </tr>\n",
       "  </thead>\n",
       "  <tbody>\n",
       "    <tr>\n",
       "      <th>0</th>\n",
       "      <td>2014-05-02</td>\n",
       "      <td>313000.0</td>\n",
       "      <td>3.0</td>\n",
       "      <td>1.50</td>\n",
       "      <td>1340</td>\n",
       "      <td>7912</td>\n",
       "      <td>1.5</td>\n",
       "      <td>0</td>\n",
       "      <td>0</td>\n",
       "      <td>3</td>\n",
       "      <td>1340</td>\n",
       "      <td>0</td>\n",
       "      <td>1955</td>\n",
       "      <td>2005</td>\n",
       "      <td>5</td>\n",
       "      <td>2014</td>\n",
       "    </tr>\n",
       "    <tr>\n",
       "      <th>1</th>\n",
       "      <td>2014-05-02</td>\n",
       "      <td>2384000.0</td>\n",
       "      <td>5.0</td>\n",
       "      <td>2.50</td>\n",
       "      <td>3650</td>\n",
       "      <td>9050</td>\n",
       "      <td>2.0</td>\n",
       "      <td>0</td>\n",
       "      <td>4</td>\n",
       "      <td>5</td>\n",
       "      <td>3370</td>\n",
       "      <td>280</td>\n",
       "      <td>1921</td>\n",
       "      <td>0</td>\n",
       "      <td>5</td>\n",
       "      <td>2014</td>\n",
       "    </tr>\n",
       "    <tr>\n",
       "      <th>2</th>\n",
       "      <td>2014-05-02</td>\n",
       "      <td>342000.0</td>\n",
       "      <td>3.0</td>\n",
       "      <td>2.00</td>\n",
       "      <td>1930</td>\n",
       "      <td>11947</td>\n",
       "      <td>1.0</td>\n",
       "      <td>0</td>\n",
       "      <td>0</td>\n",
       "      <td>4</td>\n",
       "      <td>1930</td>\n",
       "      <td>0</td>\n",
       "      <td>1966</td>\n",
       "      <td>0</td>\n",
       "      <td>5</td>\n",
       "      <td>2014</td>\n",
       "    </tr>\n",
       "    <tr>\n",
       "      <th>3</th>\n",
       "      <td>2014-05-02</td>\n",
       "      <td>420000.0</td>\n",
       "      <td>3.0</td>\n",
       "      <td>2.25</td>\n",
       "      <td>2000</td>\n",
       "      <td>8030</td>\n",
       "      <td>1.0</td>\n",
       "      <td>0</td>\n",
       "      <td>0</td>\n",
       "      <td>4</td>\n",
       "      <td>1000</td>\n",
       "      <td>1000</td>\n",
       "      <td>1963</td>\n",
       "      <td>0</td>\n",
       "      <td>5</td>\n",
       "      <td>2014</td>\n",
       "    </tr>\n",
       "    <tr>\n",
       "      <th>4</th>\n",
       "      <td>2014-05-02</td>\n",
       "      <td>550000.0</td>\n",
       "      <td>4.0</td>\n",
       "      <td>2.50</td>\n",
       "      <td>1940</td>\n",
       "      <td>10500</td>\n",
       "      <td>1.0</td>\n",
       "      <td>0</td>\n",
       "      <td>0</td>\n",
       "      <td>4</td>\n",
       "      <td>1140</td>\n",
       "      <td>800</td>\n",
       "      <td>1976</td>\n",
       "      <td>1992</td>\n",
       "      <td>5</td>\n",
       "      <td>2014</td>\n",
       "    </tr>\n",
       "  </tbody>\n",
       "</table>\n",
       "</div>"
      ],
      "text/plain": [
       "        date      price  bedrooms  bathrooms  sqft_living  sqft_lot  floors  \\\n",
       "0 2014-05-02   313000.0       3.0       1.50         1340      7912     1.5   \n",
       "1 2014-05-02  2384000.0       5.0       2.50         3650      9050     2.0   \n",
       "2 2014-05-02   342000.0       3.0       2.00         1930     11947     1.0   \n",
       "3 2014-05-02   420000.0       3.0       2.25         2000      8030     1.0   \n",
       "4 2014-05-02   550000.0       4.0       2.50         1940     10500     1.0   \n",
       "\n",
       "   waterfront  view  condition  sqft_above  sqft_basement  yr_built  \\\n",
       "0           0     0          3        1340              0      1955   \n",
       "1           0     4          5        3370            280      1921   \n",
       "2           0     0          4        1930              0      1966   \n",
       "3           0     0          4        1000           1000      1963   \n",
       "4           0     0          4        1140            800      1976   \n",
       "\n",
       "   yr_renovated  month  year  \n",
       "0          2005      5  2014  \n",
       "1             0      5  2014  \n",
       "2             0      5  2014  \n",
       "3             0      5  2014  \n",
       "4          1992      5  2014  "
      ]
     },
     "execution_count": 40,
     "metadata": {},
     "output_type": "execute_result"
    }
   ],
   "source": [
    "dataframe.head()"
   ]
  },
  {
   "cell_type": "code",
   "execution_count": 41,
   "id": "574fb3ee",
   "metadata": {},
   "outputs": [],
   "source": [
    "dataframe = dataframe.drop('date', axis = 1)"
   ]
  },
  {
   "cell_type": "code",
   "execution_count": 43,
   "id": "3475236d",
   "metadata": {},
   "outputs": [
    {
     "data": {
      "text/html": [
       "<div>\n",
       "<style scoped>\n",
       "    .dataframe tbody tr th:only-of-type {\n",
       "        vertical-align: middle;\n",
       "    }\n",
       "\n",
       "    .dataframe tbody tr th {\n",
       "        vertical-align: top;\n",
       "    }\n",
       "\n",
       "    .dataframe thead th {\n",
       "        text-align: right;\n",
       "    }\n",
       "</style>\n",
       "<table border=\"1\" class=\"dataframe\">\n",
       "  <thead>\n",
       "    <tr style=\"text-align: right;\">\n",
       "      <th></th>\n",
       "      <th>price</th>\n",
       "      <th>bedrooms</th>\n",
       "      <th>bathrooms</th>\n",
       "      <th>sqft_living</th>\n",
       "      <th>sqft_lot</th>\n",
       "      <th>floors</th>\n",
       "      <th>waterfront</th>\n",
       "      <th>view</th>\n",
       "      <th>condition</th>\n",
       "      <th>sqft_above</th>\n",
       "      <th>sqft_basement</th>\n",
       "      <th>yr_built</th>\n",
       "      <th>yr_renovated</th>\n",
       "      <th>month</th>\n",
       "      <th>year</th>\n",
       "    </tr>\n",
       "  </thead>\n",
       "  <tbody>\n",
       "    <tr>\n",
       "      <th>0</th>\n",
       "      <td>313000.0</td>\n",
       "      <td>3.0</td>\n",
       "      <td>1.50</td>\n",
       "      <td>1340</td>\n",
       "      <td>7912</td>\n",
       "      <td>1.5</td>\n",
       "      <td>0</td>\n",
       "      <td>0</td>\n",
       "      <td>3</td>\n",
       "      <td>1340</td>\n",
       "      <td>0</td>\n",
       "      <td>1955</td>\n",
       "      <td>2005</td>\n",
       "      <td>5</td>\n",
       "      <td>2014</td>\n",
       "    </tr>\n",
       "    <tr>\n",
       "      <th>1</th>\n",
       "      <td>2384000.0</td>\n",
       "      <td>5.0</td>\n",
       "      <td>2.50</td>\n",
       "      <td>3650</td>\n",
       "      <td>9050</td>\n",
       "      <td>2.0</td>\n",
       "      <td>0</td>\n",
       "      <td>4</td>\n",
       "      <td>5</td>\n",
       "      <td>3370</td>\n",
       "      <td>280</td>\n",
       "      <td>1921</td>\n",
       "      <td>0</td>\n",
       "      <td>5</td>\n",
       "      <td>2014</td>\n",
       "    </tr>\n",
       "    <tr>\n",
       "      <th>2</th>\n",
       "      <td>342000.0</td>\n",
       "      <td>3.0</td>\n",
       "      <td>2.00</td>\n",
       "      <td>1930</td>\n",
       "      <td>11947</td>\n",
       "      <td>1.0</td>\n",
       "      <td>0</td>\n",
       "      <td>0</td>\n",
       "      <td>4</td>\n",
       "      <td>1930</td>\n",
       "      <td>0</td>\n",
       "      <td>1966</td>\n",
       "      <td>0</td>\n",
       "      <td>5</td>\n",
       "      <td>2014</td>\n",
       "    </tr>\n",
       "    <tr>\n",
       "      <th>3</th>\n",
       "      <td>420000.0</td>\n",
       "      <td>3.0</td>\n",
       "      <td>2.25</td>\n",
       "      <td>2000</td>\n",
       "      <td>8030</td>\n",
       "      <td>1.0</td>\n",
       "      <td>0</td>\n",
       "      <td>0</td>\n",
       "      <td>4</td>\n",
       "      <td>1000</td>\n",
       "      <td>1000</td>\n",
       "      <td>1963</td>\n",
       "      <td>0</td>\n",
       "      <td>5</td>\n",
       "      <td>2014</td>\n",
       "    </tr>\n",
       "    <tr>\n",
       "      <th>4</th>\n",
       "      <td>550000.0</td>\n",
       "      <td>4.0</td>\n",
       "      <td>2.50</td>\n",
       "      <td>1940</td>\n",
       "      <td>10500</td>\n",
       "      <td>1.0</td>\n",
       "      <td>0</td>\n",
       "      <td>0</td>\n",
       "      <td>4</td>\n",
       "      <td>1140</td>\n",
       "      <td>800</td>\n",
       "      <td>1976</td>\n",
       "      <td>1992</td>\n",
       "      <td>5</td>\n",
       "      <td>2014</td>\n",
       "    </tr>\n",
       "  </tbody>\n",
       "</table>\n",
       "</div>"
      ],
      "text/plain": [
       "       price  bedrooms  bathrooms  sqft_living  sqft_lot  floors  waterfront  \\\n",
       "0   313000.0       3.0       1.50         1340      7912     1.5           0   \n",
       "1  2384000.0       5.0       2.50         3650      9050     2.0           0   \n",
       "2   342000.0       3.0       2.00         1930     11947     1.0           0   \n",
       "3   420000.0       3.0       2.25         2000      8030     1.0           0   \n",
       "4   550000.0       4.0       2.50         1940     10500     1.0           0   \n",
       "\n",
       "   view  condition  sqft_above  sqft_basement  yr_built  yr_renovated  month  \\\n",
       "0     0          3        1340              0      1955          2005      5   \n",
       "1     4          5        3370            280      1921             0      5   \n",
       "2     0          4        1930              0      1966             0      5   \n",
       "3     0          4        1000           1000      1963             0      5   \n",
       "4     0          4        1140            800      1976          1992      5   \n",
       "\n",
       "   year  \n",
       "0  2014  \n",
       "1  2014  \n",
       "2  2014  \n",
       "3  2014  \n",
       "4  2014  "
      ]
     },
     "execution_count": 43,
     "metadata": {},
     "output_type": "execute_result"
    }
   ],
   "source": [
    "dataframe.head()"
   ]
  },
  {
   "cell_type": "code",
   "execution_count": 44,
   "id": "e99a20f8",
   "metadata": {},
   "outputs": [
    {
     "data": {
      "text/plain": [
       "Index(['price', 'bedrooms', 'bathrooms', 'sqft_living', 'sqft_lot', 'floors',\n",
       "       'waterfront', 'view', 'condition', 'sqft_above', 'sqft_basement',\n",
       "       'yr_built', 'yr_renovated', 'month', 'year'],\n",
       "      dtype='object')"
      ]
     },
     "execution_count": 44,
     "metadata": {},
     "output_type": "execute_result"
    }
   ],
   "source": [
    "dataframe.columns"
   ]
  },
  {
   "cell_type": "code",
   "execution_count": 45,
   "id": "5275d93d",
   "metadata": {},
   "outputs": [
    {
     "name": "stdout",
     "output_type": "stream",
     "text": [
      "<class 'pandas.core.frame.DataFrame'>\n",
      "RangeIndex: 4600 entries, 0 to 4599\n",
      "Data columns (total 15 columns):\n",
      " #   Column         Non-Null Count  Dtype  \n",
      "---  ------         --------------  -----  \n",
      " 0   price          4600 non-null   float64\n",
      " 1   bedrooms       4600 non-null   float64\n",
      " 2   bathrooms      4600 non-null   float64\n",
      " 3   sqft_living    4600 non-null   int64  \n",
      " 4   sqft_lot       4600 non-null   int64  \n",
      " 5   floors         4600 non-null   float64\n",
      " 6   waterfront     4600 non-null   int64  \n",
      " 7   view           4600 non-null   int64  \n",
      " 8   condition      4600 non-null   int64  \n",
      " 9   sqft_above     4600 non-null   int64  \n",
      " 10  sqft_basement  4600 non-null   int64  \n",
      " 11  yr_built       4600 non-null   int64  \n",
      " 12  yr_renovated   4600 non-null   int64  \n",
      " 13  month          4600 non-null   int64  \n",
      " 14  year           4600 non-null   int64  \n",
      "dtypes: float64(4), int64(11)\n",
      "memory usage: 539.2 KB\n"
     ]
    }
   ],
   "source": [
    "dataframe.info()"
   ]
  },
  {
   "cell_type": "code",
   "execution_count": 46,
   "id": "caec03cf",
   "metadata": {},
   "outputs": [
    {
     "data": {
      "text/plain": [
       "<bound method IndexOpsMixin.value_counts of 0       2005\n",
       "1          0\n",
       "2          0\n",
       "3          0\n",
       "4       1992\n",
       "        ... \n",
       "4595    1979\n",
       "4596    2009\n",
       "4597       0\n",
       "4598       0\n",
       "4599       0\n",
       "Name: yr_renovated, Length: 4600, dtype: int64>"
      ]
     },
     "execution_count": 46,
     "metadata": {},
     "output_type": "execute_result"
    }
   ],
   "source": [
    "dataframe['yr_renovated'].value_counts"
   ]
  },
  {
   "cell_type": "code",
   "execution_count": 47,
   "id": "16b1b252",
   "metadata": {},
   "outputs": [
    {
     "data": {
      "text/plain": [
       "<bound method IndexOpsMixin.value_counts of 0       1955\n",
       "1       1921\n",
       "2       1966\n",
       "3       1963\n",
       "4       1976\n",
       "        ... \n",
       "4595    1954\n",
       "4596    1983\n",
       "4597    2009\n",
       "4598    1974\n",
       "4599    1990\n",
       "Name: yr_built, Length: 4600, dtype: int64>"
      ]
     },
     "execution_count": 47,
     "metadata": {},
     "output_type": "execute_result"
    }
   ],
   "source": [
    "dataframe['yr_built'].value_counts"
   ]
  },
  {
   "cell_type": "markdown",
   "id": "02c8031e",
   "metadata": {},
   "source": [
    "# Splitting The Data"
   ]
  },
  {
   "cell_type": "markdown",
   "id": "43b31919",
   "metadata": {},
   "source": [
    "Splitting the data refers to dividing the dataset into separate subsets for training, validation, and testing purposes. This division is essential to assess the performance of a machine learning model on unseen data and prevent overfitting. Here are the common types of data splits:"
   ]
  },
  {
   "cell_type": "markdown",
   "id": "3216dddf",
   "metadata": {},
   "source": [
    "Training Set: The training set is the largest subset of the data used to train the machine learning model. It is used to learn the underlying patterns and relationships between the input features and the target variable. Typically, around 70-80% of the data is allocated for training"
   ]
  },
  {
   "cell_type": "markdown",
   "id": "d1804661",
   "metadata": {},
   "source": [
    "Validation Set: The validation set is used to tune and optimize the model during the training process. It helps in selecting hyperparameters, evaluating different models, and making decisions about model architecture or feature selection. The validation set aids in preventing overfitting by providing an unbiased evaluation of the model's performance. It is generally around 10-20% of the data."
   ]
  },
  {
   "cell_type": "markdown",
   "id": "03ed35be",
   "metadata": {},
   "source": [
    "Test Set: The test set is used to assess the final performance of the trained model. It represents unseen data that the model has not been exposed to during training or validation. The test set helps estimate the model's generalization ability and provides a reliable measure of its performance on real-world data. Typically, it comprises 10-20% of the data"
   ]
  },
  {
   "cell_type": "code",
   "execution_count": 48,
   "id": "a16b65f0",
   "metadata": {},
   "outputs": [],
   "source": [
    "x = dataframe.drop('price', axis = 1)\n",
    "y = dataframe['price']"
   ]
  },
  {
   "cell_type": "code",
   "execution_count": 50,
   "id": "2330fbcd",
   "metadata": {},
   "outputs": [],
   "source": [
    "from sklearn.model_selection import train_test_split"
   ]
  },
  {
   "cell_type": "code",
   "execution_count": 51,
   "id": "56429fe7",
   "metadata": {},
   "outputs": [],
   "source": [
    "x_train, x_test, y_train, y_test = train_test_split(x,y,test_size=0.3,random_state=101)"
   ]
  },
  {
   "cell_type": "markdown",
   "id": "39832402",
   "metadata": {},
   "source": [
    "# Scaling The Data"
   ]
  },
  {
   "cell_type": "markdown",
   "id": "31ff4bc9",
   "metadata": {},
   "source": [
    "Scaling the data is a preprocessing step that involves transforming the numerical features of a dataset to a similar scale or range. It ensures that all features contribute equally to the analysis and modeling process, regardless of their original units or scales. Here's a description of common scaling techniques:"
   ]
  },
  {
   "cell_type": "markdown",
   "id": "bc5e7191",
   "metadata": {},
   "source": [
    "Min-Max Scaling: Min-max scaling, also known as normalization, rescales the data to a fixed range, typically between 0 and 1. It subtracts the minimum value of the feature and divides by the range (difference between the maximum and minimum values). This technique preserves the relative relationships between data points but maps them to a common range."
   ]
  },
  {
   "cell_type": "code",
   "execution_count": 52,
   "id": "83f8bc51",
   "metadata": {},
   "outputs": [],
   "source": [
    "from sklearn.preprocessing import MinMaxScaler"
   ]
  },
  {
   "cell_type": "code",
   "execution_count": 53,
   "id": "e50454db",
   "metadata": {},
   "outputs": [],
   "source": [
    "scaler = MinMaxScaler()"
   ]
  },
  {
   "cell_type": "code",
   "execution_count": 55,
   "id": "259e437f",
   "metadata": {},
   "outputs": [],
   "source": [
    "x_train= scaler.fit_transform(x_train)"
   ]
  },
  {
   "cell_type": "code",
   "execution_count": 56,
   "id": "720fb258",
   "metadata": {},
   "outputs": [],
   "source": [
    "x_test = scaler.transform(x_test)"
   ]
  },
  {
   "cell_type": "code",
   "execution_count": 58,
   "id": "bd6f632c",
   "metadata": {},
   "outputs": [
    {
     "data": {
      "text/plain": [
       "(3220, 14)"
      ]
     },
     "execution_count": 58,
     "metadata": {},
     "output_type": "execute_result"
    }
   ],
   "source": [
    "x_train.shape"
   ]
  },
  {
   "cell_type": "code",
   "execution_count": 59,
   "id": "5ce76232",
   "metadata": {},
   "outputs": [
    {
     "data": {
      "text/plain": [
       "(1380, 14)"
      ]
     },
     "execution_count": 59,
     "metadata": {},
     "output_type": "execute_result"
    }
   ],
   "source": [
    "x_test.shape"
   ]
  },
  {
   "cell_type": "markdown",
   "id": "2cc91c7a",
   "metadata": {},
   "source": [
    "# Importing Deep Learning Libraries"
   ]
  },
  {
   "cell_type": "markdown",
   "id": "3046846f",
   "metadata": {},
   "source": [
    "Importing deep learning libraries allows you to leverage powerful tools and frameworks specifically designed for building and training deep neural networks. Here's a brief description of popular deep learning libraries:"
   ]
  },
  {
   "cell_type": "markdown",
   "id": "7701d4e9",
   "metadata": {},
   "source": [
    "TensorFlow: TensorFlow is an open-source deep learning library developed by Google. It provides a comprehensive ecosystem for building and training various types of neural networks. TensorFlow offers high-level APIs like Keras for ease of use and abstraction, as well as low-level APIs for fine-grained control. It supports distributed computing, GPU acceleration, and deployment on different platforms."
   ]
  },
  {
   "cell_type": "code",
   "execution_count": 61,
   "id": "c9244c2f",
   "metadata": {},
   "outputs": [],
   "source": [
    "from tensorflow.keras.models import Sequential\n",
    "from tensorflow.keras.layers import Dense\n",
    "from tensorflow.keras.optimizers import Adam"
   ]
  },
  {
   "cell_type": "markdown",
   "id": "12e8214f",
   "metadata": {},
   "source": [
    "# Creating The Model"
   ]
  },
  {
   "cell_type": "markdown",
   "id": "ca793c54",
   "metadata": {},
   "source": [
    "Creating a deep learning model involves defining the architecture and structure of the neural network, specifying the layers, and configuring the parameters for training."
   ]
  },
  {
   "cell_type": "code",
   "execution_count": 63,
   "id": "1b2d6ae2",
   "metadata": {},
   "outputs": [],
   "source": [
    "model = Sequential()\n",
    "model.add(Dense(15, activation = 'relu'))\n",
    "model.add(Dense(15, activation = 'relu'))\n",
    "model.add(Dense(15, activation = 'relu'))\n",
    "model.add(Dense(15, activation = 'relu'))\n",
    "model.add(Dense(1))"
   ]
  },
  {
   "cell_type": "markdown",
   "id": "cc65a3a4",
   "metadata": {},
   "source": [
    "Compiling the model in deep learning involves configuring essential components that define how the model will be trained. "
   ]
  },
  {
   "cell_type": "code",
   "execution_count": 64,
   "id": "ad0ac735",
   "metadata": {},
   "outputs": [],
   "source": [
    "model.compile(optimizer = 'Adam', loss = 'mse', metrics = ['accuracy'])"
   ]
  },
  {
   "cell_type": "markdown",
   "id": "70a7b4f2",
   "metadata": {},
   "source": [
    "# Training The Model"
   ]
  },
  {
   "cell_type": "markdown",
   "id": "41dd68c3",
   "metadata": {},
   "source": [
    "Training the model in deep learning involves the process of iteratively updating the model's parameters (weights and biases) based on the provided training data to minimize the loss function and improve the model's performance"
   ]
  },
  {
   "cell_type": "code",
   "execution_count": 65,
   "id": "49083489",
   "metadata": {
    "scrolled": false
   },
   "outputs": [
    {
     "name": "stdout",
     "output_type": "stream",
     "text": [
      "Epoch 1/250\n",
      "26/26 [==============================] - 5s 33ms/step - loss: 653502447616.0000 - accuracy: 0.0087 - val_loss: 550171770880.0000 - val_accuracy: 0.0051\n",
      "Epoch 2/250\n",
      "26/26 [==============================] - 0s 10ms/step - loss: 653501595648.0000 - accuracy: 6.2112e-04 - val_loss: 550170525696.0000 - val_accuracy: 0.0000e+00\n",
      "Epoch 3/250\n",
      "26/26 [==============================] - 0s 9ms/step - loss: 653499236352.0000 - accuracy: 0.0000e+00 - val_loss: 550166462464.0000 - val_accuracy: 0.0000e+00\n",
      "Epoch 4/250\n",
      "26/26 [==============================] - 0s 10ms/step - loss: 653492224000.0000 - accuracy: 0.0000e+00 - val_loss: 550154600448.0000 - val_accuracy: 0.0000e+00\n",
      "Epoch 5/250\n",
      "26/26 [==============================] - 0s 10ms/step - loss: 653472366592.0000 - accuracy: 0.0000e+00 - val_loss: 550123995136.0000 - val_accuracy: 0.0000e+00\n",
      "Epoch 6/250\n",
      "26/26 [==============================] - 0s 9ms/step - loss: 653425115136.0000 - accuracy: 0.0000e+00 - val_loss: 550054789120.0000 - val_accuracy: 0.0000e+00\n",
      "Epoch 7/250\n",
      "26/26 [==============================] - 0s 10ms/step - loss: 653324910592.0000 - accuracy: 0.0000e+00 - val_loss: 549911986176.0000 - val_accuracy: 0.0000e+00\n",
      "Epoch 8/250\n",
      "26/26 [==============================] - 0s 10ms/step - loss: 653120307200.0000 - accuracy: 0.0000e+00 - val_loss: 549633851392.0000 - val_accuracy: 0.0000e+00\n",
      "Epoch 9/250\n",
      "26/26 [==============================] - 0s 10ms/step - loss: 652749832192.0000 - accuracy: 0.0000e+00 - val_loss: 549136465920.0000 - val_accuracy: 0.0000e+00\n",
      "Epoch 10/250\n",
      "26/26 [==============================] - 0s 12ms/step - loss: 652093423616.0000 - accuracy: 0.0000e+00 - val_loss: 548288135168.0000 - val_accuracy: 0.0000e+00\n",
      "Epoch 11/250\n",
      "26/26 [==============================] - 0s 12ms/step - loss: 651001397248.0000 - accuracy: 0.0000e+00 - val_loss: 546920955904.0000 - val_accuracy: 0.0000e+00\n",
      "Epoch 12/250\n",
      "26/26 [==============================] - 0s 11ms/step - loss: 649290186752.0000 - accuracy: 0.0000e+00 - val_loss: 544823279616.0000 - val_accuracy: 0.0000e+00\n",
      "Epoch 13/250\n",
      "26/26 [==============================] - 0s 10ms/step - loss: 646730481664.0000 - accuracy: 0.0000e+00 - val_loss: 541759340544.0000 - val_accuracy: 0.0000e+00\n",
      "Epoch 14/250\n",
      "26/26 [==============================] - 0s 10ms/step - loss: 643020488704.0000 - accuracy: 0.0000e+00 - val_loss: 537418858496.0000 - val_accuracy: 0.0000e+00\n",
      "Epoch 15/250\n",
      "26/26 [==============================] - 0s 10ms/step - loss: 637851271168.0000 - accuracy: 0.0000e+00 - val_loss: 531425034240.0000 - val_accuracy: 0.0000e+00\n",
      "Epoch 16/250\n",
      "26/26 [==============================] - 0s 10ms/step - loss: 630906880000.0000 - accuracy: 0.0000e+00 - val_loss: 523532730368.0000 - val_accuracy: 0.0000e+00\n",
      "Epoch 17/250\n",
      "26/26 [==============================] - 0s 11ms/step - loss: 621848756224.0000 - accuracy: 0.0000e+00 - val_loss: 513269563392.0000 - val_accuracy: 0.0000e+00\n",
      "Epoch 18/250\n",
      "26/26 [==============================] - 0s 10ms/step - loss: 610259435520.0000 - accuracy: 0.0000e+00 - val_loss: 500574879744.0000 - val_accuracy: 0.0000e+00\n",
      "Epoch 19/250\n",
      "26/26 [==============================] - 0s 10ms/step - loss: 595967016960.0000 - accuracy: 0.0000e+00 - val_loss: 484796039168.0000 - val_accuracy: 0.0000e+00\n",
      "Epoch 20/250\n",
      "26/26 [==============================] - 0s 10ms/step - loss: 578599845888.0000 - accuracy: 0.0000e+00 - val_loss: 466328158208.0000 - val_accuracy: 0.0000e+00\n",
      "Epoch 21/250\n",
      "26/26 [==============================] - 0s 10ms/step - loss: 558047232000.0000 - accuracy: 0.0000e+00 - val_loss: 444590817280.0000 - val_accuracy: 0.0000e+00\n",
      "Epoch 22/250\n",
      "26/26 [==============================] - 0s 10ms/step - loss: 534392897536.0000 - accuracy: 0.0000e+00 - val_loss: 419960651776.0000 - val_accuracy: 0.0000e+00\n",
      "Epoch 23/250\n",
      "26/26 [==============================] - 0s 12ms/step - loss: 508256616448.0000 - accuracy: 0.0000e+00 - val_loss: 393014476800.0000 - val_accuracy: 0.0000e+00\n",
      "Epoch 24/250\n",
      "26/26 [==============================] - 0s 10ms/step - loss: 480439762944.0000 - accuracy: 0.0000e+00 - val_loss: 365067632640.0000 - val_accuracy: 0.0000e+00\n",
      "Epoch 25/250\n",
      "26/26 [==============================] - 0s 14ms/step - loss: 451713728512.0000 - accuracy: 0.0000e+00 - val_loss: 336923787264.0000 - val_accuracy: 0.0000e+00\n",
      "Epoch 26/250\n",
      "26/26 [==============================] - 1s 40ms/step - loss: 423371243520.0000 - accuracy: 0.0000e+00 - val_loss: 310035349504.0000 - val_accuracy: 0.0000e+00\n",
      "Epoch 27/250\n",
      "26/26 [==============================] - 0s 16ms/step - loss: 396803571712.0000 - accuracy: 0.0000e+00 - val_loss: 286867095552.0000 - val_accuracy: 0.0000e+00\n",
      "Epoch 28/250\n",
      "26/26 [==============================] - 0s 12ms/step - loss: 374042132480.0000 - accuracy: 0.0000e+00 - val_loss: 266642604032.0000 - val_accuracy: 0.0000e+00\n",
      "Epoch 29/250\n",
      "26/26 [==============================] - 0s 11ms/step - loss: 355087581184.0000 - accuracy: 0.0000e+00 - val_loss: 250817626112.0000 - val_accuracy: 0.0000e+00\n",
      "Epoch 30/250\n",
      "26/26 [==============================] - 0s 12ms/step - loss: 340650000384.0000 - accuracy: 0.0000e+00 - val_loss: 239905800192.0000 - val_accuracy: 0.0000e+00\n",
      "Epoch 31/250\n",
      "26/26 [==============================] - 0s 12ms/step - loss: 330179641344.0000 - accuracy: 0.0000e+00 - val_loss: 232264220672.0000 - val_accuracy: 0.0000e+00\n",
      "Epoch 32/250\n",
      "26/26 [==============================] - 0s 17ms/step - loss: 324607770624.0000 - accuracy: 0.0000e+00 - val_loss: 228957700096.0000 - val_accuracy: 0.0000e+00\n",
      "Epoch 33/250\n",
      "26/26 [==============================] - 0s 12ms/step - loss: 321586462720.0000 - accuracy: 0.0000e+00 - val_loss: 227292790784.0000 - val_accuracy: 0.0000e+00\n",
      "Epoch 34/250\n",
      "26/26 [==============================] - 0s 13ms/step - loss: 320023363584.0000 - accuracy: 0.0000e+00 - val_loss: 226314190848.0000 - val_accuracy: 0.0000e+00\n",
      "Epoch 35/250\n",
      "26/26 [==============================] - 0s 12ms/step - loss: 319089278976.0000 - accuracy: 0.0000e+00 - val_loss: 225770651648.0000 - val_accuracy: 0.0000e+00\n",
      "Epoch 36/250\n",
      "26/26 [==============================] - 0s 11ms/step - loss: 318528421888.0000 - accuracy: 0.0000e+00 - val_loss: 225443430400.0000 - val_accuracy: 0.0000e+00\n",
      "Epoch 37/250\n",
      "26/26 [==============================] - 0s 10ms/step - loss: 318094835712.0000 - accuracy: 0.0000e+00 - val_loss: 225145552896.0000 - val_accuracy: 0.0000e+00\n",
      "Epoch 38/250\n",
      "26/26 [==============================] - 0s 12ms/step - loss: 317741596672.0000 - accuracy: 0.0000e+00 - val_loss: 224905707520.0000 - val_accuracy: 0.0000e+00\n",
      "Epoch 39/250\n",
      "26/26 [==============================] - 0s 13ms/step - loss: 317444587520.0000 - accuracy: 0.0000e+00 - val_loss: 224648790016.0000 - val_accuracy: 0.0000e+00\n",
      "Epoch 40/250\n",
      "26/26 [==============================] - 0s 12ms/step - loss: 317159342080.0000 - accuracy: 0.0000e+00 - val_loss: 224410189824.0000 - val_accuracy: 0.0000e+00\n",
      "Epoch 41/250\n",
      "26/26 [==============================] - 0s 12ms/step - loss: 316814557184.0000 - accuracy: 0.0000e+00 - val_loss: 224160595968.0000 - val_accuracy: 0.0000e+00\n",
      "Epoch 42/250\n",
      "26/26 [==============================] - 0s 13ms/step - loss: 316546154496.0000 - accuracy: 0.0000e+00 - val_loss: 223892815872.0000 - val_accuracy: 0.0000e+00\n",
      "Epoch 43/250\n",
      "26/26 [==============================] - 0s 14ms/step - loss: 316285812736.0000 - accuracy: 0.0000e+00 - val_loss: 223614779392.0000 - val_accuracy: 0.0000e+00\n",
      "Epoch 44/250\n",
      "26/26 [==============================] - 0s 13ms/step - loss: 316027994112.0000 - accuracy: 0.0000e+00 - val_loss: 223411650560.0000 - val_accuracy: 0.0000e+00\n",
      "Epoch 45/250\n",
      "26/26 [==============================] - 0s 13ms/step - loss: 315738292224.0000 - accuracy: 0.0000e+00 - val_loss: 223133908992.0000 - val_accuracy: 0.0000e+00\n",
      "Epoch 46/250\n",
      "26/26 [==============================] - 0s 15ms/step - loss: 315463499776.0000 - accuracy: 0.0000e+00 - val_loss: 222894014464.0000 - val_accuracy: 0.0000e+00\n",
      "Epoch 47/250\n",
      "26/26 [==============================] - 1s 20ms/step - loss: 315202011136.0000 - accuracy: 0.0000e+00 - val_loss: 222651695104.0000 - val_accuracy: 0.0000e+00\n",
      "Epoch 48/250\n"
     ]
    },
    {
     "name": "stdout",
     "output_type": "stream",
     "text": [
      "26/26 [==============================] - 0s 14ms/step - loss: 314947141632.0000 - accuracy: 0.0000e+00 - val_loss: 222370938880.0000 - val_accuracy: 0.0000e+00\n",
      "Epoch 49/250\n",
      "26/26 [==============================] - 0s 11ms/step - loss: 314665664512.0000 - accuracy: 0.0000e+00 - val_loss: 222130733056.0000 - val_accuracy: 0.0000e+00\n",
      "Epoch 50/250\n",
      "26/26 [==============================] - 0s 10ms/step - loss: 314426982400.0000 - accuracy: 0.0000e+00 - val_loss: 221856333824.0000 - val_accuracy: 0.0000e+00\n",
      "Epoch 51/250\n",
      "26/26 [==============================] - 0s 11ms/step - loss: 314154549248.0000 - accuracy: 0.0000e+00 - val_loss: 221625106432.0000 - val_accuracy: 0.0000e+00\n",
      "Epoch 52/250\n",
      "26/26 [==============================] - 0s 14ms/step - loss: 313926156288.0000 - accuracy: 0.0000e+00 - val_loss: 221415391232.0000 - val_accuracy: 0.0000e+00\n",
      "Epoch 53/250\n",
      "26/26 [==============================] - 0s 11ms/step - loss: 313640845312.0000 - accuracy: 0.0000e+00 - val_loss: 221137059840.0000 - val_accuracy: 0.0000e+00\n",
      "Epoch 54/250\n",
      "26/26 [==============================] - 0s 11ms/step - loss: 313431687168.0000 - accuracy: 0.0000e+00 - val_loss: 220945334272.0000 - val_accuracy: 0.0000e+00\n",
      "Epoch 55/250\n",
      "26/26 [==============================] - 0s 15ms/step - loss: 313170395136.0000 - accuracy: 0.0000e+00 - val_loss: 220666855424.0000 - val_accuracy: 0.0000e+00\n",
      "Epoch 56/250\n",
      "26/26 [==============================] - 0s 13ms/step - loss: 312973099008.0000 - accuracy: 0.0000e+00 - val_loss: 220393209856.0000 - val_accuracy: 0.0000e+00\n",
      "Epoch 57/250\n",
      "26/26 [==============================] - 0s 11ms/step - loss: 312681594880.0000 - accuracy: 0.0000e+00 - val_loss: 220194947072.0000 - val_accuracy: 0.0000e+00\n",
      "Epoch 58/250\n",
      "26/26 [==============================] - 0s 12ms/step - loss: 312432328704.0000 - accuracy: 0.0000e+00 - val_loss: 219931279360.0000 - val_accuracy: 0.0000e+00\n",
      "Epoch 59/250\n",
      "26/26 [==============================] - 0s 11ms/step - loss: 312165793792.0000 - accuracy: 0.0000e+00 - val_loss: 219716485120.0000 - val_accuracy: 0.0000e+00\n",
      "Epoch 60/250\n",
      "26/26 [==============================] - 0s 12ms/step - loss: 311945887744.0000 - accuracy: 0.0000e+00 - val_loss: 219477393408.0000 - val_accuracy: 0.0000e+00\n",
      "Epoch 61/250\n",
      "26/26 [==============================] - 0s 13ms/step - loss: 311644749824.0000 - accuracy: 0.0000e+00 - val_loss: 219281883136.0000 - val_accuracy: 0.0000e+00\n",
      "Epoch 62/250\n",
      "26/26 [==============================] - 0s 11ms/step - loss: 311485300736.0000 - accuracy: 0.0000e+00 - val_loss: 219117617152.0000 - val_accuracy: 0.0000e+00\n",
      "Epoch 63/250\n",
      "26/26 [==============================] - 0s 10ms/step - loss: 311217324032.0000 - accuracy: 0.0000e+00 - val_loss: 218821099520.0000 - val_accuracy: 0.0000e+00\n",
      "Epoch 64/250\n",
      "26/26 [==============================] - 0s 10ms/step - loss: 310977757184.0000 - accuracy: 0.0000e+00 - val_loss: 218517323776.0000 - val_accuracy: 0.0000e+00\n",
      "Epoch 65/250\n",
      "26/26 [==============================] - 0s 12ms/step - loss: 310764929024.0000 - accuracy: 0.0000e+00 - val_loss: 218333364224.0000 - val_accuracy: 0.0000e+00\n",
      "Epoch 66/250\n",
      "26/26 [==============================] - 0s 11ms/step - loss: 310538436608.0000 - accuracy: 0.0000e+00 - val_loss: 218030063616.0000 - val_accuracy: 0.0000e+00\n",
      "Epoch 67/250\n",
      "26/26 [==============================] - 0s 10ms/step - loss: 310299951104.0000 - accuracy: 0.0000e+00 - val_loss: 217854558208.0000 - val_accuracy: 0.0000e+00\n",
      "Epoch 68/250\n",
      "26/26 [==============================] - 0s 10ms/step - loss: 310050586624.0000 - accuracy: 0.0000e+00 - val_loss: 217588400128.0000 - val_accuracy: 0.0000e+00\n",
      "Epoch 69/250\n",
      "26/26 [==============================] - 0s 12ms/step - loss: 309833138176.0000 - accuracy: 0.0000e+00 - val_loss: 217393299456.0000 - val_accuracy: 0.0000e+00\n",
      "Epoch 70/250\n",
      "26/26 [==============================] - 0s 10ms/step - loss: 309608284160.0000 - accuracy: 0.0000e+00 - val_loss: 217169707008.0000 - val_accuracy: 0.0000e+00\n",
      "Epoch 71/250\n",
      "26/26 [==============================] - 0s 11ms/step - loss: 309380317184.0000 - accuracy: 0.0000e+00 - val_loss: 216940314624.0000 - val_accuracy: 0.0000e+00\n",
      "Epoch 72/250\n",
      "26/26 [==============================] - 0s 11ms/step - loss: 309166800896.0000 - accuracy: 0.0000e+00 - val_loss: 216702795776.0000 - val_accuracy: 0.0000e+00\n",
      "Epoch 73/250\n",
      "26/26 [==============================] - 0s 10ms/step - loss: 308952694784.0000 - accuracy: 0.0000e+00 - val_loss: 216459296768.0000 - val_accuracy: 0.0000e+00\n",
      "Epoch 74/250\n",
      "26/26 [==============================] - 0s 11ms/step - loss: 308743962624.0000 - accuracy: 0.0000e+00 - val_loss: 216251940864.0000 - val_accuracy: 0.0000e+00\n",
      "Epoch 75/250\n",
      "26/26 [==============================] - 0s 13ms/step - loss: 308492107776.0000 - accuracy: 0.0000e+00 - val_loss: 216065327104.0000 - val_accuracy: 0.0000e+00\n",
      "Epoch 76/250\n",
      "26/26 [==============================] - 0s 12ms/step - loss: 308274790400.0000 - accuracy: 0.0000e+00 - val_loss: 215852105728.0000 - val_accuracy: 0.0000e+00\n",
      "Epoch 77/250\n",
      "26/26 [==============================] - 0s 12ms/step - loss: 308149059584.0000 - accuracy: 0.0000e+00 - val_loss: 215674372096.0000 - val_accuracy: 0.0000e+00\n",
      "Epoch 78/250\n",
      "26/26 [==============================] - 0s 11ms/step - loss: 307879968768.0000 - accuracy: 0.0000e+00 - val_loss: 215451500544.0000 - val_accuracy: 0.0000e+00\n",
      "Epoch 79/250\n",
      "26/26 [==============================] - 0s 10ms/step - loss: 307655770112.0000 - accuracy: 0.0000e+00 - val_loss: 215213867008.0000 - val_accuracy: 0.0000e+00\n",
      "Epoch 80/250\n",
      "26/26 [==============================] - 0s 12ms/step - loss: 307433340928.0000 - accuracy: 0.0000e+00 - val_loss: 214995009536.0000 - val_accuracy: 0.0000e+00\n",
      "Epoch 81/250\n",
      "26/26 [==============================] - 0s 12ms/step - loss: 307192135680.0000 - accuracy: 0.0000e+00 - val_loss: 214763225088.0000 - val_accuracy: 0.0000e+00\n",
      "Epoch 82/250\n",
      "26/26 [==============================] - 0s 12ms/step - loss: 306995658752.0000 - accuracy: 0.0000e+00 - val_loss: 214531457024.0000 - val_accuracy: 0.0000e+00\n",
      "Epoch 83/250\n",
      "26/26 [==============================] - 0s 15ms/step - loss: 306814255104.0000 - accuracy: 0.0000e+00 - val_loss: 214305964032.0000 - val_accuracy: 0.0000e+00\n",
      "Epoch 84/250\n",
      "26/26 [==============================] - 0s 11ms/step - loss: 306595528704.0000 - accuracy: 0.0000e+00 - val_loss: 214083190784.0000 - val_accuracy: 0.0000e+00\n",
      "Epoch 85/250\n",
      "26/26 [==============================] - 0s 12ms/step - loss: 306400788480.0000 - accuracy: 0.0000e+00 - val_loss: 213921300480.0000 - val_accuracy: 0.0000e+00\n",
      "Epoch 86/250\n",
      "26/26 [==============================] - 0s 14ms/step - loss: 306206801920.0000 - accuracy: 0.0000e+00 - val_loss: 213705015296.0000 - val_accuracy: 0.0000e+00\n",
      "Epoch 87/250\n",
      "26/26 [==============================] - 0s 12ms/step - loss: 305959141376.0000 - accuracy: 0.0000e+00 - val_loss: 213473001472.0000 - val_accuracy: 0.0000e+00\n",
      "Epoch 88/250\n",
      "26/26 [==============================] - 0s 12ms/step - loss: 305753817088.0000 - accuracy: 0.0000e+00 - val_loss: 213248425984.0000 - val_accuracy: 0.0000e+00\n",
      "Epoch 89/250\n",
      "26/26 [==============================] - 0s 15ms/step - loss: 305559404544.0000 - accuracy: 0.0000e+00 - val_loss: 213052801024.0000 - val_accuracy: 0.0000e+00\n",
      "Epoch 90/250\n",
      "26/26 [==============================] - 0s 11ms/step - loss: 305349427200.0000 - accuracy: 0.0000e+00 - val_loss: 212933001216.0000 - val_accuracy: 0.0000e+00\n",
      "Epoch 91/250\n",
      "26/26 [==============================] - 0s 13ms/step - loss: 305135910912.0000 - accuracy: 0.0000e+00 - val_loss: 212700184576.0000 - val_accuracy: 0.0000e+00\n",
      "Epoch 92/250\n",
      "26/26 [==============================] - 0s 14ms/step - loss: 304910499840.0000 - accuracy: 0.0000e+00 - val_loss: 212530102272.0000 - val_accuracy: 0.0000e+00\n",
      "Epoch 93/250\n",
      "26/26 [==============================] - 0s 12ms/step - loss: 304709337088.0000 - accuracy: 0.0000e+00 - val_loss: 212228276224.0000 - val_accuracy: 0.0000e+00\n",
      "Epoch 94/250\n",
      "26/26 [==============================] - 0s 13ms/step - loss: 304518004736.0000 - accuracy: 0.0000e+00 - val_loss: 211978567680.0000 - val_accuracy: 0.0000e+00\n",
      "Epoch 95/250\n"
     ]
    },
    {
     "name": "stdout",
     "output_type": "stream",
     "text": [
      "26/26 [==============================] - 0s 16ms/step - loss: 304312844288.0000 - accuracy: 0.0000e+00 - val_loss: 211781500928.0000 - val_accuracy: 0.0000e+00\n",
      "Epoch 96/250\n",
      "26/26 [==============================] - 0s 14ms/step - loss: 304117645312.0000 - accuracy: 0.0000e+00 - val_loss: 211575865344.0000 - val_accuracy: 0.0000e+00\n",
      "Epoch 97/250\n",
      "26/26 [==============================] - 0s 14ms/step - loss: 303924609024.0000 - accuracy: 0.0000e+00 - val_loss: 211399163904.0000 - val_accuracy: 0.0000e+00\n",
      "Epoch 98/250\n",
      "26/26 [==============================] - 0s 10ms/step - loss: 303810969600.0000 - accuracy: 0.0000e+00 - val_loss: 211194511360.0000 - val_accuracy: 0.0000e+00\n",
      "Epoch 99/250\n",
      "26/26 [==============================] - 0s 11ms/step - loss: 303590047744.0000 - accuracy: 0.0000e+00 - val_loss: 210945998848.0000 - val_accuracy: 0.0000e+00\n",
      "Epoch 100/250\n",
      "26/26 [==============================] - 0s 12ms/step - loss: 303382069248.0000 - accuracy: 0.0000e+00 - val_loss: 210732646400.0000 - val_accuracy: 0.0000e+00\n",
      "Epoch 101/250\n",
      "26/26 [==============================] - 0s 14ms/step - loss: 303186083840.0000 - accuracy: 0.0000e+00 - val_loss: 210586959872.0000 - val_accuracy: 0.0000e+00\n",
      "Epoch 102/250\n",
      "26/26 [==============================] - 0s 11ms/step - loss: 302968340480.0000 - accuracy: 0.0000e+00 - val_loss: 210338381824.0000 - val_accuracy: 0.0000e+00\n",
      "Epoch 103/250\n",
      "26/26 [==============================] - 0s 11ms/step - loss: 302769799168.0000 - accuracy: 0.0000e+00 - val_loss: 210195251200.0000 - val_accuracy: 0.0000e+00\n",
      "Epoch 104/250\n",
      "26/26 [==============================] - 0s 15ms/step - loss: 302606745600.0000 - accuracy: 0.0000e+00 - val_loss: 210001510400.0000 - val_accuracy: 0.0000e+00\n",
      "Epoch 105/250\n",
      "26/26 [==============================] - 0s 12ms/step - loss: 302388445184.0000 - accuracy: 0.0000e+00 - val_loss: 209777377280.0000 - val_accuracy: 0.0000e+00\n",
      "Epoch 106/250\n",
      "26/26 [==============================] - 0s 11ms/step - loss: 302205534208.0000 - accuracy: 0.0000e+00 - val_loss: 209565220864.0000 - val_accuracy: 0.0000e+00\n",
      "Epoch 107/250\n",
      "26/26 [==============================] - 0s 13ms/step - loss: 302022393856.0000 - accuracy: 0.0000e+00 - val_loss: 209319886848.0000 - val_accuracy: 0.0000e+00\n",
      "Epoch 108/250\n",
      "26/26 [==============================] - 0s 13ms/step - loss: 301810679808.0000 - accuracy: 0.0000e+00 - val_loss: 209174511616.0000 - val_accuracy: 0.0000e+00\n",
      "Epoch 109/250\n",
      "26/26 [==============================] - 0s 10ms/step - loss: 301618692096.0000 - accuracy: 0.0000e+00 - val_loss: 208968548352.0000 - val_accuracy: 0.0000e+00\n",
      "Epoch 110/250\n",
      "26/26 [==============================] - 0s 11ms/step - loss: 301409796096.0000 - accuracy: 0.0000e+00 - val_loss: 208729161728.0000 - val_accuracy: 0.0000e+00\n",
      "Epoch 111/250\n",
      "26/26 [==============================] - 0s 14ms/step - loss: 301231636480.0000 - accuracy: 0.0000e+00 - val_loss: 208554967040.0000 - val_accuracy: 0.0000e+00\n",
      "Epoch 112/250\n",
      "26/26 [==============================] - 0s 11ms/step - loss: 301007929344.0000 - accuracy: 0.0000e+00 - val_loss: 208344449024.0000 - val_accuracy: 0.0000e+00\n",
      "Epoch 113/250\n",
      "26/26 [==============================] - 0s 10ms/step - loss: 300820660224.0000 - accuracy: 0.0000e+00 - val_loss: 208155607040.0000 - val_accuracy: 0.0000e+00\n",
      "Epoch 114/250\n",
      "26/26 [==============================] - 0s 10ms/step - loss: 300652101632.0000 - accuracy: 0.0000e+00 - val_loss: 207941500928.0000 - val_accuracy: 0.0000e+00\n",
      "Epoch 115/250\n",
      "26/26 [==============================] - 0s 12ms/step - loss: 300458967040.0000 - accuracy: 0.0000e+00 - val_loss: 207718924288.0000 - val_accuracy: 0.0000e+00\n",
      "Epoch 116/250\n",
      "26/26 [==============================] - 0s 10ms/step - loss: 300285460480.0000 - accuracy: 0.0000e+00 - val_loss: 207507685376.0000 - val_accuracy: 0.0000e+00\n",
      "Epoch 117/250\n",
      "26/26 [==============================] - 0s 10ms/step - loss: 300090097664.0000 - accuracy: 0.0000e+00 - val_loss: 207316762624.0000 - val_accuracy: 0.0000e+00\n",
      "Epoch 118/250\n",
      "26/26 [==============================] - 0s 10ms/step - loss: 299980259328.0000 - accuracy: 0.0000e+00 - val_loss: 207213379584.0000 - val_accuracy: 0.0000e+00\n",
      "Epoch 119/250\n",
      "26/26 [==============================] - 0s 12ms/step - loss: 299722113024.0000 - accuracy: 0.0000e+00 - val_loss: 206912667648.0000 - val_accuracy: 0.0000e+00\n",
      "Epoch 120/250\n",
      "26/26 [==============================] - 0s 10ms/step - loss: 299575148544.0000 - accuracy: 0.0000e+00 - val_loss: 206690779136.0000 - val_accuracy: 0.0000e+00\n",
      "Epoch 121/250\n",
      "26/26 [==============================] - 0s 12ms/step - loss: 299397906432.0000 - accuracy: 0.0000e+00 - val_loss: 206475837440.0000 - val_accuracy: 0.0000e+00\n",
      "Epoch 122/250\n",
      "26/26 [==============================] - 0s 15ms/step - loss: 299231117312.0000 - accuracy: 0.0000e+00 - val_loss: 206294466560.0000 - val_accuracy: 0.0000e+00\n",
      "Epoch 123/250\n",
      "26/26 [==============================] - 0s 12ms/step - loss: 299107811328.0000 - accuracy: 0.0000e+00 - val_loss: 206182350848.0000 - val_accuracy: 0.0000e+00\n",
      "Epoch 124/250\n",
      "26/26 [==============================] - 0s 11ms/step - loss: 298903568384.0000 - accuracy: 0.0000e+00 - val_loss: 205973110784.0000 - val_accuracy: 0.0000e+00\n",
      "Epoch 125/250\n",
      "26/26 [==============================] - 0s 12ms/step - loss: 298736484352.0000 - accuracy: 0.0000e+00 - val_loss: 205775077376.0000 - val_accuracy: 0.0000e+00\n",
      "Epoch 126/250\n",
      "26/26 [==============================] - 0s 13ms/step - loss: 298600562688.0000 - accuracy: 0.0000e+00 - val_loss: 205634355200.0000 - val_accuracy: 0.0000e+00\n",
      "Epoch 127/250\n",
      "26/26 [==============================] - 0s 12ms/step - loss: 298437672960.0000 - accuracy: 0.0000e+00 - val_loss: 205439877120.0000 - val_accuracy: 0.0000e+00\n",
      "Epoch 128/250\n",
      "26/26 [==============================] - 0s 12ms/step - loss: 298289201152.0000 - accuracy: 0.0000e+00 - val_loss: 205243416576.0000 - val_accuracy: 0.0000e+00\n",
      "Epoch 129/250\n",
      "26/26 [==============================] - 0s 14ms/step - loss: 298179526656.0000 - accuracy: 0.0000e+00 - val_loss: 205062340608.0000 - val_accuracy: 0.0000e+00\n",
      "Epoch 130/250\n",
      "26/26 [==============================] - 0s 11ms/step - loss: 298007986176.0000 - accuracy: 0.0000e+00 - val_loss: 204850216960.0000 - val_accuracy: 0.0000e+00\n",
      "Epoch 131/250\n",
      "26/26 [==============================] - 0s 11ms/step - loss: 297778872320.0000 - accuracy: 0.0000e+00 - val_loss: 204667256832.0000 - val_accuracy: 0.0000e+00\n",
      "Epoch 132/250\n",
      "26/26 [==============================] - 0s 14ms/step - loss: 297605890048.0000 - accuracy: 0.0000e+00 - val_loss: 204533743616.0000 - val_accuracy: 0.0000e+00\n",
      "Epoch 133/250\n",
      "26/26 [==============================] - 0s 13ms/step - loss: 297459220480.0000 - accuracy: 0.0000e+00 - val_loss: 204364775424.0000 - val_accuracy: 0.0000e+00\n",
      "Epoch 134/250\n",
      "26/26 [==============================] - 0s 11ms/step - loss: 297293283328.0000 - accuracy: 0.0000e+00 - val_loss: 204161925120.0000 - val_accuracy: 0.0000e+00\n",
      "Epoch 135/250\n",
      "26/26 [==============================] - 0s 13ms/step - loss: 297132130304.0000 - accuracy: 0.0000e+00 - val_loss: 203983306752.0000 - val_accuracy: 0.0000e+00\n",
      "Epoch 136/250\n",
      "26/26 [==============================] - 0s 14ms/step - loss: 296987328512.0000 - accuracy: 0.0000e+00 - val_loss: 203774754816.0000 - val_accuracy: 0.0000e+00\n",
      "Epoch 137/250\n",
      "26/26 [==============================] - 0s 12ms/step - loss: 296814542848.0000 - accuracy: 0.0000e+00 - val_loss: 203651399680.0000 - val_accuracy: 0.0000e+00\n",
      "Epoch 138/250\n",
      "26/26 [==============================] - 0s 12ms/step - loss: 296681897984.0000 - accuracy: 0.0000e+00 - val_loss: 203463770112.0000 - val_accuracy: 0.0000e+00\n",
      "Epoch 139/250\n",
      "26/26 [==============================] - 0s 15ms/step - loss: 296482996224.0000 - accuracy: 0.0000e+00 - val_loss: 203268194304.0000 - val_accuracy: 0.0000e+00\n",
      "Epoch 140/250\n",
      "26/26 [==============================] - 0s 14ms/step - loss: 296323743744.0000 - accuracy: 0.0000e+00 - val_loss: 203062788096.0000 - val_accuracy: 0.0000e+00\n",
      "Epoch 141/250\n",
      "26/26 [==============================] - 0s 11ms/step - loss: 296219639808.0000 - accuracy: 0.0000e+00 - val_loss: 202854268928.0000 - val_accuracy: 0.0000e+00\n",
      "Epoch 142/250\n"
     ]
    },
    {
     "name": "stdout",
     "output_type": "stream",
     "text": [
      "26/26 [==============================] - 0s 12ms/step - loss: 296021131264.0000 - accuracy: 0.0000e+00 - val_loss: 202742366208.0000 - val_accuracy: 0.0000e+00\n",
      "Epoch 143/250\n",
      "26/26 [==============================] - 0s 13ms/step - loss: 295906508800.0000 - accuracy: 0.0000e+00 - val_loss: 202542563328.0000 - val_accuracy: 0.0000e+00\n",
      "Epoch 144/250\n",
      "26/26 [==============================] - 0s 11ms/step - loss: 295741784064.0000 - accuracy: 0.0000e+00 - val_loss: 202401185792.0000 - val_accuracy: 0.0000e+00\n",
      "Epoch 145/250\n",
      "26/26 [==============================] - 0s 12ms/step - loss: 295578173440.0000 - accuracy: 0.0000e+00 - val_loss: 202200252416.0000 - val_accuracy: 0.0000e+00\n",
      "Epoch 146/250\n",
      "26/26 [==============================] - 0s 13ms/step - loss: 295436025856.0000 - accuracy: 0.0000e+00 - val_loss: 202074210304.0000 - val_accuracy: 0.0000e+00\n",
      "Epoch 147/250\n",
      "26/26 [==============================] - 0s 11ms/step - loss: 295256293376.0000 - accuracy: 0.0000e+00 - val_loss: 201876570112.0000 - val_accuracy: 0.0000e+00\n",
      "Epoch 148/250\n",
      "26/26 [==============================] - 0s 11ms/step - loss: 295124434944.0000 - accuracy: 0.0000e+00 - val_loss: 201651339264.0000 - val_accuracy: 0.0000e+00\n",
      "Epoch 149/250\n",
      "26/26 [==============================] - 0s 12ms/step - loss: 295029768192.0000 - accuracy: 0.0000e+00 - val_loss: 201474031616.0000 - val_accuracy: 0.0000e+00\n",
      "Epoch 150/250\n",
      "26/26 [==============================] - 0s 12ms/step - loss: 294846824448.0000 - accuracy: 0.0000e+00 - val_loss: 201331539968.0000 - val_accuracy: 0.0000e+00\n",
      "Epoch 151/250\n",
      "26/26 [==============================] - 0s 12ms/step - loss: 294714179584.0000 - accuracy: 0.0000e+00 - val_loss: 201158770688.0000 - val_accuracy: 0.0000e+00\n",
      "Epoch 152/250\n",
      "26/26 [==============================] - 0s 11ms/step - loss: 294564364288.0000 - accuracy: 0.0000e+00 - val_loss: 201011003392.0000 - val_accuracy: 0.0000e+00\n",
      "Epoch 153/250\n",
      "26/26 [==============================] - 0s 14ms/step - loss: 294408683520.0000 - accuracy: 0.0000e+00 - val_loss: 200918532096.0000 - val_accuracy: 0.0000e+00\n",
      "Epoch 154/250\n",
      "26/26 [==============================] - 0s 11ms/step - loss: 294319226880.0000 - accuracy: 0.0000e+00 - val_loss: 200664285184.0000 - val_accuracy: 0.0000e+00\n",
      "Epoch 155/250\n",
      "26/26 [==============================] - 0s 11ms/step - loss: 294151487488.0000 - accuracy: 0.0000e+00 - val_loss: 200520728576.0000 - val_accuracy: 0.0000e+00\n",
      "Epoch 156/250\n",
      "26/26 [==============================] - 0s 13ms/step - loss: 294034079744.0000 - accuracy: 0.0000e+00 - val_loss: 200338898944.0000 - val_accuracy: 0.0000e+00\n",
      "Epoch 157/250\n",
      "26/26 [==============================] - 0s 11ms/step - loss: 293907562496.0000 - accuracy: 0.0000e+00 - val_loss: 200217952256.0000 - val_accuracy: 0.0000e+00\n",
      "Epoch 158/250\n",
      "26/26 [==============================] - 0s 10ms/step - loss: 293749948416.0000 - accuracy: 0.0000e+00 - val_loss: 200018132992.0000 - val_accuracy: 0.0000e+00\n",
      "Epoch 159/250\n",
      "26/26 [==============================] - 0s 10ms/step - loss: 293567135744.0000 - accuracy: 0.0000e+00 - val_loss: 199923613696.0000 - val_accuracy: 0.0000e+00\n",
      "Epoch 160/250\n",
      "26/26 [==============================] - 0s 13ms/step - loss: 293467324416.0000 - accuracy: 0.0000e+00 - val_loss: 199723384832.0000 - val_accuracy: 0.0000e+00\n",
      "Epoch 161/250\n",
      "26/26 [==============================] - 0s 10ms/step - loss: 293361549312.0000 - accuracy: 0.0000e+00 - val_loss: 199577272320.0000 - val_accuracy: 0.0000e+00\n",
      "Epoch 162/250\n",
      "26/26 [==============================] - 0s 10ms/step - loss: 293179260928.0000 - accuracy: 0.0000e+00 - val_loss: 199354122240.0000 - val_accuracy: 0.0000e+00\n",
      "Epoch 163/250\n",
      "26/26 [==============================] - 0s 10ms/step - loss: 293078990848.0000 - accuracy: 0.0000e+00 - val_loss: 199171670016.0000 - val_accuracy: 0.0000e+00\n",
      "Epoch 164/250\n",
      "26/26 [==============================] - 0s 12ms/step - loss: 292946313216.0000 - accuracy: 0.0000e+00 - val_loss: 199027507200.0000 - val_accuracy: 0.0000e+00\n",
      "Epoch 165/250\n",
      "26/26 [==============================] - 0s 10ms/step - loss: 292824776704.0000 - accuracy: 0.0000e+00 - val_loss: 198855262208.0000 - val_accuracy: 0.0000e+00\n",
      "Epoch 166/250\n",
      "26/26 [==============================] - 0s 10ms/step - loss: 292684464128.0000 - accuracy: 0.0000e+00 - val_loss: 198711492608.0000 - val_accuracy: 0.0000e+00\n",
      "Epoch 167/250\n",
      "26/26 [==============================] - 0s 10ms/step - loss: 292578983936.0000 - accuracy: 0.0000e+00 - val_loss: 198547931136.0000 - val_accuracy: 0.0000e+00\n",
      "Epoch 168/250\n",
      "26/26 [==============================] - 0s 12ms/step - loss: 292497784832.0000 - accuracy: 0.0000e+00 - val_loss: 198506201088.0000 - val_accuracy: 0.0000e+00\n",
      "Epoch 169/250\n",
      "26/26 [==============================] - 0s 10ms/step - loss: 292350689280.0000 - accuracy: 0.0000e+00 - val_loss: 198299090944.0000 - val_accuracy: 0.0000e+00\n",
      "Epoch 170/250\n",
      "26/26 [==============================] - 0s 10ms/step - loss: 292225056768.0000 - accuracy: 0.0000e+00 - val_loss: 198076628992.0000 - val_accuracy: 0.0000e+00\n",
      "Epoch 171/250\n",
      "26/26 [==============================] - 0s 14ms/step - loss: 292136812544.0000 - accuracy: 0.0000e+00 - val_loss: 197930696704.0000 - val_accuracy: 0.0000e+00\n",
      "Epoch 172/250\n",
      "26/26 [==============================] - 0s 16ms/step - loss: 292004790272.0000 - accuracy: 0.0000e+00 - val_loss: 197820301312.0000 - val_accuracy: 0.0000e+00\n",
      "Epoch 173/250\n",
      "26/26 [==============================] - 0s 12ms/step - loss: 291861757952.0000 - accuracy: 0.0000e+00 - val_loss: 197688131584.0000 - val_accuracy: 0.0000e+00\n",
      "Epoch 174/250\n",
      "26/26 [==============================] - 0s 13ms/step - loss: 291766534144.0000 - accuracy: 0.0000e+00 - val_loss: 197529174016.0000 - val_accuracy: 0.0000e+00\n",
      "Epoch 175/250\n",
      "26/26 [==============================] - 0s 12ms/step - loss: 291656138752.0000 - accuracy: 0.0000e+00 - val_loss: 197423513600.0000 - val_accuracy: 0.0000e+00\n",
      "Epoch 176/250\n",
      "26/26 [==============================] - 0s 12ms/step - loss: 291527491584.0000 - accuracy: 0.0000e+00 - val_loss: 197246484480.0000 - val_accuracy: 0.0000e+00\n",
      "Epoch 177/250\n",
      "26/26 [==============================] - 0s 14ms/step - loss: 291492888576.0000 - accuracy: 0.0000e+00 - val_loss: 197053317120.0000 - val_accuracy: 0.0000e+00\n",
      "Epoch 178/250\n",
      "26/26 [==============================] - 0s 12ms/step - loss: 291364634624.0000 - accuracy: 0.0000e+00 - val_loss: 196976508928.0000 - val_accuracy: 0.0000e+00\n",
      "Epoch 179/250\n",
      "26/26 [==============================] - 0s 11ms/step - loss: 291205840896.0000 - accuracy: 0.0000e+00 - val_loss: 196826234880.0000 - val_accuracy: 0.0000e+00\n",
      "Epoch 180/250\n",
      "26/26 [==============================] - 0s 13ms/step - loss: 291153739776.0000 - accuracy: 0.0000e+00 - val_loss: 196727095296.0000 - val_accuracy: 0.0000e+00\n",
      "Epoch 181/250\n",
      "26/26 [==============================] - 0s 13ms/step - loss: 290984165376.0000 - accuracy: 0.0000e+00 - val_loss: 196539023360.0000 - val_accuracy: 0.0000e+00\n",
      "Epoch 182/250\n",
      "26/26 [==============================] - 0s 12ms/step - loss: 290908143616.0000 - accuracy: 0.0000e+00 - val_loss: 196398743552.0000 - val_accuracy: 0.0000e+00\n",
      "Epoch 183/250\n",
      "26/26 [==============================] - 0s 13ms/step - loss: 290798370816.0000 - accuracy: 0.0000e+00 - val_loss: 196256792576.0000 - val_accuracy: 0.0000e+00\n",
      "Epoch 184/250\n",
      "26/26 [==============================] - 0s 13ms/step - loss: 290706423808.0000 - accuracy: 0.0000e+00 - val_loss: 196113367040.0000 - val_accuracy: 0.0000e+00\n",
      "Epoch 185/250\n",
      "26/26 [==============================] - 0s 11ms/step - loss: 290599239680.0000 - accuracy: 0.0000e+00 - val_loss: 195964911616.0000 - val_accuracy: 0.0000e+00\n",
      "Epoch 186/250\n",
      "26/26 [==============================] - 0s 13ms/step - loss: 290601074688.0000 - accuracy: 0.0000e+00 - val_loss: 196394680320.0000 - val_accuracy: 0.0000e+00\n",
      "Epoch 187/250\n",
      "26/26 [==============================] - 0s 13ms/step - loss: 290648260608.0000 - accuracy: 0.0000e+00 - val_loss: 196048896000.0000 - val_accuracy: 0.0000e+00\n",
      "Epoch 188/250\n",
      "26/26 [==============================] - 0s 12ms/step - loss: 290410233856.0000 - accuracy: 0.0000e+00 - val_loss: 195910500352.0000 - val_accuracy: 0.0000e+00\n",
      "Epoch 189/250\n"
     ]
    },
    {
     "name": "stdout",
     "output_type": "stream",
     "text": [
      "26/26 [==============================] - 0s 12ms/step - loss: 290317402112.0000 - accuracy: 0.0000e+00 - val_loss: 195675815936.0000 - val_accuracy: 0.0000e+00\n",
      "Epoch 190/250\n",
      "26/26 [==============================] - 0s 17ms/step - loss: 290185740288.0000 - accuracy: 0.0000e+00 - val_loss: 195575660544.0000 - val_accuracy: 0.0000e+00\n",
      "Epoch 191/250\n",
      "26/26 [==============================] - 0s 10ms/step - loss: 290104901632.0000 - accuracy: 0.0000e+00 - val_loss: 195474980864.0000 - val_accuracy: 0.0000e+00\n",
      "Epoch 192/250\n",
      "26/26 [==============================] - 0s 11ms/step - loss: 290093629440.0000 - accuracy: 0.0000e+00 - val_loss: 195433283584.0000 - val_accuracy: 0.0000e+00\n",
      "Epoch 193/250\n",
      "26/26 [==============================] - 0s 11ms/step - loss: 289962852352.0000 - accuracy: 0.0000e+00 - val_loss: 195218063360.0000 - val_accuracy: 0.0000e+00\n",
      "Epoch 194/250\n",
      "26/26 [==============================] - 0s 11ms/step - loss: 289860452352.0000 - accuracy: 0.0000e+00 - val_loss: 195130621952.0000 - val_accuracy: 0.0000e+00\n",
      "Epoch 195/250\n",
      "26/26 [==============================] - 0s 11ms/step - loss: 289780301824.0000 - accuracy: 0.0000e+00 - val_loss: 195020685312.0000 - val_accuracy: 0.0000e+00\n",
      "Epoch 196/250\n",
      "26/26 [==============================] - 0s 10ms/step - loss: 289694744576.0000 - accuracy: 0.0000e+00 - val_loss: 194893643776.0000 - val_accuracy: 0.0000e+00\n",
      "Epoch 197/250\n",
      "26/26 [==============================] - 0s 10ms/step - loss: 289601748992.0000 - accuracy: 0.0000e+00 - val_loss: 194795945984.0000 - val_accuracy: 0.0000e+00\n",
      "Epoch 198/250\n",
      "26/26 [==============================] - 0s 11ms/step - loss: 289526939648.0000 - accuracy: 0.0000e+00 - val_loss: 194679537664.0000 - val_accuracy: 0.0000e+00\n",
      "Epoch 199/250\n",
      "26/26 [==============================] - 0s 15ms/step - loss: 289505640448.0000 - accuracy: 0.0000e+00 - val_loss: 194556346368.0000 - val_accuracy: 0.0000e+00\n",
      "Epoch 200/250\n",
      "26/26 [==============================] - 0s 11ms/step - loss: 289372930048.0000 - accuracy: 0.0000e+00 - val_loss: 194435416064.0000 - val_accuracy: 0.0000e+00\n",
      "Epoch 201/250\n",
      "26/26 [==============================] - 0s 12ms/step - loss: 289309130752.0000 - accuracy: 0.0000e+00 - val_loss: 194330378240.0000 - val_accuracy: 0.0000e+00\n",
      "Epoch 202/250\n",
      "26/26 [==============================] - 0s 14ms/step - loss: 289250213888.0000 - accuracy: 0.0000e+00 - val_loss: 194219016192.0000 - val_accuracy: 0.0000e+00\n",
      "Epoch 203/250\n",
      "26/26 [==============================] - 0s 12ms/step - loss: 289142177792.0000 - accuracy: 0.0000e+00 - val_loss: 194111193088.0000 - val_accuracy: 0.0000e+00\n",
      "Epoch 204/250\n",
      "26/26 [==============================] - 0s 11ms/step - loss: 289075757056.0000 - accuracy: 0.0000e+00 - val_loss: 194026668032.0000 - val_accuracy: 0.0000e+00\n",
      "Epoch 205/250\n",
      "26/26 [==============================] - 0s 11ms/step - loss: 289017233408.0000 - accuracy: 0.0000e+00 - val_loss: 193907015680.0000 - val_accuracy: 0.0000e+00\n",
      "Epoch 206/250\n",
      "26/26 [==============================] - 0s 15ms/step - loss: 288917094400.0000 - accuracy: 0.0000e+00 - val_loss: 193818001408.0000 - val_accuracy: 0.0000e+00\n",
      "Epoch 207/250\n",
      "26/26 [==============================] - 0s 11ms/step - loss: 288838483968.0000 - accuracy: 0.0000e+00 - val_loss: 193678475264.0000 - val_accuracy: 0.0000e+00\n",
      "Epoch 208/250\n",
      "26/26 [==============================] - 0s 10ms/step - loss: 288796770304.0000 - accuracy: 0.0000e+00 - val_loss: 193561804800.0000 - val_accuracy: 0.0000e+00\n",
      "Epoch 209/250\n",
      "26/26 [==============================] - 0s 10ms/step - loss: 288742801408.0000 - accuracy: 0.0000e+00 - val_loss: 193453342720.0000 - val_accuracy: 0.0000e+00\n",
      "Epoch 210/250\n",
      "26/26 [==============================] - 0s 11ms/step - loss: 288636174336.0000 - accuracy: 0.0000e+00 - val_loss: 193401176064.0000 - val_accuracy: 0.0000e+00\n",
      "Epoch 211/250\n",
      "26/26 [==============================] - 0s 10ms/step - loss: 288549928960.0000 - accuracy: 0.0000e+00 - val_loss: 193275740160.0000 - val_accuracy: 0.0000e+00\n",
      "Epoch 212/250\n",
      "26/26 [==============================] - 0s 9ms/step - loss: 288472432640.0000 - accuracy: 0.0000e+00 - val_loss: 193178583040.0000 - val_accuracy: 0.0000e+00\n",
      "Epoch 213/250\n",
      "26/26 [==============================] - 0s 10ms/step - loss: 288439664640.0000 - accuracy: 0.0000e+00 - val_loss: 193106247680.0000 - val_accuracy: 0.0000e+00\n",
      "Epoch 214/250\n",
      "26/26 [==============================] - 0s 11ms/step - loss: 288317538304.0000 - accuracy: 0.0000e+00 - val_loss: 192982974464.0000 - val_accuracy: 0.0000e+00\n",
      "Epoch 215/250\n",
      "26/26 [==============================] - 0s 10ms/step - loss: 288245940224.0000 - accuracy: 0.0000e+00 - val_loss: 192866598912.0000 - val_accuracy: 0.0000e+00\n",
      "Epoch 216/250\n",
      "26/26 [==============================] - 0s 10ms/step - loss: 288206618624.0000 - accuracy: 0.0000e+00 - val_loss: 192790855680.0000 - val_accuracy: 0.0000e+00\n",
      "Epoch 217/250\n",
      "26/26 [==============================] - 0s 10ms/step - loss: 288159596544.0000 - accuracy: 0.0000e+00 - val_loss: 192649248768.0000 - val_accuracy: 0.0000e+00\n",
      "Epoch 218/250\n",
      "26/26 [==============================] - 0s 12ms/step - loss: 287978979328.0000 - accuracy: 0.0000e+00 - val_loss: 192627916800.0000 - val_accuracy: 0.0000e+00\n",
      "Epoch 219/250\n",
      "26/26 [==============================] - 0s 10ms/step - loss: 287958827008.0000 - accuracy: 0.0000e+00 - val_loss: 192499777536.0000 - val_accuracy: 0.0000e+00\n",
      "Epoch 220/250\n",
      "26/26 [==============================] - 0s 10ms/step - loss: 287920029696.0000 - accuracy: 0.0000e+00 - val_loss: 192347766784.0000 - val_accuracy: 0.0000e+00\n",
      "Epoch 221/250\n",
      "26/26 [==============================] - 0s 11ms/step - loss: 287813402624.0000 - accuracy: 0.0000e+00 - val_loss: 192283705344.0000 - val_accuracy: 0.0000e+00\n",
      "Epoch 222/250\n",
      "26/26 [==============================] - 0s 14ms/step - loss: 287790235648.0000 - accuracy: 0.0000e+00 - val_loss: 192242368512.0000 - val_accuracy: 0.0000e+00\n",
      "Epoch 223/250\n",
      "26/26 [==============================] - 0s 14ms/step - loss: 287654838272.0000 - accuracy: 0.0000e+00 - val_loss: 192051216384.0000 - val_accuracy: 0.0000e+00\n",
      "Epoch 224/250\n",
      "26/26 [==============================] - 0s 12ms/step - loss: 287648645120.0000 - accuracy: 0.0000e+00 - val_loss: 191933104128.0000 - val_accuracy: 0.0000e+00\n",
      "Epoch 225/250\n",
      "26/26 [==============================] - 0s 14ms/step - loss: 287544803328.0000 - accuracy: 0.0000e+00 - val_loss: 191876923392.0000 - val_accuracy: 0.0000e+00\n",
      "Epoch 226/250\n",
      "26/26 [==============================] - 0s 11ms/step - loss: 287476809728.0000 - accuracy: 0.0000e+00 - val_loss: 191811960832.0000 - val_accuracy: 0.0000e+00\n",
      "Epoch 227/250\n",
      "26/26 [==============================] - 0s 11ms/step - loss: 287428575232.0000 - accuracy: 0.0000e+00 - val_loss: 191715426304.0000 - val_accuracy: 0.0000e+00\n",
      "Epoch 228/250\n",
      "26/26 [==============================] - 0s 14ms/step - loss: 287373852672.0000 - accuracy: 0.0000e+00 - val_loss: 191555452928.0000 - val_accuracy: 0.0000e+00\n",
      "Epoch 229/250\n",
      "26/26 [==============================] - 0s 12ms/step - loss: 287272927232.0000 - accuracy: 0.0000e+00 - val_loss: 191474860032.0000 - val_accuracy: 0.0000e+00\n",
      "Epoch 230/250\n",
      "26/26 [==============================] - 0s 12ms/step - loss: 287301926912.0000 - accuracy: 0.0000e+00 - val_loss: 191439044608.0000 - val_accuracy: 0.0000e+00\n",
      "Epoch 231/250\n",
      "26/26 [==============================] - 0s 12ms/step - loss: 287152340992.0000 - accuracy: 0.0000e+00 - val_loss: 191299485696.0000 - val_accuracy: 0.0000e+00\n",
      "Epoch 232/250\n",
      "26/26 [==============================] - 0s 15ms/step - loss: 287152340992.0000 - accuracy: 0.0000e+00 - val_loss: 191220989952.0000 - val_accuracy: 0.0000e+00\n",
      "Epoch 233/250\n",
      "26/26 [==============================] - 0s 12ms/step - loss: 287039160320.0000 - accuracy: 0.0000e+00 - val_loss: 191125946368.0000 - val_accuracy: 0.0000e+00\n",
      "Epoch 234/250\n",
      "26/26 [==============================] - 0s 12ms/step - loss: 287033688064.0000 - accuracy: 0.0000e+00 - val_loss: 191069306880.0000 - val_accuracy: 0.0000e+00\n",
      "Epoch 235/250\n",
      "26/26 [==============================] - 0s 17ms/step - loss: 286933188608.0000 - accuracy: 0.0000e+00 - val_loss: 190981390336.0000 - val_accuracy: 0.0000e+00\n",
      "Epoch 236/250\n"
     ]
    },
    {
     "name": "stdout",
     "output_type": "stream",
     "text": [
      "26/26 [==============================] - 0s 12ms/step - loss: 286887051264.0000 - accuracy: 0.0000e+00 - val_loss: 190860787712.0000 - val_accuracy: 0.0000e+00\n",
      "Epoch 237/250\n",
      "26/26 [==============================] - 0s 11ms/step - loss: 286820040704.0000 - accuracy: 0.0000e+00 - val_loss: 190805540864.0000 - val_accuracy: 0.0000e+00\n",
      "Epoch 238/250\n",
      "26/26 [==============================] - 0s 13ms/step - loss: 286766399488.0000 - accuracy: 0.0000e+00 - val_loss: 190721867776.0000 - val_accuracy: 0.0000e+00\n",
      "Epoch 239/250\n",
      "26/26 [==============================] - 0s 11ms/step - loss: 286678089728.0000 - accuracy: 0.0000e+00 - val_loss: 190612930560.0000 - val_accuracy: 0.0000e+00\n",
      "Epoch 240/250\n",
      "26/26 [==============================] - 0s 11ms/step - loss: 286609375232.0000 - accuracy: 0.0000e+00 - val_loss: 190500470784.0000 - val_accuracy: 0.0000e+00\n",
      "Epoch 241/250\n",
      "26/26 [==============================] - 0s 14ms/step - loss: 286542266368.0000 - accuracy: 0.0000e+00 - val_loss: 190437228544.0000 - val_accuracy: 0.0000e+00\n",
      "Epoch 242/250\n",
      "26/26 [==============================] - 0s 13ms/step - loss: 286509236224.0000 - accuracy: 0.0000e+00 - val_loss: 190351278080.0000 - val_accuracy: 0.0000e+00\n",
      "Epoch 243/250\n",
      "26/26 [==============================] - 0s 12ms/step - loss: 286421221376.0000 - accuracy: 0.0000e+00 - val_loss: 190262329344.0000 - val_accuracy: 0.0000e+00\n",
      "Epoch 244/250\n",
      "26/26 [==============================] - 0s 11ms/step - loss: 286406770688.0000 - accuracy: 0.0000e+00 - val_loss: 190174576640.0000 - val_accuracy: 0.0000e+00\n",
      "Epoch 245/250\n",
      "26/26 [==============================] - 0s 14ms/step - loss: 286336319488.0000 - accuracy: 0.0000e+00 - val_loss: 190102192128.0000 - val_accuracy: 0.0000e+00\n",
      "Epoch 246/250\n",
      "26/26 [==============================] - 0s 11ms/step - loss: 286261444608.0000 - accuracy: 0.0000e+00 - val_loss: 189977903104.0000 - val_accuracy: 0.0000e+00\n",
      "Epoch 247/250\n",
      "26/26 [==============================] - 0s 11ms/step - loss: 286238277632.0000 - accuracy: 0.0000e+00 - val_loss: 189923246080.0000 - val_accuracy: 0.0000e+00\n",
      "Epoch 248/250\n",
      "26/26 [==============================] - 0s 12ms/step - loss: 286153015296.0000 - accuracy: 0.0000e+00 - val_loss: 189868490752.0000 - val_accuracy: 0.0000e+00\n",
      "Epoch 249/250\n",
      "26/26 [==============================] - 0s 12ms/step - loss: 286107533312.0000 - accuracy: 0.0000e+00 - val_loss: 189737140224.0000 - val_accuracy: 0.0000e+00\n",
      "Epoch 250/250\n",
      "26/26 [==============================] - 0s 10ms/step - loss: 286049665024.0000 - accuracy: 0.0000e+00 - val_loss: 189711925248.0000 - val_accuracy: 0.0000e+00\n"
     ]
    },
    {
     "data": {
      "text/plain": [
       "<keras.callbacks.History at 0x242dc1e7340>"
      ]
     },
     "execution_count": 65,
     "metadata": {},
     "output_type": "execute_result"
    }
   ],
   "source": [
    "model.fit(x = x_train, \n",
    "          y = y_train.values,\n",
    "          validation_data = (x_test, y_test.values),\n",
    "          batch_size = 128,\n",
    "          epochs = 250)"
   ]
  },
  {
   "cell_type": "code",
   "execution_count": 66,
   "id": "5e9a75b9",
   "metadata": {},
   "outputs": [],
   "source": [
    "loss = pd.DataFrame(model.history.history)"
   ]
  },
  {
   "cell_type": "code",
   "execution_count": 67,
   "id": "5ae15e7b",
   "metadata": {},
   "outputs": [
    {
     "data": {
      "text/plain": [
       "<AxesSubplot:>"
      ]
     },
     "execution_count": 67,
     "metadata": {},
     "output_type": "execute_result"
    },
    {
     "data": {
      "image/png": "[encoded data removed]",
      "text/plain": [
       "<Figure size 432x288 with 1 Axes>"
      ]
     },
     "metadata": {
      "needs_background": "light"
     },
     "output_type": "display_data"
    }
   ],
   "source": [
    "loss.plot()"
   ]
  },
  {
   "cell_type": "code",
   "execution_count": 70,
   "id": "cb196040",
   "metadata": {},
   "outputs": [],
   "source": [
    "from sklearn.metrics import mean_squared_error, mean_absolute_error, explained_variance_score"
   ]
  },
  {
   "cell_type": "code",
   "execution_count": 71,
   "id": "107bb974",
   "metadata": {},
   "outputs": [
    {
     "data": {
      "text/plain": [
       "array([[0.44444444, 0.44444444, 0.54584682, ..., 0.        , 1.        ,\n",
       "        0.        ],\n",
       "       [0.33333333, 0.33333333, 0.20496224, ..., 0.99503476, 0.        ,\n",
       "        0.        ],\n",
       "       [0.44444444, 0.37037037, 0.18338727, ..., 0.99453823, 0.5       ,\n",
       "        0.        ],\n",
       "       ...,\n",
       "       [0.33333333, 0.25925926, 0.13052859, ..., 0.        , 0.5       ,\n",
       "        0.        ],\n",
       "       [0.11111111, 0.2962963 , 0.08414239, ..., 0.        , 1.        ,\n",
       "        0.        ],\n",
       "       [0.33333333, 0.14814815, 0.06688242, ..., 0.98709037, 0.        ,\n",
       "        0.        ]])"
      ]
     },
     "execution_count": 71,
     "metadata": {},
     "output_type": "execute_result"
    }
   ],
   "source": [
    "x_test"
   ]
  },
  {
   "cell_type": "markdown",
   "id": "16f6abbb",
   "metadata": {},
   "source": [
    "# Predicting New Data"
   ]
  },
  {
   "cell_type": "code",
   "execution_count": 72,
   "id": "2d4268bc",
   "metadata": {},
   "outputs": [
    {
     "name": "stdout",
     "output_type": "stream",
     "text": [
      "44/44 [==============================] - 1s 16ms/step\n"
     ]
    }
   ],
   "source": [
    "prediction = model.predict(x_test)"
   ]
  },
  {
   "cell_type": "code",
   "execution_count": 73,
   "id": "f6c49185",
   "metadata": {},
   "outputs": [
    {
     "data": {
      "text/plain": [
       "178390.61011263842"
      ]
     },
     "execution_count": 73,
     "metadata": {},
     "output_type": "execute_result"
    }
   ],
   "source": [
    "mean_absolute_error(y_test, prediction)"
   ]
  },
  {
   "cell_type": "code",
   "execution_count": 74,
   "id": "0d6d01d5",
   "metadata": {},
   "outputs": [
    {
     "data": {
      "text/plain": [
       "422.3631258912624"
      ]
     },
     "execution_count": 74,
     "metadata": {},
     "output_type": "execute_result"
    }
   ],
   "source": [
    "np.sqrt(mean_absolute_error(y_test, prediction))"
   ]
  },
  {
   "cell_type": "code",
   "execution_count": 75,
   "id": "de910477",
   "metadata": {},
   "outputs": [
    {
     "data": {
      "text/plain": [
       "0.2598657221871373"
      ]
     },
     "execution_count": 75,
     "metadata": {},
     "output_type": "execute_result"
    }
   ],
   "source": [
    "explained_variance_score(y_test, prediction)"
   ]
  },
  {
   "cell_type": "code",
   "execution_count": 76,
   "id": "4cc0b1e7",
   "metadata": {},
   "outputs": [
    {
     "data": {
      "text/plain": [
       "count    4.600000e+03\n",
       "mean     5.519630e+05\n",
       "std      5.638347e+05\n",
       "min      0.000000e+00\n",
       "25%      3.228750e+05\n",
       "50%      4.609435e+05\n",
       "75%      6.549625e+05\n",
       "max      2.659000e+07\n",
       "Name: price, dtype: float64"
      ]
     },
     "execution_count": 76,
     "metadata": {},
     "output_type": "execute_result"
    }
   ],
   "source": [
    "dataframe['price'].describe()"
   ]
  },
  {
   "cell_type": "code",
   "execution_count": 77,
   "id": "d9f5a2e3",
   "metadata": {},
   "outputs": [
    {
     "data": {
      "text/plain": [
       "[<matplotlib.lines.Line2D at 0x242df9f6350>]"
      ]
     },
     "execution_count": 77,
     "metadata": {},
     "output_type": "execute_result"
    },
    {
     "data": {
      "image/png": "[encoded data removed]",
      "text/plain": [
       "<Figure size 432x288 with 1 Axes>"
      ]
     },
     "metadata": {
      "needs_background": "light"
     },
     "output_type": "display_data"
    }
   ],
   "source": [
    "plt.scatter(y_test, prediction)\n",
    "plt.plot(y_test, y_test, 'r')"
   ]
  },
  {
   "cell_type": "markdown",
   "id": "c51ec396",
   "metadata": {},
   "source": [
    "# Prediction In Single House "
   ]
  },
  {
   "cell_type": "code",
   "execution_count": 79,
   "id": "e2488928",
   "metadata": {},
   "outputs": [],
   "source": [
    "single_house =  dataframe.drop('price',axis=1).iloc[0]"
   ]
  },
  {
   "cell_type": "code",
   "execution_count": 81,
   "id": "f87be1e0",
   "metadata": {},
   "outputs": [],
   "source": [
    "single_house = scaler.transform(single_house.values.reshape(-1, 14))"
   ]
  },
  {
   "cell_type": "code",
   "execution_count": 82,
   "id": "7aa7e8a5",
   "metadata": {},
   "outputs": [
    {
     "data": {
      "text/plain": [
       "array([[0.33333333, 0.22222222, 0.10463862, 0.00673568, 0.2       ,\n",
       "        0.        , 0.        , 0.5       , 0.12679739, 0.        ,\n",
       "        0.48245614, 0.99553128, 0.        , 0.        ]])"
      ]
     },
     "execution_count": 82,
     "metadata": {},
     "output_type": "execute_result"
    }
   ],
   "source": [
    "single_house"
   ]
  },
  {
   "cell_type": "code",
   "execution_count": 83,
   "id": "b1e8caae",
   "metadata": {},
   "outputs": [
    {
     "name": "stdout",
     "output_type": "stream",
     "text": [
      "1/1 [==============================] - 0s 56ms/step\n"
     ]
    },
    {
     "data": {
      "text/plain": [
       "array([[352409.75]], dtype=float32)"
      ]
     },
     "execution_count": 83,
     "metadata": {},
     "output_type": "execute_result"
    }
   ],
   "source": [
    "model.predict(single_house)"
   ]
  },
  {
   "cell_type": "code",
   "execution_count": 84,
   "id": "84fb9aba",
   "metadata": {},
   "outputs": [
    {
     "data": {
      "text/plain": [
       "price            313000.0\n",
       "bedrooms              3.0\n",
       "bathrooms             1.5\n",
       "sqft_living        1340.0\n",
       "sqft_lot           7912.0\n",
       "floors                1.5\n",
       "waterfront            0.0\n",
       "view                  0.0\n",
       "condition             3.0\n",
       "sqft_above         1340.0\n",
       "sqft_basement         0.0\n",
       "yr_built           1955.0\n",
       "yr_renovated       2005.0\n",
       "month                 5.0\n",
       "year               2014.0\n",
       "Name: 0, dtype: float64"
      ]
     },
     "execution_count": 84,
     "metadata": {},
     "output_type": "execute_result"
    }
   ],
   "source": [
    "dataframe.iloc[0]"
   ]
  },
  {
   "cell_type": "code",
   "execution_count": null,
   "id": "ceb5eb97",
   "metadata": {},
   "outputs": [],
   "source": []
  }
 ],
 "metadata": {
  "kernelspec": {
   "display_name": "Python 3 (ipykernel)",
   "language": "python",
   "name": "python3"
  },
  "language_info": {
   "codemirror_mode": {
    "name": "ipython",
    "version": 3
   },
   "file_extension": ".py",
   "mimetype": "text/x-python",
   "name": "python",
   "nbconvert_exporter": "python",
   "pygments_lexer": "ipython3",
   "version": "3.10.9"
  }
 },
 "nbformat": 4,
 "nbformat_minor": 5
}
