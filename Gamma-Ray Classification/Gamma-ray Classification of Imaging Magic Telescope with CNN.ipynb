{
 "cells": [
  {
   "cell_type": "markdown",
   "id": "0ff614a6",
   "metadata": {},
   "source": [
    "# Gamma-ray Classification of Imaging Magic Telescope with CNN"
   ]
  },
  {
   "cell_type": "markdown",
   "id": "0f55e00c",
   "metadata": {},
   "source": [
    "Gamma-ray classification of imaging telescopes involves the development of a system that can accurately classify gamma-ray events detected by telescopes based on their characteristics. This type of project is typically focused on data analysis and machine learning techniques."
   ]
  },
  {
   "cell_type": "markdown",
   "id": "3b81e315",
   "metadata": {},
   "source": [
    "# Importing Libraries"
   ]
  },
  {
   "cell_type": "markdown",
   "id": "995a83f5",
   "metadata": {},
   "source": [
    "These are just a few examples of popular Python libraries. You can import any other library using the same import statement followed by the library name or alias:\n",
    "\n",
    "NumPy: for numerical operations and array manipulation\n",
    "\n",
    "Pandas: for data manipulation and analysis\n",
    "\n",
    "Matplotlib: for creating visualizations\n",
    "\n",
    "Scikit-learn: for machine learning algorithms"
   ]
  },
  {
   "cell_type": "code",
   "execution_count": 1,
   "id": "ffb6bc8f",
   "metadata": {},
   "outputs": [],
   "source": [
    "import pandas as pd\n",
    "import numpy as np\n",
    "import matplotlib.pyplot as plt\n",
    "import seaborn as sns\n",
    "\n",
    "%matplotlib inline"
   ]
  },
  {
   "cell_type": "code",
   "execution_count": 2,
   "id": "a0a2252f",
   "metadata": {},
   "outputs": [],
   "source": [
    "import warnings\n",
    "warnings.filterwarnings('ignore')"
   ]
  },
  {
   "cell_type": "markdown",
   "id": "188b20f4",
   "metadata": {},
   "source": [
    "# Importing Dataset"
   ]
  },
  {
   "cell_type": "code",
   "execution_count": 3,
   "id": "f00cf882",
   "metadata": {},
   "outputs": [],
   "source": [
    "dataframe = pd.read_csv('MagicTelescope.csv')"
   ]
  },
  {
   "cell_type": "markdown",
   "id": "978d7664",
   "metadata": {},
   "source": [
    "# Exploring Dataset"
   ]
  },
  {
   "cell_type": "markdown",
   "id": "9a41c6cd",
   "metadata": {},
   "source": [
    "Exploring a dataset involves analyzing and understanding its structure, content, and characteristics. It helps in gaining insights into the data, identifying patterns, and making informed decisions about data preprocessing, feature engineering, and modeling."
   ]
  },
  {
   "cell_type": "code",
   "execution_count": 4,
   "id": "2f0b6a18",
   "metadata": {},
   "outputs": [
    {
     "data": {
      "text/html": [
       "<div>\n",
       "<style scoped>\n",
       "    .dataframe tbody tr th:only-of-type {\n",
       "        vertical-align: middle;\n",
       "    }\n",
       "\n",
       "    .dataframe tbody tr th {\n",
       "        vertical-align: top;\n",
       "    }\n",
       "\n",
       "    .dataframe thead th {\n",
       "        text-align: right;\n",
       "    }\n",
       "</style>\n",
       "<table border=\"1\" class=\"dataframe\">\n",
       "  <thead>\n",
       "    <tr style=\"text-align: right;\">\n",
       "      <th></th>\n",
       "      <th>id</th>\n",
       "      <th>ID</th>\n",
       "      <th>fLength:</th>\n",
       "      <th>fWidth:</th>\n",
       "      <th>fSize:</th>\n",
       "      <th>fConc:</th>\n",
       "      <th>fConc1:</th>\n",
       "      <th>fAsym:</th>\n",
       "      <th>fM3Long:</th>\n",
       "      <th>fM3Trans:</th>\n",
       "      <th>fAlpha:</th>\n",
       "      <th>fDist:</th>\n",
       "      <th>class:</th>\n",
       "    </tr>\n",
       "  </thead>\n",
       "  <tbody>\n",
       "    <tr>\n",
       "      <th>0</th>\n",
       "      <td>1</td>\n",
       "      <td>1</td>\n",
       "      <td>28.7967</td>\n",
       "      <td>16.0021</td>\n",
       "      <td>2.6449</td>\n",
       "      <td>0.3918</td>\n",
       "      <td>0.1982</td>\n",
       "      <td>27.7004</td>\n",
       "      <td>22.0110</td>\n",
       "      <td>-8.2027</td>\n",
       "      <td>40.0920</td>\n",
       "      <td>81.8828</td>\n",
       "      <td>g</td>\n",
       "    </tr>\n",
       "    <tr>\n",
       "      <th>1</th>\n",
       "      <td>2</td>\n",
       "      <td>2</td>\n",
       "      <td>31.6036</td>\n",
       "      <td>11.7235</td>\n",
       "      <td>2.5185</td>\n",
       "      <td>0.5303</td>\n",
       "      <td>0.3773</td>\n",
       "      <td>26.2722</td>\n",
       "      <td>23.8238</td>\n",
       "      <td>-9.9574</td>\n",
       "      <td>6.3609</td>\n",
       "      <td>205.2610</td>\n",
       "      <td>g</td>\n",
       "    </tr>\n",
       "    <tr>\n",
       "      <th>2</th>\n",
       "      <td>3</td>\n",
       "      <td>3</td>\n",
       "      <td>162.0520</td>\n",
       "      <td>136.0310</td>\n",
       "      <td>4.0612</td>\n",
       "      <td>0.0374</td>\n",
       "      <td>0.0187</td>\n",
       "      <td>116.7410</td>\n",
       "      <td>-64.8580</td>\n",
       "      <td>-45.2160</td>\n",
       "      <td>76.9600</td>\n",
       "      <td>256.7880</td>\n",
       "      <td>g</td>\n",
       "    </tr>\n",
       "    <tr>\n",
       "      <th>3</th>\n",
       "      <td>4</td>\n",
       "      <td>4</td>\n",
       "      <td>23.8172</td>\n",
       "      <td>9.5728</td>\n",
       "      <td>2.3385</td>\n",
       "      <td>0.6147</td>\n",
       "      <td>0.3922</td>\n",
       "      <td>27.2107</td>\n",
       "      <td>-6.4633</td>\n",
       "      <td>-7.1513</td>\n",
       "      <td>10.4490</td>\n",
       "      <td>116.7370</td>\n",
       "      <td>g</td>\n",
       "    </tr>\n",
       "    <tr>\n",
       "      <th>4</th>\n",
       "      <td>5</td>\n",
       "      <td>5</td>\n",
       "      <td>75.1362</td>\n",
       "      <td>30.9205</td>\n",
       "      <td>3.1611</td>\n",
       "      <td>0.3168</td>\n",
       "      <td>0.1832</td>\n",
       "      <td>-5.5277</td>\n",
       "      <td>28.5525</td>\n",
       "      <td>21.8393</td>\n",
       "      <td>4.6480</td>\n",
       "      <td>356.4620</td>\n",
       "      <td>g</td>\n",
       "    </tr>\n",
       "  </tbody>\n",
       "</table>\n",
       "</div>"
      ],
      "text/plain": [
       "   id  ID  fLength:   fWidth:  fSize:  fConc:  fConc1:    fAsym:  fM3Long:  \\\n",
       "0   1   1   28.7967   16.0021  2.6449  0.3918   0.1982   27.7004   22.0110   \n",
       "1   2   2   31.6036   11.7235  2.5185  0.5303   0.3773   26.2722   23.8238   \n",
       "2   3   3  162.0520  136.0310  4.0612  0.0374   0.0187  116.7410  -64.8580   \n",
       "3   4   4   23.8172    9.5728  2.3385  0.6147   0.3922   27.2107   -6.4633   \n",
       "4   5   5   75.1362   30.9205  3.1611  0.3168   0.1832   -5.5277   28.5525   \n",
       "\n",
       "   fM3Trans:  fAlpha:    fDist: class:  \n",
       "0    -8.2027  40.0920   81.8828      g  \n",
       "1    -9.9574   6.3609  205.2610      g  \n",
       "2   -45.2160  76.9600  256.7880      g  \n",
       "3    -7.1513  10.4490  116.7370      g  \n",
       "4    21.8393   4.6480  356.4620      g  "
      ]
     },
     "execution_count": 4,
     "metadata": {},
     "output_type": "execute_result"
    }
   ],
   "source": [
    "dataframe.head()"
   ]
  },
  {
   "cell_type": "code",
   "execution_count": 5,
   "id": "5bf8d6ef",
   "metadata": {},
   "outputs": [
    {
     "data": {
      "text/html": [
       "<div>\n",
       "<style scoped>\n",
       "    .dataframe tbody tr th:only-of-type {\n",
       "        vertical-align: middle;\n",
       "    }\n",
       "\n",
       "    .dataframe tbody tr th {\n",
       "        vertical-align: top;\n",
       "    }\n",
       "\n",
       "    .dataframe thead th {\n",
       "        text-align: right;\n",
       "    }\n",
       "</style>\n",
       "<table border=\"1\" class=\"dataframe\">\n",
       "  <thead>\n",
       "    <tr style=\"text-align: right;\">\n",
       "      <th></th>\n",
       "      <th>id</th>\n",
       "      <th>ID</th>\n",
       "      <th>fLength:</th>\n",
       "      <th>fWidth:</th>\n",
       "      <th>fSize:</th>\n",
       "      <th>fConc:</th>\n",
       "      <th>fConc1:</th>\n",
       "      <th>fAsym:</th>\n",
       "      <th>fM3Long:</th>\n",
       "      <th>fM3Trans:</th>\n",
       "      <th>fAlpha:</th>\n",
       "      <th>fDist:</th>\n",
       "      <th>class:</th>\n",
       "    </tr>\n",
       "  </thead>\n",
       "  <tbody>\n",
       "    <tr>\n",
       "      <th>19015</th>\n",
       "      <td>19016</td>\n",
       "      <td>19016</td>\n",
       "      <td>21.3846</td>\n",
       "      <td>10.9170</td>\n",
       "      <td>2.6161</td>\n",
       "      <td>0.5857</td>\n",
       "      <td>0.3934</td>\n",
       "      <td>15.2618</td>\n",
       "      <td>11.5245</td>\n",
       "      <td>2.8766</td>\n",
       "      <td>2.4229</td>\n",
       "      <td>106.8258</td>\n",
       "      <td>h</td>\n",
       "    </tr>\n",
       "    <tr>\n",
       "      <th>19016</th>\n",
       "      <td>19017</td>\n",
       "      <td>19017</td>\n",
       "      <td>28.9452</td>\n",
       "      <td>6.7020</td>\n",
       "      <td>2.2672</td>\n",
       "      <td>0.5351</td>\n",
       "      <td>0.2784</td>\n",
       "      <td>37.0816</td>\n",
       "      <td>13.1853</td>\n",
       "      <td>-2.9632</td>\n",
       "      <td>86.7975</td>\n",
       "      <td>247.4560</td>\n",
       "      <td>h</td>\n",
       "    </tr>\n",
       "    <tr>\n",
       "      <th>19017</th>\n",
       "      <td>19018</td>\n",
       "      <td>19018</td>\n",
       "      <td>75.4455</td>\n",
       "      <td>47.5305</td>\n",
       "      <td>3.4483</td>\n",
       "      <td>0.1417</td>\n",
       "      <td>0.0549</td>\n",
       "      <td>-9.3561</td>\n",
       "      <td>41.0562</td>\n",
       "      <td>-9.4662</td>\n",
       "      <td>30.2987</td>\n",
       "      <td>256.5166</td>\n",
       "      <td>h</td>\n",
       "    </tr>\n",
       "    <tr>\n",
       "      <th>19018</th>\n",
       "      <td>19019</td>\n",
       "      <td>19019</td>\n",
       "      <td>120.5135</td>\n",
       "      <td>76.9018</td>\n",
       "      <td>3.9939</td>\n",
       "      <td>0.0944</td>\n",
       "      <td>0.0683</td>\n",
       "      <td>5.8043</td>\n",
       "      <td>-93.5224</td>\n",
       "      <td>-63.8389</td>\n",
       "      <td>84.6874</td>\n",
       "      <td>408.3166</td>\n",
       "      <td>h</td>\n",
       "    </tr>\n",
       "    <tr>\n",
       "      <th>19019</th>\n",
       "      <td>19020</td>\n",
       "      <td>19020</td>\n",
       "      <td>187.1814</td>\n",
       "      <td>53.0014</td>\n",
       "      <td>3.2093</td>\n",
       "      <td>0.2876</td>\n",
       "      <td>0.1539</td>\n",
       "      <td>-167.3125</td>\n",
       "      <td>-168.4558</td>\n",
       "      <td>31.4755</td>\n",
       "      <td>52.7310</td>\n",
       "      <td>272.3174</td>\n",
       "      <td>h</td>\n",
       "    </tr>\n",
       "  </tbody>\n",
       "</table>\n",
       "</div>"
      ],
      "text/plain": [
       "          id     ID  fLength:  fWidth:  fSize:  fConc:  fConc1:    fAsym:  \\\n",
       "19015  19016  19016   21.3846  10.9170  2.6161  0.5857   0.3934   15.2618   \n",
       "19016  19017  19017   28.9452   6.7020  2.2672  0.5351   0.2784   37.0816   \n",
       "19017  19018  19018   75.4455  47.5305  3.4483  0.1417   0.0549   -9.3561   \n",
       "19018  19019  19019  120.5135  76.9018  3.9939  0.0944   0.0683    5.8043   \n",
       "19019  19020  19020  187.1814  53.0014  3.2093  0.2876   0.1539 -167.3125   \n",
       "\n",
       "       fM3Long:  fM3Trans:  fAlpha:    fDist: class:  \n",
       "19015   11.5245     2.8766   2.4229  106.8258      h  \n",
       "19016   13.1853    -2.9632  86.7975  247.4560      h  \n",
       "19017   41.0562    -9.4662  30.2987  256.5166      h  \n",
       "19018  -93.5224   -63.8389  84.6874  408.3166      h  \n",
       "19019 -168.4558    31.4755  52.7310  272.3174      h  "
      ]
     },
     "execution_count": 5,
     "metadata": {},
     "output_type": "execute_result"
    }
   ],
   "source": [
    "dataframe.tail()"
   ]
  },
  {
   "cell_type": "code",
   "execution_count": 6,
   "id": "d7d07956",
   "metadata": {},
   "outputs": [
    {
     "data": {
      "text/plain": [
       "(19020, 13)"
      ]
     },
     "execution_count": 6,
     "metadata": {},
     "output_type": "execute_result"
    }
   ],
   "source": [
    "dataframe.shape"
   ]
  },
  {
   "cell_type": "code",
   "execution_count": 7,
   "id": "66dc4c17",
   "metadata": {},
   "outputs": [],
   "source": [
    "dataframe['class:'] = dataframe['class:'].map({'g':0, 'h':1})"
   ]
  },
  {
   "cell_type": "code",
   "execution_count": 8,
   "id": "310ae80b",
   "metadata": {},
   "outputs": [
    {
     "data": {
      "text/html": [
       "<div>\n",
       "<style scoped>\n",
       "    .dataframe tbody tr th:only-of-type {\n",
       "        vertical-align: middle;\n",
       "    }\n",
       "\n",
       "    .dataframe tbody tr th {\n",
       "        vertical-align: top;\n",
       "    }\n",
       "\n",
       "    .dataframe thead th {\n",
       "        text-align: right;\n",
       "    }\n",
       "</style>\n",
       "<table border=\"1\" class=\"dataframe\">\n",
       "  <thead>\n",
       "    <tr style=\"text-align: right;\">\n",
       "      <th></th>\n",
       "      <th>id</th>\n",
       "      <th>ID</th>\n",
       "      <th>fLength:</th>\n",
       "      <th>fWidth:</th>\n",
       "      <th>fSize:</th>\n",
       "      <th>fConc:</th>\n",
       "      <th>fConc1:</th>\n",
       "      <th>fAsym:</th>\n",
       "      <th>fM3Long:</th>\n",
       "      <th>fM3Trans:</th>\n",
       "      <th>fAlpha:</th>\n",
       "      <th>fDist:</th>\n",
       "      <th>class:</th>\n",
       "    </tr>\n",
       "  </thead>\n",
       "  <tbody>\n",
       "    <tr>\n",
       "      <th>0</th>\n",
       "      <td>1</td>\n",
       "      <td>1</td>\n",
       "      <td>28.7967</td>\n",
       "      <td>16.0021</td>\n",
       "      <td>2.6449</td>\n",
       "      <td>0.3918</td>\n",
       "      <td>0.1982</td>\n",
       "      <td>27.7004</td>\n",
       "      <td>22.0110</td>\n",
       "      <td>-8.2027</td>\n",
       "      <td>40.0920</td>\n",
       "      <td>81.8828</td>\n",
       "      <td>0</td>\n",
       "    </tr>\n",
       "    <tr>\n",
       "      <th>1</th>\n",
       "      <td>2</td>\n",
       "      <td>2</td>\n",
       "      <td>31.6036</td>\n",
       "      <td>11.7235</td>\n",
       "      <td>2.5185</td>\n",
       "      <td>0.5303</td>\n",
       "      <td>0.3773</td>\n",
       "      <td>26.2722</td>\n",
       "      <td>23.8238</td>\n",
       "      <td>-9.9574</td>\n",
       "      <td>6.3609</td>\n",
       "      <td>205.2610</td>\n",
       "      <td>0</td>\n",
       "    </tr>\n",
       "    <tr>\n",
       "      <th>2</th>\n",
       "      <td>3</td>\n",
       "      <td>3</td>\n",
       "      <td>162.0520</td>\n",
       "      <td>136.0310</td>\n",
       "      <td>4.0612</td>\n",
       "      <td>0.0374</td>\n",
       "      <td>0.0187</td>\n",
       "      <td>116.7410</td>\n",
       "      <td>-64.8580</td>\n",
       "      <td>-45.2160</td>\n",
       "      <td>76.9600</td>\n",
       "      <td>256.7880</td>\n",
       "      <td>0</td>\n",
       "    </tr>\n",
       "    <tr>\n",
       "      <th>3</th>\n",
       "      <td>4</td>\n",
       "      <td>4</td>\n",
       "      <td>23.8172</td>\n",
       "      <td>9.5728</td>\n",
       "      <td>2.3385</td>\n",
       "      <td>0.6147</td>\n",
       "      <td>0.3922</td>\n",
       "      <td>27.2107</td>\n",
       "      <td>-6.4633</td>\n",
       "      <td>-7.1513</td>\n",
       "      <td>10.4490</td>\n",
       "      <td>116.7370</td>\n",
       "      <td>0</td>\n",
       "    </tr>\n",
       "    <tr>\n",
       "      <th>4</th>\n",
       "      <td>5</td>\n",
       "      <td>5</td>\n",
       "      <td>75.1362</td>\n",
       "      <td>30.9205</td>\n",
       "      <td>3.1611</td>\n",
       "      <td>0.3168</td>\n",
       "      <td>0.1832</td>\n",
       "      <td>-5.5277</td>\n",
       "      <td>28.5525</td>\n",
       "      <td>21.8393</td>\n",
       "      <td>4.6480</td>\n",
       "      <td>356.4620</td>\n",
       "      <td>0</td>\n",
       "    </tr>\n",
       "  </tbody>\n",
       "</table>\n",
       "</div>"
      ],
      "text/plain": [
       "   id  ID  fLength:   fWidth:  fSize:  fConc:  fConc1:    fAsym:  fM3Long:  \\\n",
       "0   1   1   28.7967   16.0021  2.6449  0.3918   0.1982   27.7004   22.0110   \n",
       "1   2   2   31.6036   11.7235  2.5185  0.5303   0.3773   26.2722   23.8238   \n",
       "2   3   3  162.0520  136.0310  4.0612  0.0374   0.0187  116.7410  -64.8580   \n",
       "3   4   4   23.8172    9.5728  2.3385  0.6147   0.3922   27.2107   -6.4633   \n",
       "4   5   5   75.1362   30.9205  3.1611  0.3168   0.1832   -5.5277   28.5525   \n",
       "\n",
       "   fM3Trans:  fAlpha:    fDist:  class:  \n",
       "0    -8.2027  40.0920   81.8828       0  \n",
       "1    -9.9574   6.3609  205.2610       0  \n",
       "2   -45.2160  76.9600  256.7880       0  \n",
       "3    -7.1513  10.4490  116.7370       0  \n",
       "4    21.8393   4.6480  356.4620       0  "
      ]
     },
     "execution_count": 8,
     "metadata": {},
     "output_type": "execute_result"
    }
   ],
   "source": [
    "dataframe.head()"
   ]
  },
  {
   "cell_type": "code",
   "execution_count": 9,
   "id": "f7942174",
   "metadata": {},
   "outputs": [],
   "source": [
    "dataframe = dataframe.drop(['id', 'ID'], axis = 1)"
   ]
  },
  {
   "cell_type": "code",
   "execution_count": 10,
   "id": "d1b4466d",
   "metadata": {},
   "outputs": [
    {
     "data": {
      "text/html": [
       "<div>\n",
       "<style scoped>\n",
       "    .dataframe tbody tr th:only-of-type {\n",
       "        vertical-align: middle;\n",
       "    }\n",
       "\n",
       "    .dataframe tbody tr th {\n",
       "        vertical-align: top;\n",
       "    }\n",
       "\n",
       "    .dataframe thead th {\n",
       "        text-align: right;\n",
       "    }\n",
       "</style>\n",
       "<table border=\"1\" class=\"dataframe\">\n",
       "  <thead>\n",
       "    <tr style=\"text-align: right;\">\n",
       "      <th></th>\n",
       "      <th>fLength:</th>\n",
       "      <th>fWidth:</th>\n",
       "      <th>fSize:</th>\n",
       "      <th>fConc:</th>\n",
       "      <th>fConc1:</th>\n",
       "      <th>fAsym:</th>\n",
       "      <th>fM3Long:</th>\n",
       "      <th>fM3Trans:</th>\n",
       "      <th>fAlpha:</th>\n",
       "      <th>fDist:</th>\n",
       "      <th>class:</th>\n",
       "    </tr>\n",
       "  </thead>\n",
       "  <tbody>\n",
       "    <tr>\n",
       "      <th>0</th>\n",
       "      <td>28.7967</td>\n",
       "      <td>16.0021</td>\n",
       "      <td>2.6449</td>\n",
       "      <td>0.3918</td>\n",
       "      <td>0.1982</td>\n",
       "      <td>27.7004</td>\n",
       "      <td>22.0110</td>\n",
       "      <td>-8.2027</td>\n",
       "      <td>40.0920</td>\n",
       "      <td>81.8828</td>\n",
       "      <td>0</td>\n",
       "    </tr>\n",
       "    <tr>\n",
       "      <th>1</th>\n",
       "      <td>31.6036</td>\n",
       "      <td>11.7235</td>\n",
       "      <td>2.5185</td>\n",
       "      <td>0.5303</td>\n",
       "      <td>0.3773</td>\n",
       "      <td>26.2722</td>\n",
       "      <td>23.8238</td>\n",
       "      <td>-9.9574</td>\n",
       "      <td>6.3609</td>\n",
       "      <td>205.2610</td>\n",
       "      <td>0</td>\n",
       "    </tr>\n",
       "    <tr>\n",
       "      <th>2</th>\n",
       "      <td>162.0520</td>\n",
       "      <td>136.0310</td>\n",
       "      <td>4.0612</td>\n",
       "      <td>0.0374</td>\n",
       "      <td>0.0187</td>\n",
       "      <td>116.7410</td>\n",
       "      <td>-64.8580</td>\n",
       "      <td>-45.2160</td>\n",
       "      <td>76.9600</td>\n",
       "      <td>256.7880</td>\n",
       "      <td>0</td>\n",
       "    </tr>\n",
       "    <tr>\n",
       "      <th>3</th>\n",
       "      <td>23.8172</td>\n",
       "      <td>9.5728</td>\n",
       "      <td>2.3385</td>\n",
       "      <td>0.6147</td>\n",
       "      <td>0.3922</td>\n",
       "      <td>27.2107</td>\n",
       "      <td>-6.4633</td>\n",
       "      <td>-7.1513</td>\n",
       "      <td>10.4490</td>\n",
       "      <td>116.7370</td>\n",
       "      <td>0</td>\n",
       "    </tr>\n",
       "    <tr>\n",
       "      <th>4</th>\n",
       "      <td>75.1362</td>\n",
       "      <td>30.9205</td>\n",
       "      <td>3.1611</td>\n",
       "      <td>0.3168</td>\n",
       "      <td>0.1832</td>\n",
       "      <td>-5.5277</td>\n",
       "      <td>28.5525</td>\n",
       "      <td>21.8393</td>\n",
       "      <td>4.6480</td>\n",
       "      <td>356.4620</td>\n",
       "      <td>0</td>\n",
       "    </tr>\n",
       "  </tbody>\n",
       "</table>\n",
       "</div>"
      ],
      "text/plain": [
       "   fLength:   fWidth:  fSize:  fConc:  fConc1:    fAsym:  fM3Long:  fM3Trans:  \\\n",
       "0   28.7967   16.0021  2.6449  0.3918   0.1982   27.7004   22.0110    -8.2027   \n",
       "1   31.6036   11.7235  2.5185  0.5303   0.3773   26.2722   23.8238    -9.9574   \n",
       "2  162.0520  136.0310  4.0612  0.0374   0.0187  116.7410  -64.8580   -45.2160   \n",
       "3   23.8172    9.5728  2.3385  0.6147   0.3922   27.2107   -6.4633    -7.1513   \n",
       "4   75.1362   30.9205  3.1611  0.3168   0.1832   -5.5277   28.5525    21.8393   \n",
       "\n",
       "   fAlpha:    fDist:  class:  \n",
       "0  40.0920   81.8828       0  \n",
       "1   6.3609  205.2610       0  \n",
       "2  76.9600  256.7880       0  \n",
       "3  10.4490  116.7370       0  \n",
       "4   4.6480  356.4620       0  "
      ]
     },
     "execution_count": 10,
     "metadata": {},
     "output_type": "execute_result"
    }
   ],
   "source": [
    "dataframe.head()"
   ]
  },
  {
   "cell_type": "code",
   "execution_count": 11,
   "id": "80955565",
   "metadata": {},
   "outputs": [
    {
     "name": "stdout",
     "output_type": "stream",
     "text": [
      "<class 'pandas.core.frame.DataFrame'>\n",
      "RangeIndex: 19020 entries, 0 to 19019\n",
      "Data columns (total 11 columns):\n",
      " #   Column     Non-Null Count  Dtype  \n",
      "---  ------     --------------  -----  \n",
      " 0   fLength:   19020 non-null  float64\n",
      " 1   fWidth:    19020 non-null  float64\n",
      " 2   fSize:     19020 non-null  float64\n",
      " 3   fConc:     19020 non-null  float64\n",
      " 4   fConc1:    19020 non-null  float64\n",
      " 5   fAsym:     19020 non-null  float64\n",
      " 6   fM3Long:   19020 non-null  float64\n",
      " 7   fM3Trans:  19020 non-null  float64\n",
      " 8   fAlpha:    19020 non-null  float64\n",
      " 9   fDist:     19020 non-null  float64\n",
      " 10  class:     19020 non-null  int64  \n",
      "dtypes: float64(10), int64(1)\n",
      "memory usage: 1.6 MB\n"
     ]
    }
   ],
   "source": [
    "dataframe.info()"
   ]
  },
  {
   "cell_type": "markdown",
   "id": "45fe40f9",
   "metadata": {},
   "source": [
    "# Checking Null Values"
   ]
  },
  {
   "cell_type": "code",
   "execution_count": 12,
   "id": "3e7c3940",
   "metadata": {},
   "outputs": [
    {
     "data": {
      "text/plain": [
       "fLength:     False\n",
       "fWidth:      False\n",
       "fSize:       False\n",
       "fConc:       False\n",
       "fConc1:      False\n",
       "fAsym:       False\n",
       "fM3Long:     False\n",
       "fM3Trans:    False\n",
       "fAlpha:      False\n",
       "fDist:       False\n",
       "class:       False\n",
       "dtype: bool"
      ]
     },
     "execution_count": 12,
     "metadata": {},
     "output_type": "execute_result"
    }
   ],
   "source": [
    "dataframe.isna().any()"
   ]
  },
  {
   "cell_type": "code",
   "execution_count": 13,
   "id": "e31df3fe",
   "metadata": {},
   "outputs": [
    {
     "data": {
      "text/plain": [
       "0    12332\n",
       "1     6688\n",
       "Name: class:, dtype: int64"
      ]
     },
     "execution_count": 13,
     "metadata": {},
     "output_type": "execute_result"
    }
   ],
   "source": [
    "dataframe['class:'].value_counts()"
   ]
  },
  {
   "cell_type": "code",
   "execution_count": 14,
   "id": "9a58f139",
   "metadata": {},
   "outputs": [
    {
     "data": {
      "text/plain": [
       "<AxesSubplot:>"
      ]
     },
     "execution_count": 14,
     "metadata": {},
     "output_type": "execute_result"
    },
    {
     "data": {
      "image/png": "[encoded data removed]",
      "text/plain": [
       "<Figure size 720x288 with 1 Axes>"
      ]
     },
     "metadata": {
      "needs_background": "light"
     },
     "output_type": "display_data"
    }
   ],
   "source": [
    "dataframe['class:'].value_counts().plot(kind = 'bar', \n",
    "                                        figsize = (10, 4), \n",
    "                                        cmap = 'coolwarm')"
   ]
  },
  {
   "cell_type": "markdown",
   "id": "2f3314b1",
   "metadata": {},
   "source": [
    "# Statical Info"
   ]
  },
  {
   "cell_type": "markdown",
   "id": "a274e2be",
   "metadata": {},
   "source": [
    "Statistical information refers to numerical data or metrics that describe various aspects of a dataset or population. These statistics provide quantitative measures of central tendency, dispersion, relationships, and other properties of the data"
   ]
  },
  {
   "cell_type": "code",
   "execution_count": 15,
   "id": "a2d69954",
   "metadata": {},
   "outputs": [
    {
     "data": {
      "text/html": [
       "<div>\n",
       "<style scoped>\n",
       "    .dataframe tbody tr th:only-of-type {\n",
       "        vertical-align: middle;\n",
       "    }\n",
       "\n",
       "    .dataframe tbody tr th {\n",
       "        vertical-align: top;\n",
       "    }\n",
       "\n",
       "    .dataframe thead th {\n",
       "        text-align: right;\n",
       "    }\n",
       "</style>\n",
       "<table border=\"1\" class=\"dataframe\">\n",
       "  <thead>\n",
       "    <tr style=\"text-align: right;\">\n",
       "      <th></th>\n",
       "      <th>fLength:</th>\n",
       "      <th>fWidth:</th>\n",
       "      <th>fSize:</th>\n",
       "      <th>fConc:</th>\n",
       "      <th>fConc1:</th>\n",
       "      <th>fAsym:</th>\n",
       "      <th>fM3Long:</th>\n",
       "      <th>fM3Trans:</th>\n",
       "      <th>fAlpha:</th>\n",
       "      <th>fDist:</th>\n",
       "      <th>class:</th>\n",
       "    </tr>\n",
       "  </thead>\n",
       "  <tbody>\n",
       "    <tr>\n",
       "      <th>count</th>\n",
       "      <td>19020.000000</td>\n",
       "      <td>19020.000000</td>\n",
       "      <td>19020.000000</td>\n",
       "      <td>19020.000000</td>\n",
       "      <td>19020.000000</td>\n",
       "      <td>19020.000000</td>\n",
       "      <td>19020.000000</td>\n",
       "      <td>19020.000000</td>\n",
       "      <td>19020.000000</td>\n",
       "      <td>19020.000000</td>\n",
       "      <td>19020.000000</td>\n",
       "    </tr>\n",
       "    <tr>\n",
       "      <th>mean</th>\n",
       "      <td>53.250154</td>\n",
       "      <td>22.180966</td>\n",
       "      <td>2.825017</td>\n",
       "      <td>0.380327</td>\n",
       "      <td>0.214657</td>\n",
       "      <td>-4.331745</td>\n",
       "      <td>10.545545</td>\n",
       "      <td>0.249726</td>\n",
       "      <td>27.645707</td>\n",
       "      <td>193.818026</td>\n",
       "      <td>0.351630</td>\n",
       "    </tr>\n",
       "    <tr>\n",
       "      <th>std</th>\n",
       "      <td>42.364855</td>\n",
       "      <td>18.346056</td>\n",
       "      <td>0.472599</td>\n",
       "      <td>0.182813</td>\n",
       "      <td>0.110511</td>\n",
       "      <td>59.206062</td>\n",
       "      <td>51.000118</td>\n",
       "      <td>20.827439</td>\n",
       "      <td>26.103621</td>\n",
       "      <td>74.731787</td>\n",
       "      <td>0.477492</td>\n",
       "    </tr>\n",
       "    <tr>\n",
       "      <th>min</th>\n",
       "      <td>4.283500</td>\n",
       "      <td>0.000000</td>\n",
       "      <td>1.941300</td>\n",
       "      <td>0.013100</td>\n",
       "      <td>0.000300</td>\n",
       "      <td>-457.916100</td>\n",
       "      <td>-331.780000</td>\n",
       "      <td>-205.894700</td>\n",
       "      <td>0.000000</td>\n",
       "      <td>1.282600</td>\n",
       "      <td>0.000000</td>\n",
       "    </tr>\n",
       "    <tr>\n",
       "      <th>25%</th>\n",
       "      <td>24.336000</td>\n",
       "      <td>11.863800</td>\n",
       "      <td>2.477100</td>\n",
       "      <td>0.235800</td>\n",
       "      <td>0.128475</td>\n",
       "      <td>-20.586550</td>\n",
       "      <td>-12.842775</td>\n",
       "      <td>-10.849375</td>\n",
       "      <td>5.547925</td>\n",
       "      <td>142.492250</td>\n",
       "      <td>0.000000</td>\n",
       "    </tr>\n",
       "    <tr>\n",
       "      <th>50%</th>\n",
       "      <td>37.147700</td>\n",
       "      <td>17.139900</td>\n",
       "      <td>2.739600</td>\n",
       "      <td>0.354150</td>\n",
       "      <td>0.196500</td>\n",
       "      <td>4.013050</td>\n",
       "      <td>15.314100</td>\n",
       "      <td>0.666200</td>\n",
       "      <td>17.679500</td>\n",
       "      <td>191.851450</td>\n",
       "      <td>0.000000</td>\n",
       "    </tr>\n",
       "    <tr>\n",
       "      <th>75%</th>\n",
       "      <td>70.122175</td>\n",
       "      <td>24.739475</td>\n",
       "      <td>3.101600</td>\n",
       "      <td>0.503700</td>\n",
       "      <td>0.285225</td>\n",
       "      <td>24.063700</td>\n",
       "      <td>35.837800</td>\n",
       "      <td>10.946425</td>\n",
       "      <td>45.883550</td>\n",
       "      <td>240.563825</td>\n",
       "      <td>1.000000</td>\n",
       "    </tr>\n",
       "    <tr>\n",
       "      <th>max</th>\n",
       "      <td>334.177000</td>\n",
       "      <td>256.382000</td>\n",
       "      <td>5.323300</td>\n",
       "      <td>0.893000</td>\n",
       "      <td>0.675200</td>\n",
       "      <td>575.240700</td>\n",
       "      <td>238.321000</td>\n",
       "      <td>179.851000</td>\n",
       "      <td>90.000000</td>\n",
       "      <td>495.561000</td>\n",
       "      <td>1.000000</td>\n",
       "    </tr>\n",
       "  </tbody>\n",
       "</table>\n",
       "</div>"
      ],
      "text/plain": [
       "           fLength:       fWidth:        fSize:        fConc:       fConc1:  \\\n",
       "count  19020.000000  19020.000000  19020.000000  19020.000000  19020.000000   \n",
       "mean      53.250154     22.180966      2.825017      0.380327      0.214657   \n",
       "std       42.364855     18.346056      0.472599      0.182813      0.110511   \n",
       "min        4.283500      0.000000      1.941300      0.013100      0.000300   \n",
       "25%       24.336000     11.863800      2.477100      0.235800      0.128475   \n",
       "50%       37.147700     17.139900      2.739600      0.354150      0.196500   \n",
       "75%       70.122175     24.739475      3.101600      0.503700      0.285225   \n",
       "max      334.177000    256.382000      5.323300      0.893000      0.675200   \n",
       "\n",
       "             fAsym:      fM3Long:     fM3Trans:       fAlpha:        fDist:  \\\n",
       "count  19020.000000  19020.000000  19020.000000  19020.000000  19020.000000   \n",
       "mean      -4.331745     10.545545      0.249726     27.645707    193.818026   \n",
       "std       59.206062     51.000118     20.827439     26.103621     74.731787   \n",
       "min     -457.916100   -331.780000   -205.894700      0.000000      1.282600   \n",
       "25%      -20.586550    -12.842775    -10.849375      5.547925    142.492250   \n",
       "50%        4.013050     15.314100      0.666200     17.679500    191.851450   \n",
       "75%       24.063700     35.837800     10.946425     45.883550    240.563825   \n",
       "max      575.240700    238.321000    179.851000     90.000000    495.561000   \n",
       "\n",
       "             class:  \n",
       "count  19020.000000  \n",
       "mean       0.351630  \n",
       "std        0.477492  \n",
       "min        0.000000  \n",
       "25%        0.000000  \n",
       "50%        0.000000  \n",
       "75%        1.000000  \n",
       "max        1.000000  "
      ]
     },
     "execution_count": 15,
     "metadata": {},
     "output_type": "execute_result"
    }
   ],
   "source": [
    "dataframe.describe()"
   ]
  },
  {
   "cell_type": "markdown",
   "id": "4b96e021",
   "metadata": {},
   "source": [
    "# Correlation Matrix"
   ]
  },
  {
   "cell_type": "markdown",
   "id": "5339a452",
   "metadata": {},
   "source": [
    "A correlation matrix is a table that shows the pairwise correlations between variables in a dataset. Each cell in the table represents the correlation between two variables, and the strength and direction of the correlation is indicated by the color and magnitude of the cell.\n",
    "\n",
    "Correlation matrices are commonly used in data analysis to identify relationships between variables and to help understand the structure of the data. The values in the correlation matrix range from -1 to 1, with -1 indicating a perfect negative correlation, 1 indicating a perfect positive correlation, and 0 indicating no correlation."
   ]
  },
  {
   "cell_type": "code",
   "execution_count": 16,
   "id": "c966bb6b",
   "metadata": {},
   "outputs": [],
   "source": [
    "corr_matrix = dataframe.corr()"
   ]
  },
  {
   "cell_type": "code",
   "execution_count": 17,
   "id": "22a27f99",
   "metadata": {},
   "outputs": [
    {
     "data": {
      "text/html": [
       "<div>\n",
       "<style scoped>\n",
       "    .dataframe tbody tr th:only-of-type {\n",
       "        vertical-align: middle;\n",
       "    }\n",
       "\n",
       "    .dataframe tbody tr th {\n",
       "        vertical-align: top;\n",
       "    }\n",
       "\n",
       "    .dataframe thead th {\n",
       "        text-align: right;\n",
       "    }\n",
       "</style>\n",
       "<table border=\"1\" class=\"dataframe\">\n",
       "  <thead>\n",
       "    <tr style=\"text-align: right;\">\n",
       "      <th></th>\n",
       "      <th>fLength:</th>\n",
       "      <th>fWidth:</th>\n",
       "      <th>fSize:</th>\n",
       "      <th>fConc:</th>\n",
       "      <th>fConc1:</th>\n",
       "      <th>fAsym:</th>\n",
       "      <th>fM3Long:</th>\n",
       "      <th>fM3Trans:</th>\n",
       "      <th>fAlpha:</th>\n",
       "      <th>fDist:</th>\n",
       "      <th>class:</th>\n",
       "    </tr>\n",
       "  </thead>\n",
       "  <tbody>\n",
       "    <tr>\n",
       "      <th>fLength:</th>\n",
       "      <td>1.000000</td>\n",
       "      <td>0.770512</td>\n",
       "      <td>0.702454</td>\n",
       "      <td>-0.630999</td>\n",
       "      <td>-0.598145</td>\n",
       "      <td>-0.368556</td>\n",
       "      <td>-0.119747</td>\n",
       "      <td>0.013389</td>\n",
       "      <td>-0.008777</td>\n",
       "      <td>0.418466</td>\n",
       "      <td>0.307572</td>\n",
       "    </tr>\n",
       "    <tr>\n",
       "      <th>fWidth:</th>\n",
       "      <td>0.770512</td>\n",
       "      <td>1.000000</td>\n",
       "      <td>0.717517</td>\n",
       "      <td>-0.609779</td>\n",
       "      <td>-0.581141</td>\n",
       "      <td>-0.266961</td>\n",
       "      <td>-0.176234</td>\n",
       "      <td>0.039744</td>\n",
       "      <td>0.066061</td>\n",
       "      <td>0.336816</td>\n",
       "      <td>0.265596</td>\n",
       "    </tr>\n",
       "    <tr>\n",
       "      <th>fSize:</th>\n",
       "      <td>0.702454</td>\n",
       "      <td>0.717517</td>\n",
       "      <td>1.000000</td>\n",
       "      <td>-0.850850</td>\n",
       "      <td>-0.808835</td>\n",
       "      <td>-0.159863</td>\n",
       "      <td>0.095157</td>\n",
       "      <td>0.015455</td>\n",
       "      <td>-0.186675</td>\n",
       "      <td>0.437041</td>\n",
       "      <td>0.117795</td>\n",
       "    </tr>\n",
       "    <tr>\n",
       "      <th>fConc:</th>\n",
       "      <td>-0.630999</td>\n",
       "      <td>-0.609779</td>\n",
       "      <td>-0.850850</td>\n",
       "      <td>1.000000</td>\n",
       "      <td>0.976412</td>\n",
       "      <td>0.112272</td>\n",
       "      <td>-0.121899</td>\n",
       "      <td>-0.011294</td>\n",
       "      <td>0.235272</td>\n",
       "      <td>-0.328332</td>\n",
       "      <td>-0.024615</td>\n",
       "    </tr>\n",
       "    <tr>\n",
       "      <th>fConc1:</th>\n",
       "      <td>-0.598145</td>\n",
       "      <td>-0.581141</td>\n",
       "      <td>-0.808835</td>\n",
       "      <td>0.976412</td>\n",
       "      <td>1.000000</td>\n",
       "      <td>0.100159</td>\n",
       "      <td>-0.118769</td>\n",
       "      <td>-0.010966</td>\n",
       "      <td>0.229799</td>\n",
       "      <td>-0.304625</td>\n",
       "      <td>-0.004797</td>\n",
       "    </tr>\n",
       "    <tr>\n",
       "      <th>fAsym:</th>\n",
       "      <td>-0.368556</td>\n",
       "      <td>-0.266961</td>\n",
       "      <td>-0.159863</td>\n",
       "      <td>0.112272</td>\n",
       "      <td>0.100159</td>\n",
       "      <td>1.000000</td>\n",
       "      <td>0.274045</td>\n",
       "      <td>0.002553</td>\n",
       "      <td>-0.055689</td>\n",
       "      <td>-0.206730</td>\n",
       "      <td>-0.173587</td>\n",
       "    </tr>\n",
       "    <tr>\n",
       "      <th>fM3Long:</th>\n",
       "      <td>-0.119747</td>\n",
       "      <td>-0.176234</td>\n",
       "      <td>0.095157</td>\n",
       "      <td>-0.121899</td>\n",
       "      <td>-0.118769</td>\n",
       "      <td>0.274045</td>\n",
       "      <td>1.000000</td>\n",
       "      <td>-0.017197</td>\n",
       "      <td>-0.186275</td>\n",
       "      <td>0.037025</td>\n",
       "      <td>-0.193409</td>\n",
       "    </tr>\n",
       "    <tr>\n",
       "      <th>fM3Trans:</th>\n",
       "      <td>0.013389</td>\n",
       "      <td>0.039744</td>\n",
       "      <td>0.015455</td>\n",
       "      <td>-0.011294</td>\n",
       "      <td>-0.010966</td>\n",
       "      <td>0.002553</td>\n",
       "      <td>-0.017197</td>\n",
       "      <td>1.000000</td>\n",
       "      <td>0.004659</td>\n",
       "      <td>0.011427</td>\n",
       "      <td>0.003837</td>\n",
       "    </tr>\n",
       "    <tr>\n",
       "      <th>fAlpha:</th>\n",
       "      <td>-0.008777</td>\n",
       "      <td>0.066061</td>\n",
       "      <td>-0.186675</td>\n",
       "      <td>0.235272</td>\n",
       "      <td>0.229799</td>\n",
       "      <td>-0.055689</td>\n",
       "      <td>-0.186275</td>\n",
       "      <td>0.004659</td>\n",
       "      <td>1.000000</td>\n",
       "      <td>-0.220556</td>\n",
       "      <td>0.460979</td>\n",
       "    </tr>\n",
       "    <tr>\n",
       "      <th>fDist:</th>\n",
       "      <td>0.418466</td>\n",
       "      <td>0.336816</td>\n",
       "      <td>0.437041</td>\n",
       "      <td>-0.328332</td>\n",
       "      <td>-0.304625</td>\n",
       "      <td>-0.206730</td>\n",
       "      <td>0.037025</td>\n",
       "      <td>0.011427</td>\n",
       "      <td>-0.220556</td>\n",
       "      <td>1.000000</td>\n",
       "      <td>0.065203</td>\n",
       "    </tr>\n",
       "    <tr>\n",
       "      <th>class:</th>\n",
       "      <td>0.307572</td>\n",
       "      <td>0.265596</td>\n",
       "      <td>0.117795</td>\n",
       "      <td>-0.024615</td>\n",
       "      <td>-0.004797</td>\n",
       "      <td>-0.173587</td>\n",
       "      <td>-0.193409</td>\n",
       "      <td>0.003837</td>\n",
       "      <td>0.460979</td>\n",
       "      <td>0.065203</td>\n",
       "      <td>1.000000</td>\n",
       "    </tr>\n",
       "  </tbody>\n",
       "</table>\n",
       "</div>"
      ],
      "text/plain": [
       "           fLength:   fWidth:    fSize:    fConc:   fConc1:    fAsym:  \\\n",
       "fLength:   1.000000  0.770512  0.702454 -0.630999 -0.598145 -0.368556   \n",
       "fWidth:    0.770512  1.000000  0.717517 -0.609779 -0.581141 -0.266961   \n",
       "fSize:     0.702454  0.717517  1.000000 -0.850850 -0.808835 -0.159863   \n",
       "fConc:    -0.630999 -0.609779 -0.850850  1.000000  0.976412  0.112272   \n",
       "fConc1:   -0.598145 -0.581141 -0.808835  0.976412  1.000000  0.100159   \n",
       "fAsym:    -0.368556 -0.266961 -0.159863  0.112272  0.100159  1.000000   \n",
       "fM3Long:  -0.119747 -0.176234  0.095157 -0.121899 -0.118769  0.274045   \n",
       "fM3Trans:  0.013389  0.039744  0.015455 -0.011294 -0.010966  0.002553   \n",
       "fAlpha:   -0.008777  0.066061 -0.186675  0.235272  0.229799 -0.055689   \n",
       "fDist:     0.418466  0.336816  0.437041 -0.328332 -0.304625 -0.206730   \n",
       "class:     0.307572  0.265596  0.117795 -0.024615 -0.004797 -0.173587   \n",
       "\n",
       "           fM3Long:  fM3Trans:   fAlpha:    fDist:    class:  \n",
       "fLength:  -0.119747   0.013389 -0.008777  0.418466  0.307572  \n",
       "fWidth:   -0.176234   0.039744  0.066061  0.336816  0.265596  \n",
       "fSize:     0.095157   0.015455 -0.186675  0.437041  0.117795  \n",
       "fConc:    -0.121899  -0.011294  0.235272 -0.328332 -0.024615  \n",
       "fConc1:   -0.118769  -0.010966  0.229799 -0.304625 -0.004797  \n",
       "fAsym:     0.274045   0.002553 -0.055689 -0.206730 -0.173587  \n",
       "fM3Long:   1.000000  -0.017197 -0.186275  0.037025 -0.193409  \n",
       "fM3Trans: -0.017197   1.000000  0.004659  0.011427  0.003837  \n",
       "fAlpha:   -0.186275   0.004659  1.000000 -0.220556  0.460979  \n",
       "fDist:     0.037025   0.011427 -0.220556  1.000000  0.065203  \n",
       "class:    -0.193409   0.003837  0.460979  0.065203  1.000000  "
      ]
     },
     "execution_count": 17,
     "metadata": {},
     "output_type": "execute_result"
    }
   ],
   "source": [
    "corr_matrix"
   ]
  },
  {
   "cell_type": "code",
   "execution_count": 18,
   "id": "044fbe43",
   "metadata": {},
   "outputs": [
    {
     "data": {
      "text/plain": [
       "<AxesSubplot:>"
      ]
     },
     "execution_count": 18,
     "metadata": {},
     "output_type": "execute_result"
    },
    {
     "data": {
      "image/png": "[encoded data removed]",
      "text/plain": [
       "<Figure size 864x432 with 2 Axes>"
      ]
     },
     "metadata": {
      "needs_background": "light"
     },
     "output_type": "display_data"
    }
   ],
   "source": [
    "plt.figure(figsize = (12, 6))\n",
    "sns.heatmap(corr_matrix, \n",
    "            annot = True, \n",
    "            cmap = 'inferno')"
   ]
  },
  {
   "cell_type": "code",
   "execution_count": 19,
   "id": "e522f453",
   "metadata": {},
   "outputs": [
    {
     "data": {
      "text/plain": [
       "Index(['fLength:', 'fWidth:', 'fSize:', 'fConc:', 'fConc1:', 'fAsym:',\n",
       "       'fM3Long:', 'fM3Trans:', 'fAlpha:', 'fDist:', 'class:'],\n",
       "      dtype='object')"
      ]
     },
     "execution_count": 19,
     "metadata": {},
     "output_type": "execute_result"
    }
   ],
   "source": [
    "dataframe.columns"
   ]
  },
  {
   "cell_type": "markdown",
   "id": "3efcab8d",
   "metadata": {},
   "source": [
    "# Correlation Diagram for Ray Class"
   ]
  },
  {
   "cell_type": "markdown",
   "id": "0845fc06",
   "metadata": {},
   "source": [
    "A correlation diagram, also known as a correlation matrix or correlation heatmap, is a graphical representation that displays the correlation coefficients between variables in a dataset. It provides a visual summary of the relationships between pairs of variables, allowing you to quickly identify patterns and dependencies."
   ]
  },
  {
   "cell_type": "code",
   "execution_count": 20,
   "id": "60dd79f2",
   "metadata": {},
   "outputs": [],
   "source": [
    "dataset = dataframe.drop('class:', axis = 1)"
   ]
  },
  {
   "cell_type": "code",
   "execution_count": 21,
   "id": "2c090a2e",
   "metadata": {},
   "outputs": [
    {
     "data": {
      "text/html": [
       "<div>\n",
       "<style scoped>\n",
       "    .dataframe tbody tr th:only-of-type {\n",
       "        vertical-align: middle;\n",
       "    }\n",
       "\n",
       "    .dataframe tbody tr th {\n",
       "        vertical-align: top;\n",
       "    }\n",
       "\n",
       "    .dataframe thead th {\n",
       "        text-align: right;\n",
       "    }\n",
       "</style>\n",
       "<table border=\"1\" class=\"dataframe\">\n",
       "  <thead>\n",
       "    <tr style=\"text-align: right;\">\n",
       "      <th></th>\n",
       "      <th>fLength:</th>\n",
       "      <th>fWidth:</th>\n",
       "      <th>fSize:</th>\n",
       "      <th>fConc:</th>\n",
       "      <th>fConc1:</th>\n",
       "      <th>fAsym:</th>\n",
       "      <th>fM3Long:</th>\n",
       "      <th>fM3Trans:</th>\n",
       "      <th>fAlpha:</th>\n",
       "      <th>fDist:</th>\n",
       "    </tr>\n",
       "  </thead>\n",
       "  <tbody>\n",
       "    <tr>\n",
       "      <th>0</th>\n",
       "      <td>28.7967</td>\n",
       "      <td>16.0021</td>\n",
       "      <td>2.6449</td>\n",
       "      <td>0.3918</td>\n",
       "      <td>0.1982</td>\n",
       "      <td>27.7004</td>\n",
       "      <td>22.0110</td>\n",
       "      <td>-8.2027</td>\n",
       "      <td>40.0920</td>\n",
       "      <td>81.8828</td>\n",
       "    </tr>\n",
       "    <tr>\n",
       "      <th>1</th>\n",
       "      <td>31.6036</td>\n",
       "      <td>11.7235</td>\n",
       "      <td>2.5185</td>\n",
       "      <td>0.5303</td>\n",
       "      <td>0.3773</td>\n",
       "      <td>26.2722</td>\n",
       "      <td>23.8238</td>\n",
       "      <td>-9.9574</td>\n",
       "      <td>6.3609</td>\n",
       "      <td>205.2610</td>\n",
       "    </tr>\n",
       "    <tr>\n",
       "      <th>2</th>\n",
       "      <td>162.0520</td>\n",
       "      <td>136.0310</td>\n",
       "      <td>4.0612</td>\n",
       "      <td>0.0374</td>\n",
       "      <td>0.0187</td>\n",
       "      <td>116.7410</td>\n",
       "      <td>-64.8580</td>\n",
       "      <td>-45.2160</td>\n",
       "      <td>76.9600</td>\n",
       "      <td>256.7880</td>\n",
       "    </tr>\n",
       "    <tr>\n",
       "      <th>3</th>\n",
       "      <td>23.8172</td>\n",
       "      <td>9.5728</td>\n",
       "      <td>2.3385</td>\n",
       "      <td>0.6147</td>\n",
       "      <td>0.3922</td>\n",
       "      <td>27.2107</td>\n",
       "      <td>-6.4633</td>\n",
       "      <td>-7.1513</td>\n",
       "      <td>10.4490</td>\n",
       "      <td>116.7370</td>\n",
       "    </tr>\n",
       "    <tr>\n",
       "      <th>4</th>\n",
       "      <td>75.1362</td>\n",
       "      <td>30.9205</td>\n",
       "      <td>3.1611</td>\n",
       "      <td>0.3168</td>\n",
       "      <td>0.1832</td>\n",
       "      <td>-5.5277</td>\n",
       "      <td>28.5525</td>\n",
       "      <td>21.8393</td>\n",
       "      <td>4.6480</td>\n",
       "      <td>356.4620</td>\n",
       "    </tr>\n",
       "  </tbody>\n",
       "</table>\n",
       "</div>"
      ],
      "text/plain": [
       "   fLength:   fWidth:  fSize:  fConc:  fConc1:    fAsym:  fM3Long:  fM3Trans:  \\\n",
       "0   28.7967   16.0021  2.6449  0.3918   0.1982   27.7004   22.0110    -8.2027   \n",
       "1   31.6036   11.7235  2.5185  0.5303   0.3773   26.2722   23.8238    -9.9574   \n",
       "2  162.0520  136.0310  4.0612  0.0374   0.0187  116.7410  -64.8580   -45.2160   \n",
       "3   23.8172    9.5728  2.3385  0.6147   0.3922   27.2107   -6.4633    -7.1513   \n",
       "4   75.1362   30.9205  3.1611  0.3168   0.1832   -5.5277   28.5525    21.8393   \n",
       "\n",
       "   fAlpha:    fDist:  \n",
       "0  40.0920   81.8828  \n",
       "1   6.3609  205.2610  \n",
       "2  76.9600  256.7880  \n",
       "3  10.4490  116.7370  \n",
       "4   4.6480  356.4620  "
      ]
     },
     "execution_count": 21,
     "metadata": {},
     "output_type": "execute_result"
    }
   ],
   "source": [
    "dataset.head()"
   ]
  },
  {
   "cell_type": "code",
   "execution_count": 22,
   "id": "20e22a52",
   "metadata": {},
   "outputs": [
    {
     "data": {
      "text/plain": [
       "<AxesSubplot:title={'center':'Correlation with Glass type'}>"
      ]
     },
     "execution_count": 22,
     "metadata": {},
     "output_type": "execute_result"
    },
    {
     "data": {
      "image/png": "[encoded data removed]",
      "text/plain": [
       "<Figure size 864x360 with 1 Axes>"
      ]
     },
     "metadata": {
      "needs_background": "light"
     },
     "output_type": "display_data"
    }
   ],
   "source": [
    "dataset.corrwith(dataframe['class:']).plot.bar(\n",
    "    figsize = (12, 5), \n",
    "    title = 'Correlation with Glass type',\n",
    "    cmap = 'ocean'\n",
    ")"
   ]
  },
  {
   "cell_type": "code",
   "execution_count": 23,
   "id": "3b8f71a0",
   "metadata": {},
   "outputs": [
    {
     "data": {
      "text/html": [
       "<div>\n",
       "<style scoped>\n",
       "    .dataframe tbody tr th:only-of-type {\n",
       "        vertical-align: middle;\n",
       "    }\n",
       "\n",
       "    .dataframe tbody tr th {\n",
       "        vertical-align: top;\n",
       "    }\n",
       "\n",
       "    .dataframe thead th {\n",
       "        text-align: right;\n",
       "    }\n",
       "</style>\n",
       "<table border=\"1\" class=\"dataframe\">\n",
       "  <thead>\n",
       "    <tr style=\"text-align: right;\">\n",
       "      <th></th>\n",
       "      <th>fLength:</th>\n",
       "      <th>fWidth:</th>\n",
       "      <th>fSize:</th>\n",
       "      <th>fConc:</th>\n",
       "      <th>fConc1:</th>\n",
       "      <th>fAsym:</th>\n",
       "      <th>fM3Long:</th>\n",
       "      <th>fM3Trans:</th>\n",
       "      <th>fAlpha:</th>\n",
       "      <th>fDist:</th>\n",
       "      <th>class:</th>\n",
       "    </tr>\n",
       "  </thead>\n",
       "  <tbody>\n",
       "    <tr>\n",
       "      <th>0</th>\n",
       "      <td>28.7967</td>\n",
       "      <td>16.0021</td>\n",
       "      <td>2.6449</td>\n",
       "      <td>0.3918</td>\n",
       "      <td>0.1982</td>\n",
       "      <td>27.7004</td>\n",
       "      <td>22.0110</td>\n",
       "      <td>-8.2027</td>\n",
       "      <td>40.0920</td>\n",
       "      <td>81.8828</td>\n",
       "      <td>0</td>\n",
       "    </tr>\n",
       "    <tr>\n",
       "      <th>1</th>\n",
       "      <td>31.6036</td>\n",
       "      <td>11.7235</td>\n",
       "      <td>2.5185</td>\n",
       "      <td>0.5303</td>\n",
       "      <td>0.3773</td>\n",
       "      <td>26.2722</td>\n",
       "      <td>23.8238</td>\n",
       "      <td>-9.9574</td>\n",
       "      <td>6.3609</td>\n",
       "      <td>205.2610</td>\n",
       "      <td>0</td>\n",
       "    </tr>\n",
       "    <tr>\n",
       "      <th>2</th>\n",
       "      <td>162.0520</td>\n",
       "      <td>136.0310</td>\n",
       "      <td>4.0612</td>\n",
       "      <td>0.0374</td>\n",
       "      <td>0.0187</td>\n",
       "      <td>116.7410</td>\n",
       "      <td>-64.8580</td>\n",
       "      <td>-45.2160</td>\n",
       "      <td>76.9600</td>\n",
       "      <td>256.7880</td>\n",
       "      <td>0</td>\n",
       "    </tr>\n",
       "    <tr>\n",
       "      <th>3</th>\n",
       "      <td>23.8172</td>\n",
       "      <td>9.5728</td>\n",
       "      <td>2.3385</td>\n",
       "      <td>0.6147</td>\n",
       "      <td>0.3922</td>\n",
       "      <td>27.2107</td>\n",
       "      <td>-6.4633</td>\n",
       "      <td>-7.1513</td>\n",
       "      <td>10.4490</td>\n",
       "      <td>116.7370</td>\n",
       "      <td>0</td>\n",
       "    </tr>\n",
       "    <tr>\n",
       "      <th>4</th>\n",
       "      <td>75.1362</td>\n",
       "      <td>30.9205</td>\n",
       "      <td>3.1611</td>\n",
       "      <td>0.3168</td>\n",
       "      <td>0.1832</td>\n",
       "      <td>-5.5277</td>\n",
       "      <td>28.5525</td>\n",
       "      <td>21.8393</td>\n",
       "      <td>4.6480</td>\n",
       "      <td>356.4620</td>\n",
       "      <td>0</td>\n",
       "    </tr>\n",
       "  </tbody>\n",
       "</table>\n",
       "</div>"
      ],
      "text/plain": [
       "   fLength:   fWidth:  fSize:  fConc:  fConc1:    fAsym:  fM3Long:  fM3Trans:  \\\n",
       "0   28.7967   16.0021  2.6449  0.3918   0.1982   27.7004   22.0110    -8.2027   \n",
       "1   31.6036   11.7235  2.5185  0.5303   0.3773   26.2722   23.8238    -9.9574   \n",
       "2  162.0520  136.0310  4.0612  0.0374   0.0187  116.7410  -64.8580   -45.2160   \n",
       "3   23.8172    9.5728  2.3385  0.6147   0.3922   27.2107   -6.4633    -7.1513   \n",
       "4   75.1362   30.9205  3.1611  0.3168   0.1832   -5.5277   28.5525    21.8393   \n",
       "\n",
       "   fAlpha:    fDist:  class:  \n",
       "0  40.0920   81.8828       0  \n",
       "1   6.3609  205.2610       0  \n",
       "2  76.9600  256.7880       0  \n",
       "3  10.4490  116.7370       0  \n",
       "4   4.6480  356.4620       0  "
      ]
     },
     "execution_count": 23,
     "metadata": {},
     "output_type": "execute_result"
    }
   ],
   "source": [
    "dataframe.head()"
   ]
  },
  {
   "cell_type": "markdown",
   "id": "2b649c5e",
   "metadata": {},
   "source": [
    "# Splitting Dataset"
   ]
  },
  {
   "cell_type": "markdown",
   "id": "d3538a6b",
   "metadata": {},
   "source": [
    "Splitting a dataset refers to the process of dividing a given dataset into two or more subsets for training and evaluation purposes. The most common type of split is between the training set and the testing (or validation) set. This division allows us to assess the performance of a machine learning model on unseen data and evaluate its generalization capabilities.\n",
    "\n",
    "Train-Test Split: This is the most basic type of split, where the dataset is divided into a training set and a testing set. The training set is used to train the machine learning model, while the testing set is used to evaluate its performance. The split is typically done using a fixed ratio, such as 80% for training and 20% for testing."
   ]
  },
  {
   "cell_type": "code",
   "execution_count": 24,
   "id": "b148a447",
   "metadata": {},
   "outputs": [],
   "source": [
    "x = dataframe.drop('class:', axis = 1)\n",
    "y = dataframe['class:']"
   ]
  },
  {
   "cell_type": "code",
   "execution_count": 25,
   "id": "a72779cd",
   "metadata": {},
   "outputs": [
    {
     "data": {
      "text/plain": [
       "((19020, 10), (19020,))"
      ]
     },
     "execution_count": 25,
     "metadata": {},
     "output_type": "execute_result"
    }
   ],
   "source": [
    "x.shape, y.shape"
   ]
  },
  {
   "cell_type": "code",
   "execution_count": 26,
   "id": "a885d208",
   "metadata": {},
   "outputs": [],
   "source": [
    "from sklearn.model_selection import train_test_split"
   ]
  },
  {
   "cell_type": "code",
   "execution_count": 27,
   "id": "c6dee901",
   "metadata": {},
   "outputs": [],
   "source": [
    "x_train, x_test, y_train, y_test = train_test_split(x,\n",
    "                                                    y, \n",
    "                                                    test_size = 0.2, \n",
    "                                                    random_state  = 101)"
   ]
  },
  {
   "cell_type": "code",
   "execution_count": 28,
   "id": "2bcdc863",
   "metadata": {},
   "outputs": [
    {
     "data": {
      "text/plain": [
       "((15216, 10), (3804, 10), (15216,), (3804,))"
      ]
     },
     "execution_count": 28,
     "metadata": {},
     "output_type": "execute_result"
    }
   ],
   "source": [
    "x_train.shape, x_test.shape, y_train.shape, y_test.shape"
   ]
  },
  {
   "cell_type": "markdown",
   "id": "2d59391a",
   "metadata": {},
   "source": [
    "# Scaling "
   ]
  },
  {
   "cell_type": "markdown",
   "id": "aec58f2f",
   "metadata": {},
   "source": [
    "Scaling is a preprocessing technique used in machine learning to transform the input features to a similar scale. It is often necessary because features can have different units, ranges, or magnitudes, which can affect the performance of certain algorithms. Scaling ensures that all features contribute equally to the learning process and prevents features with larger values from dominating those with smaller values.\n",
    "\n",
    "StandardScaler is a commonly used method for scaling numerical features in machine learning. It is part of the preprocessing module in scikit-learn, a popular machine learning library in Python."
   ]
  },
  {
   "cell_type": "code",
   "execution_count": 29,
   "id": "771d1a1b",
   "metadata": {},
   "outputs": [],
   "source": [
    "from sklearn.preprocessing import StandardScaler"
   ]
  },
  {
   "cell_type": "code",
   "execution_count": 30,
   "id": "50603637",
   "metadata": {},
   "outputs": [],
   "source": [
    "scaler = StandardScaler()"
   ]
  },
  {
   "cell_type": "code",
   "execution_count": 31,
   "id": "aa739fe2",
   "metadata": {},
   "outputs": [],
   "source": [
    "x_train = scaler.fit_transform(x_train)\n",
    "x_test = scaler.transform(x_test)"
   ]
  },
  {
   "cell_type": "code",
   "execution_count": 32,
   "id": "b7897dee",
   "metadata": {},
   "outputs": [
    {
     "data": {
      "text/plain": [
       "array([[ 1.15584841,  1.37379216,  3.00758942, ..., -1.33240328,\n",
       "        -0.91824504,  0.83215445],\n",
       "       [ 0.72362704, -0.25832685,  0.67105125, ..., -0.81939167,\n",
       "         0.45983995,  0.69057569],\n",
       "       [-0.73594027, -0.23555397, -0.63109308, ..., -0.66467666,\n",
       "        -0.50074714, -0.51957381],\n",
       "       ...,\n",
       "       [ 0.99776461,  1.82841325,  0.6367843 , ...,  2.57538208,\n",
       "         0.89549077,  1.20566201],\n",
       "       [-0.20667383, -0.43203998, -0.58618422, ..., -0.29195347,\n",
       "         0.80209065, -1.95295863],\n",
       "       [-0.65555726, -0.52120374, -0.75900886, ..., -0.28659517,\n",
       "         2.15105798,  0.44150368]])"
      ]
     },
     "execution_count": 32,
     "metadata": {},
     "output_type": "execute_result"
    }
   ],
   "source": [
    "x_train"
   ]
  },
  {
   "cell_type": "code",
   "execution_count": 33,
   "id": "ee1f3659",
   "metadata": {},
   "outputs": [
    {
     "data": {
      "text/plain": [
       "array([[-0.68756291, -0.8506931 , -1.32068897, ...,  0.23718654,\n",
       "         2.38276605,  1.32072103],\n",
       "       [ 0.10855844, -0.01274427,  0.6557269 , ..., -0.52753417,\n",
       "        -0.44320335, -1.15952426],\n",
       "       [-0.62721437, -0.06844946, -0.06473053, ...,  0.47514006,\n",
       "         0.63426164,  0.03233022],\n",
       "       ...,\n",
       "       [ 4.6206069 ,  3.29728879,  1.51240081, ..., -1.67802374,\n",
       "         1.03487445, -0.08610521],\n",
       "       [-0.8114277 , -0.71435497, -0.6100221 , ..., -0.10100426,\n",
       "         1.98307914, -0.24245793],\n",
       "       [ 0.11693826,  1.40107419,  2.36737201, ...,  1.02966152,\n",
       "        -0.90418374, -0.99552541]])"
      ]
     },
     "execution_count": 33,
     "metadata": {},
     "output_type": "execute_result"
    }
   ],
   "source": [
    "x_test"
   ]
  },
  {
   "cell_type": "markdown",
   "id": "0e606db3",
   "metadata": {},
   "source": [
    "# Reshaping"
   ]
  },
  {
   "cell_type": "markdown",
   "id": "86f4f76c",
   "metadata": {},
   "source": [
    "Reshaping a tensor involves rearranging its elements into a new shape without changing their values. The reshaping operation can be applied to tensors of different dimensions, such as converting a 1D tensor into a 2D tensor or vice versa. Reshaping is commonly performed using the reshape() function or method available in most deep learning frameworks."
   ]
  },
  {
   "cell_type": "code",
   "execution_count": 34,
   "id": "e6bf4a41",
   "metadata": {},
   "outputs": [
    {
     "data": {
      "text/plain": [
       "((15216, 10), (3804, 10))"
      ]
     },
     "execution_count": 34,
     "metadata": {},
     "output_type": "execute_result"
    }
   ],
   "source": [
    "x_train.shape, x_test.shape"
   ]
  },
  {
   "cell_type": "code",
   "execution_count": 35,
   "id": "9bf7a58d",
   "metadata": {},
   "outputs": [],
   "source": [
    "x_train = x_train.reshape(15216, 10, 1)\n",
    "x_test = x_test.reshape(3804, 10, 1)"
   ]
  },
  {
   "cell_type": "code",
   "execution_count": 36,
   "id": "9218f005",
   "metadata": {},
   "outputs": [
    {
     "data": {
      "text/plain": [
       "((15216, 10, 1), (3804, 10, 1))"
      ]
     },
     "execution_count": 36,
     "metadata": {},
     "output_type": "execute_result"
    }
   ],
   "source": [
    "x_train.shape, x_test.shape"
   ]
  },
  {
   "cell_type": "markdown",
   "id": "1c1bc870",
   "metadata": {},
   "source": [
    "# Building Model"
   ]
  },
  {
   "cell_type": "markdown",
   "id": "a0fcae3e",
   "metadata": {},
   "source": [
    "Building a CNN (Convolutional Neural Network) model involves constructing a deep learning architecture specifically designed for image processing and analysis. CNNs are highly effective in capturing spatial patterns and features from images, making them a popular choice for tasks like image classification, object detection, and image segmentation."
   ]
  },
  {
   "cell_type": "code",
   "execution_count": 37,
   "id": "135d5e77",
   "metadata": {},
   "outputs": [],
   "source": [
    "from tensorflow.keras.models import Sequential\n",
    "from tensorflow.keras.layers import Dense, Dropout, BatchNormalization, Flatten\n",
    "from tensorflow.keras.layers import Conv1D, MaxPooling1D\n",
    "from tensorflow.keras.optimizers import Adam\n",
    "from tensorflow.keras.callbacks import EarlyStopping"
   ]
  },
  {
   "cell_type": "code",
   "execution_count": 38,
   "id": "bd454b27",
   "metadata": {},
   "outputs": [],
   "source": [
    "model = Sequential()\n",
    "model.add(Conv1D(filters = 32, kernel_size = 2,activation = 'relu', input_shape = (10, 1)))\n",
    "model.add(BatchNormalization())\n",
    "model.add(Dropout(0.2))\n",
    "\n",
    "model.add(Conv1D(filters = 64,kernel_size = 2, activation = 'relu'))\n",
    "model.add(BatchNormalization())\n",
    "model.add(Dropout(0.4))\n",
    "\n",
    "model.add(Flatten())\n",
    "\n",
    "model.add(Dense(64, activation = 'relu'))\n",
    "model.add(Dense(1, activation = 'sigmoid'))"
   ]
  },
  {
   "cell_type": "code",
   "execution_count": 39,
   "id": "7871422e",
   "metadata": {},
   "outputs": [
    {
     "name": "stdout",
     "output_type": "stream",
     "text": [
      "Model: \"sequential\"\n",
      "_________________________________________________________________\n",
      " Layer (type)                Output Shape              Param #   \n",
      "=================================================================\n",
      " conv1d (Conv1D)             (None, 9, 32)             96        \n",
      "                                                                 \n",
      " batch_normalization (BatchN  (None, 9, 32)            128       \n",
      " ormalization)                                                   \n",
      "                                                                 \n",
      " dropout (Dropout)           (None, 9, 32)             0         \n",
      "                                                                 \n",
      " conv1d_1 (Conv1D)           (None, 8, 64)             4160      \n",
      "                                                                 \n",
      " batch_normalization_1 (Batc  (None, 8, 64)            256       \n",
      " hNormalization)                                                 \n",
      "                                                                 \n",
      " dropout_1 (Dropout)         (None, 8, 64)             0         \n",
      "                                                                 \n",
      " flatten (Flatten)           (None, 512)               0         \n",
      "                                                                 \n",
      " dense (Dense)               (None, 64)                32832     \n",
      "                                                                 \n",
      " dense_1 (Dense)             (None, 1)                 65        \n",
      "                                                                 \n",
      "=================================================================\n",
      "Total params: 37,537\n",
      "Trainable params: 37,345\n",
      "Non-trainable params: 192\n",
      "_________________________________________________________________\n"
     ]
    }
   ],
   "source": [
    "model.summary()"
   ]
  },
  {
   "cell_type": "markdown",
   "id": "f0f149fe",
   "metadata": {},
   "source": [
    "Early stopping is a technique used during the training of machine learning models to prevent overfitting and find the optimal point at which to stop training. It involves monitoring the performance of the model on a validation dataset and stopping the training process when the model's performance on the validation dataset starts to degrade."
   ]
  },
  {
   "cell_type": "code",
   "execution_count": 40,
   "id": "b36e3055",
   "metadata": {},
   "outputs": [],
   "source": [
    "early_stop = EarlyStopping(\n",
    "    monitor = 'val_loss',\n",
    "    patience = 5,\n",
    "    restore_best_weights = True\n",
    ")"
   ]
  },
  {
   "cell_type": "markdown",
   "id": "e178a06e",
   "metadata": {},
   "source": [
    "# Compiling Model"
   ]
  },
  {
   "cell_type": "markdown",
   "id": "6ed9dbcf",
   "metadata": {},
   "source": [
    "Compiling a model in the context of deep learning refers to configuring its training process. It involves specifying the optimizer, the loss function, and any additional metrics that will be used during the training phase. Compiling a model is an essential step before training it on a dataset"
   ]
  },
  {
   "cell_type": "code",
   "execution_count": 41,
   "id": "9f1866b2",
   "metadata": {},
   "outputs": [],
   "source": [
    "model.compile(optimizer = Adam(0.0001), loss = 'binary_crossentropy', metrics = ['accuracy'])"
   ]
  },
  {
   "cell_type": "markdown",
   "id": "722578b8",
   "metadata": {},
   "source": [
    "# Training Model"
   ]
  },
  {
   "cell_type": "markdown",
   "id": "18ad79e8",
   "metadata": {},
   "source": [
    "Training a model in the context of deep learning involves the process of fitting the model to a training dataset, allowing it to learn from the data and adjust its internal parameters (weights and biases) to make accurate predictions."
   ]
  },
  {
   "cell_type": "code",
   "execution_count": 42,
   "id": "9597eb21",
   "metadata": {
    "scrolled": false
   },
   "outputs": [
    {
     "name": "stdout",
     "output_type": "stream",
     "text": [
      "Epoch 1/250\n",
      "476/476 [==============================] - 11s 15ms/step - loss: 0.5203 - accuracy: 0.7505 - val_loss: 0.3680 - val_accuracy: 0.8441\n",
      "Epoch 2/250\n",
      "476/476 [==============================] - 6s 12ms/step - loss: 0.4232 - accuracy: 0.8127 - val_loss: 0.3280 - val_accuracy: 0.8680\n",
      "Epoch 3/250\n",
      "476/476 [==============================] - 5s 11ms/step - loss: 0.4010 - accuracy: 0.8266 - val_loss: 0.3175 - val_accuracy: 0.8722\n",
      "Epoch 4/250\n",
      "476/476 [==============================] - 6s 13ms/step - loss: 0.3889 - accuracy: 0.8329 - val_loss: 0.3093 - val_accuracy: 0.8736\n",
      "Epoch 5/250\n",
      "476/476 [==============================] - 6s 12ms/step - loss: 0.3787 - accuracy: 0.8376 - val_loss: 0.3057 - val_accuracy: 0.8759\n",
      "Epoch 6/250\n",
      "476/476 [==============================] - 5s 11ms/step - loss: 0.3710 - accuracy: 0.8436 - val_loss: 0.2996 - val_accuracy: 0.8820\n",
      "Epoch 7/250\n",
      "476/476 [==============================] - 8s 17ms/step - loss: 0.3678 - accuracy: 0.8427 - val_loss: 0.2973 - val_accuracy: 0.8807\n",
      "Epoch 8/250\n",
      "476/476 [==============================] - 5s 10ms/step - loss: 0.3640 - accuracy: 0.8446 - val_loss: 0.2967 - val_accuracy: 0.8796\n",
      "Epoch 9/250\n",
      "476/476 [==============================] - 6s 12ms/step - loss: 0.3585 - accuracy: 0.8480 - val_loss: 0.2952 - val_accuracy: 0.8793\n",
      "Epoch 10/250\n",
      "476/476 [==============================] - 6s 13ms/step - loss: 0.3559 - accuracy: 0.8466 - val_loss: 0.2938 - val_accuracy: 0.8812\n",
      "Epoch 11/250\n",
      "476/476 [==============================] - 6s 12ms/step - loss: 0.3563 - accuracy: 0.8501 - val_loss: 0.2915 - val_accuracy: 0.8812\n",
      "Epoch 12/250\n",
      "476/476 [==============================] - 6s 12ms/step - loss: 0.3508 - accuracy: 0.8509 - val_loss: 0.2918 - val_accuracy: 0.8812\n",
      "Epoch 13/250\n",
      "476/476 [==============================] - 6s 13ms/step - loss: 0.3510 - accuracy: 0.8516 - val_loss: 0.2916 - val_accuracy: 0.8817\n",
      "Epoch 14/250\n",
      "476/476 [==============================] - 5s 11ms/step - loss: 0.3495 - accuracy: 0.8549 - val_loss: 0.2910 - val_accuracy: 0.8807\n",
      "Epoch 15/250\n",
      "476/476 [==============================] - 6s 13ms/step - loss: 0.3490 - accuracy: 0.8512 - val_loss: 0.2905 - val_accuracy: 0.8833\n",
      "Epoch 16/250\n",
      "476/476 [==============================] - 6s 12ms/step - loss: 0.3463 - accuracy: 0.8520 - val_loss: 0.2896 - val_accuracy: 0.8820\n",
      "Epoch 17/250\n",
      "476/476 [==============================] - 6s 12ms/step - loss: 0.3413 - accuracy: 0.8567 - val_loss: 0.2877 - val_accuracy: 0.8822\n",
      "Epoch 18/250\n",
      "476/476 [==============================] - 6s 13ms/step - loss: 0.3440 - accuracy: 0.8556 - val_loss: 0.2879 - val_accuracy: 0.8804\n",
      "Epoch 19/250\n",
      "476/476 [==============================] - 6s 12ms/step - loss: 0.3403 - accuracy: 0.8554 - val_loss: 0.2857 - val_accuracy: 0.8812\n",
      "Epoch 20/250\n",
      "476/476 [==============================] - 6s 12ms/step - loss: 0.3380 - accuracy: 0.8555 - val_loss: 0.2866 - val_accuracy: 0.8849\n",
      "Epoch 21/250\n",
      "476/476 [==============================] - 6s 14ms/step - loss: 0.3373 - accuracy: 0.8595 - val_loss: 0.2863 - val_accuracy: 0.8828\n",
      "Epoch 22/250\n",
      "476/476 [==============================] - 5s 11ms/step - loss: 0.3368 - accuracy: 0.8593 - val_loss: 0.2856 - val_accuracy: 0.8830\n",
      "Epoch 23/250\n",
      "476/476 [==============================] - 6s 13ms/step - loss: 0.3386 - accuracy: 0.8584 - val_loss: 0.2845 - val_accuracy: 0.8851\n",
      "Epoch 24/250\n",
      "476/476 [==============================] - 6s 12ms/step - loss: 0.3351 - accuracy: 0.8578 - val_loss: 0.2836 - val_accuracy: 0.8851\n",
      "Epoch 25/250\n",
      "476/476 [==============================] - 5s 11ms/step - loss: 0.3328 - accuracy: 0.8607 - val_loss: 0.2846 - val_accuracy: 0.8835\n",
      "Epoch 26/250\n",
      "476/476 [==============================] - 6s 13ms/step - loss: 0.3377 - accuracy: 0.8552 - val_loss: 0.2823 - val_accuracy: 0.8875\n",
      "Epoch 27/250\n",
      "476/476 [==============================] - 5s 11ms/step - loss: 0.3334 - accuracy: 0.8574 - val_loss: 0.2844 - val_accuracy: 0.8835\n",
      "Epoch 28/250\n",
      "476/476 [==============================] - 5s 11ms/step - loss: 0.3320 - accuracy: 0.8583 - val_loss: 0.2825 - val_accuracy: 0.8841\n",
      "Epoch 29/250\n",
      "476/476 [==============================] - 6s 13ms/step - loss: 0.3333 - accuracy: 0.8580 - val_loss: 0.2847 - val_accuracy: 0.8828\n",
      "Epoch 30/250\n",
      "476/476 [==============================] - 5s 11ms/step - loss: 0.3306 - accuracy: 0.8613 - val_loss: 0.2873 - val_accuracy: 0.8822\n",
      "Epoch 31/250\n",
      "476/476 [==============================] - 6s 12ms/step - loss: 0.3287 - accuracy: 0.8596 - val_loss: 0.2809 - val_accuracy: 0.8864\n",
      "Epoch 32/250\n",
      "476/476 [==============================] - 6s 13ms/step - loss: 0.3286 - accuracy: 0.8615 - val_loss: 0.2817 - val_accuracy: 0.8830\n",
      "Epoch 33/250\n",
      "476/476 [==============================] - 5s 11ms/step - loss: 0.3257 - accuracy: 0.8600 - val_loss: 0.2793 - val_accuracy: 0.8862\n",
      "Epoch 34/250\n",
      "476/476 [==============================] - 6s 12ms/step - loss: 0.3280 - accuracy: 0.8611 - val_loss: 0.2817 - val_accuracy: 0.8833\n",
      "Epoch 35/250\n",
      "476/476 [==============================] - 6s 13ms/step - loss: 0.3266 - accuracy: 0.8603 - val_loss: 0.2800 - val_accuracy: 0.8851\n",
      "Epoch 36/250\n",
      "476/476 [==============================] - 5s 11ms/step - loss: 0.3249 - accuracy: 0.8629 - val_loss: 0.2799 - val_accuracy: 0.8830\n",
      "Epoch 37/250\n",
      "476/476 [==============================] - 6s 13ms/step - loss: 0.3273 - accuracy: 0.8617 - val_loss: 0.2778 - val_accuracy: 0.8872\n",
      "Epoch 38/250\n",
      "476/476 [==============================] - 6s 13ms/step - loss: 0.3248 - accuracy: 0.8618 - val_loss: 0.2788 - val_accuracy: 0.8851\n",
      "Epoch 39/250\n",
      "476/476 [==============================] - 5s 11ms/step - loss: 0.3231 - accuracy: 0.8621 - val_loss: 0.2773 - val_accuracy: 0.8856\n",
      "Epoch 40/250\n",
      "476/476 [==============================] - 6s 14ms/step - loss: 0.3248 - accuracy: 0.8634 - val_loss: 0.2797 - val_accuracy: 0.8843\n",
      "Epoch 41/250\n",
      "476/476 [==============================] - 5s 11ms/step - loss: 0.3247 - accuracy: 0.8646 - val_loss: 0.2776 - val_accuracy: 0.8877\n",
      "Epoch 42/250\n",
      "476/476 [==============================] - 6s 12ms/step - loss: 0.3265 - accuracy: 0.8598 - val_loss: 0.2794 - val_accuracy: 0.8877\n",
      "Epoch 43/250\n",
      "476/476 [==============================] - 7s 14ms/step - loss: 0.3229 - accuracy: 0.8638 - val_loss: 0.2775 - val_accuracy: 0.8880\n",
      "Epoch 44/250\n",
      "476/476 [==============================] - 6s 12ms/step - loss: 0.3223 - accuracy: 0.8624 - val_loss: 0.2764 - val_accuracy: 0.8875\n",
      "Epoch 45/250\n",
      "476/476 [==============================] - 6s 12ms/step - loss: 0.3189 - accuracy: 0.8659 - val_loss: 0.2761 - val_accuracy: 0.8870\n",
      "Epoch 46/250\n",
      "476/476 [==============================] - 6s 13ms/step - loss: 0.3191 - accuracy: 0.8640 - val_loss: 0.2784 - val_accuracy: 0.8851\n",
      "Epoch 47/250\n",
      "476/476 [==============================] - 5s 11ms/step - loss: 0.3234 - accuracy: 0.8623 - val_loss: 0.2758 - val_accuracy: 0.8883\n",
      "Epoch 48/250\n",
      "476/476 [==============================] - 6s 13ms/step - loss: 0.3189 - accuracy: 0.8634 - val_loss: 0.2779 - val_accuracy: 0.8872\n",
      "Epoch 49/250\n",
      "476/476 [==============================] - 6s 12ms/step - loss: 0.3202 - accuracy: 0.8653 - val_loss: 0.2751 - val_accuracy: 0.8875\n",
      "Epoch 50/250\n",
      "476/476 [==============================] - 5s 11ms/step - loss: 0.3204 - accuracy: 0.8655 - val_loss: 0.2764 - val_accuracy: 0.8891\n",
      "Epoch 51/250\n",
      "476/476 [==============================] - 7s 14ms/step - loss: 0.3207 - accuracy: 0.8641 - val_loss: 0.2760 - val_accuracy: 0.8872\n",
      "Epoch 52/250\n",
      "476/476 [==============================] - 7s 15ms/step - loss: 0.3171 - accuracy: 0.8682 - val_loss: 0.2756 - val_accuracy: 0.8875\n",
      "Epoch 53/250\n",
      "476/476 [==============================] - 8s 16ms/step - loss: 0.3203 - accuracy: 0.8665 - val_loss: 0.2761 - val_accuracy: 0.8891\n",
      "Epoch 54/250\n",
      "476/476 [==============================] - 5s 11ms/step - loss: 0.3143 - accuracy: 0.8667 - val_loss: 0.2741 - val_accuracy: 0.8877\n",
      "Epoch 55/250\n",
      "476/476 [==============================] - 5s 11ms/step - loss: 0.3176 - accuracy: 0.8667 - val_loss: 0.2746 - val_accuracy: 0.8883\n",
      "Epoch 56/250\n",
      "476/476 [==============================] - 6s 14ms/step - loss: 0.3178 - accuracy: 0.8647 - val_loss: 0.2742 - val_accuracy: 0.8891\n",
      "Epoch 57/250\n"
     ]
    },
    {
     "name": "stdout",
     "output_type": "stream",
     "text": [
      "476/476 [==============================] - 5s 11ms/step - loss: 0.3196 - accuracy: 0.8659 - val_loss: 0.2733 - val_accuracy: 0.8906\n",
      "Epoch 58/250\n",
      "476/476 [==============================] - 5s 11ms/step - loss: 0.3141 - accuracy: 0.8644 - val_loss: 0.2739 - val_accuracy: 0.8901\n",
      "Epoch 59/250\n",
      "476/476 [==============================] - 6s 12ms/step - loss: 0.3147 - accuracy: 0.8670 - val_loss: 0.2730 - val_accuracy: 0.8909\n",
      "Epoch 60/250\n",
      "476/476 [==============================] - 5s 11ms/step - loss: 0.3151 - accuracy: 0.8693 - val_loss: 0.2771 - val_accuracy: 0.8891\n",
      "Epoch 61/250\n",
      "476/476 [==============================] - 6s 12ms/step - loss: 0.3161 - accuracy: 0.8669 - val_loss: 0.2769 - val_accuracy: 0.8849\n",
      "Epoch 62/250\n",
      "476/476 [==============================] - 6s 12ms/step - loss: 0.3145 - accuracy: 0.8654 - val_loss: 0.2749 - val_accuracy: 0.8872\n",
      "Epoch 63/250\n",
      "476/476 [==============================] - 5s 10ms/step - loss: 0.3160 - accuracy: 0.8651 - val_loss: 0.2736 - val_accuracy: 0.8901\n",
      "Epoch 64/250\n",
      "476/476 [==============================] - 6s 12ms/step - loss: 0.3177 - accuracy: 0.8659 - val_loss: 0.2747 - val_accuracy: 0.8896\n"
     ]
    },
    {
     "data": {
      "text/plain": [
       "<keras.callbacks.History at 0x1a785d7f430>"
      ]
     },
     "execution_count": 42,
     "metadata": {},
     "output_type": "execute_result"
    }
   ],
   "source": [
    "model.fit(\n",
    "    x_train, y_train,\n",
    "    validation_data = (x_test, y_test),\n",
    "    epochs = 250, \n",
    "    callbacks = [early_stop])"
   ]
  },
  {
   "cell_type": "code",
   "execution_count": 43,
   "id": "2a8103bb",
   "metadata": {},
   "outputs": [],
   "source": [
    "model.save('model_gamma_ray_classifier.h5')"
   ]
  },
  {
   "cell_type": "markdown",
   "id": "b3444d02",
   "metadata": {},
   "source": [
    "# Learning Curve"
   ]
  },
  {
   "cell_type": "markdown",
   "id": "30610efa",
   "metadata": {},
   "source": [
    "The learning curve is a plot that shows how the loss and accuracy of a model change during training. It provides insights into how well the model is learning from the training data and how it generalizes to unseen data. The learning curve typically shows the training and validation loss/accuracy on the y-axis and the number of epochs on the x-axis. By analyzing the learning curve, you can identify if the model is overfitting (high training loss, low validation loss) or underfitting (high training and validation loss). It is a useful tool for monitoring and evaluating the performance of machine learning models."
   ]
  },
  {
   "cell_type": "code",
   "execution_count": 44,
   "id": "f0d218df",
   "metadata": {},
   "outputs": [],
   "source": [
    "losses = pd.DataFrame(model.history.history)"
   ]
  },
  {
   "cell_type": "code",
   "execution_count": 45,
   "id": "8f73784a",
   "metadata": {},
   "outputs": [
    {
     "data": {
      "text/html": [
       "<div>\n",
       "<style scoped>\n",
       "    .dataframe tbody tr th:only-of-type {\n",
       "        vertical-align: middle;\n",
       "    }\n",
       "\n",
       "    .dataframe tbody tr th {\n",
       "        vertical-align: top;\n",
       "    }\n",
       "\n",
       "    .dataframe thead th {\n",
       "        text-align: right;\n",
       "    }\n",
       "</style>\n",
       "<table border=\"1\" class=\"dataframe\">\n",
       "  <thead>\n",
       "    <tr style=\"text-align: right;\">\n",
       "      <th></th>\n",
       "      <th>loss</th>\n",
       "      <th>accuracy</th>\n",
       "      <th>val_loss</th>\n",
       "      <th>val_accuracy</th>\n",
       "    </tr>\n",
       "  </thead>\n",
       "  <tbody>\n",
       "    <tr>\n",
       "      <th>0</th>\n",
       "      <td>0.520285</td>\n",
       "      <td>0.750526</td>\n",
       "      <td>0.367955</td>\n",
       "      <td>0.844111</td>\n",
       "    </tr>\n",
       "    <tr>\n",
       "      <th>1</th>\n",
       "      <td>0.423228</td>\n",
       "      <td>0.812697</td>\n",
       "      <td>0.328017</td>\n",
       "      <td>0.868034</td>\n",
       "    </tr>\n",
       "    <tr>\n",
       "      <th>2</th>\n",
       "      <td>0.400978</td>\n",
       "      <td>0.826630</td>\n",
       "      <td>0.317465</td>\n",
       "      <td>0.872240</td>\n",
       "    </tr>\n",
       "    <tr>\n",
       "      <th>3</th>\n",
       "      <td>0.388856</td>\n",
       "      <td>0.832939</td>\n",
       "      <td>0.309276</td>\n",
       "      <td>0.873554</td>\n",
       "    </tr>\n",
       "    <tr>\n",
       "      <th>4</th>\n",
       "      <td>0.378680</td>\n",
       "      <td>0.837605</td>\n",
       "      <td>0.305750</td>\n",
       "      <td>0.875920</td>\n",
       "    </tr>\n",
       "  </tbody>\n",
       "</table>\n",
       "</div>"
      ],
      "text/plain": [
       "       loss  accuracy  val_loss  val_accuracy\n",
       "0  0.520285  0.750526  0.367955      0.844111\n",
       "1  0.423228  0.812697  0.328017      0.868034\n",
       "2  0.400978  0.826630  0.317465      0.872240\n",
       "3  0.388856  0.832939  0.309276      0.873554\n",
       "4  0.378680  0.837605  0.305750      0.875920"
      ]
     },
     "execution_count": 45,
     "metadata": {},
     "output_type": "execute_result"
    }
   ],
   "source": [
    "losses.head()"
   ]
  },
  {
   "cell_type": "code",
   "execution_count": 46,
   "id": "b330cbe3",
   "metadata": {},
   "outputs": [
    {
     "data": {
      "text/plain": [
       "<AxesSubplot:>"
      ]
     },
     "execution_count": 46,
     "metadata": {},
     "output_type": "execute_result"
    },
    {
     "data": {
      "image/png": "[encoded data removed]",
      "text/plain": [
       "<Figure size 432x288 with 1 Axes>"
      ]
     },
     "metadata": {
      "needs_background": "light"
     },
     "output_type": "display_data"
    }
   ],
   "source": [
    "losses.plot()"
   ]
  },
  {
   "cell_type": "markdown",
   "id": "e0d0fc12",
   "metadata": {},
   "source": [
    "# Loss Curve"
   ]
  },
  {
   "cell_type": "markdown",
   "id": "5c1e14bc",
   "metadata": {},
   "source": [
    "A loss curve is a graphical representation that shows how the loss of a machine learning model changes over the course of training. Loss refers to the discrepancy between the predicted output of the model and the true or expected output. The loss curve helps in monitoring the progress of model training and assessing the convergence and performance of the model."
   ]
  },
  {
   "cell_type": "code",
   "execution_count": 47,
   "id": "2ebeef44",
   "metadata": {},
   "outputs": [
    {
     "data": {
      "text/plain": [
       "<AxesSubplot:>"
      ]
     },
     "execution_count": 47,
     "metadata": {},
     "output_type": "execute_result"
    },
    {
     "data": {
      "image/png": "[encoded data removed]",
      "text/plain": [
       "<Figure size 432x288 with 1 Axes>"
      ]
     },
     "metadata": {
      "needs_background": "light"
     },
     "output_type": "display_data"
    }
   ],
   "source": [
    "losses[['loss', 'val_loss']].plot()"
   ]
  },
  {
   "cell_type": "markdown",
   "id": "1030c9f9",
   "metadata": {},
   "source": [
    "# Accuracy Curve"
   ]
  },
  {
   "cell_type": "markdown",
   "id": "2bb42657",
   "metadata": {},
   "source": [
    "An accuracy curve is a graphical representation that depicts how the accuracy of a machine learning model changes as a specific aspect of the model or training process varies. The accuracy curve is typically plotted against the varying parameter or condition to analyze its impact on the model's accuracy."
   ]
  },
  {
   "cell_type": "code",
   "execution_count": 48,
   "id": "5f9cae9e",
   "metadata": {},
   "outputs": [
    {
     "data": {
      "text/plain": [
       "<AxesSubplot:>"
      ]
     },
     "execution_count": 48,
     "metadata": {},
     "output_type": "execute_result"
    },
    {
     "data": {
      "image/png": "[encoded data removed]",
      "text/plain": [
       "<Figure size 432x288 with 1 Axes>"
      ]
     },
     "metadata": {
      "needs_background": "light"
     },
     "output_type": "display_data"
    }
   ],
   "source": [
    "losses[['accuracy', 'val_accuracy']].plot()"
   ]
  },
  {
   "cell_type": "markdown",
   "id": "df5889bf",
   "metadata": {},
   "source": [
    "# Predicting on x-Test"
   ]
  },
  {
   "cell_type": "code",
   "execution_count": 49,
   "id": "4b3993ec",
   "metadata": {},
   "outputs": [
    {
     "name": "stdout",
     "output_type": "stream",
     "text": [
      "119/119 [==============================] - 1s 5ms/step\n"
     ]
    }
   ],
   "source": [
    "y_pred = model.predict(x_test)\n",
    "predict_class = y_pred.argmax(axis = 1)"
   ]
  },
  {
   "cell_type": "code",
   "execution_count": 50,
   "id": "82392421",
   "metadata": {},
   "outputs": [
    {
     "name": "stdout",
     "output_type": "stream",
     "text": [
      "0\n",
      "[0.00490559]\n"
     ]
    },
    {
     "data": {
      "text/plain": [
       "(None, None)"
      ]
     },
     "execution_count": 50,
     "metadata": {},
     "output_type": "execute_result"
    }
   ],
   "source": [
    "print(y_test[100]), print(y_pred[100])"
   ]
  },
  {
   "cell_type": "code",
   "execution_count": 51,
   "id": "89c7e316",
   "metadata": {},
   "outputs": [
    {
     "name": "stdout",
     "output_type": "stream",
     "text": [
      "0\n",
      "0\n"
     ]
    },
    {
     "data": {
      "text/plain": [
       "(None, None)"
      ]
     },
     "execution_count": 51,
     "metadata": {},
     "output_type": "execute_result"
    }
   ],
   "source": [
    "print(y_test.iloc[1700]), print(predict_class[1700])"
   ]
  },
  {
   "cell_type": "markdown",
   "id": "edc9c149",
   "metadata": {},
   "source": [
    "# Error Analysis"
   ]
  },
  {
   "cell_type": "markdown",
   "id": "801b05a2",
   "metadata": {},
   "source": [
    "Error analysis is an important step in evaluating and improving the performance of a machine learning model. It involves analyzing the errors made by the model during prediction or classification tasks and gaining insights into the types of mistakes it is making. Error analysis can provide valuable information for model refinement and identifying areas for improvement"
   ]
  },
  {
   "cell_type": "code",
   "execution_count": 52,
   "id": "cba22486",
   "metadata": {},
   "outputs": [],
   "source": [
    "from sklearn.metrics import confusion_matrix"
   ]
  },
  {
   "cell_type": "markdown",
   "id": "267c2508",
   "metadata": {},
   "source": [
    "A confusion matrix, also known as an error matrix, is a table that summarizes the performance of a classification model by comparing predicted class labels with actual class labels. It provides a comprehensive view of the model's predictions and the associated errors. The confusion matrix is typically used in supervised learning tasks, where the true class labels are known."
   ]
  },
  {
   "cell_type": "code",
   "execution_count": 53,
   "id": "67df6eca",
   "metadata": {},
   "outputs": [],
   "source": [
    "confusion_matrix = confusion_matrix(y_test, predict_class)"
   ]
  },
  {
   "cell_type": "code",
   "execution_count": 54,
   "id": "97d3f626",
   "metadata": {},
   "outputs": [
    {
     "data": {
      "text/plain": [
       "array([[2489,    0],\n",
       "       [1315,    0]], dtype=int64)"
      ]
     },
     "execution_count": 54,
     "metadata": {},
     "output_type": "execute_result"
    }
   ],
   "source": [
    "confusion_matrix"
   ]
  },
  {
   "cell_type": "code",
   "execution_count": 55,
   "id": "bff5b36f",
   "metadata": {},
   "outputs": [
    {
     "data": {
      "text/plain": [
       "<AxesSubplot:>"
      ]
     },
     "execution_count": 55,
     "metadata": {},
     "output_type": "execute_result"
    },
    {
     "data": {
      "image/png": "[encoded data removed]",
      "text/plain": [
       "<Figure size 432x288 with 2 Axes>"
      ]
     },
     "metadata": {
      "needs_background": "light"
     },
     "output_type": "display_data"
    }
   ],
   "source": [
    "plt.figure(figsize = (6, 4))\n",
    "sns.heatmap(confusion_matrix, \n",
    "            annot = True, \n",
    "            cmap = 'RdPu')"
   ]
  },
  {
   "cell_type": "markdown",
   "id": "8055aba3",
   "metadata": {},
   "source": [
    "# Thanks"
   ]
  }
 ],
 "metadata": {
  "kernelspec": {
   "display_name": "Python 3 (ipykernel)",
   "language": "python",
   "name": "python3"
  },
  "language_info": {
   "codemirror_mode": {
    "name": "ipython",
    "version": 3
   },
   "file_extension": ".py",
   "mimetype": "text/x-python",
   "name": "python",
   "nbconvert_exporter": "python",
   "pygments_lexer": "ipython3",
   "version": "3.10.9"
  }
 },
 "nbformat": 4,
 "nbformat_minor": 5
}
