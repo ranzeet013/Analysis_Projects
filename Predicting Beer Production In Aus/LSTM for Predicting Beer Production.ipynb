{
 "cells": [
  {
   "cell_type": "markdown",
   "id": "9c97559f",
   "metadata": {},
   "source": [
    "# LSTM For Beer Production In Australlia"
   ]
  },
  {
   "cell_type": "markdown",
   "id": "8c08cba3",
   "metadata": {},
   "source": [
    "# Importing Libraries"
   ]
  },
  {
   "cell_type": "markdown",
   "id": "e695251c",
   "metadata": {},
   "source": [
    "These are just a few examples of popular Python libraries. You can import any other library using the same import statement followed by the library name or alias:"
   ]
  },
  {
   "cell_type": "markdown",
   "id": "8080bd1c",
   "metadata": {},
   "source": [
    "NumPy: for numerical operations and array manipulation\n",
    "\n",
    "Pandas: for data manipulation and analysis\n",
    "\n",
    "Matplotlib: for creating visualizations\n",
    "\n",
    "Scikit-learn: for machine learning algorithms"
   ]
  },
  {
   "cell_type": "code",
   "execution_count": 1,
   "id": "a7879218",
   "metadata": {},
   "outputs": [],
   "source": [
    "import pandas as pd\n",
    "import numpy as np\n",
    "import seaborn as sns\n",
    "import matplotlib.pyplot as plt\n",
    "%matplotlib inline"
   ]
  },
  {
   "cell_type": "markdown",
   "id": "2316a358",
   "metadata": {},
   "source": [
    "# Reading Dataset"
   ]
  },
  {
   "cell_type": "code",
   "execution_count": 2,
   "id": "d5cd74bc",
   "metadata": {},
   "outputs": [],
   "source": [
    "dataframe = pd.read_csv('monthly-beer-production-in-austr.csv', index_col = 'Month', parse_dates = True)"
   ]
  },
  {
   "cell_type": "markdown",
   "id": "c1ca154a",
   "metadata": {},
   "source": [
    "# Exploratory Data Analysis"
   ]
  },
  {
   "cell_type": "markdown",
   "id": "ae208dc5",
   "metadata": {},
   "source": [
    "The process of analyzing and understanding a dataset to gain insights and identify patterns or trends. The goal of exploring the data is to become familiar with its structure, distribution, and quality, as well as to identify potential issues or anomalies that may need to be addressed before further analysis."
   ]
  },
  {
   "cell_type": "code",
   "execution_count": 3,
   "id": "ac012b41",
   "metadata": {},
   "outputs": [
    {
     "data": {
      "text/html": [
       "<div>\n",
       "<style scoped>\n",
       "    .dataframe tbody tr th:only-of-type {\n",
       "        vertical-align: middle;\n",
       "    }\n",
       "\n",
       "    .dataframe tbody tr th {\n",
       "        vertical-align: top;\n",
       "    }\n",
       "\n",
       "    .dataframe thead th {\n",
       "        text-align: right;\n",
       "    }\n",
       "</style>\n",
       "<table border=\"1\" class=\"dataframe\">\n",
       "  <thead>\n",
       "    <tr style=\"text-align: right;\">\n",
       "      <th></th>\n",
       "      <th>Monthly beer production</th>\n",
       "    </tr>\n",
       "    <tr>\n",
       "      <th>Month</th>\n",
       "      <th></th>\n",
       "    </tr>\n",
       "  </thead>\n",
       "  <tbody>\n",
       "    <tr>\n",
       "      <th>1956-01-01</th>\n",
       "      <td>93.2</td>\n",
       "    </tr>\n",
       "    <tr>\n",
       "      <th>1956-02-01</th>\n",
       "      <td>96.0</td>\n",
       "    </tr>\n",
       "    <tr>\n",
       "      <th>1956-03-01</th>\n",
       "      <td>95.2</td>\n",
       "    </tr>\n",
       "    <tr>\n",
       "      <th>1956-04-01</th>\n",
       "      <td>77.1</td>\n",
       "    </tr>\n",
       "    <tr>\n",
       "      <th>1956-05-01</th>\n",
       "      <td>70.9</td>\n",
       "    </tr>\n",
       "  </tbody>\n",
       "</table>\n",
       "</div>"
      ],
      "text/plain": [
       "            Monthly beer production\n",
       "Month                              \n",
       "1956-01-01                     93.2\n",
       "1956-02-01                     96.0\n",
       "1956-03-01                     95.2\n",
       "1956-04-01                     77.1\n",
       "1956-05-01                     70.9"
      ]
     },
     "execution_count": 3,
     "metadata": {},
     "output_type": "execute_result"
    }
   ],
   "source": [
    "dataframe.head()"
   ]
  },
  {
   "cell_type": "code",
   "execution_count": 4,
   "id": "a78cb439",
   "metadata": {},
   "outputs": [
    {
     "data": {
      "text/html": [
       "<div>\n",
       "<style scoped>\n",
       "    .dataframe tbody tr th:only-of-type {\n",
       "        vertical-align: middle;\n",
       "    }\n",
       "\n",
       "    .dataframe tbody tr th {\n",
       "        vertical-align: top;\n",
       "    }\n",
       "\n",
       "    .dataframe thead th {\n",
       "        text-align: right;\n",
       "    }\n",
       "</style>\n",
       "<table border=\"1\" class=\"dataframe\">\n",
       "  <thead>\n",
       "    <tr style=\"text-align: right;\">\n",
       "      <th></th>\n",
       "      <th>Monthly beer production</th>\n",
       "    </tr>\n",
       "    <tr>\n",
       "      <th>Month</th>\n",
       "      <th></th>\n",
       "    </tr>\n",
       "  </thead>\n",
       "  <tbody>\n",
       "    <tr>\n",
       "      <th>1995-04-01</th>\n",
       "      <td>127.0</td>\n",
       "    </tr>\n",
       "    <tr>\n",
       "      <th>1995-05-01</th>\n",
       "      <td>151.0</td>\n",
       "    </tr>\n",
       "    <tr>\n",
       "      <th>1995-06-01</th>\n",
       "      <td>130.0</td>\n",
       "    </tr>\n",
       "    <tr>\n",
       "      <th>1995-07-01</th>\n",
       "      <td>119.0</td>\n",
       "    </tr>\n",
       "    <tr>\n",
       "      <th>1995-08-01</th>\n",
       "      <td>153.0</td>\n",
       "    </tr>\n",
       "  </tbody>\n",
       "</table>\n",
       "</div>"
      ],
      "text/plain": [
       "            Monthly beer production\n",
       "Month                              \n",
       "1995-04-01                    127.0\n",
       "1995-05-01                    151.0\n",
       "1995-06-01                    130.0\n",
       "1995-07-01                    119.0\n",
       "1995-08-01                    153.0"
      ]
     },
     "execution_count": 4,
     "metadata": {},
     "output_type": "execute_result"
    }
   ],
   "source": [
    "dataframe.tail()"
   ]
  },
  {
   "cell_type": "code",
   "execution_count": 5,
   "id": "41645113",
   "metadata": {},
   "outputs": [
    {
     "name": "stdout",
     "output_type": "stream",
     "text": [
      "<class 'pandas.core.frame.DataFrame'>\n",
      "DatetimeIndex: 476 entries, 1956-01-01 to 1995-08-01\n",
      "Data columns (total 1 columns):\n",
      " #   Column                   Non-Null Count  Dtype  \n",
      "---  ------                   --------------  -----  \n",
      " 0   Monthly beer production  476 non-null    float64\n",
      "dtypes: float64(1)\n",
      "memory usage: 7.4 KB\n"
     ]
    }
   ],
   "source": [
    "dataframe.info()"
   ]
  },
  {
   "cell_type": "code",
   "execution_count": 6,
   "id": "d940575d",
   "metadata": {},
   "outputs": [
    {
     "data": {
      "text/html": [
       "<div>\n",
       "<style scoped>\n",
       "    .dataframe tbody tr th:only-of-type {\n",
       "        vertical-align: middle;\n",
       "    }\n",
       "\n",
       "    .dataframe tbody tr th {\n",
       "        vertical-align: top;\n",
       "    }\n",
       "\n",
       "    .dataframe thead th {\n",
       "        text-align: right;\n",
       "    }\n",
       "</style>\n",
       "<table border=\"1\" class=\"dataframe\">\n",
       "  <thead>\n",
       "    <tr style=\"text-align: right;\">\n",
       "      <th></th>\n",
       "      <th>Monthly beer production</th>\n",
       "    </tr>\n",
       "  </thead>\n",
       "  <tbody>\n",
       "    <tr>\n",
       "      <th>count</th>\n",
       "      <td>476.000000</td>\n",
       "    </tr>\n",
       "    <tr>\n",
       "      <th>mean</th>\n",
       "      <td>136.395378</td>\n",
       "    </tr>\n",
       "    <tr>\n",
       "      <th>std</th>\n",
       "      <td>33.738725</td>\n",
       "    </tr>\n",
       "    <tr>\n",
       "      <th>min</th>\n",
       "      <td>64.800000</td>\n",
       "    </tr>\n",
       "    <tr>\n",
       "      <th>25%</th>\n",
       "      <td>112.900000</td>\n",
       "    </tr>\n",
       "    <tr>\n",
       "      <th>50%</th>\n",
       "      <td>139.150000</td>\n",
       "    </tr>\n",
       "    <tr>\n",
       "      <th>75%</th>\n",
       "      <td>158.825000</td>\n",
       "    </tr>\n",
       "    <tr>\n",
       "      <th>max</th>\n",
       "      <td>217.800000</td>\n",
       "    </tr>\n",
       "  </tbody>\n",
       "</table>\n",
       "</div>"
      ],
      "text/plain": [
       "       Monthly beer production\n",
       "count               476.000000\n",
       "mean                136.395378\n",
       "std                  33.738725\n",
       "min                  64.800000\n",
       "25%                 112.900000\n",
       "50%                 139.150000\n",
       "75%                 158.825000\n",
       "max                 217.800000"
      ]
     },
     "execution_count": 6,
     "metadata": {},
     "output_type": "execute_result"
    }
   ],
   "source": [
    "dataframe.describe()"
   ]
  },
  {
   "cell_type": "code",
   "execution_count": 7,
   "id": "2142947c",
   "metadata": {},
   "outputs": [
    {
     "data": {
      "text/plain": [
       "Monthly beer production    0\n",
       "dtype: int64"
      ]
     },
     "execution_count": 7,
     "metadata": {},
     "output_type": "execute_result"
    }
   ],
   "source": [
    "dataframe.isna().sum()"
   ]
  },
  {
   "cell_type": "code",
   "execution_count": 8,
   "id": "7fc60038",
   "metadata": {},
   "outputs": [
    {
     "data": {
      "text/plain": [
       "<AxesSubplot:xlabel='Month'>"
      ]
     },
     "execution_count": 8,
     "metadata": {},
     "output_type": "execute_result"
    },
    {
     "data": {
      "image/png": "[encoded data removed]",
      "text/plain": [
       "<Figure size 432x288 with 1 Axes>"
      ]
     },
     "metadata": {
      "needs_background": "light"
     },
     "output_type": "display_data"
    }
   ],
   "source": [
    "dataframe.plot()"
   ]
  },
  {
   "cell_type": "code",
   "execution_count": 9,
   "id": "8fa68711",
   "metadata": {},
   "outputs": [
    {
     "data": {
      "text/plain": [
       "476"
      ]
     },
     "execution_count": 9,
     "metadata": {},
     "output_type": "execute_result"
    }
   ],
   "source": [
    "len(dataframe)"
   ]
  },
  {
   "cell_type": "code",
   "execution_count": 11,
   "id": "1a3d7980",
   "metadata": {},
   "outputs": [],
   "source": [
    "test_size = 18"
   ]
  },
  {
   "cell_type": "code",
   "execution_count": 12,
   "id": "b296d815",
   "metadata": {},
   "outputs": [],
   "source": [
    "test_index = len(dataframe) - test_size"
   ]
  },
  {
   "cell_type": "code",
   "execution_count": 13,
   "id": "9c279f29",
   "metadata": {},
   "outputs": [
    {
     "data": {
      "text/plain": [
       "458"
      ]
     },
     "execution_count": 13,
     "metadata": {},
     "output_type": "execute_result"
    }
   ],
   "source": [
    "test_index"
   ]
  },
  {
   "cell_type": "markdown",
   "id": "bfe10066",
   "metadata": {},
   "source": [
    "# Splitting Dataset"
   ]
  },
  {
   "cell_type": "markdown",
   "id": "de4c9694",
   "metadata": {},
   "source": [
    "Dataset splitting is an important step in machine learning and data analysis. It involves dividing a dataset into two or more subsets to train and evaluate a model effectively. The most common type of dataset splitting is into training and testing subsets."
   ]
  },
  {
   "cell_type": "code",
   "execution_count": 14,
   "id": "6c34955d",
   "metadata": {},
   "outputs": [],
   "source": [
    "train_dataframe = dataframe.iloc[:test_index]\n",
    "test_dataframe = dataframe.iloc[test_index:]"
   ]
  },
  {
   "cell_type": "code",
   "execution_count": 15,
   "id": "a7d369e9",
   "metadata": {},
   "outputs": [
    {
     "data": {
      "text/html": [
       "<div>\n",
       "<style scoped>\n",
       "    .dataframe tbody tr th:only-of-type {\n",
       "        vertical-align: middle;\n",
       "    }\n",
       "\n",
       "    .dataframe tbody tr th {\n",
       "        vertical-align: top;\n",
       "    }\n",
       "\n",
       "    .dataframe thead th {\n",
       "        text-align: right;\n",
       "    }\n",
       "</style>\n",
       "<table border=\"1\" class=\"dataframe\">\n",
       "  <thead>\n",
       "    <tr style=\"text-align: right;\">\n",
       "      <th></th>\n",
       "      <th>Monthly beer production</th>\n",
       "    </tr>\n",
       "    <tr>\n",
       "      <th>Month</th>\n",
       "      <th></th>\n",
       "    </tr>\n",
       "  </thead>\n",
       "  <tbody>\n",
       "    <tr>\n",
       "      <th>1994-03-01</th>\n",
       "      <td>164.0</td>\n",
       "    </tr>\n",
       "    <tr>\n",
       "      <th>1994-04-01</th>\n",
       "      <td>126.0</td>\n",
       "    </tr>\n",
       "    <tr>\n",
       "      <th>1994-05-01</th>\n",
       "      <td>131.0</td>\n",
       "    </tr>\n",
       "    <tr>\n",
       "      <th>1994-06-01</th>\n",
       "      <td>125.0</td>\n",
       "    </tr>\n",
       "    <tr>\n",
       "      <th>1994-07-01</th>\n",
       "      <td>127.0</td>\n",
       "    </tr>\n",
       "    <tr>\n",
       "      <th>1994-08-01</th>\n",
       "      <td>143.0</td>\n",
       "    </tr>\n",
       "    <tr>\n",
       "      <th>1994-09-01</th>\n",
       "      <td>143.0</td>\n",
       "    </tr>\n",
       "    <tr>\n",
       "      <th>1994-10-01</th>\n",
       "      <td>160.0</td>\n",
       "    </tr>\n",
       "    <tr>\n",
       "      <th>1994-11-01</th>\n",
       "      <td>190.0</td>\n",
       "    </tr>\n",
       "    <tr>\n",
       "      <th>1994-12-01</th>\n",
       "      <td>182.0</td>\n",
       "    </tr>\n",
       "    <tr>\n",
       "      <th>1995-01-01</th>\n",
       "      <td>138.0</td>\n",
       "    </tr>\n",
       "    <tr>\n",
       "      <th>1995-02-01</th>\n",
       "      <td>136.0</td>\n",
       "    </tr>\n",
       "    <tr>\n",
       "      <th>1995-03-01</th>\n",
       "      <td>152.0</td>\n",
       "    </tr>\n",
       "    <tr>\n",
       "      <th>1995-04-01</th>\n",
       "      <td>127.0</td>\n",
       "    </tr>\n",
       "    <tr>\n",
       "      <th>1995-05-01</th>\n",
       "      <td>151.0</td>\n",
       "    </tr>\n",
       "    <tr>\n",
       "      <th>1995-06-01</th>\n",
       "      <td>130.0</td>\n",
       "    </tr>\n",
       "    <tr>\n",
       "      <th>1995-07-01</th>\n",
       "      <td>119.0</td>\n",
       "    </tr>\n",
       "    <tr>\n",
       "      <th>1995-08-01</th>\n",
       "      <td>153.0</td>\n",
       "    </tr>\n",
       "  </tbody>\n",
       "</table>\n",
       "</div>"
      ],
      "text/plain": [
       "            Monthly beer production\n",
       "Month                              \n",
       "1994-03-01                    164.0\n",
       "1994-04-01                    126.0\n",
       "1994-05-01                    131.0\n",
       "1994-06-01                    125.0\n",
       "1994-07-01                    127.0\n",
       "1994-08-01                    143.0\n",
       "1994-09-01                    143.0\n",
       "1994-10-01                    160.0\n",
       "1994-11-01                    190.0\n",
       "1994-12-01                    182.0\n",
       "1995-01-01                    138.0\n",
       "1995-02-01                    136.0\n",
       "1995-03-01                    152.0\n",
       "1995-04-01                    127.0\n",
       "1995-05-01                    151.0\n",
       "1995-06-01                    130.0\n",
       "1995-07-01                    119.0\n",
       "1995-08-01                    153.0"
      ]
     },
     "execution_count": 15,
     "metadata": {},
     "output_type": "execute_result"
    }
   ],
   "source": [
    "test_dataframe"
   ]
  },
  {
   "cell_type": "code",
   "execution_count": 16,
   "id": "7eabe2fc",
   "metadata": {},
   "outputs": [
    {
     "data": {
      "text/html": [
       "<div>\n",
       "<style scoped>\n",
       "    .dataframe tbody tr th:only-of-type {\n",
       "        vertical-align: middle;\n",
       "    }\n",
       "\n",
       "    .dataframe tbody tr th {\n",
       "        vertical-align: top;\n",
       "    }\n",
       "\n",
       "    .dataframe thead th {\n",
       "        text-align: right;\n",
       "    }\n",
       "</style>\n",
       "<table border=\"1\" class=\"dataframe\">\n",
       "  <thead>\n",
       "    <tr style=\"text-align: right;\">\n",
       "      <th></th>\n",
       "      <th>Monthly beer production</th>\n",
       "    </tr>\n",
       "    <tr>\n",
       "      <th>Month</th>\n",
       "      <th></th>\n",
       "    </tr>\n",
       "  </thead>\n",
       "  <tbody>\n",
       "    <tr>\n",
       "      <th>1956-01-01</th>\n",
       "      <td>93.2</td>\n",
       "    </tr>\n",
       "    <tr>\n",
       "      <th>1956-02-01</th>\n",
       "      <td>96.0</td>\n",
       "    </tr>\n",
       "    <tr>\n",
       "      <th>1956-03-01</th>\n",
       "      <td>95.2</td>\n",
       "    </tr>\n",
       "    <tr>\n",
       "      <th>1956-04-01</th>\n",
       "      <td>77.1</td>\n",
       "    </tr>\n",
       "    <tr>\n",
       "      <th>1956-05-01</th>\n",
       "      <td>70.9</td>\n",
       "    </tr>\n",
       "    <tr>\n",
       "      <th>...</th>\n",
       "      <td>...</td>\n",
       "    </tr>\n",
       "    <tr>\n",
       "      <th>1993-10-01</th>\n",
       "      <td>151.0</td>\n",
       "    </tr>\n",
       "    <tr>\n",
       "      <th>1993-11-01</th>\n",
       "      <td>177.0</td>\n",
       "    </tr>\n",
       "    <tr>\n",
       "      <th>1993-12-01</th>\n",
       "      <td>184.0</td>\n",
       "    </tr>\n",
       "    <tr>\n",
       "      <th>1994-01-01</th>\n",
       "      <td>151.0</td>\n",
       "    </tr>\n",
       "    <tr>\n",
       "      <th>1994-02-01</th>\n",
       "      <td>134.0</td>\n",
       "    </tr>\n",
       "  </tbody>\n",
       "</table>\n",
       "<p>458 rows × 1 columns</p>\n",
       "</div>"
      ],
      "text/plain": [
       "            Monthly beer production\n",
       "Month                              \n",
       "1956-01-01                     93.2\n",
       "1956-02-01                     96.0\n",
       "1956-03-01                     95.2\n",
       "1956-04-01                     77.1\n",
       "1956-05-01                     70.9\n",
       "...                             ...\n",
       "1993-10-01                    151.0\n",
       "1993-11-01                    177.0\n",
       "1993-12-01                    184.0\n",
       "1994-01-01                    151.0\n",
       "1994-02-01                    134.0\n",
       "\n",
       "[458 rows x 1 columns]"
      ]
     },
     "execution_count": 16,
     "metadata": {},
     "output_type": "execute_result"
    }
   ],
   "source": [
    "train_dataframe"
   ]
  },
  {
   "cell_type": "markdown",
   "id": "919321c0",
   "metadata": {},
   "source": [
    "# Scaling"
   ]
  },
  {
   "cell_type": "markdown",
   "id": "e261c4f6",
   "metadata": {},
   "source": [
    "Scaling is a common preprocessing step in data analysis and machine learning. It involves transforming the features of a dataset to a standard scale, which can help improve the performance and stability of models"
   ]
  },
  {
   "cell_type": "markdown",
   "id": "a9788945",
   "metadata": {},
   "source": [
    "MinMaxScaler is a popular scaling technique used in data preprocessing. It scales the features to a specified range, typically between 0 and 1."
   ]
  },
  {
   "cell_type": "code",
   "execution_count": 17,
   "id": "2127b1a6",
   "metadata": {},
   "outputs": [],
   "source": [
    "from sklearn.preprocessing import MinMaxScaler"
   ]
  },
  {
   "cell_type": "code",
   "execution_count": 18,
   "id": "e474a089",
   "metadata": {},
   "outputs": [],
   "source": [
    "scaler = MinMaxScaler()"
   ]
  },
  {
   "cell_type": "code",
   "execution_count": 19,
   "id": "8732913f",
   "metadata": {},
   "outputs": [
    {
     "data": {
      "text/html": [
       "<style>#sk-container-id-1 {color: black;background-color: white;}#sk-container-id-1 pre{padding: 0;}#sk-container-id-1 div.sk-toggleable {background-color: white;}#sk-container-id-1 label.sk-toggleable__label {cursor: pointer;display: block;width: 100%;margin-bottom: 0;padding: 0.3em;box-sizing: border-box;text-align: center;}#sk-container-id-1 label.sk-toggleable__label-arrow:before {content: \"▸\";float: left;margin-right: 0.25em;color: #696969;}#sk-container-id-1 label.sk-toggleable__label-arrow:hover:before {color: black;}#sk-container-id-1 div.sk-estimator:hover label.sk-toggleable__label-arrow:before {color: black;}#sk-container-id-1 div.sk-toggleable__content {max-height: 0;max-width: 0;overflow: hidden;text-align: left;background-color: #f0f8ff;}#sk-container-id-1 div.sk-toggleable__content pre {margin: 0.2em;color: black;border-radius: 0.25em;background-color: #f0f8ff;}#sk-container-id-1 input.sk-toggleable__control:checked~div.sk-toggleable__content {max-height: 200px;max-width: 100%;overflow: auto;}#sk-container-id-1 input.sk-toggleable__control:checked~label.sk-toggleable__label-arrow:before {content: \"▾\";}#sk-container-id-1 div.sk-estimator input.sk-toggleable__control:checked~label.sk-toggleable__label {background-color: #d4ebff;}#sk-container-id-1 div.sk-label input.sk-toggleable__control:checked~label.sk-toggleable__label {background-color: #d4ebff;}#sk-container-id-1 input.sk-hidden--visually {border: 0;clip: rect(1px 1px 1px 1px);clip: rect(1px, 1px, 1px, 1px);height: 1px;margin: -1px;overflow: hidden;padding: 0;position: absolute;width: 1px;}#sk-container-id-1 div.sk-estimator {font-family: monospace;background-color: #f0f8ff;border: 1px dotted black;border-radius: 0.25em;box-sizing: border-box;margin-bottom: 0.5em;}#sk-container-id-1 div.sk-estimator:hover {background-color: #d4ebff;}#sk-container-id-1 div.sk-parallel-item::after {content: \"\";width: 100%;border-bottom: 1px solid gray;flex-grow: 1;}#sk-container-id-1 div.sk-label:hover label.sk-toggleable__label {background-color: #d4ebff;}#sk-container-id-1 div.sk-serial::before {content: \"\";position: absolute;border-left: 1px solid gray;box-sizing: border-box;top: 0;bottom: 0;left: 50%;z-index: 0;}#sk-container-id-1 div.sk-serial {display: flex;flex-direction: column;align-items: center;background-color: white;padding-right: 0.2em;padding-left: 0.2em;position: relative;}#sk-container-id-1 div.sk-item {position: relative;z-index: 1;}#sk-container-id-1 div.sk-parallel {display: flex;align-items: stretch;justify-content: center;background-color: white;position: relative;}#sk-container-id-1 div.sk-item::before, #sk-container-id-1 div.sk-parallel-item::before {content: \"\";position: absolute;border-left: 1px solid gray;box-sizing: border-box;top: 0;bottom: 0;left: 50%;z-index: -1;}#sk-container-id-1 div.sk-parallel-item {display: flex;flex-direction: column;z-index: 1;position: relative;background-color: white;}#sk-container-id-1 div.sk-parallel-item:first-child::after {align-self: flex-end;width: 50%;}#sk-container-id-1 div.sk-parallel-item:last-child::after {align-self: flex-start;width: 50%;}#sk-container-id-1 div.sk-parallel-item:only-child::after {width: 0;}#sk-container-id-1 div.sk-dashed-wrapped {border: 1px dashed gray;margin: 0 0.4em 0.5em 0.4em;box-sizing: border-box;padding-bottom: 0.4em;background-color: white;}#sk-container-id-1 div.sk-label label {font-family: monospace;font-weight: bold;display: inline-block;line-height: 1.2em;}#sk-container-id-1 div.sk-label-container {text-align: center;}#sk-container-id-1 div.sk-container {/* jupyter's `normalize.less` sets `[hidden] { display: none; }` but bootstrap.min.css set `[hidden] { display: none !important; }` so we also need the `!important` here to be able to override the default hidden behavior on the sphinx rendered scikit-learn.org. See: https://github.com/scikit-learn/scikit-learn/issues/21755 */display: inline-block !important;position: relative;}#sk-container-id-1 div.sk-text-repr-fallback {display: none;}</style><div id=\"sk-container-id-1\" class=\"sk-top-container\"><div class=\"sk-text-repr-fallback\"><pre>MinMaxScaler()</pre><b>In a Jupyter environment, please rerun this cell to show the HTML representation or trust the notebook. <br />On GitHub, the HTML representation is unable to render, please try loading this page with nbviewer.org.</b></div><div class=\"sk-container\" hidden><div class=\"sk-item\"><div class=\"sk-estimator sk-toggleable\"><input class=\"sk-toggleable__control sk-hidden--visually\" id=\"sk-estimator-id-1\" type=\"checkbox\" checked><label for=\"sk-estimator-id-1\" class=\"sk-toggleable__label sk-toggleable__label-arrow\">MinMaxScaler</label><div class=\"sk-toggleable__content\"><pre>MinMaxScaler()</pre></div></div></div></div></div>"
      ],
      "text/plain": [
       "MinMaxScaler()"
      ]
     },
     "execution_count": 19,
     "metadata": {},
     "output_type": "execute_result"
    }
   ],
   "source": [
    "scaler.fit(train_dataframe)"
   ]
  },
  {
   "cell_type": "code",
   "execution_count": 20,
   "id": "132fcea5",
   "metadata": {},
   "outputs": [],
   "source": [
    "scaled_train = scaler.transform(train_dataframe)\n",
    "scaled_test = scaler.transform(test_dataframe)"
   ]
  },
  {
   "cell_type": "code",
   "execution_count": 21,
   "id": "e5d1228a",
   "metadata": {
    "scrolled": true
   },
   "outputs": [
    {
     "data": {
      "text/plain": [
       "array([[0.18562092],\n",
       "       [0.20392157],\n",
       "       [0.19869281],\n",
       "       [0.08039216],\n",
       "       [0.03986928],\n",
       "       [0.        ],\n",
       "       [0.03464052],\n",
       "       [0.08169935],\n",
       "       [0.09607843],\n",
       "       [0.23398693],\n",
       "       [0.23464052],\n",
       "       [0.27647059],\n",
       "       [0.20326797],\n",
       "       [0.11764706],\n",
       "       [0.12091503],\n",
       "       [0.09934641],\n",
       "       [0.10196078],\n",
       "       [0.01764706],\n",
       "       [0.07124183],\n",
       "       [0.04117647],\n",
       "       [0.16013072],\n",
       "       [0.2372549 ],\n",
       "       [0.26405229],\n",
       "       [0.32222222],\n",
       "       [0.20588235],\n",
       "       [0.12810458],\n",
       "       [0.17254902],\n",
       "       [0.11176471],\n",
       "       [0.10261438],\n",
       "       [0.03660131],\n",
       "       [0.06535948],\n",
       "       [0.07254902],\n",
       "       [0.14052288],\n",
       "       [0.22156863],\n",
       "       [0.23594771],\n",
       "       [0.32026144],\n",
       "       [0.16339869],\n",
       "       [0.12810458],\n",
       "       [0.14640523],\n",
       "       [0.13594771],\n",
       "       [0.04705882],\n",
       "       [0.02875817],\n",
       "       [0.08300654],\n",
       "       [0.0869281 ],\n",
       "       [0.19281046],\n",
       "       [0.21503268],\n",
       "       [0.23137255],\n",
       "       [0.3372549 ],\n",
       "       [0.21111111],\n",
       "       [0.18431373],\n",
       "       [0.20392157],\n",
       "       [0.10261438],\n",
       "       [0.07385621],\n",
       "       [0.03333333],\n",
       "       [0.05751634],\n",
       "       [0.18169935],\n",
       "       [0.19215686],\n",
       "       [0.1875817 ],\n",
       "       [0.28562092],\n",
       "       [0.29150327],\n",
       "       [0.26339869],\n",
       "       [0.18104575],\n",
       "       [0.21111111],\n",
       "       [0.10849673],\n",
       "       [0.09346405],\n",
       "       [0.04771242],\n",
       "       [0.09084967],\n",
       "       [0.14575163],\n",
       "       [0.17385621],\n",
       "       [0.29477124],\n",
       "       [0.33660131],\n",
       "       [0.31503268],\n",
       "       [0.23006536],\n",
       "       [0.13071895],\n",
       "       [0.19281046],\n",
       "       [0.14575163],\n",
       "       [0.16666667],\n",
       "       [0.0496732 ],\n",
       "       [0.13137255],\n",
       "       [0.18235294],\n",
       "       [0.17908497],\n",
       "       [0.32745098],\n",
       "       [0.31176471],\n",
       "       [0.3496732 ],\n",
       "       [0.26928105],\n",
       "       [0.17254902],\n",
       "       [0.20784314],\n",
       "       [0.20588235],\n",
       "       [0.15294118],\n",
       "       [0.03529412],\n",
       "       [0.14183007],\n",
       "       [0.15294118],\n",
       "       [0.24836601],\n",
       "       [0.35490196],\n",
       "       [0.35555556],\n",
       "       [0.39411765],\n",
       "       [0.26993464],\n",
       "       [0.24379085],\n",
       "       [0.26405229],\n",
       "       [0.23660131],\n",
       "       [0.12745098],\n",
       "       [0.14836601],\n",
       "       [0.18235294],\n",
       "       [0.19346405],\n",
       "       [0.31503268],\n",
       "       [0.32091503],\n",
       "       [0.37973856],\n",
       "       [0.44379085],\n",
       "       [0.2751634 ],\n",
       "       [0.20784314],\n",
       "       [0.40849673],\n",
       "       [0.21830065],\n",
       "       [0.23137255],\n",
       "       [0.16078431],\n",
       "       [0.19934641],\n",
       "       [0.25751634],\n",
       "       [0.27189542],\n",
       "       [0.33594771],\n",
       "       [0.46470588],\n",
       "       [0.45228758],\n",
       "       [0.26013072],\n",
       "       [0.27647059],\n",
       "       [0.38366013],\n",
       "       [0.22222222],\n",
       "       [0.22091503],\n",
       "       [0.16862745],\n",
       "       [0.15882353],\n",
       "       [0.26405229],\n",
       "       [0.32156863],\n",
       "       [0.3745098 ],\n",
       "       [0.47843137],\n",
       "       [0.50588235],\n",
       "       [0.3372549 ],\n",
       "       [0.3124183 ],\n",
       "       [0.38562092],\n",
       "       [0.25359477],\n",
       "       [0.32091503],\n",
       "       [0.22091503],\n",
       "       [0.19738562],\n",
       "       [0.33464052],\n",
       "       [0.32091503],\n",
       "       [0.40980392],\n",
       "       [0.43529412],\n",
       "       [0.53006536],\n",
       "       [0.43594771],\n",
       "       [0.43267974],\n",
       "       [0.42941176],\n",
       "       [0.35359477],\n",
       "       [0.32352941],\n",
       "       [0.13660131],\n",
       "       [0.26013072],\n",
       "       [0.26339869],\n",
       "       [0.34313725],\n",
       "       [0.50784314],\n",
       "       [0.49150327],\n",
       "       [0.62091503],\n",
       "       [0.43398693],\n",
       "       [0.39607843],\n",
       "       [0.40326797],\n",
       "       [0.35686275],\n",
       "       [0.31830065],\n",
       "       [0.22156863],\n",
       "       [0.3248366 ],\n",
       "       [0.32026144],\n",
       "       [0.44640523],\n",
       "       [0.51372549],\n",
       "       [0.47385621],\n",
       "       [0.65620915],\n",
       "       [0.40588235],\n",
       "       [0.3869281 ],\n",
       "       [0.46339869],\n",
       "       [0.42614379],\n",
       "       [0.29150327],\n",
       "       [0.34640523],\n",
       "       [0.3627451 ],\n",
       "       [0.36732026],\n",
       "       [0.44117647],\n",
       "       [0.51045752],\n",
       "       [0.53986928],\n",
       "       [0.72614379],\n",
       "       [0.44313725],\n",
       "       [0.38496732],\n",
       "       [0.57843137],\n",
       "       [0.45228758],\n",
       "       [0.35816993],\n",
       "       [0.33594771],\n",
       "       [0.35163399],\n",
       "       [0.43071895],\n",
       "       [0.42156863],\n",
       "       [0.52026144],\n",
       "       [0.64313725],\n",
       "       [0.74901961],\n",
       "       [0.41372549],\n",
       "       [0.48104575],\n",
       "       [0.5745098 ],\n",
       "       [0.36078431],\n",
       "       [0.49477124],\n",
       "       [0.33594771],\n",
       "       [0.36993464],\n",
       "       [0.41176471],\n",
       "       [0.51503268],\n",
       "       [0.60653595],\n",
       "       [0.6627451 ],\n",
       "       [0.76797386],\n",
       "       [0.57712418],\n",
       "       [0.54117647],\n",
       "       [0.60718954],\n",
       "       [0.47320261],\n",
       "       [0.56666667],\n",
       "       [0.22156863],\n",
       "       [0.52941176],\n",
       "       [0.56797386],\n",
       "       [0.42222222],\n",
       "       [0.71437908],\n",
       "       [0.86405229],\n",
       "       [0.84379085],\n",
       "       [0.64901961],\n",
       "       [0.50980392],\n",
       "       [0.60849673],\n",
       "       [0.61699346],\n",
       "       [0.63660131],\n",
       "       [0.38104575],\n",
       "       [0.42614379],\n",
       "       [0.55751634],\n",
       "       [0.68366013],\n",
       "       [0.75098039],\n",
       "       [0.76666667],\n",
       "       [0.84640523],\n",
       "       [0.63137255],\n",
       "       [0.68366013],\n",
       "       [0.67973856],\n",
       "       [0.60980392],\n",
       "       [0.6124183 ],\n",
       "       [0.46078431],\n",
       "       [0.55228758],\n",
       "       [0.51372549],\n",
       "       [0.50588235],\n",
       "       [0.80784314],\n",
       "       [0.6627451 ],\n",
       "       [0.87843137],\n",
       "       [0.77058824],\n",
       "       [0.5254902 ],\n",
       "       [0.76666667],\n",
       "       [0.61372549],\n",
       "       [0.50196078],\n",
       "       [0.44313725],\n",
       "       [0.48888889],\n",
       "       [0.5372549 ],\n",
       "       [0.66535948],\n",
       "       [0.60261438],\n",
       "       [0.75555556],\n",
       "       [0.9503268 ],\n",
       "       [0.62091503],\n",
       "       [0.60784314],\n",
       "       [0.67581699],\n",
       "       [0.61176471],\n",
       "       [0.56993464],\n",
       "       [0.50588235],\n",
       "       [0.47320261],\n",
       "       [0.57385621],\n",
       "       [0.66666667],\n",
       "       [0.65882353],\n",
       "       [0.8745098 ],\n",
       "       [0.89346405],\n",
       "       [0.69215686],\n",
       "       [0.65098039],\n",
       "       [0.75098039],\n",
       "       [0.60261438],\n",
       "       [0.6745098 ],\n",
       "       [0.4869281 ],\n",
       "       [0.48235294],\n",
       "       [0.57908497],\n",
       "       [0.48431373],\n",
       "       [0.70130719],\n",
       "       [0.87320261],\n",
       "       [1.        ],\n",
       "       [0.71176471],\n",
       "       [0.58169935],\n",
       "       [0.72418301],\n",
       "       [0.5379085 ],\n",
       "       [0.62418301],\n",
       "       [0.46013072],\n",
       "       [0.54901961],\n",
       "       [0.56339869],\n",
       "       [0.54509804],\n",
       "       [0.76732026],\n",
       "       [0.8130719 ],\n",
       "       [0.77320261],\n",
       "       [0.6875817 ],\n",
       "       [0.61176471],\n",
       "       [0.72745098],\n",
       "       [0.59738562],\n",
       "       [0.57777778],\n",
       "       [0.34705882],\n",
       "       [0.55555556],\n",
       "       [0.6       ],\n",
       "       [0.66601307],\n",
       "       [0.60130719],\n",
       "       [0.6130719 ],\n",
       "       [0.95424837],\n",
       "       [0.90718954],\n",
       "       [0.72156863],\n",
       "       [0.67908497],\n",
       "       [0.59542484],\n",
       "       [0.53921569],\n",
       "       [0.47189542],\n",
       "       [0.49869281],\n",
       "       [0.67058824],\n",
       "       [0.62352941],\n",
       "       [0.83071895],\n",
       "       [0.71633987],\n",
       "       [0.9372549 ],\n",
       "       [0.61830065],\n",
       "       [0.62941176],\n",
       "       [0.70130719],\n",
       "       [0.61176471],\n",
       "       [0.3254902 ],\n",
       "       [0.61960784],\n",
       "       [0.62026144],\n",
       "       [0.61830065],\n",
       "       [0.62679739],\n",
       "       [0.65816993],\n",
       "       [0.91633987],\n",
       "       [0.91764706],\n",
       "       [0.50196078],\n",
       "       [0.54444444],\n",
       "       [0.78496732],\n",
       "       [0.44248366],\n",
       "       [0.47385621],\n",
       "       [0.4620915 ],\n",
       "       [0.37189542],\n",
       "       [0.6620915 ],\n",
       "       [0.53594771],\n",
       "       [0.64052288],\n",
       "       [0.79738562],\n",
       "       [0.78888889],\n",
       "       [0.56666667],\n",
       "       [0.60980392],\n",
       "       [0.51111111],\n",
       "       [0.56470588],\n",
       "       [0.54117647],\n",
       "       [0.43071895],\n",
       "       [0.4751634 ],\n",
       "       [0.53137255],\n",
       "       [0.4496732 ],\n",
       "       [0.67385621],\n",
       "       [0.76535948],\n",
       "       [0.89673203],\n",
       "       [0.66470588],\n",
       "       [0.56535948],\n",
       "       [0.53202614],\n",
       "       [0.54575163],\n",
       "       [0.52222222],\n",
       "       [0.38431373],\n",
       "       [0.56732026],\n",
       "       [0.45163399],\n",
       "       [0.4745098 ],\n",
       "       [0.76339869],\n",
       "       [0.76601307],\n",
       "       [0.81830065],\n",
       "       [0.63006536],\n",
       "       [0.59281046],\n",
       "       [0.50392157],\n",
       "       [0.65228758],\n",
       "       [0.46666667],\n",
       "       [0.40522876],\n",
       "       [0.57320261],\n",
       "       [0.40392157],\n",
       "       [0.55751634],\n",
       "       [0.79411765],\n",
       "       [0.54052288],\n",
       "       [0.88627451],\n",
       "       [0.73464052],\n",
       "       [0.40915033],\n",
       "       [0.73398693],\n",
       "       [0.58562092],\n",
       "       [0.46013072],\n",
       "       [0.40261438],\n",
       "       [0.53921569],\n",
       "       [0.49542484],\n",
       "       [0.57189542],\n",
       "       [0.56470588],\n",
       "       [0.70196078],\n",
       "       [0.98366013],\n",
       "       [0.58366013],\n",
       "       [0.61764706],\n",
       "       [0.6248366 ],\n",
       "       [0.56928105],\n",
       "       [0.54640523],\n",
       "       [0.48888889],\n",
       "       [0.54509804],\n",
       "       [0.57973856],\n",
       "       [0.5248366 ],\n",
       "       [0.77712418],\n",
       "       [0.95228758],\n",
       "       [0.90522876],\n",
       "       [0.57843137],\n",
       "       [0.51960784],\n",
       "       [0.68496732],\n",
       "       [0.51568627],\n",
       "       [0.62287582],\n",
       "       [0.4627451 ],\n",
       "       [0.50326797],\n",
       "       [0.62156863],\n",
       "       [0.52875817],\n",
       "       [0.77581699],\n",
       "       [0.87189542],\n",
       "       [0.79738562],\n",
       "       [0.70065359],\n",
       "       [0.56078431],\n",
       "       [0.64379085],\n",
       "       [0.58104575],\n",
       "       [0.57581699],\n",
       "       [0.4620915 ],\n",
       "       [0.54705882],\n",
       "       [0.54640523],\n",
       "       [0.4496732 ],\n",
       "       [0.84509804],\n",
       "       [0.93986928],\n",
       "       [0.86601307],\n",
       "       [0.65098039],\n",
       "       [0.54444444],\n",
       "       [0.56993464],\n",
       "       [0.51830065],\n",
       "       [0.58954248],\n",
       "       [0.39019608],\n",
       "       [0.57647059],\n",
       "       [0.53071895],\n",
       "       [0.47843137],\n",
       "       [0.81830065],\n",
       "       [0.83137255],\n",
       "       [0.83137255],\n",
       "       [0.5372549 ],\n",
       "       [0.44575163],\n",
       "       [0.64183007],\n",
       "       [0.55686275],\n",
       "       [0.41960784],\n",
       "       [0.43267974],\n",
       "       [0.52418301],\n",
       "       [0.47189542],\n",
       "       [0.47843137],\n",
       "       [0.6745098 ],\n",
       "       [0.72679739],\n",
       "       [0.80522876],\n",
       "       [0.48496732],\n",
       "       [0.51111111],\n",
       "       [0.55686275],\n",
       "       [0.58300654],\n",
       "       [0.47189542],\n",
       "       [0.41960784],\n",
       "       [0.4130719 ],\n",
       "       [0.49150327],\n",
       "       [0.51111111],\n",
       "       [0.56339869],\n",
       "       [0.73333333],\n",
       "       [0.77908497],\n",
       "       [0.56339869],\n",
       "       [0.45228758]])"
      ]
     },
     "execution_count": 21,
     "metadata": {},
     "output_type": "execute_result"
    }
   ],
   "source": [
    "scaled_train"
   ]
  },
  {
   "cell_type": "code",
   "execution_count": 22,
   "id": "0670a697",
   "metadata": {},
   "outputs": [
    {
     "data": {
      "text/plain": [
       "array([[0.64836601],\n",
       "       [0.4       ],\n",
       "       [0.43267974],\n",
       "       [0.39346405],\n",
       "       [0.40653595],\n",
       "       [0.51111111],\n",
       "       [0.51111111],\n",
       "       [0.62222222],\n",
       "       [0.81830065],\n",
       "       [0.76601307],\n",
       "       [0.47843137],\n",
       "       [0.46535948],\n",
       "       [0.56993464],\n",
       "       [0.40653595],\n",
       "       [0.56339869],\n",
       "       [0.42614379],\n",
       "       [0.35424837],\n",
       "       [0.57647059]])"
      ]
     },
     "execution_count": 22,
     "metadata": {},
     "output_type": "execute_result"
    }
   ],
   "source": [
    "scaled_test"
   ]
  },
  {
   "cell_type": "markdown",
   "id": "4800580a",
   "metadata": {},
   "source": [
    "# Timeseries Generator"
   ]
  },
  {
   "cell_type": "markdown",
   "id": "aa41c653",
   "metadata": {},
   "source": [
    "In time series analysis, a common approach is to use a time series generator to generate batches of sequential data for training recurrent neural networks (RNNs) or other time-based models. This allows you to efficiently process and train models on large time series datasets. Here's an example of how you can create a time series generator using the TimeseriesGenerator calss."
   ]
  },
  {
   "cell_type": "code",
   "execution_count": 23,
   "id": "77018893",
   "metadata": {},
   "outputs": [],
   "source": [
    "from tensorflow.keras.preprocessing.sequence import TimeseriesGenerator"
   ]
  },
  {
   "cell_type": "code",
   "execution_count": 24,
   "id": "68524510",
   "metadata": {},
   "outputs": [],
   "source": [
    "from tensorflow.keras.models import Sequential\n",
    "from tensorflow.keras.layers import Dense, LSTM\n",
    "from tensorflow.keras.callbacks import EarlyStopping"
   ]
  },
  {
   "cell_type": "code",
   "execution_count": 25,
   "id": "7759aa5f",
   "metadata": {},
   "outputs": [],
   "source": [
    "length = 12\n",
    "generator = TimeseriesGenerator(scaled_train, scaled_train, length=length, batch_size=1)"
   ]
  },
  {
   "cell_type": "code",
   "execution_count": 26,
   "id": "dbab18c8",
   "metadata": {},
   "outputs": [],
   "source": [
    "n_features = 1"
   ]
  },
  {
   "cell_type": "markdown",
   "id": "2e020d8c",
   "metadata": {},
   "source": [
    "# Building Model"
   ]
  },
  {
   "cell_type": "markdown",
   "id": "bb39bcf8",
   "metadata": {},
   "source": [
    "Creating a deep learning model involves defining the architecture and structure of the neural network, specifying the layers, and configuring the parameters for training."
   ]
  },
  {
   "cell_type": "code",
   "execution_count": 27,
   "id": "641a3f8a",
   "metadata": {},
   "outputs": [],
   "source": [
    "model = Sequential()\n",
    "model.add(LSTM(100, activation='relu', input_shape=(length, n_features)))\n",
    "model.add(Dense(1))"
   ]
  },
  {
   "cell_type": "code",
   "execution_count": 28,
   "id": "16e4febe",
   "metadata": {},
   "outputs": [
    {
     "name": "stdout",
     "output_type": "stream",
     "text": [
      "Model: \"sequential\"\n",
      "_________________________________________________________________\n",
      " Layer (type)                Output Shape              Param #   \n",
      "=================================================================\n",
      " lstm (LSTM)                 (None, 100)               40800     \n",
      "                                                                 \n",
      " dense (Dense)               (None, 1)                 101       \n",
      "                                                                 \n",
      "=================================================================\n",
      "Total params: 40,901\n",
      "Trainable params: 40,901\n",
      "Non-trainable params: 0\n",
      "_________________________________________________________________\n"
     ]
    }
   ],
   "source": [
    "model.summary()"
   ]
  },
  {
   "cell_type": "markdown",
   "id": "9760c465",
   "metadata": {},
   "source": [
    "# Compiling Model"
   ]
  },
  {
   "cell_type": "markdown",
   "id": "1a90a616",
   "metadata": {},
   "source": [
    "Compiling the model in deep learning involves configuring essential components that define how the model will be trained."
   ]
  },
  {
   "cell_type": "code",
   "execution_count": 29,
   "id": "d162795d",
   "metadata": {},
   "outputs": [],
   "source": [
    "model.compile(optimizer='adam', loss='mse')"
   ]
  },
  {
   "cell_type": "code",
   "execution_count": 30,
   "id": "235f886d",
   "metadata": {},
   "outputs": [],
   "source": [
    "early_stopping = EarlyStopping(monitor='val_loss',patience=2)"
   ]
  },
  {
   "cell_type": "code",
   "execution_count": 31,
   "id": "05ddee10",
   "metadata": {},
   "outputs": [],
   "source": [
    "validation_generator = TimeseriesGenerator(scaled_test,scaled_test, length=length, batch_size=1)"
   ]
  },
  {
   "cell_type": "markdown",
   "id": "cb5b1357",
   "metadata": {},
   "source": [
    "# Training Model"
   ]
  },
  {
   "cell_type": "markdown",
   "id": "ad0a1168",
   "metadata": {},
   "source": [
    "Training the model in deep learning involves the process of iteratively updating the model's parameters (weights and biases) based on the provided training data to minimize the loss function and improve the model's performance"
   ]
  },
  {
   "cell_type": "code",
   "execution_count": 33,
   "id": "74c493ed",
   "metadata": {},
   "outputs": [
    {
     "name": "stderr",
     "output_type": "stream",
     "text": [
      "C:\\Users\\DELL\\AppData\\Local\\Temp\\ipykernel_11472\\3351939425.py:1: UserWarning: `Model.fit_generator` is deprecated and will be removed in a future version. Please use `Model.fit`, which supports generators.\n",
      "  model.fit_generator(generator,epochs=20,\n"
     ]
    },
    {
     "name": "stdout",
     "output_type": "stream",
     "text": [
      "Epoch 1/20\n",
      "446/446 [==============================] - 14s 19ms/step - loss: 0.0227 - val_loss: 0.0462\n",
      "Epoch 2/20\n",
      "446/446 [==============================] - 10s 22ms/step - loss: 0.0148 - val_loss: 0.0118\n",
      "Epoch 3/20\n",
      "446/446 [==============================] - 11s 25ms/step - loss: 0.0098 - val_loss: 0.0139\n",
      "Epoch 4/20\n",
      "446/446 [==============================] - 8s 19ms/step - loss: 0.0091 - val_loss: 0.0107\n",
      "Epoch 5/20\n",
      "446/446 [==============================] - 8s 19ms/step - loss: 0.0085 - val_loss: 0.0077\n",
      "Epoch 6/20\n",
      "446/446 [==============================] - 9s 21ms/step - loss: 0.0070 - val_loss: 0.0064\n",
      "Epoch 7/20\n",
      "446/446 [==============================] - 9s 19ms/step - loss: 0.0069 - val_loss: 0.0070\n",
      "Epoch 8/20\n",
      "446/446 [==============================] - 8s 18ms/step - loss: 0.0069 - val_loss: 0.0073\n"
     ]
    },
    {
     "data": {
      "text/plain": [
       "<keras.callbacks.History at 0x1b247cabbb0>"
      ]
     },
     "execution_count": 33,
     "metadata": {},
     "output_type": "execute_result"
    }
   ],
   "source": [
    "model.fit_generator(generator,epochs=20,\n",
    "                    validation_data=validation_generator,\n",
    "                   callbacks=[early_stopping])"
   ]
  },
  {
   "cell_type": "code",
   "execution_count": 34,
   "id": "3be860fd",
   "metadata": {},
   "outputs": [],
   "source": [
    "loss = pd.DataFrame(model.history.history)"
   ]
  },
  {
   "cell_type": "code",
   "execution_count": 35,
   "id": "5472b0ce",
   "metadata": {},
   "outputs": [
    {
     "data": {
      "text/html": [
       "<div>\n",
       "<style scoped>\n",
       "    .dataframe tbody tr th:only-of-type {\n",
       "        vertical-align: middle;\n",
       "    }\n",
       "\n",
       "    .dataframe tbody tr th {\n",
       "        vertical-align: top;\n",
       "    }\n",
       "\n",
       "    .dataframe thead th {\n",
       "        text-align: right;\n",
       "    }\n",
       "</style>\n",
       "<table border=\"1\" class=\"dataframe\">\n",
       "  <thead>\n",
       "    <tr style=\"text-align: right;\">\n",
       "      <th></th>\n",
       "      <th>loss</th>\n",
       "      <th>val_loss</th>\n",
       "    </tr>\n",
       "  </thead>\n",
       "  <tbody>\n",
       "    <tr>\n",
       "      <th>0</th>\n",
       "      <td>0.022651</td>\n",
       "      <td>0.046185</td>\n",
       "    </tr>\n",
       "    <tr>\n",
       "      <th>1</th>\n",
       "      <td>0.014845</td>\n",
       "      <td>0.011761</td>\n",
       "    </tr>\n",
       "    <tr>\n",
       "      <th>2</th>\n",
       "      <td>0.009823</td>\n",
       "      <td>0.013869</td>\n",
       "    </tr>\n",
       "    <tr>\n",
       "      <th>3</th>\n",
       "      <td>0.009089</td>\n",
       "      <td>0.010725</td>\n",
       "    </tr>\n",
       "    <tr>\n",
       "      <th>4</th>\n",
       "      <td>0.008498</td>\n",
       "      <td>0.007736</td>\n",
       "    </tr>\n",
       "  </tbody>\n",
       "</table>\n",
       "</div>"
      ],
      "text/plain": [
       "       loss  val_loss\n",
       "0  0.022651  0.046185\n",
       "1  0.014845  0.011761\n",
       "2  0.009823  0.013869\n",
       "3  0.009089  0.010725\n",
       "4  0.008498  0.007736"
      ]
     },
     "execution_count": 35,
     "metadata": {},
     "output_type": "execute_result"
    }
   ],
   "source": [
    "loss.head()"
   ]
  },
  {
   "cell_type": "code",
   "execution_count": 36,
   "id": "d16b60d5",
   "metadata": {},
   "outputs": [
    {
     "data": {
      "text/plain": [
       "<AxesSubplot:>"
      ]
     },
     "execution_count": 36,
     "metadata": {},
     "output_type": "execute_result"
    },
    {
     "data": {
      "image/png": "[encoded data removed]",
      "text/plain": [
       "<Figure size 432x288 with 1 Axes>"
      ]
     },
     "metadata": {
      "needs_background": "light"
     },
     "output_type": "display_data"
    }
   ],
   "source": [
    "loss.plot()"
   ]
  },
  {
   "cell_type": "markdown",
   "id": "00a0eecf",
   "metadata": {},
   "source": [
    "# Predicting On Test Dataframe"
   ]
  },
  {
   "cell_type": "code",
   "execution_count": 37,
   "id": "00cad81d",
   "metadata": {
    "scrolled": true
   },
   "outputs": [
    {
     "name": "stdout",
     "output_type": "stream",
     "text": [
      "1/1 [==============================] - 1s 845ms/step\n",
      "1/1 [==============================] - 0s 65ms/step\n",
      "1/1 [==============================] - 0s 68ms/step\n",
      "1/1 [==============================] - 0s 57ms/step\n",
      "1/1 [==============================] - 0s 128ms/step\n",
      "1/1 [==============================] - 0s 81ms/step\n",
      "1/1 [==============================] - 0s 92ms/step\n",
      "1/1 [==============================] - 0s 71ms/step\n",
      "1/1 [==============================] - 0s 74ms/step\n",
      "1/1 [==============================] - 0s 71ms/step\n",
      "1/1 [==============================] - 0s 79ms/step\n",
      "1/1 [==============================] - 0s 89ms/step\n",
      "1/1 [==============================] - 0s 72ms/step\n",
      "1/1 [==============================] - 0s 72ms/step\n",
      "1/1 [==============================] - 0s 79ms/step\n",
      "1/1 [==============================] - 0s 99ms/step\n",
      "1/1 [==============================] - 0s 63ms/step\n",
      "1/1 [==============================] - 0s 66ms/step\n"
     ]
    }
   ],
   "source": [
    "test_predictions = []\n",
    "\n",
    "first_eval_batch = scaled_train[-length:]\n",
    "current_batch = first_eval_batch.reshape((1, length, n_features))\n",
    "\n",
    "for i in range(len(test_dataframe)):\n",
    "\n",
    "    current_pred = model.predict(current_batch)[0]\n",
    "\n",
    "    test_predictions.append(current_pred) \n",
    "\n",
    "    current_batch = np.append(current_batch[:,1:,:],[[current_pred]],axis=1)"
   ]
  },
  {
   "cell_type": "code",
   "execution_count": 38,
   "id": "942bd343",
   "metadata": {},
   "outputs": [],
   "source": [
    "test_prediction = scaler.inverse_transform(test_predictions)"
   ]
  },
  {
   "cell_type": "code",
   "execution_count": 39,
   "id": "49843991",
   "metadata": {},
   "outputs": [
    {
     "data": {
      "text/plain": [
       "array([[155.98680775],\n",
       "       [157.00070583],\n",
       "       [147.11576729],\n",
       "       [142.30979429],\n",
       "       [142.81405764],\n",
       "       [148.08512567],\n",
       "       [152.98310541],\n",
       "       [165.74371748],\n",
       "       [183.62692283],\n",
       "       [185.09654109],\n",
       "       [162.88406693],\n",
       "       [155.61309932],\n",
       "       [163.78607773],\n",
       "       [162.5416749 ],\n",
       "       [155.99329172],\n",
       "       [152.41410266],\n",
       "       [152.63977407],\n",
       "       [155.94187592]])"
      ]
     },
     "execution_count": 39,
     "metadata": {},
     "output_type": "execute_result"
    }
   ],
   "source": [
    "test_prediction"
   ]
  },
  {
   "cell_type": "code",
   "execution_count": 40,
   "id": "6ebbe3ce",
   "metadata": {},
   "outputs": [
    {
     "name": "stderr",
     "output_type": "stream",
     "text": [
      "C:\\Users\\DELL\\AppData\\Local\\Temp\\ipykernel_11472\\4208336148.py:1: SettingWithCopyWarning: \n",
      "A value is trying to be set on a copy of a slice from a DataFrame.\n",
      "Try using .loc[row_indexer,col_indexer] = value instead\n",
      "\n",
      "See the caveats in the documentation: https://pandas.pydata.org/pandas-docs/stable/user_guide/indexing.html#returning-a-view-versus-a-copy\n",
      "  test_dataframe['Prediction'] = test_prediction\n"
     ]
    }
   ],
   "source": [
    "test_dataframe['Prediction'] = test_prediction"
   ]
  },
  {
   "cell_type": "code",
   "execution_count": 41,
   "id": "d14f2276",
   "metadata": {},
   "outputs": [
    {
     "data": {
      "text/html": [
       "<div>\n",
       "<style scoped>\n",
       "    .dataframe tbody tr th:only-of-type {\n",
       "        vertical-align: middle;\n",
       "    }\n",
       "\n",
       "    .dataframe tbody tr th {\n",
       "        vertical-align: top;\n",
       "    }\n",
       "\n",
       "    .dataframe thead th {\n",
       "        text-align: right;\n",
       "    }\n",
       "</style>\n",
       "<table border=\"1\" class=\"dataframe\">\n",
       "  <thead>\n",
       "    <tr style=\"text-align: right;\">\n",
       "      <th></th>\n",
       "      <th>Monthly beer production</th>\n",
       "      <th>Prediction</th>\n",
       "    </tr>\n",
       "    <tr>\n",
       "      <th>Month</th>\n",
       "      <th></th>\n",
       "      <th></th>\n",
       "    </tr>\n",
       "  </thead>\n",
       "  <tbody>\n",
       "    <tr>\n",
       "      <th>1994-03-01</th>\n",
       "      <td>164.0</td>\n",
       "      <td>155.986808</td>\n",
       "    </tr>\n",
       "    <tr>\n",
       "      <th>1994-04-01</th>\n",
       "      <td>126.0</td>\n",
       "      <td>157.000706</td>\n",
       "    </tr>\n",
       "    <tr>\n",
       "      <th>1994-05-01</th>\n",
       "      <td>131.0</td>\n",
       "      <td>147.115767</td>\n",
       "    </tr>\n",
       "    <tr>\n",
       "      <th>1994-06-01</th>\n",
       "      <td>125.0</td>\n",
       "      <td>142.309794</td>\n",
       "    </tr>\n",
       "    <tr>\n",
       "      <th>1994-07-01</th>\n",
       "      <td>127.0</td>\n",
       "      <td>142.814058</td>\n",
       "    </tr>\n",
       "    <tr>\n",
       "      <th>1994-08-01</th>\n",
       "      <td>143.0</td>\n",
       "      <td>148.085126</td>\n",
       "    </tr>\n",
       "    <tr>\n",
       "      <th>1994-09-01</th>\n",
       "      <td>143.0</td>\n",
       "      <td>152.983105</td>\n",
       "    </tr>\n",
       "    <tr>\n",
       "      <th>1994-10-01</th>\n",
       "      <td>160.0</td>\n",
       "      <td>165.743717</td>\n",
       "    </tr>\n",
       "    <tr>\n",
       "      <th>1994-11-01</th>\n",
       "      <td>190.0</td>\n",
       "      <td>183.626923</td>\n",
       "    </tr>\n",
       "    <tr>\n",
       "      <th>1994-12-01</th>\n",
       "      <td>182.0</td>\n",
       "      <td>185.096541</td>\n",
       "    </tr>\n",
       "    <tr>\n",
       "      <th>1995-01-01</th>\n",
       "      <td>138.0</td>\n",
       "      <td>162.884067</td>\n",
       "    </tr>\n",
       "    <tr>\n",
       "      <th>1995-02-01</th>\n",
       "      <td>136.0</td>\n",
       "      <td>155.613099</td>\n",
       "    </tr>\n",
       "    <tr>\n",
       "      <th>1995-03-01</th>\n",
       "      <td>152.0</td>\n",
       "      <td>163.786078</td>\n",
       "    </tr>\n",
       "    <tr>\n",
       "      <th>1995-04-01</th>\n",
       "      <td>127.0</td>\n",
       "      <td>162.541675</td>\n",
       "    </tr>\n",
       "    <tr>\n",
       "      <th>1995-05-01</th>\n",
       "      <td>151.0</td>\n",
       "      <td>155.993292</td>\n",
       "    </tr>\n",
       "    <tr>\n",
       "      <th>1995-06-01</th>\n",
       "      <td>130.0</td>\n",
       "      <td>152.414103</td>\n",
       "    </tr>\n",
       "    <tr>\n",
       "      <th>1995-07-01</th>\n",
       "      <td>119.0</td>\n",
       "      <td>152.639774</td>\n",
       "    </tr>\n",
       "    <tr>\n",
       "      <th>1995-08-01</th>\n",
       "      <td>153.0</td>\n",
       "      <td>155.941876</td>\n",
       "    </tr>\n",
       "  </tbody>\n",
       "</table>\n",
       "</div>"
      ],
      "text/plain": [
       "            Monthly beer production  Prediction\n",
       "Month                                          \n",
       "1994-03-01                    164.0  155.986808\n",
       "1994-04-01                    126.0  157.000706\n",
       "1994-05-01                    131.0  147.115767\n",
       "1994-06-01                    125.0  142.309794\n",
       "1994-07-01                    127.0  142.814058\n",
       "1994-08-01                    143.0  148.085126\n",
       "1994-09-01                    143.0  152.983105\n",
       "1994-10-01                    160.0  165.743717\n",
       "1994-11-01                    190.0  183.626923\n",
       "1994-12-01                    182.0  185.096541\n",
       "1995-01-01                    138.0  162.884067\n",
       "1995-02-01                    136.0  155.613099\n",
       "1995-03-01                    152.0  163.786078\n",
       "1995-04-01                    127.0  162.541675\n",
       "1995-05-01                    151.0  155.993292\n",
       "1995-06-01                    130.0  152.414103\n",
       "1995-07-01                    119.0  152.639774\n",
       "1995-08-01                    153.0  155.941876"
      ]
     },
     "execution_count": 41,
     "metadata": {},
     "output_type": "execute_result"
    }
   ],
   "source": [
    "test_dataframe"
   ]
  },
  {
   "cell_type": "markdown",
   "id": "3a9e8c2b",
   "metadata": {},
   "source": [
    "# Test Predicting VS Monthly Production"
   ]
  },
  {
   "cell_type": "code",
   "execution_count": 44,
   "id": "2ec69c91",
   "metadata": {},
   "outputs": [
    {
     "data": {
      "text/plain": [
       "<AxesSubplot:xlabel='Month'>"
      ]
     },
     "execution_count": 44,
     "metadata": {},
     "output_type": "execute_result"
    },
    {
     "data": {
      "image/png": "[encoded data removed]",
      "text/plain": [
       "<Figure size 864x360 with 1 Axes>"
      ]
     },
     "metadata": {
      "needs_background": "light"
     },
     "output_type": "display_data"
    }
   ],
   "source": [
    "test_dataframe.plot(figsize = (12, 5))"
   ]
  },
  {
   "cell_type": "markdown",
   "id": "3827a4ab",
   "metadata": {},
   "source": [
    "# Predicting On Full Dataframe"
   ]
  },
  {
   "cell_type": "code",
   "execution_count": 45,
   "id": "6c9b2f99",
   "metadata": {},
   "outputs": [],
   "source": [
    "full_scaled = MinMaxScaler()"
   ]
  },
  {
   "cell_type": "code",
   "execution_count": 49,
   "id": "06fd18b8",
   "metadata": {},
   "outputs": [],
   "source": [
    "scaled_full_data = full_scaled.fit_transform(dataframe)"
   ]
  },
  {
   "cell_type": "code",
   "execution_count": 50,
   "id": "b6fa2a2a",
   "metadata": {},
   "outputs": [],
   "source": [
    "length = 12\n",
    "generator = TimeseriesGenerator(scaled_full_data, scaled_full_data, length=length, batch_size=1)"
   ]
  },
  {
   "cell_type": "code",
   "execution_count": 51,
   "id": "5292b14f",
   "metadata": {},
   "outputs": [],
   "source": [
    "model = Sequential()\n",
    "model.add(LSTM(100, activation='relu', input_shape=(length, n_features)))\n",
    "model.add(Dense(1))"
   ]
  },
  {
   "cell_type": "code",
   "execution_count": 52,
   "id": "d0bd7c0e",
   "metadata": {},
   "outputs": [
    {
     "name": "stdout",
     "output_type": "stream",
     "text": [
      "Model: \"sequential_1\"\n",
      "_________________________________________________________________\n",
      " Layer (type)                Output Shape              Param #   \n",
      "=================================================================\n",
      " lstm_1 (LSTM)               (None, 100)               40800     \n",
      "                                                                 \n",
      " dense_1 (Dense)             (None, 1)                 101       \n",
      "                                                                 \n",
      "=================================================================\n",
      "Total params: 40,901\n",
      "Trainable params: 40,901\n",
      "Non-trainable params: 0\n",
      "_________________________________________________________________\n"
     ]
    }
   ],
   "source": [
    "model.summary()"
   ]
  },
  {
   "cell_type": "code",
   "execution_count": 53,
   "id": "bb5f90e7",
   "metadata": {},
   "outputs": [],
   "source": [
    "model.compile(optimizer='adam', loss='mse')"
   ]
  },
  {
   "cell_type": "code",
   "execution_count": 54,
   "id": "2a27a3fc",
   "metadata": {},
   "outputs": [
    {
     "name": "stdout",
     "output_type": "stream",
     "text": [
      "Epoch 1/10\n"
     ]
    },
    {
     "name": "stderr",
     "output_type": "stream",
     "text": [
      "C:\\Users\\DELL\\AppData\\Local\\Temp\\ipykernel_11472\\3818026791.py:1: UserWarning: `Model.fit_generator` is deprecated and will be removed in a future version. Please use `Model.fit`, which supports generators.\n",
      "  model.fit_generator(generator,epochs=10)\n"
     ]
    },
    {
     "name": "stdout",
     "output_type": "stream",
     "text": [
      "464/464 [==============================] - 11s 13ms/step - loss: 0.0241\n",
      "Epoch 2/10\n",
      "464/464 [==============================] - 6s 12ms/step - loss: 0.0131\n",
      "Epoch 3/10\n",
      "464/464 [==============================] - 7s 16ms/step - loss: 0.0104\n",
      "Epoch 4/10\n",
      "464/464 [==============================] - 9s 18ms/step - loss: 0.0088\n",
      "Epoch 5/10\n",
      "464/464 [==============================] - 7s 15ms/step - loss: 0.0086\n",
      "Epoch 6/10\n",
      "464/464 [==============================] - 8s 16ms/step - loss: 0.0079\n",
      "Epoch 7/10\n",
      "464/464 [==============================] - 7s 15ms/step - loss: 0.0081\n",
      "Epoch 8/10\n",
      "464/464 [==============================] - 10s 22ms/step - loss: 0.0071\n",
      "Epoch 9/10\n",
      "464/464 [==============================] - 8s 17ms/step - loss: 0.0074\n",
      "Epoch 10/10\n",
      "464/464 [==============================] - 9s 18ms/step - loss: 0.0071\n"
     ]
    },
    {
     "data": {
      "text/plain": [
       "<keras.callbacks.History at 0x1b24c478550>"
      ]
     },
     "execution_count": 54,
     "metadata": {},
     "output_type": "execute_result"
    }
   ],
   "source": [
    "model.fit_generator(generator,epochs=10)"
   ]
  },
  {
   "cell_type": "code",
   "execution_count": 55,
   "id": "04127f28",
   "metadata": {},
   "outputs": [],
   "source": [
    "model.save('model_beer_production.h5')"
   ]
  },
  {
   "cell_type": "code",
   "execution_count": 56,
   "id": "88f72993",
   "metadata": {},
   "outputs": [],
   "source": [
    "loss = pd.DataFrame(model.history.history)"
   ]
  },
  {
   "cell_type": "code",
   "execution_count": 57,
   "id": "e3d0936b",
   "metadata": {},
   "outputs": [
    {
     "data": {
      "text/plain": [
       "<AxesSubplot:>"
      ]
     },
     "execution_count": 57,
     "metadata": {},
     "output_type": "execute_result"
    },
    {
     "data": {
      "image/png": "[encoded data removed]",
      "text/plain": [
       "<Figure size 432x288 with 1 Axes>"
      ]
     },
     "metadata": {
      "needs_background": "light"
     },
     "output_type": "display_data"
    }
   ],
   "source": [
    "loss.plot()"
   ]
  },
  {
   "cell_type": "code",
   "execution_count": 58,
   "id": "d0eeaeac",
   "metadata": {},
   "outputs": [
    {
     "name": "stdout",
     "output_type": "stream",
     "text": [
      "1/1 [==============================] - 1s 601ms/step\n",
      "1/1 [==============================] - 0s 58ms/step\n",
      "1/1 [==============================] - 0s 68ms/step\n",
      "1/1 [==============================] - 0s 61ms/step\n",
      "1/1 [==============================] - 0s 63ms/step\n",
      "1/1 [==============================] - 0s 76ms/step\n",
      "1/1 [==============================] - 0s 54ms/step\n",
      "1/1 [==============================] - 0s 61ms/step\n",
      "1/1 [==============================] - 0s 64ms/step\n",
      "1/1 [==============================] - 0s 70ms/step\n",
      "1/1 [==============================] - 0s 71ms/step\n",
      "1/1 [==============================] - 0s 141ms/step\n",
      "1/1 [==============================] - 0s 86ms/step\n",
      "1/1 [==============================] - 0s 57ms/step\n",
      "1/1 [==============================] - 0s 87ms/step\n",
      "1/1 [==============================] - 0s 122ms/step\n",
      "1/1 [==============================] - 0s 69ms/step\n",
      "1/1 [==============================] - 0s 73ms/step\n"
     ]
    }
   ],
   "source": [
    "predict = []\n",
    "periods = 18\n",
    "\n",
    "first_eval_batch = scaled_full_data[-length:]\n",
    "current_batch = first_eval_batch.reshape((1, length, n_features))\n",
    "\n",
    "for i in range(periods):\n",
    "\n",
    "    current_pred = model.predict(current_batch)[0]\n",
    "\n",
    "    predict.append(current_pred) \n",
    "\n",
    "    current_batch = np.append(current_batch[:,1:,:],[[current_pred]],axis=1)"
   ]
  },
  {
   "cell_type": "code",
   "execution_count": 59,
   "id": "433c031c",
   "metadata": {},
   "outputs": [],
   "source": [
    "predict = scaler.inverse_transform(predict)"
   ]
  },
  {
   "cell_type": "code",
   "execution_count": 60,
   "id": "16abda64",
   "metadata": {},
   "outputs": [
    {
     "data": {
      "text/plain": [
       "array([[154.37167858],\n",
       "       [172.74515795],\n",
       "       [190.32668077],\n",
       "       [179.20578407],\n",
       "       [149.97382193],\n",
       "       [151.1499561 ],\n",
       "       [151.77298282],\n",
       "       [144.4505447 ],\n",
       "       [148.68584608],\n",
       "       [138.03215559],\n",
       "       [139.2346953 ],\n",
       "       [153.70972978],\n",
       "       [163.08687572],\n",
       "       [180.0520017 ],\n",
       "       [190.66236995],\n",
       "       [179.78027676],\n",
       "       [161.10820638],\n",
       "       [159.62570225]])"
      ]
     },
     "execution_count": 60,
     "metadata": {},
     "output_type": "execute_result"
    }
   ],
   "source": [
    "predict"
   ]
  },
  {
   "cell_type": "code",
   "execution_count": 76,
   "id": "2e901d1d",
   "metadata": {},
   "outputs": [],
   "source": [
    "predict_index = pd.date_range(start = '1995-08-01', periods = periods, freq = 'MS')"
   ]
  },
  {
   "cell_type": "code",
   "execution_count": 77,
   "id": "2ab14f6d",
   "metadata": {},
   "outputs": [],
   "source": [
    "predict_df = pd.DataFrame(data = predict,\n",
    "                          index = predict_index, \n",
    "                          columns = ['Prediction'])"
   ]
  },
  {
   "cell_type": "code",
   "execution_count": 78,
   "id": "7b135ac0",
   "metadata": {},
   "outputs": [
    {
     "data": {
      "text/html": [
       "<div>\n",
       "<style scoped>\n",
       "    .dataframe tbody tr th:only-of-type {\n",
       "        vertical-align: middle;\n",
       "    }\n",
       "\n",
       "    .dataframe tbody tr th {\n",
       "        vertical-align: top;\n",
       "    }\n",
       "\n",
       "    .dataframe thead th {\n",
       "        text-align: right;\n",
       "    }\n",
       "</style>\n",
       "<table border=\"1\" class=\"dataframe\">\n",
       "  <thead>\n",
       "    <tr style=\"text-align: right;\">\n",
       "      <th></th>\n",
       "      <th>Prediction</th>\n",
       "    </tr>\n",
       "  </thead>\n",
       "  <tbody>\n",
       "    <tr>\n",
       "      <th>1995-08-01</th>\n",
       "      <td>154.371679</td>\n",
       "    </tr>\n",
       "    <tr>\n",
       "      <th>1995-09-01</th>\n",
       "      <td>172.745158</td>\n",
       "    </tr>\n",
       "    <tr>\n",
       "      <th>1995-10-01</th>\n",
       "      <td>190.326681</td>\n",
       "    </tr>\n",
       "    <tr>\n",
       "      <th>1995-11-01</th>\n",
       "      <td>179.205784</td>\n",
       "    </tr>\n",
       "    <tr>\n",
       "      <th>1995-12-01</th>\n",
       "      <td>149.973822</td>\n",
       "    </tr>\n",
       "    <tr>\n",
       "      <th>1996-01-01</th>\n",
       "      <td>151.149956</td>\n",
       "    </tr>\n",
       "    <tr>\n",
       "      <th>1996-02-01</th>\n",
       "      <td>151.772983</td>\n",
       "    </tr>\n",
       "    <tr>\n",
       "      <th>1996-03-01</th>\n",
       "      <td>144.450545</td>\n",
       "    </tr>\n",
       "    <tr>\n",
       "      <th>1996-04-01</th>\n",
       "      <td>148.685846</td>\n",
       "    </tr>\n",
       "    <tr>\n",
       "      <th>1996-05-01</th>\n",
       "      <td>138.032156</td>\n",
       "    </tr>\n",
       "    <tr>\n",
       "      <th>1996-06-01</th>\n",
       "      <td>139.234695</td>\n",
       "    </tr>\n",
       "    <tr>\n",
       "      <th>1996-07-01</th>\n",
       "      <td>153.709730</td>\n",
       "    </tr>\n",
       "    <tr>\n",
       "      <th>1996-08-01</th>\n",
       "      <td>163.086876</td>\n",
       "    </tr>\n",
       "    <tr>\n",
       "      <th>1996-09-01</th>\n",
       "      <td>180.052002</td>\n",
       "    </tr>\n",
       "    <tr>\n",
       "      <th>1996-10-01</th>\n",
       "      <td>190.662370</td>\n",
       "    </tr>\n",
       "    <tr>\n",
       "      <th>1996-11-01</th>\n",
       "      <td>179.780277</td>\n",
       "    </tr>\n",
       "    <tr>\n",
       "      <th>1996-12-01</th>\n",
       "      <td>161.108206</td>\n",
       "    </tr>\n",
       "    <tr>\n",
       "      <th>1997-01-01</th>\n",
       "      <td>159.625702</td>\n",
       "    </tr>\n",
       "  </tbody>\n",
       "</table>\n",
       "</div>"
      ],
      "text/plain": [
       "            Prediction\n",
       "1995-08-01  154.371679\n",
       "1995-09-01  172.745158\n",
       "1995-10-01  190.326681\n",
       "1995-11-01  179.205784\n",
       "1995-12-01  149.973822\n",
       "1996-01-01  151.149956\n",
       "1996-02-01  151.772983\n",
       "1996-03-01  144.450545\n",
       "1996-04-01  148.685846\n",
       "1996-05-01  138.032156\n",
       "1996-06-01  139.234695\n",
       "1996-07-01  153.709730\n",
       "1996-08-01  163.086876\n",
       "1996-09-01  180.052002\n",
       "1996-10-01  190.662370\n",
       "1996-11-01  179.780277\n",
       "1996-12-01  161.108206\n",
       "1997-01-01  159.625702"
      ]
     },
     "execution_count": 78,
     "metadata": {},
     "output_type": "execute_result"
    }
   ],
   "source": [
    "predict_df"
   ]
  },
  {
   "cell_type": "code",
   "execution_count": 79,
   "id": "e346531d",
   "metadata": {},
   "outputs": [
    {
     "data": {
      "text/plain": [
       "<AxesSubplot:xlabel='Month'>"
      ]
     },
     "execution_count": 79,
     "metadata": {},
     "output_type": "execute_result"
    },
    {
     "data": {
      "image/png": "[encoded data removed]",
      "text/plain": [
       "<Figure size 432x288 with 1 Axes>"
      ]
     },
     "metadata": {
      "needs_background": "light"
     },
     "output_type": "display_data"
    }
   ],
   "source": [
    "dataframe.plot()"
   ]
  },
  {
   "cell_type": "code",
   "execution_count": 80,
   "id": "a2b2ce10",
   "metadata": {},
   "outputs": [
    {
     "data": {
      "text/plain": [
       "<AxesSubplot:>"
      ]
     },
     "execution_count": 80,
     "metadata": {},
     "output_type": "execute_result"
    },
    {
     "data": {
      "image/png": "[encoded data removed]",
      "text/plain": [
       "<Figure size 432x288 with 1 Axes>"
      ]
     },
     "metadata": {
      "needs_background": "light"
     },
     "output_type": "display_data"
    }
   ],
   "source": [
    "predict_df.plot()"
   ]
  },
  {
   "cell_type": "code",
   "execution_count": 83,
   "id": "96530d03",
   "metadata": {},
   "outputs": [
    {
     "data": {
      "text/plain": [
       "<AxesSubplot:xlabel='Month'>"
      ]
     },
     "execution_count": 83,
     "metadata": {},
     "output_type": "execute_result"
    },
    {
     "data": {
      "image/png": "[encoded data removed]",
      "text/plain": [
       "<Figure size 432x288 with 1 Axes>"
      ]
     },
     "metadata": {
      "needs_background": "light"
     },
     "output_type": "display_data"
    }
   ],
   "source": [
    "ax = dataframe.plot()\n",
    "predict_df.plot(ax=ax)"
   ]
  },
  {
   "cell_type": "markdown",
   "id": "409ae480",
   "metadata": {},
   "source": [
    "# Actual Production And Predicted Preoduction"
   ]
  },
  {
   "cell_type": "markdown",
   "id": "b7cc6f08",
   "metadata": {},
   "source": [
    "The graph shows the actual prediction of beer along with prediction of beer production in comming 18 month."
   ]
  },
  {
   "cell_type": "code",
   "execution_count": 81,
   "id": "0bf5d119",
   "metadata": {},
   "outputs": [
    {
     "data": {
      "text/plain": [
       "(290.0, 325.0)"
      ]
     },
     "execution_count": 81,
     "metadata": {},
     "output_type": "execute_result"
    },
    {
     "data": {
      "image/png": "[encoded data removed]",
      "text/plain": [
       "<Figure size 432x288 with 1 Axes>"
      ]
     },
     "metadata": {
      "needs_background": "light"
     },
     "output_type": "display_data"
    }
   ],
   "source": [
    "ax = dataframe.plot()\n",
    "predict_df.plot(ax=ax)\n",
    "plt.xlim('1994-03-01','1997-02-01')"
   ]
  }
 ],
 "metadata": {
  "kernelspec": {
   "display_name": "Python 3 (ipykernel)",
   "language": "python",
   "name": "python3"
  },
  "language_info": {
   "codemirror_mode": {
    "name": "ipython",
    "version": 3
   },
   "file_extension": ".py",
   "mimetype": "text/x-python",
   "name": "python",
   "nbconvert_exporter": "python",
   "pygments_lexer": "ipython3",
   "version": "3.10.9"
  }
 },
 "nbformat": 4,
 "nbformat_minor": 5
}
