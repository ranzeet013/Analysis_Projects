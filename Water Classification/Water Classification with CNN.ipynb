{
 "cells": [
  {
   "cell_type": "markdown",
   "id": "3e9fd99b",
   "metadata": {},
   "source": [
    "# Water Classification with CNN"
   ]
  },
  {
   "cell_type": "markdown",
   "id": "87442abb",
   "metadata": {},
   "source": [
    "Water Classification project with CNN aims to develop a model that can classify water samples into safe or unsafe categories based on their quality parameters. Convolutional Neural Networks (CNNs) are utilized for their ability to effectively learn and extract features from image-like data, making them well-suited for image classification tasks.\n",
    "\n",
    "1 for Safe\n",
    "\n",
    "0 for Unsafe"
   ]
  },
  {
   "cell_type": "markdown",
   "id": "28c775dd",
   "metadata": {},
   "source": [
    "# Importing Libraries"
   ]
  },
  {
   "cell_type": "markdown",
   "id": "5eae08b7",
   "metadata": {},
   "source": [
    "These are just a few examples of popular Python libraries. You can import any other library using the same import statement followed by the library name or alias:\n",
    "\n",
    "NumPy: for numerical operations and array manipulation\n",
    "\n",
    "Pandas: for data manipulation and analysis\n",
    "\n",
    "Matplotlib: for creating visualizations\n",
    "\n",
    "Scikit-learn: for machine learning algorithms"
   ]
  },
  {
   "cell_type": "code",
   "execution_count": 1,
   "id": "5f9702d7",
   "metadata": {},
   "outputs": [],
   "source": [
    "import pandas as pd\n",
    "import seaborn as sns\n",
    "import matplotlib.pyplot as plt\n",
    "import numpy as np\n",
    "\n",
    "%matplotlib inline"
   ]
  },
  {
   "cell_type": "markdown",
   "id": "8b5b2101",
   "metadata": {},
   "source": [
    "# Importing Dataset"
   ]
  },
  {
   "cell_type": "code",
   "execution_count": 2,
   "id": "5aa89664",
   "metadata": {},
   "outputs": [],
   "source": [
    "dataframe = pd.read_csv('waterQuality1.csv')"
   ]
  },
  {
   "cell_type": "markdown",
   "id": "aaacbe16",
   "metadata": {},
   "source": [
    "# Data Processing"
   ]
  },
  {
   "cell_type": "markdown",
   "id": "a2f3888b",
   "metadata": {},
   "source": [
    "Data processing is a crucial step in any machine learning project, including the Safe Water Classification project. It involves preparing the raw data for training a model by transforming, cleaning, and organizing it in a format suitable for analysis and model training."
   ]
  },
  {
   "cell_type": "code",
   "execution_count": 3,
   "id": "7c801610",
   "metadata": {},
   "outputs": [
    {
     "data": {
      "text/html": [
       "<div>\n",
       "<style scoped>\n",
       "    .dataframe tbody tr th:only-of-type {\n",
       "        vertical-align: middle;\n",
       "    }\n",
       "\n",
       "    .dataframe tbody tr th {\n",
       "        vertical-align: top;\n",
       "    }\n",
       "\n",
       "    .dataframe thead th {\n",
       "        text-align: right;\n",
       "    }\n",
       "</style>\n",
       "<table border=\"1\" class=\"dataframe\">\n",
       "  <thead>\n",
       "    <tr style=\"text-align: right;\">\n",
       "      <th></th>\n",
       "      <th>aluminium</th>\n",
       "      <th>ammonia</th>\n",
       "      <th>arsenic</th>\n",
       "      <th>barium</th>\n",
       "      <th>cadmium</th>\n",
       "      <th>chloramine</th>\n",
       "      <th>chromium</th>\n",
       "      <th>copper</th>\n",
       "      <th>flouride</th>\n",
       "      <th>bacteria</th>\n",
       "      <th>...</th>\n",
       "      <th>lead</th>\n",
       "      <th>nitrates</th>\n",
       "      <th>nitrites</th>\n",
       "      <th>mercury</th>\n",
       "      <th>perchlorate</th>\n",
       "      <th>radium</th>\n",
       "      <th>selenium</th>\n",
       "      <th>silver</th>\n",
       "      <th>uranium</th>\n",
       "      <th>is_safe</th>\n",
       "    </tr>\n",
       "  </thead>\n",
       "  <tbody>\n",
       "    <tr>\n",
       "      <th>0</th>\n",
       "      <td>1.65</td>\n",
       "      <td>9.08</td>\n",
       "      <td>0.04</td>\n",
       "      <td>2.85</td>\n",
       "      <td>0.007</td>\n",
       "      <td>0.35</td>\n",
       "      <td>0.83</td>\n",
       "      <td>0.17</td>\n",
       "      <td>0.05</td>\n",
       "      <td>0.20</td>\n",
       "      <td>...</td>\n",
       "      <td>0.054</td>\n",
       "      <td>16.08</td>\n",
       "      <td>1.13</td>\n",
       "      <td>0.007</td>\n",
       "      <td>37.75</td>\n",
       "      <td>6.78</td>\n",
       "      <td>0.08</td>\n",
       "      <td>0.34</td>\n",
       "      <td>0.02</td>\n",
       "      <td>1</td>\n",
       "    </tr>\n",
       "    <tr>\n",
       "      <th>1</th>\n",
       "      <td>2.32</td>\n",
       "      <td>21.16</td>\n",
       "      <td>0.01</td>\n",
       "      <td>3.31</td>\n",
       "      <td>0.002</td>\n",
       "      <td>5.28</td>\n",
       "      <td>0.68</td>\n",
       "      <td>0.66</td>\n",
       "      <td>0.90</td>\n",
       "      <td>0.65</td>\n",
       "      <td>...</td>\n",
       "      <td>0.100</td>\n",
       "      <td>2.01</td>\n",
       "      <td>1.93</td>\n",
       "      <td>0.003</td>\n",
       "      <td>32.26</td>\n",
       "      <td>3.21</td>\n",
       "      <td>0.08</td>\n",
       "      <td>0.27</td>\n",
       "      <td>0.05</td>\n",
       "      <td>1</td>\n",
       "    </tr>\n",
       "    <tr>\n",
       "      <th>2</th>\n",
       "      <td>1.01</td>\n",
       "      <td>14.02</td>\n",
       "      <td>0.04</td>\n",
       "      <td>0.58</td>\n",
       "      <td>0.008</td>\n",
       "      <td>4.24</td>\n",
       "      <td>0.53</td>\n",
       "      <td>0.02</td>\n",
       "      <td>0.99</td>\n",
       "      <td>0.05</td>\n",
       "      <td>...</td>\n",
       "      <td>0.078</td>\n",
       "      <td>14.16</td>\n",
       "      <td>1.11</td>\n",
       "      <td>0.006</td>\n",
       "      <td>50.28</td>\n",
       "      <td>7.07</td>\n",
       "      <td>0.07</td>\n",
       "      <td>0.44</td>\n",
       "      <td>0.01</td>\n",
       "      <td>0</td>\n",
       "    </tr>\n",
       "    <tr>\n",
       "      <th>3</th>\n",
       "      <td>1.36</td>\n",
       "      <td>11.33</td>\n",
       "      <td>0.04</td>\n",
       "      <td>2.96</td>\n",
       "      <td>0.001</td>\n",
       "      <td>7.23</td>\n",
       "      <td>0.03</td>\n",
       "      <td>1.66</td>\n",
       "      <td>1.08</td>\n",
       "      <td>0.71</td>\n",
       "      <td>...</td>\n",
       "      <td>0.016</td>\n",
       "      <td>1.41</td>\n",
       "      <td>1.29</td>\n",
       "      <td>0.004</td>\n",
       "      <td>9.12</td>\n",
       "      <td>1.72</td>\n",
       "      <td>0.02</td>\n",
       "      <td>0.45</td>\n",
       "      <td>0.05</td>\n",
       "      <td>1</td>\n",
       "    </tr>\n",
       "    <tr>\n",
       "      <th>4</th>\n",
       "      <td>0.92</td>\n",
       "      <td>24.33</td>\n",
       "      <td>0.03</td>\n",
       "      <td>0.20</td>\n",
       "      <td>0.006</td>\n",
       "      <td>2.67</td>\n",
       "      <td>0.69</td>\n",
       "      <td>0.57</td>\n",
       "      <td>0.61</td>\n",
       "      <td>0.13</td>\n",
       "      <td>...</td>\n",
       "      <td>0.117</td>\n",
       "      <td>6.74</td>\n",
       "      <td>1.11</td>\n",
       "      <td>0.003</td>\n",
       "      <td>16.90</td>\n",
       "      <td>2.41</td>\n",
       "      <td>0.02</td>\n",
       "      <td>0.06</td>\n",
       "      <td>0.02</td>\n",
       "      <td>1</td>\n",
       "    </tr>\n",
       "  </tbody>\n",
       "</table>\n",
       "<p>5 rows × 21 columns</p>\n",
       "</div>"
      ],
      "text/plain": [
       "   aluminium ammonia  arsenic  barium  cadmium  chloramine  chromium  copper  \\\n",
       "0       1.65    9.08     0.04    2.85    0.007        0.35      0.83    0.17   \n",
       "1       2.32   21.16     0.01    3.31    0.002        5.28      0.68    0.66   \n",
       "2       1.01   14.02     0.04    0.58    0.008        4.24      0.53    0.02   \n",
       "3       1.36   11.33     0.04    2.96    0.001        7.23      0.03    1.66   \n",
       "4       0.92   24.33     0.03    0.20    0.006        2.67      0.69    0.57   \n",
       "\n",
       "   flouride  bacteria  ...   lead  nitrates  nitrites  mercury  perchlorate  \\\n",
       "0      0.05      0.20  ...  0.054     16.08      1.13    0.007        37.75   \n",
       "1      0.90      0.65  ...  0.100      2.01      1.93    0.003        32.26   \n",
       "2      0.99      0.05  ...  0.078     14.16      1.11    0.006        50.28   \n",
       "3      1.08      0.71  ...  0.016      1.41      1.29    0.004         9.12   \n",
       "4      0.61      0.13  ...  0.117      6.74      1.11    0.003        16.90   \n",
       "\n",
       "   radium  selenium  silver  uranium  is_safe  \n",
       "0    6.78      0.08    0.34     0.02        1  \n",
       "1    3.21      0.08    0.27     0.05        1  \n",
       "2    7.07      0.07    0.44     0.01        0  \n",
       "3    1.72      0.02    0.45     0.05        1  \n",
       "4    2.41      0.02    0.06     0.02        1  \n",
       "\n",
       "[5 rows x 21 columns]"
      ]
     },
     "execution_count": 3,
     "metadata": {},
     "output_type": "execute_result"
    }
   ],
   "source": [
    "dataframe.head()"
   ]
  },
  {
   "cell_type": "code",
   "execution_count": 4,
   "id": "ff687732",
   "metadata": {},
   "outputs": [
    {
     "data": {
      "text/html": [
       "<div>\n",
       "<style scoped>\n",
       "    .dataframe tbody tr th:only-of-type {\n",
       "        vertical-align: middle;\n",
       "    }\n",
       "\n",
       "    .dataframe tbody tr th {\n",
       "        vertical-align: top;\n",
       "    }\n",
       "\n",
       "    .dataframe thead th {\n",
       "        text-align: right;\n",
       "    }\n",
       "</style>\n",
       "<table border=\"1\" class=\"dataframe\">\n",
       "  <thead>\n",
       "    <tr style=\"text-align: right;\">\n",
       "      <th></th>\n",
       "      <th>aluminium</th>\n",
       "      <th>ammonia</th>\n",
       "      <th>arsenic</th>\n",
       "      <th>barium</th>\n",
       "      <th>cadmium</th>\n",
       "      <th>chloramine</th>\n",
       "      <th>chromium</th>\n",
       "      <th>copper</th>\n",
       "      <th>flouride</th>\n",
       "      <th>bacteria</th>\n",
       "      <th>...</th>\n",
       "      <th>lead</th>\n",
       "      <th>nitrates</th>\n",
       "      <th>nitrites</th>\n",
       "      <th>mercury</th>\n",
       "      <th>perchlorate</th>\n",
       "      <th>radium</th>\n",
       "      <th>selenium</th>\n",
       "      <th>silver</th>\n",
       "      <th>uranium</th>\n",
       "      <th>is_safe</th>\n",
       "    </tr>\n",
       "  </thead>\n",
       "  <tbody>\n",
       "    <tr>\n",
       "      <th>7994</th>\n",
       "      <td>0.05</td>\n",
       "      <td>7.78</td>\n",
       "      <td>0.00</td>\n",
       "      <td>1.95</td>\n",
       "      <td>0.04</td>\n",
       "      <td>0.10</td>\n",
       "      <td>0.03</td>\n",
       "      <td>0.03</td>\n",
       "      <td>1.37</td>\n",
       "      <td>0.0</td>\n",
       "      <td>...</td>\n",
       "      <td>0.197</td>\n",
       "      <td>14.29</td>\n",
       "      <td>1.0</td>\n",
       "      <td>0.005</td>\n",
       "      <td>3.57</td>\n",
       "      <td>2.13</td>\n",
       "      <td>0.09</td>\n",
       "      <td>0.06</td>\n",
       "      <td>0.03</td>\n",
       "      <td>1</td>\n",
       "    </tr>\n",
       "    <tr>\n",
       "      <th>7995</th>\n",
       "      <td>0.05</td>\n",
       "      <td>24.22</td>\n",
       "      <td>0.02</td>\n",
       "      <td>0.59</td>\n",
       "      <td>0.01</td>\n",
       "      <td>0.45</td>\n",
       "      <td>0.02</td>\n",
       "      <td>0.02</td>\n",
       "      <td>1.48</td>\n",
       "      <td>0.0</td>\n",
       "      <td>...</td>\n",
       "      <td>0.031</td>\n",
       "      <td>10.27</td>\n",
       "      <td>1.0</td>\n",
       "      <td>0.001</td>\n",
       "      <td>1.48</td>\n",
       "      <td>1.11</td>\n",
       "      <td>0.09</td>\n",
       "      <td>0.10</td>\n",
       "      <td>0.08</td>\n",
       "      <td>1</td>\n",
       "    </tr>\n",
       "    <tr>\n",
       "      <th>7996</th>\n",
       "      <td>0.09</td>\n",
       "      <td>6.85</td>\n",
       "      <td>0.00</td>\n",
       "      <td>0.61</td>\n",
       "      <td>0.03</td>\n",
       "      <td>0.05</td>\n",
       "      <td>0.05</td>\n",
       "      <td>0.02</td>\n",
       "      <td>0.91</td>\n",
       "      <td>0.0</td>\n",
       "      <td>...</td>\n",
       "      <td>0.182</td>\n",
       "      <td>15.92</td>\n",
       "      <td>1.0</td>\n",
       "      <td>0.000</td>\n",
       "      <td>1.35</td>\n",
       "      <td>4.84</td>\n",
       "      <td>0.00</td>\n",
       "      <td>0.04</td>\n",
       "      <td>0.05</td>\n",
       "      <td>1</td>\n",
       "    </tr>\n",
       "    <tr>\n",
       "      <th>7997</th>\n",
       "      <td>0.01</td>\n",
       "      <td>10</td>\n",
       "      <td>0.01</td>\n",
       "      <td>2.00</td>\n",
       "      <td>0.00</td>\n",
       "      <td>2.00</td>\n",
       "      <td>0.00</td>\n",
       "      <td>0.09</td>\n",
       "      <td>0.00</td>\n",
       "      <td>0.0</td>\n",
       "      <td>...</td>\n",
       "      <td>0.000</td>\n",
       "      <td>0.00</td>\n",
       "      <td>0.0</td>\n",
       "      <td>0.000</td>\n",
       "      <td>0.00</td>\n",
       "      <td>0.00</td>\n",
       "      <td>0.00</td>\n",
       "      <td>0.00</td>\n",
       "      <td>0.00</td>\n",
       "      <td>1</td>\n",
       "    </tr>\n",
       "    <tr>\n",
       "      <th>7998</th>\n",
       "      <td>0.04</td>\n",
       "      <td>6.85</td>\n",
       "      <td>0.01</td>\n",
       "      <td>0.70</td>\n",
       "      <td>0.03</td>\n",
       "      <td>0.05</td>\n",
       "      <td>0.01</td>\n",
       "      <td>0.03</td>\n",
       "      <td>1.00</td>\n",
       "      <td>0.0</td>\n",
       "      <td>...</td>\n",
       "      <td>0.182</td>\n",
       "      <td>15.92</td>\n",
       "      <td>1.0</td>\n",
       "      <td>0.000</td>\n",
       "      <td>1.35</td>\n",
       "      <td>4.84</td>\n",
       "      <td>0.00</td>\n",
       "      <td>0.04</td>\n",
       "      <td>0.05</td>\n",
       "      <td>1</td>\n",
       "    </tr>\n",
       "  </tbody>\n",
       "</table>\n",
       "<p>5 rows × 21 columns</p>\n",
       "</div>"
      ],
      "text/plain": [
       "      aluminium ammonia  arsenic  barium  cadmium  chloramine  chromium  \\\n",
       "7994       0.05    7.78     0.00    1.95     0.04        0.10      0.03   \n",
       "7995       0.05   24.22     0.02    0.59     0.01        0.45      0.02   \n",
       "7996       0.09    6.85     0.00    0.61     0.03        0.05      0.05   \n",
       "7997       0.01      10     0.01    2.00     0.00        2.00      0.00   \n",
       "7998       0.04    6.85     0.01    0.70     0.03        0.05      0.01   \n",
       "\n",
       "      copper  flouride  bacteria  ...   lead  nitrates  nitrites  mercury  \\\n",
       "7994    0.03      1.37       0.0  ...  0.197     14.29       1.0    0.005   \n",
       "7995    0.02      1.48       0.0  ...  0.031     10.27       1.0    0.001   \n",
       "7996    0.02      0.91       0.0  ...  0.182     15.92       1.0    0.000   \n",
       "7997    0.09      0.00       0.0  ...  0.000      0.00       0.0    0.000   \n",
       "7998    0.03      1.00       0.0  ...  0.182     15.92       1.0    0.000   \n",
       "\n",
       "      perchlorate  radium  selenium  silver  uranium  is_safe  \n",
       "7994         3.57    2.13      0.09    0.06     0.03        1  \n",
       "7995         1.48    1.11      0.09    0.10     0.08        1  \n",
       "7996         1.35    4.84      0.00    0.04     0.05        1  \n",
       "7997         0.00    0.00      0.00    0.00     0.00        1  \n",
       "7998         1.35    4.84      0.00    0.04     0.05        1  \n",
       "\n",
       "[5 rows x 21 columns]"
      ]
     },
     "execution_count": 4,
     "metadata": {},
     "output_type": "execute_result"
    }
   ],
   "source": [
    "dataframe.tail()"
   ]
  },
  {
   "cell_type": "code",
   "execution_count": 5,
   "id": "6635af19",
   "metadata": {},
   "outputs": [
    {
     "data": {
      "text/plain": [
       "(7999, 21)"
      ]
     },
     "execution_count": 5,
     "metadata": {},
     "output_type": "execute_result"
    }
   ],
   "source": [
    "dataframe.shape"
   ]
  },
  {
   "cell_type": "code",
   "execution_count": 6,
   "id": "9c574afd",
   "metadata": {},
   "outputs": [
    {
     "data": {
      "text/html": [
       "<div>\n",
       "<style scoped>\n",
       "    .dataframe tbody tr th:only-of-type {\n",
       "        vertical-align: middle;\n",
       "    }\n",
       "\n",
       "    .dataframe tbody tr th {\n",
       "        vertical-align: top;\n",
       "    }\n",
       "\n",
       "    .dataframe thead th {\n",
       "        text-align: right;\n",
       "    }\n",
       "</style>\n",
       "<table border=\"1\" class=\"dataframe\">\n",
       "  <thead>\n",
       "    <tr style=\"text-align: right;\">\n",
       "      <th></th>\n",
       "      <th>0</th>\n",
       "      <th>1</th>\n",
       "      <th>2</th>\n",
       "      <th>3</th>\n",
       "      <th>4</th>\n",
       "    </tr>\n",
       "  </thead>\n",
       "  <tbody>\n",
       "    <tr>\n",
       "      <th>aluminium</th>\n",
       "      <td>1.65</td>\n",
       "      <td>2.32</td>\n",
       "      <td>1.01</td>\n",
       "      <td>1.36</td>\n",
       "      <td>0.92</td>\n",
       "    </tr>\n",
       "    <tr>\n",
       "      <th>ammonia</th>\n",
       "      <td>9.08</td>\n",
       "      <td>21.16</td>\n",
       "      <td>14.02</td>\n",
       "      <td>11.33</td>\n",
       "      <td>24.33</td>\n",
       "    </tr>\n",
       "    <tr>\n",
       "      <th>arsenic</th>\n",
       "      <td>0.04</td>\n",
       "      <td>0.01</td>\n",
       "      <td>0.04</td>\n",
       "      <td>0.04</td>\n",
       "      <td>0.03</td>\n",
       "    </tr>\n",
       "    <tr>\n",
       "      <th>barium</th>\n",
       "      <td>2.85</td>\n",
       "      <td>3.31</td>\n",
       "      <td>0.58</td>\n",
       "      <td>2.96</td>\n",
       "      <td>0.2</td>\n",
       "    </tr>\n",
       "    <tr>\n",
       "      <th>cadmium</th>\n",
       "      <td>0.007</td>\n",
       "      <td>0.002</td>\n",
       "      <td>0.008</td>\n",
       "      <td>0.001</td>\n",
       "      <td>0.006</td>\n",
       "    </tr>\n",
       "    <tr>\n",
       "      <th>chloramine</th>\n",
       "      <td>0.35</td>\n",
       "      <td>5.28</td>\n",
       "      <td>4.24</td>\n",
       "      <td>7.23</td>\n",
       "      <td>2.67</td>\n",
       "    </tr>\n",
       "    <tr>\n",
       "      <th>chromium</th>\n",
       "      <td>0.83</td>\n",
       "      <td>0.68</td>\n",
       "      <td>0.53</td>\n",
       "      <td>0.03</td>\n",
       "      <td>0.69</td>\n",
       "    </tr>\n",
       "    <tr>\n",
       "      <th>copper</th>\n",
       "      <td>0.17</td>\n",
       "      <td>0.66</td>\n",
       "      <td>0.02</td>\n",
       "      <td>1.66</td>\n",
       "      <td>0.57</td>\n",
       "    </tr>\n",
       "    <tr>\n",
       "      <th>flouride</th>\n",
       "      <td>0.05</td>\n",
       "      <td>0.9</td>\n",
       "      <td>0.99</td>\n",
       "      <td>1.08</td>\n",
       "      <td>0.61</td>\n",
       "    </tr>\n",
       "    <tr>\n",
       "      <th>bacteria</th>\n",
       "      <td>0.2</td>\n",
       "      <td>0.65</td>\n",
       "      <td>0.05</td>\n",
       "      <td>0.71</td>\n",
       "      <td>0.13</td>\n",
       "    </tr>\n",
       "    <tr>\n",
       "      <th>viruses</th>\n",
       "      <td>0.0</td>\n",
       "      <td>0.65</td>\n",
       "      <td>0.003</td>\n",
       "      <td>0.71</td>\n",
       "      <td>0.001</td>\n",
       "    </tr>\n",
       "    <tr>\n",
       "      <th>lead</th>\n",
       "      <td>0.054</td>\n",
       "      <td>0.1</td>\n",
       "      <td>0.078</td>\n",
       "      <td>0.016</td>\n",
       "      <td>0.117</td>\n",
       "    </tr>\n",
       "    <tr>\n",
       "      <th>nitrates</th>\n",
       "      <td>16.08</td>\n",
       "      <td>2.01</td>\n",
       "      <td>14.16</td>\n",
       "      <td>1.41</td>\n",
       "      <td>6.74</td>\n",
       "    </tr>\n",
       "    <tr>\n",
       "      <th>nitrites</th>\n",
       "      <td>1.13</td>\n",
       "      <td>1.93</td>\n",
       "      <td>1.11</td>\n",
       "      <td>1.29</td>\n",
       "      <td>1.11</td>\n",
       "    </tr>\n",
       "    <tr>\n",
       "      <th>mercury</th>\n",
       "      <td>0.007</td>\n",
       "      <td>0.003</td>\n",
       "      <td>0.006</td>\n",
       "      <td>0.004</td>\n",
       "      <td>0.003</td>\n",
       "    </tr>\n",
       "    <tr>\n",
       "      <th>perchlorate</th>\n",
       "      <td>37.75</td>\n",
       "      <td>32.26</td>\n",
       "      <td>50.28</td>\n",
       "      <td>9.12</td>\n",
       "      <td>16.9</td>\n",
       "    </tr>\n",
       "    <tr>\n",
       "      <th>radium</th>\n",
       "      <td>6.78</td>\n",
       "      <td>3.21</td>\n",
       "      <td>7.07</td>\n",
       "      <td>1.72</td>\n",
       "      <td>2.41</td>\n",
       "    </tr>\n",
       "    <tr>\n",
       "      <th>selenium</th>\n",
       "      <td>0.08</td>\n",
       "      <td>0.08</td>\n",
       "      <td>0.07</td>\n",
       "      <td>0.02</td>\n",
       "      <td>0.02</td>\n",
       "    </tr>\n",
       "    <tr>\n",
       "      <th>silver</th>\n",
       "      <td>0.34</td>\n",
       "      <td>0.27</td>\n",
       "      <td>0.44</td>\n",
       "      <td>0.45</td>\n",
       "      <td>0.06</td>\n",
       "    </tr>\n",
       "    <tr>\n",
       "      <th>uranium</th>\n",
       "      <td>0.02</td>\n",
       "      <td>0.05</td>\n",
       "      <td>0.01</td>\n",
       "      <td>0.05</td>\n",
       "      <td>0.02</td>\n",
       "    </tr>\n",
       "    <tr>\n",
       "      <th>is_safe</th>\n",
       "      <td>1</td>\n",
       "      <td>1</td>\n",
       "      <td>0</td>\n",
       "      <td>1</td>\n",
       "      <td>1</td>\n",
       "    </tr>\n",
       "  </tbody>\n",
       "</table>\n",
       "</div>"
      ],
      "text/plain": [
       "                 0      1      2      3      4\n",
       "aluminium     1.65   2.32   1.01   1.36   0.92\n",
       "ammonia       9.08  21.16  14.02  11.33  24.33\n",
       "arsenic       0.04   0.01   0.04   0.04   0.03\n",
       "barium        2.85   3.31   0.58   2.96    0.2\n",
       "cadmium      0.007  0.002  0.008  0.001  0.006\n",
       "chloramine    0.35   5.28   4.24   7.23   2.67\n",
       "chromium      0.83   0.68   0.53   0.03   0.69\n",
       "copper        0.17   0.66   0.02   1.66   0.57\n",
       "flouride      0.05    0.9   0.99   1.08   0.61\n",
       "bacteria       0.2   0.65   0.05   0.71   0.13\n",
       "viruses        0.0   0.65  0.003   0.71  0.001\n",
       "lead         0.054    0.1  0.078  0.016  0.117\n",
       "nitrates     16.08   2.01  14.16   1.41   6.74\n",
       "nitrites      1.13   1.93   1.11   1.29   1.11\n",
       "mercury      0.007  0.003  0.006  0.004  0.003\n",
       "perchlorate  37.75  32.26  50.28   9.12   16.9\n",
       "radium        6.78   3.21   7.07   1.72   2.41\n",
       "selenium      0.08   0.08   0.07   0.02   0.02\n",
       "silver        0.34   0.27   0.44   0.45   0.06\n",
       "uranium       0.02   0.05   0.01   0.05   0.02\n",
       "is_safe          1      1      0      1      1"
      ]
     },
     "execution_count": 6,
     "metadata": {},
     "output_type": "execute_result"
    }
   ],
   "source": [
    "dataframe.head().T"
   ]
  },
  {
   "cell_type": "code",
   "execution_count": 7,
   "id": "7c0c2e1e",
   "metadata": {},
   "outputs": [
    {
     "name": "stdout",
     "output_type": "stream",
     "text": [
      "<class 'pandas.core.frame.DataFrame'>\n",
      "RangeIndex: 7999 entries, 0 to 7998\n",
      "Data columns (total 21 columns):\n",
      " #   Column       Non-Null Count  Dtype  \n",
      "---  ------       --------------  -----  \n",
      " 0   aluminium    7999 non-null   float64\n",
      " 1   ammonia      7999 non-null   object \n",
      " 2   arsenic      7999 non-null   float64\n",
      " 3   barium       7999 non-null   float64\n",
      " 4   cadmium      7999 non-null   float64\n",
      " 5   chloramine   7999 non-null   float64\n",
      " 6   chromium     7999 non-null   float64\n",
      " 7   copper       7999 non-null   float64\n",
      " 8   flouride     7999 non-null   float64\n",
      " 9   bacteria     7999 non-null   float64\n",
      " 10  viruses      7999 non-null   float64\n",
      " 11  lead         7999 non-null   float64\n",
      " 12  nitrates     7999 non-null   float64\n",
      " 13  nitrites     7999 non-null   float64\n",
      " 14  mercury      7999 non-null   float64\n",
      " 15  perchlorate  7999 non-null   float64\n",
      " 16  radium       7999 non-null   float64\n",
      " 17  selenium     7999 non-null   float64\n",
      " 18  silver       7999 non-null   float64\n",
      " 19  uranium      7999 non-null   float64\n",
      " 20  is_safe      7999 non-null   object \n",
      "dtypes: float64(19), object(2)\n",
      "memory usage: 1.3+ MB\n"
     ]
    }
   ],
   "source": [
    "dataframe.info()"
   ]
  },
  {
   "cell_type": "code",
   "execution_count": 9,
   "id": "3f5a57d9",
   "metadata": {},
   "outputs": [
    {
     "data": {
      "text/plain": [
       "Index(['ammonia', 'is_safe'], dtype='object')"
      ]
     },
     "execution_count": 9,
     "metadata": {},
     "output_type": "execute_result"
    }
   ],
   "source": [
    "dataframe.select_dtypes('object').columns"
   ]
  },
  {
   "cell_type": "code",
   "execution_count": 11,
   "id": "cb7ff4ec",
   "metadata": {},
   "outputs": [
    {
     "data": {
      "text/plain": [
       "Index(['aluminium', 'arsenic', 'barium', 'cadmium', 'chloramine', 'chromium',\n",
       "       'copper', 'flouride', 'bacteria', 'viruses', 'lead', 'nitrates',\n",
       "       'nitrites', 'mercury', 'perchlorate', 'radium', 'selenium', 'silver',\n",
       "       'uranium'],\n",
       "      dtype='object')"
      ]
     },
     "execution_count": 11,
     "metadata": {},
     "output_type": "execute_result"
    }
   ],
   "source": [
    "dataframe.select_dtypes(['int64', 'float64']).columns"
   ]
  },
  {
   "cell_type": "code",
   "execution_count": 12,
   "id": "f3367429",
   "metadata": {},
   "outputs": [],
   "source": [
    "dataframe.drop([7551,7568,7890],axis=0,inplace=True)"
   ]
  },
  {
   "cell_type": "code",
   "execution_count": 13,
   "id": "1b3ce3e1",
   "metadata": {},
   "outputs": [
    {
     "data": {
      "text/html": [
       "<div>\n",
       "<style scoped>\n",
       "    .dataframe tbody tr th:only-of-type {\n",
       "        vertical-align: middle;\n",
       "    }\n",
       "\n",
       "    .dataframe tbody tr th {\n",
       "        vertical-align: top;\n",
       "    }\n",
       "\n",
       "    .dataframe thead th {\n",
       "        text-align: right;\n",
       "    }\n",
       "</style>\n",
       "<table border=\"1\" class=\"dataframe\">\n",
       "  <thead>\n",
       "    <tr style=\"text-align: right;\">\n",
       "      <th></th>\n",
       "      <th>aluminium</th>\n",
       "      <th>ammonia</th>\n",
       "      <th>arsenic</th>\n",
       "      <th>barium</th>\n",
       "      <th>cadmium</th>\n",
       "      <th>chloramine</th>\n",
       "      <th>chromium</th>\n",
       "      <th>copper</th>\n",
       "      <th>flouride</th>\n",
       "      <th>bacteria</th>\n",
       "      <th>...</th>\n",
       "      <th>lead</th>\n",
       "      <th>nitrates</th>\n",
       "      <th>nitrites</th>\n",
       "      <th>mercury</th>\n",
       "      <th>perchlorate</th>\n",
       "      <th>radium</th>\n",
       "      <th>selenium</th>\n",
       "      <th>silver</th>\n",
       "      <th>uranium</th>\n",
       "      <th>is_safe</th>\n",
       "    </tr>\n",
       "  </thead>\n",
       "  <tbody>\n",
       "    <tr>\n",
       "      <th>0</th>\n",
       "      <td>1.65</td>\n",
       "      <td>9.08</td>\n",
       "      <td>0.04</td>\n",
       "      <td>2.85</td>\n",
       "      <td>0.007</td>\n",
       "      <td>0.35</td>\n",
       "      <td>0.83</td>\n",
       "      <td>0.17</td>\n",
       "      <td>0.05</td>\n",
       "      <td>0.20</td>\n",
       "      <td>...</td>\n",
       "      <td>0.054</td>\n",
       "      <td>16.08</td>\n",
       "      <td>1.13</td>\n",
       "      <td>0.007</td>\n",
       "      <td>37.75</td>\n",
       "      <td>6.78</td>\n",
       "      <td>0.08</td>\n",
       "      <td>0.34</td>\n",
       "      <td>0.02</td>\n",
       "      <td>1</td>\n",
       "    </tr>\n",
       "    <tr>\n",
       "      <th>1</th>\n",
       "      <td>2.32</td>\n",
       "      <td>21.16</td>\n",
       "      <td>0.01</td>\n",
       "      <td>3.31</td>\n",
       "      <td>0.002</td>\n",
       "      <td>5.28</td>\n",
       "      <td>0.68</td>\n",
       "      <td>0.66</td>\n",
       "      <td>0.90</td>\n",
       "      <td>0.65</td>\n",
       "      <td>...</td>\n",
       "      <td>0.100</td>\n",
       "      <td>2.01</td>\n",
       "      <td>1.93</td>\n",
       "      <td>0.003</td>\n",
       "      <td>32.26</td>\n",
       "      <td>3.21</td>\n",
       "      <td>0.08</td>\n",
       "      <td>0.27</td>\n",
       "      <td>0.05</td>\n",
       "      <td>1</td>\n",
       "    </tr>\n",
       "    <tr>\n",
       "      <th>2</th>\n",
       "      <td>1.01</td>\n",
       "      <td>14.02</td>\n",
       "      <td>0.04</td>\n",
       "      <td>0.58</td>\n",
       "      <td>0.008</td>\n",
       "      <td>4.24</td>\n",
       "      <td>0.53</td>\n",
       "      <td>0.02</td>\n",
       "      <td>0.99</td>\n",
       "      <td>0.05</td>\n",
       "      <td>...</td>\n",
       "      <td>0.078</td>\n",
       "      <td>14.16</td>\n",
       "      <td>1.11</td>\n",
       "      <td>0.006</td>\n",
       "      <td>50.28</td>\n",
       "      <td>7.07</td>\n",
       "      <td>0.07</td>\n",
       "      <td>0.44</td>\n",
       "      <td>0.01</td>\n",
       "      <td>0</td>\n",
       "    </tr>\n",
       "    <tr>\n",
       "      <th>3</th>\n",
       "      <td>1.36</td>\n",
       "      <td>11.33</td>\n",
       "      <td>0.04</td>\n",
       "      <td>2.96</td>\n",
       "      <td>0.001</td>\n",
       "      <td>7.23</td>\n",
       "      <td>0.03</td>\n",
       "      <td>1.66</td>\n",
       "      <td>1.08</td>\n",
       "      <td>0.71</td>\n",
       "      <td>...</td>\n",
       "      <td>0.016</td>\n",
       "      <td>1.41</td>\n",
       "      <td>1.29</td>\n",
       "      <td>0.004</td>\n",
       "      <td>9.12</td>\n",
       "      <td>1.72</td>\n",
       "      <td>0.02</td>\n",
       "      <td>0.45</td>\n",
       "      <td>0.05</td>\n",
       "      <td>1</td>\n",
       "    </tr>\n",
       "    <tr>\n",
       "      <th>4</th>\n",
       "      <td>0.92</td>\n",
       "      <td>24.33</td>\n",
       "      <td>0.03</td>\n",
       "      <td>0.20</td>\n",
       "      <td>0.006</td>\n",
       "      <td>2.67</td>\n",
       "      <td>0.69</td>\n",
       "      <td>0.57</td>\n",
       "      <td>0.61</td>\n",
       "      <td>0.13</td>\n",
       "      <td>...</td>\n",
       "      <td>0.117</td>\n",
       "      <td>6.74</td>\n",
       "      <td>1.11</td>\n",
       "      <td>0.003</td>\n",
       "      <td>16.90</td>\n",
       "      <td>2.41</td>\n",
       "      <td>0.02</td>\n",
       "      <td>0.06</td>\n",
       "      <td>0.02</td>\n",
       "      <td>1</td>\n",
       "    </tr>\n",
       "  </tbody>\n",
       "</table>\n",
       "<p>5 rows × 21 columns</p>\n",
       "</div>"
      ],
      "text/plain": [
       "   aluminium ammonia  arsenic  barium  cadmium  chloramine  chromium  copper  \\\n",
       "0       1.65    9.08     0.04    2.85    0.007        0.35      0.83    0.17   \n",
       "1       2.32   21.16     0.01    3.31    0.002        5.28      0.68    0.66   \n",
       "2       1.01   14.02     0.04    0.58    0.008        4.24      0.53    0.02   \n",
       "3       1.36   11.33     0.04    2.96    0.001        7.23      0.03    1.66   \n",
       "4       0.92   24.33     0.03    0.20    0.006        2.67      0.69    0.57   \n",
       "\n",
       "   flouride  bacteria  ...   lead  nitrates  nitrites  mercury  perchlorate  \\\n",
       "0      0.05      0.20  ...  0.054     16.08      1.13    0.007        37.75   \n",
       "1      0.90      0.65  ...  0.100      2.01      1.93    0.003        32.26   \n",
       "2      0.99      0.05  ...  0.078     14.16      1.11    0.006        50.28   \n",
       "3      1.08      0.71  ...  0.016      1.41      1.29    0.004         9.12   \n",
       "4      0.61      0.13  ...  0.117      6.74      1.11    0.003        16.90   \n",
       "\n",
       "   radium  selenium  silver  uranium  is_safe  \n",
       "0    6.78      0.08    0.34     0.02        1  \n",
       "1    3.21      0.08    0.27     0.05        1  \n",
       "2    7.07      0.07    0.44     0.01        0  \n",
       "3    1.72      0.02    0.45     0.05        1  \n",
       "4    2.41      0.02    0.06     0.02        1  \n",
       "\n",
       "[5 rows x 21 columns]"
      ]
     },
     "execution_count": 13,
     "metadata": {},
     "output_type": "execute_result"
    }
   ],
   "source": [
    "dataframe.head()"
   ]
  },
  {
   "cell_type": "code",
   "execution_count": 14,
   "id": "c78a1eac",
   "metadata": {},
   "outputs": [
    {
     "data": {
      "text/plain": [
       "Index(['aluminium', 'ammonia', 'arsenic', 'barium', 'cadmium', 'chloramine',\n",
       "       'chromium', 'copper', 'flouride', 'bacteria', 'viruses', 'lead',\n",
       "       'nitrates', 'nitrites', 'mercury', 'perchlorate', 'radium', 'selenium',\n",
       "       'silver', 'uranium', 'is_safe'],\n",
       "      dtype='object')"
      ]
     },
     "execution_count": 14,
     "metadata": {},
     "output_type": "execute_result"
    }
   ],
   "source": [
    "dataframe.columns"
   ]
  },
  {
   "cell_type": "code",
   "execution_count": 15,
   "id": "c43a7572",
   "metadata": {},
   "outputs": [],
   "source": [
    "dataframe['ammonia'] = dataframe['ammonia'].astype('float64')\n",
    "dataframe['is_safe'] = dataframe['is_safe'].astype('int64')"
   ]
  },
  {
   "cell_type": "code",
   "execution_count": 16,
   "id": "bd558c7e",
   "metadata": {},
   "outputs": [
    {
     "name": "stdout",
     "output_type": "stream",
     "text": [
      "<class 'pandas.core.frame.DataFrame'>\n",
      "Int64Index: 7996 entries, 0 to 7998\n",
      "Data columns (total 21 columns):\n",
      " #   Column       Non-Null Count  Dtype  \n",
      "---  ------       --------------  -----  \n",
      " 0   aluminium    7996 non-null   float64\n",
      " 1   ammonia      7996 non-null   float64\n",
      " 2   arsenic      7996 non-null   float64\n",
      " 3   barium       7996 non-null   float64\n",
      " 4   cadmium      7996 non-null   float64\n",
      " 5   chloramine   7996 non-null   float64\n",
      " 6   chromium     7996 non-null   float64\n",
      " 7   copper       7996 non-null   float64\n",
      " 8   flouride     7996 non-null   float64\n",
      " 9   bacteria     7996 non-null   float64\n",
      " 10  viruses      7996 non-null   float64\n",
      " 11  lead         7996 non-null   float64\n",
      " 12  nitrates     7996 non-null   float64\n",
      " 13  nitrites     7996 non-null   float64\n",
      " 14  mercury      7996 non-null   float64\n",
      " 15  perchlorate  7996 non-null   float64\n",
      " 16  radium       7996 non-null   float64\n",
      " 17  selenium     7996 non-null   float64\n",
      " 18  silver       7996 non-null   float64\n",
      " 19  uranium      7996 non-null   float64\n",
      " 20  is_safe      7996 non-null   int64  \n",
      "dtypes: float64(20), int64(1)\n",
      "memory usage: 1.3 MB\n"
     ]
    }
   ],
   "source": [
    "dataframe.info()"
   ]
  },
  {
   "cell_type": "code",
   "execution_count": 17,
   "id": "98747c05",
   "metadata": {},
   "outputs": [
    {
     "data": {
      "text/plain": [
       "aluminium      0\n",
       "ammonia        0\n",
       "arsenic        0\n",
       "barium         0\n",
       "cadmium        0\n",
       "chloramine     0\n",
       "chromium       0\n",
       "copper         0\n",
       "flouride       0\n",
       "bacteria       0\n",
       "viruses        0\n",
       "lead           0\n",
       "nitrates       0\n",
       "nitrites       0\n",
       "mercury        0\n",
       "perchlorate    0\n",
       "radium         0\n",
       "selenium       0\n",
       "silver         0\n",
       "uranium        0\n",
       "is_safe        0\n",
       "dtype: int64"
      ]
     },
     "execution_count": 17,
     "metadata": {},
     "output_type": "execute_result"
    }
   ],
   "source": [
    "dataframe.isna().sum()"
   ]
  },
  {
   "cell_type": "code",
   "execution_count": 18,
   "id": "87af0c51",
   "metadata": {},
   "outputs": [
    {
     "data": {
      "text/plain": [
       "False"
      ]
     },
     "execution_count": 18,
     "metadata": {},
     "output_type": "execute_result"
    }
   ],
   "source": [
    "dataframe.isna().sum().any()"
   ]
  },
  {
   "cell_type": "markdown",
   "id": "d4d36d32",
   "metadata": {},
   "source": [
    "# Statical Info"
   ]
  },
  {
   "cell_type": "markdown",
   "id": "42b45ce3",
   "metadata": {},
   "source": [
    "Statistical information refers to numerical data or metrics that describe various aspects of a dataset or population. These statistics provide quantitative measures of central tendency, dispersion, relationships, and other properties of the data."
   ]
  },
  {
   "cell_type": "code",
   "execution_count": 19,
   "id": "c6fb1ee1",
   "metadata": {},
   "outputs": [
    {
     "data": {
      "text/html": [
       "<div>\n",
       "<style scoped>\n",
       "    .dataframe tbody tr th:only-of-type {\n",
       "        vertical-align: middle;\n",
       "    }\n",
       "\n",
       "    .dataframe tbody tr th {\n",
       "        vertical-align: top;\n",
       "    }\n",
       "\n",
       "    .dataframe thead th {\n",
       "        text-align: right;\n",
       "    }\n",
       "</style>\n",
       "<table border=\"1\" class=\"dataframe\">\n",
       "  <thead>\n",
       "    <tr style=\"text-align: right;\">\n",
       "      <th></th>\n",
       "      <th>aluminium</th>\n",
       "      <th>ammonia</th>\n",
       "      <th>arsenic</th>\n",
       "      <th>barium</th>\n",
       "      <th>cadmium</th>\n",
       "      <th>chloramine</th>\n",
       "      <th>chromium</th>\n",
       "      <th>copper</th>\n",
       "      <th>flouride</th>\n",
       "      <th>bacteria</th>\n",
       "      <th>...</th>\n",
       "      <th>lead</th>\n",
       "      <th>nitrates</th>\n",
       "      <th>nitrites</th>\n",
       "      <th>mercury</th>\n",
       "      <th>perchlorate</th>\n",
       "      <th>radium</th>\n",
       "      <th>selenium</th>\n",
       "      <th>silver</th>\n",
       "      <th>uranium</th>\n",
       "      <th>is_safe</th>\n",
       "    </tr>\n",
       "  </thead>\n",
       "  <tbody>\n",
       "    <tr>\n",
       "      <th>count</th>\n",
       "      <td>7996.000000</td>\n",
       "      <td>7996.000000</td>\n",
       "      <td>7996.000000</td>\n",
       "      <td>7996.000000</td>\n",
       "      <td>7996.000000</td>\n",
       "      <td>7996.000000</td>\n",
       "      <td>7996.000000</td>\n",
       "      <td>7996.000000</td>\n",
       "      <td>7996.000000</td>\n",
       "      <td>7996.000000</td>\n",
       "      <td>...</td>\n",
       "      <td>7996.000000</td>\n",
       "      <td>7996.000000</td>\n",
       "      <td>7996.000000</td>\n",
       "      <td>7996.000000</td>\n",
       "      <td>7996.000000</td>\n",
       "      <td>7996.000000</td>\n",
       "      <td>7996.000000</td>\n",
       "      <td>7996.000000</td>\n",
       "      <td>7996.000000</td>\n",
       "      <td>7996.000000</td>\n",
       "    </tr>\n",
       "    <tr>\n",
       "      <th>mean</th>\n",
       "      <td>0.666396</td>\n",
       "      <td>14.278212</td>\n",
       "      <td>0.161477</td>\n",
       "      <td>1.567928</td>\n",
       "      <td>0.042803</td>\n",
       "      <td>2.177589</td>\n",
       "      <td>0.247300</td>\n",
       "      <td>0.805940</td>\n",
       "      <td>0.771646</td>\n",
       "      <td>0.319714</td>\n",
       "      <td>...</td>\n",
       "      <td>0.099431</td>\n",
       "      <td>9.819250</td>\n",
       "      <td>1.329846</td>\n",
       "      <td>0.005193</td>\n",
       "      <td>16.465266</td>\n",
       "      <td>2.920106</td>\n",
       "      <td>0.049684</td>\n",
       "      <td>0.147811</td>\n",
       "      <td>0.044672</td>\n",
       "      <td>0.114057</td>\n",
       "    </tr>\n",
       "    <tr>\n",
       "      <th>std</th>\n",
       "      <td>1.265323</td>\n",
       "      <td>8.878930</td>\n",
       "      <td>0.252632</td>\n",
       "      <td>1.216227</td>\n",
       "      <td>0.036049</td>\n",
       "      <td>2.567210</td>\n",
       "      <td>0.270663</td>\n",
       "      <td>0.653595</td>\n",
       "      <td>0.435423</td>\n",
       "      <td>0.329497</td>\n",
       "      <td>...</td>\n",
       "      <td>0.058169</td>\n",
       "      <td>5.541977</td>\n",
       "      <td>0.573271</td>\n",
       "      <td>0.002967</td>\n",
       "      <td>17.688827</td>\n",
       "      <td>2.322805</td>\n",
       "      <td>0.028773</td>\n",
       "      <td>0.143569</td>\n",
       "      <td>0.026906</td>\n",
       "      <td>0.317900</td>\n",
       "    </tr>\n",
       "    <tr>\n",
       "      <th>min</th>\n",
       "      <td>0.000000</td>\n",
       "      <td>-0.080000</td>\n",
       "      <td>0.000000</td>\n",
       "      <td>0.000000</td>\n",
       "      <td>0.000000</td>\n",
       "      <td>0.000000</td>\n",
       "      <td>0.000000</td>\n",
       "      <td>0.000000</td>\n",
       "      <td>0.000000</td>\n",
       "      <td>0.000000</td>\n",
       "      <td>...</td>\n",
       "      <td>0.000000</td>\n",
       "      <td>0.000000</td>\n",
       "      <td>0.000000</td>\n",
       "      <td>0.000000</td>\n",
       "      <td>0.000000</td>\n",
       "      <td>0.000000</td>\n",
       "      <td>0.000000</td>\n",
       "      <td>0.000000</td>\n",
       "      <td>0.000000</td>\n",
       "      <td>0.000000</td>\n",
       "    </tr>\n",
       "    <tr>\n",
       "      <th>25%</th>\n",
       "      <td>0.040000</td>\n",
       "      <td>6.577500</td>\n",
       "      <td>0.030000</td>\n",
       "      <td>0.560000</td>\n",
       "      <td>0.008000</td>\n",
       "      <td>0.100000</td>\n",
       "      <td>0.050000</td>\n",
       "      <td>0.090000</td>\n",
       "      <td>0.407500</td>\n",
       "      <td>0.000000</td>\n",
       "      <td>...</td>\n",
       "      <td>0.048000</td>\n",
       "      <td>5.000000</td>\n",
       "      <td>1.000000</td>\n",
       "      <td>0.003000</td>\n",
       "      <td>2.170000</td>\n",
       "      <td>0.820000</td>\n",
       "      <td>0.020000</td>\n",
       "      <td>0.040000</td>\n",
       "      <td>0.020000</td>\n",
       "      <td>0.000000</td>\n",
       "    </tr>\n",
       "    <tr>\n",
       "      <th>50%</th>\n",
       "      <td>0.070000</td>\n",
       "      <td>14.130000</td>\n",
       "      <td>0.050000</td>\n",
       "      <td>1.190000</td>\n",
       "      <td>0.040000</td>\n",
       "      <td>0.530000</td>\n",
       "      <td>0.090000</td>\n",
       "      <td>0.750000</td>\n",
       "      <td>0.770000</td>\n",
       "      <td>0.220000</td>\n",
       "      <td>...</td>\n",
       "      <td>0.102000</td>\n",
       "      <td>9.930000</td>\n",
       "      <td>1.420000</td>\n",
       "      <td>0.005000</td>\n",
       "      <td>7.745000</td>\n",
       "      <td>2.410000</td>\n",
       "      <td>0.050000</td>\n",
       "      <td>0.080000</td>\n",
       "      <td>0.050000</td>\n",
       "      <td>0.000000</td>\n",
       "    </tr>\n",
       "    <tr>\n",
       "      <th>75%</th>\n",
       "      <td>0.280000</td>\n",
       "      <td>22.132500</td>\n",
       "      <td>0.100000</td>\n",
       "      <td>2.482500</td>\n",
       "      <td>0.070000</td>\n",
       "      <td>4.240000</td>\n",
       "      <td>0.440000</td>\n",
       "      <td>1.390000</td>\n",
       "      <td>1.160000</td>\n",
       "      <td>0.610000</td>\n",
       "      <td>...</td>\n",
       "      <td>0.151000</td>\n",
       "      <td>14.610000</td>\n",
       "      <td>1.760000</td>\n",
       "      <td>0.008000</td>\n",
       "      <td>29.487500</td>\n",
       "      <td>4.670000</td>\n",
       "      <td>0.070000</td>\n",
       "      <td>0.240000</td>\n",
       "      <td>0.070000</td>\n",
       "      <td>0.000000</td>\n",
       "    </tr>\n",
       "    <tr>\n",
       "      <th>max</th>\n",
       "      <td>5.050000</td>\n",
       "      <td>29.840000</td>\n",
       "      <td>1.050000</td>\n",
       "      <td>4.940000</td>\n",
       "      <td>0.130000</td>\n",
       "      <td>8.680000</td>\n",
       "      <td>0.900000</td>\n",
       "      <td>2.000000</td>\n",
       "      <td>1.500000</td>\n",
       "      <td>1.000000</td>\n",
       "      <td>...</td>\n",
       "      <td>0.200000</td>\n",
       "      <td>19.830000</td>\n",
       "      <td>2.930000</td>\n",
       "      <td>0.010000</td>\n",
       "      <td>60.010000</td>\n",
       "      <td>7.990000</td>\n",
       "      <td>0.100000</td>\n",
       "      <td>0.500000</td>\n",
       "      <td>0.090000</td>\n",
       "      <td>1.000000</td>\n",
       "    </tr>\n",
       "  </tbody>\n",
       "</table>\n",
       "<p>8 rows × 21 columns</p>\n",
       "</div>"
      ],
      "text/plain": [
       "         aluminium      ammonia      arsenic       barium      cadmium  \\\n",
       "count  7996.000000  7996.000000  7996.000000  7996.000000  7996.000000   \n",
       "mean      0.666396    14.278212     0.161477     1.567928     0.042803   \n",
       "std       1.265323     8.878930     0.252632     1.216227     0.036049   \n",
       "min       0.000000    -0.080000     0.000000     0.000000     0.000000   \n",
       "25%       0.040000     6.577500     0.030000     0.560000     0.008000   \n",
       "50%       0.070000    14.130000     0.050000     1.190000     0.040000   \n",
       "75%       0.280000    22.132500     0.100000     2.482500     0.070000   \n",
       "max       5.050000    29.840000     1.050000     4.940000     0.130000   \n",
       "\n",
       "        chloramine     chromium       copper     flouride     bacteria  ...  \\\n",
       "count  7996.000000  7996.000000  7996.000000  7996.000000  7996.000000  ...   \n",
       "mean      2.177589     0.247300     0.805940     0.771646     0.319714  ...   \n",
       "std       2.567210     0.270663     0.653595     0.435423     0.329497  ...   \n",
       "min       0.000000     0.000000     0.000000     0.000000     0.000000  ...   \n",
       "25%       0.100000     0.050000     0.090000     0.407500     0.000000  ...   \n",
       "50%       0.530000     0.090000     0.750000     0.770000     0.220000  ...   \n",
       "75%       4.240000     0.440000     1.390000     1.160000     0.610000  ...   \n",
       "max       8.680000     0.900000     2.000000     1.500000     1.000000  ...   \n",
       "\n",
       "              lead     nitrates     nitrites      mercury  perchlorate  \\\n",
       "count  7996.000000  7996.000000  7996.000000  7996.000000  7996.000000   \n",
       "mean      0.099431     9.819250     1.329846     0.005193    16.465266   \n",
       "std       0.058169     5.541977     0.573271     0.002967    17.688827   \n",
       "min       0.000000     0.000000     0.000000     0.000000     0.000000   \n",
       "25%       0.048000     5.000000     1.000000     0.003000     2.170000   \n",
       "50%       0.102000     9.930000     1.420000     0.005000     7.745000   \n",
       "75%       0.151000    14.610000     1.760000     0.008000    29.487500   \n",
       "max       0.200000    19.830000     2.930000     0.010000    60.010000   \n",
       "\n",
       "            radium     selenium       silver      uranium      is_safe  \n",
       "count  7996.000000  7996.000000  7996.000000  7996.000000  7996.000000  \n",
       "mean      2.920106     0.049684     0.147811     0.044672     0.114057  \n",
       "std       2.322805     0.028773     0.143569     0.026906     0.317900  \n",
       "min       0.000000     0.000000     0.000000     0.000000     0.000000  \n",
       "25%       0.820000     0.020000     0.040000     0.020000     0.000000  \n",
       "50%       2.410000     0.050000     0.080000     0.050000     0.000000  \n",
       "75%       4.670000     0.070000     0.240000     0.070000     0.000000  \n",
       "max       7.990000     0.100000     0.500000     0.090000     1.000000  \n",
       "\n",
       "[8 rows x 21 columns]"
      ]
     },
     "execution_count": 19,
     "metadata": {},
     "output_type": "execute_result"
    }
   ],
   "source": [
    "dataframe.describe()"
   ]
  },
  {
   "cell_type": "markdown",
   "id": "754d248e",
   "metadata": {},
   "source": [
    "# Correlation Matrix"
   ]
  },
  {
   "cell_type": "markdown",
   "id": "b53bcd1d",
   "metadata": {},
   "source": [
    "A correlation matrix is a table that shows the pairwise correlations between variables in a dataset. Each cell in the table represents the correlation between two variables, and the strength and direction of the correlation is indicated by the color and magnitude of the cell.\n",
    "\n",
    "Correlation matrices are commonly used in data analysis to identify relationships between variables and to help understand the structure of the data. The values in the correlation matrix range from -1 to 1, with -1 indicating a perfect negative correlation, 1 indicating a perfect positive correlation, and 0 indicating no correlation."
   ]
  },
  {
   "cell_type": "code",
   "execution_count": 20,
   "id": "4417adfe",
   "metadata": {},
   "outputs": [],
   "source": [
    "corr_matrix = dataframe.corr()"
   ]
  },
  {
   "cell_type": "code",
   "execution_count": 21,
   "id": "67e11d58",
   "metadata": {},
   "outputs": [
    {
     "data": {
      "text/html": [
       "<div>\n",
       "<style scoped>\n",
       "    .dataframe tbody tr th:only-of-type {\n",
       "        vertical-align: middle;\n",
       "    }\n",
       "\n",
       "    .dataframe tbody tr th {\n",
       "        vertical-align: top;\n",
       "    }\n",
       "\n",
       "    .dataframe thead th {\n",
       "        text-align: right;\n",
       "    }\n",
       "</style>\n",
       "<table border=\"1\" class=\"dataframe\">\n",
       "  <thead>\n",
       "    <tr style=\"text-align: right;\">\n",
       "      <th></th>\n",
       "      <th>aluminium</th>\n",
       "      <th>ammonia</th>\n",
       "      <th>arsenic</th>\n",
       "      <th>barium</th>\n",
       "      <th>cadmium</th>\n",
       "      <th>chloramine</th>\n",
       "      <th>chromium</th>\n",
       "      <th>copper</th>\n",
       "      <th>flouride</th>\n",
       "      <th>bacteria</th>\n",
       "      <th>...</th>\n",
       "      <th>lead</th>\n",
       "      <th>nitrates</th>\n",
       "      <th>nitrites</th>\n",
       "      <th>mercury</th>\n",
       "      <th>perchlorate</th>\n",
       "      <th>radium</th>\n",
       "      <th>selenium</th>\n",
       "      <th>silver</th>\n",
       "      <th>uranium</th>\n",
       "      <th>is_safe</th>\n",
       "    </tr>\n",
       "  </thead>\n",
       "  <tbody>\n",
       "    <tr>\n",
       "      <th>aluminium</th>\n",
       "      <td>1.000000</td>\n",
       "      <td>0.067369</td>\n",
       "      <td>0.225725</td>\n",
       "      <td>0.294091</td>\n",
       "      <td>-0.099902</td>\n",
       "      <td>0.369221</td>\n",
       "      <td>0.353134</td>\n",
       "      <td>0.168569</td>\n",
       "      <td>-0.009877</td>\n",
       "      <td>-0.078324</td>\n",
       "      <td>...</td>\n",
       "      <td>0.020957</td>\n",
       "      <td>-0.003851</td>\n",
       "      <td>0.237439</td>\n",
       "      <td>-0.003129</td>\n",
       "      <td>0.362986</td>\n",
       "      <td>0.243396</td>\n",
       "      <td>-0.003651</td>\n",
       "      <td>0.334923</td>\n",
       "      <td>0.014723</td>\n",
       "      <td>0.333974</td>\n",
       "    </tr>\n",
       "    <tr>\n",
       "      <th>ammonia</th>\n",
       "      <td>0.067369</td>\n",
       "      <td>1.000000</td>\n",
       "      <td>0.046783</td>\n",
       "      <td>0.070099</td>\n",
       "      <td>-0.006422</td>\n",
       "      <td>0.104775</td>\n",
       "      <td>0.124782</td>\n",
       "      <td>0.015953</td>\n",
       "      <td>-0.028221</td>\n",
       "      <td>0.063603</td>\n",
       "      <td>...</td>\n",
       "      <td>-0.037065</td>\n",
       "      <td>0.006483</td>\n",
       "      <td>-0.063309</td>\n",
       "      <td>0.020884</td>\n",
       "      <td>0.090928</td>\n",
       "      <td>0.050401</td>\n",
       "      <td>0.029897</td>\n",
       "      <td>0.075547</td>\n",
       "      <td>0.014635</td>\n",
       "      <td>-0.022919</td>\n",
       "    </tr>\n",
       "    <tr>\n",
       "      <th>arsenic</th>\n",
       "      <td>0.225725</td>\n",
       "      <td>0.046783</td>\n",
       "      <td>1.000000</td>\n",
       "      <td>0.362925</td>\n",
       "      <td>0.334782</td>\n",
       "      <td>0.356509</td>\n",
       "      <td>0.312421</td>\n",
       "      <td>-0.036488</td>\n",
       "      <td>0.003731</td>\n",
       "      <td>0.035642</td>\n",
       "      <td>...</td>\n",
       "      <td>-0.087669</td>\n",
       "      <td>0.027533</td>\n",
       "      <td>0.305113</td>\n",
       "      <td>-0.015288</td>\n",
       "      <td>0.332228</td>\n",
       "      <td>0.218328</td>\n",
       "      <td>-0.006993</td>\n",
       "      <td>0.307794</td>\n",
       "      <td>0.001469</td>\n",
       "      <td>-0.123362</td>\n",
       "    </tr>\n",
       "    <tr>\n",
       "      <th>barium</th>\n",
       "      <td>0.294091</td>\n",
       "      <td>0.070099</td>\n",
       "      <td>0.362925</td>\n",
       "      <td>1.000000</td>\n",
       "      <td>-0.037901</td>\n",
       "      <td>0.446869</td>\n",
       "      <td>0.415937</td>\n",
       "      <td>0.065277</td>\n",
       "      <td>-0.018637</td>\n",
       "      <td>0.101304</td>\n",
       "      <td>...</td>\n",
       "      <td>-0.042829</td>\n",
       "      <td>-0.011423</td>\n",
       "      <td>0.312783</td>\n",
       "      <td>0.006165</td>\n",
       "      <td>0.462207</td>\n",
       "      <td>0.286890</td>\n",
       "      <td>0.035222</td>\n",
       "      <td>0.431542</td>\n",
       "      <td>-0.002541</td>\n",
       "      <td>0.090858</td>\n",
       "    </tr>\n",
       "    <tr>\n",
       "      <th>cadmium</th>\n",
       "      <td>-0.099902</td>\n",
       "      <td>-0.006422</td>\n",
       "      <td>0.334782</td>\n",
       "      <td>-0.037901</td>\n",
       "      <td>1.000000</td>\n",
       "      <td>-0.144366</td>\n",
       "      <td>-0.157716</td>\n",
       "      <td>-0.109252</td>\n",
       "      <td>0.005005</td>\n",
       "      <td>-0.092133</td>\n",
       "      <td>...</td>\n",
       "      <td>-0.035313</td>\n",
       "      <td>0.020232</td>\n",
       "      <td>-0.015829</td>\n",
       "      <td>-0.016169</td>\n",
       "      <td>-0.149269</td>\n",
       "      <td>-0.098936</td>\n",
       "      <td>0.009933</td>\n",
       "      <td>-0.155441</td>\n",
       "      <td>-0.005911</td>\n",
       "      <td>-0.256034</td>\n",
       "    </tr>\n",
       "    <tr>\n",
       "      <th>chloramine</th>\n",
       "      <td>0.369221</td>\n",
       "      <td>0.104775</td>\n",
       "      <td>0.356509</td>\n",
       "      <td>0.446869</td>\n",
       "      <td>-0.144366</td>\n",
       "      <td>1.000000</td>\n",
       "      <td>0.555846</td>\n",
       "      <td>0.118975</td>\n",
       "      <td>0.004254</td>\n",
       "      <td>0.154443</td>\n",
       "      <td>...</td>\n",
       "      <td>-0.030241</td>\n",
       "      <td>-0.001619</td>\n",
       "      <td>0.379916</td>\n",
       "      <td>-0.021198</td>\n",
       "      <td>0.588683</td>\n",
       "      <td>0.389119</td>\n",
       "      <td>0.011435</td>\n",
       "      <td>0.522372</td>\n",
       "      <td>-0.007648</td>\n",
       "      <td>0.186704</td>\n",
       "    </tr>\n",
       "    <tr>\n",
       "      <th>chromium</th>\n",
       "      <td>0.353134</td>\n",
       "      <td>0.124782</td>\n",
       "      <td>0.312421</td>\n",
       "      <td>0.415937</td>\n",
       "      <td>-0.157716</td>\n",
       "      <td>0.555846</td>\n",
       "      <td>1.000000</td>\n",
       "      <td>0.113003</td>\n",
       "      <td>-0.002424</td>\n",
       "      <td>0.141937</td>\n",
       "      <td>...</td>\n",
       "      <td>-0.050254</td>\n",
       "      <td>-0.012843</td>\n",
       "      <td>0.335940</td>\n",
       "      <td>-0.022541</td>\n",
       "      <td>0.524432</td>\n",
       "      <td>0.315484</td>\n",
       "      <td>0.030598</td>\n",
       "      <td>0.510705</td>\n",
       "      <td>-0.005472</td>\n",
       "      <td>0.182306</td>\n",
       "    </tr>\n",
       "    <tr>\n",
       "      <th>copper</th>\n",
       "      <td>0.168569</td>\n",
       "      <td>0.015953</td>\n",
       "      <td>-0.036488</td>\n",
       "      <td>0.065277</td>\n",
       "      <td>-0.109252</td>\n",
       "      <td>0.118975</td>\n",
       "      <td>0.113003</td>\n",
       "      <td>1.000000</td>\n",
       "      <td>0.011647</td>\n",
       "      <td>0.149271</td>\n",
       "      <td>...</td>\n",
       "      <td>0.121762</td>\n",
       "      <td>0.002259</td>\n",
       "      <td>0.162092</td>\n",
       "      <td>0.017785</td>\n",
       "      <td>0.104527</td>\n",
       "      <td>0.026534</td>\n",
       "      <td>-0.003356</td>\n",
       "      <td>0.089241</td>\n",
       "      <td>0.006802</td>\n",
       "      <td>0.029498</td>\n",
       "    </tr>\n",
       "    <tr>\n",
       "      <th>flouride</th>\n",
       "      <td>-0.009877</td>\n",
       "      <td>-0.028221</td>\n",
       "      <td>0.003731</td>\n",
       "      <td>-0.018637</td>\n",
       "      <td>0.005005</td>\n",
       "      <td>0.004254</td>\n",
       "      <td>-0.002424</td>\n",
       "      <td>0.011647</td>\n",
       "      <td>1.000000</td>\n",
       "      <td>0.013984</td>\n",
       "      <td>...</td>\n",
       "      <td>0.012146</td>\n",
       "      <td>-0.008245</td>\n",
       "      <td>-0.016591</td>\n",
       "      <td>-0.004263</td>\n",
       "      <td>-0.016352</td>\n",
       "      <td>0.007683</td>\n",
       "      <td>0.022726</td>\n",
       "      <td>0.014446</td>\n",
       "      <td>0.016849</td>\n",
       "      <td>0.006550</td>\n",
       "    </tr>\n",
       "    <tr>\n",
       "      <th>bacteria</th>\n",
       "      <td>-0.078324</td>\n",
       "      <td>0.063603</td>\n",
       "      <td>0.035642</td>\n",
       "      <td>0.101304</td>\n",
       "      <td>-0.092133</td>\n",
       "      <td>0.154443</td>\n",
       "      <td>0.141937</td>\n",
       "      <td>0.149271</td>\n",
       "      <td>0.013984</td>\n",
       "      <td>1.000000</td>\n",
       "      <td>...</td>\n",
       "      <td>-0.027179</td>\n",
       "      <td>-0.033993</td>\n",
       "      <td>0.246463</td>\n",
       "      <td>-0.004406</td>\n",
       "      <td>0.147526</td>\n",
       "      <td>0.099080</td>\n",
       "      <td>-0.006779</td>\n",
       "      <td>0.148199</td>\n",
       "      <td>0.045077</td>\n",
       "      <td>-0.022077</td>\n",
       "    </tr>\n",
       "    <tr>\n",
       "      <th>viruses</th>\n",
       "      <td>-0.071040</td>\n",
       "      <td>0.105856</td>\n",
       "      <td>0.011596</td>\n",
       "      <td>-0.002429</td>\n",
       "      <td>0.021255</td>\n",
       "      <td>0.003432</td>\n",
       "      <td>0.002193</td>\n",
       "      <td>0.006183</td>\n",
       "      <td>0.018261</td>\n",
       "      <td>0.618535</td>\n",
       "      <td>...</td>\n",
       "      <td>0.017886</td>\n",
       "      <td>-0.044621</td>\n",
       "      <td>-0.091364</td>\n",
       "      <td>0.011728</td>\n",
       "      <td>0.002965</td>\n",
       "      <td>-0.019955</td>\n",
       "      <td>-0.035013</td>\n",
       "      <td>0.011680</td>\n",
       "      <td>0.058473</td>\n",
       "      <td>-0.097040</td>\n",
       "    </tr>\n",
       "    <tr>\n",
       "      <th>lead</th>\n",
       "      <td>0.020957</td>\n",
       "      <td>-0.037065</td>\n",
       "      <td>-0.087669</td>\n",
       "      <td>-0.042829</td>\n",
       "      <td>-0.035313</td>\n",
       "      <td>-0.030241</td>\n",
       "      <td>-0.050254</td>\n",
       "      <td>0.121762</td>\n",
       "      <td>0.012146</td>\n",
       "      <td>-0.027179</td>\n",
       "      <td>...</td>\n",
       "      <td>1.000000</td>\n",
       "      <td>0.035095</td>\n",
       "      <td>-0.052656</td>\n",
       "      <td>-0.008073</td>\n",
       "      <td>-0.027426</td>\n",
       "      <td>-0.048623</td>\n",
       "      <td>0.031694</td>\n",
       "      <td>-0.057207</td>\n",
       "      <td>-0.009372</td>\n",
       "      <td>-0.009970</td>\n",
       "    </tr>\n",
       "    <tr>\n",
       "      <th>nitrates</th>\n",
       "      <td>-0.003851</td>\n",
       "      <td>0.006483</td>\n",
       "      <td>0.027533</td>\n",
       "      <td>-0.011423</td>\n",
       "      <td>0.020232</td>\n",
       "      <td>-0.001619</td>\n",
       "      <td>-0.012843</td>\n",
       "      <td>0.002259</td>\n",
       "      <td>-0.008245</td>\n",
       "      <td>-0.033993</td>\n",
       "      <td>...</td>\n",
       "      <td>0.035095</td>\n",
       "      <td>1.000000</td>\n",
       "      <td>0.016898</td>\n",
       "      <td>-0.020429</td>\n",
       "      <td>-0.014091</td>\n",
       "      <td>-0.021406</td>\n",
       "      <td>0.043180</td>\n",
       "      <td>0.005149</td>\n",
       "      <td>0.000795</td>\n",
       "      <td>-0.072100</td>\n",
       "    </tr>\n",
       "    <tr>\n",
       "      <th>nitrites</th>\n",
       "      <td>0.237439</td>\n",
       "      <td>-0.063309</td>\n",
       "      <td>0.305113</td>\n",
       "      <td>0.312783</td>\n",
       "      <td>-0.015829</td>\n",
       "      <td>0.379916</td>\n",
       "      <td>0.335940</td>\n",
       "      <td>0.162092</td>\n",
       "      <td>-0.016591</td>\n",
       "      <td>0.246463</td>\n",
       "      <td>...</td>\n",
       "      <td>-0.052656</td>\n",
       "      <td>0.016898</td>\n",
       "      <td>1.000000</td>\n",
       "      <td>-0.016936</td>\n",
       "      <td>0.346407</td>\n",
       "      <td>0.272939</td>\n",
       "      <td>0.012100</td>\n",
       "      <td>0.332877</td>\n",
       "      <td>-0.010035</td>\n",
       "      <td>0.046986</td>\n",
       "    </tr>\n",
       "    <tr>\n",
       "      <th>mercury</th>\n",
       "      <td>-0.003129</td>\n",
       "      <td>0.020884</td>\n",
       "      <td>-0.015288</td>\n",
       "      <td>0.006165</td>\n",
       "      <td>-0.016169</td>\n",
       "      <td>-0.021198</td>\n",
       "      <td>-0.022541</td>\n",
       "      <td>0.017785</td>\n",
       "      <td>-0.004263</td>\n",
       "      <td>-0.004406</td>\n",
       "      <td>...</td>\n",
       "      <td>-0.008073</td>\n",
       "      <td>-0.020429</td>\n",
       "      <td>-0.016936</td>\n",
       "      <td>1.000000</td>\n",
       "      <td>0.006356</td>\n",
       "      <td>0.032427</td>\n",
       "      <td>0.034659</td>\n",
       "      <td>0.006304</td>\n",
       "      <td>0.031733</td>\n",
       "      <td>-0.036817</td>\n",
       "    </tr>\n",
       "    <tr>\n",
       "      <th>perchlorate</th>\n",
       "      <td>0.362986</td>\n",
       "      <td>0.090928</td>\n",
       "      <td>0.332228</td>\n",
       "      <td>0.462207</td>\n",
       "      <td>-0.149269</td>\n",
       "      <td>0.588683</td>\n",
       "      <td>0.524432</td>\n",
       "      <td>0.104527</td>\n",
       "      <td>-0.016352</td>\n",
       "      <td>0.147526</td>\n",
       "      <td>...</td>\n",
       "      <td>-0.027426</td>\n",
       "      <td>-0.014091</td>\n",
       "      <td>0.346407</td>\n",
       "      <td>0.006356</td>\n",
       "      <td>1.000000</td>\n",
       "      <td>0.373242</td>\n",
       "      <td>0.014517</td>\n",
       "      <td>0.504539</td>\n",
       "      <td>0.000981</td>\n",
       "      <td>0.075735</td>\n",
       "    </tr>\n",
       "    <tr>\n",
       "      <th>radium</th>\n",
       "      <td>0.243396</td>\n",
       "      <td>0.050401</td>\n",
       "      <td>0.218328</td>\n",
       "      <td>0.286890</td>\n",
       "      <td>-0.098936</td>\n",
       "      <td>0.389119</td>\n",
       "      <td>0.315484</td>\n",
       "      <td>0.026534</td>\n",
       "      <td>0.007683</td>\n",
       "      <td>0.099080</td>\n",
       "      <td>...</td>\n",
       "      <td>-0.048623</td>\n",
       "      <td>-0.021406</td>\n",
       "      <td>0.272939</td>\n",
       "      <td>0.032427</td>\n",
       "      <td>0.373242</td>\n",
       "      <td>1.000000</td>\n",
       "      <td>0.028467</td>\n",
       "      <td>0.354273</td>\n",
       "      <td>0.020565</td>\n",
       "      <td>0.064743</td>\n",
       "    </tr>\n",
       "    <tr>\n",
       "      <th>selenium</th>\n",
       "      <td>-0.003651</td>\n",
       "      <td>0.029897</td>\n",
       "      <td>-0.006993</td>\n",
       "      <td>0.035222</td>\n",
       "      <td>0.009933</td>\n",
       "      <td>0.011435</td>\n",
       "      <td>0.030598</td>\n",
       "      <td>-0.003356</td>\n",
       "      <td>0.022726</td>\n",
       "      <td>-0.006779</td>\n",
       "      <td>...</td>\n",
       "      <td>0.031694</td>\n",
       "      <td>0.043180</td>\n",
       "      <td>0.012100</td>\n",
       "      <td>0.034659</td>\n",
       "      <td>0.014517</td>\n",
       "      <td>0.028467</td>\n",
       "      <td>1.000000</td>\n",
       "      <td>-0.019951</td>\n",
       "      <td>-0.022276</td>\n",
       "      <td>-0.030923</td>\n",
       "    </tr>\n",
       "    <tr>\n",
       "      <th>silver</th>\n",
       "      <td>0.334923</td>\n",
       "      <td>0.075547</td>\n",
       "      <td>0.307794</td>\n",
       "      <td>0.431542</td>\n",
       "      <td>-0.155441</td>\n",
       "      <td>0.522372</td>\n",
       "      <td>0.510705</td>\n",
       "      <td>0.089241</td>\n",
       "      <td>0.014446</td>\n",
       "      <td>0.148199</td>\n",
       "      <td>...</td>\n",
       "      <td>-0.057207</td>\n",
       "      <td>0.005149</td>\n",
       "      <td>0.332877</td>\n",
       "      <td>0.006304</td>\n",
       "      <td>0.504539</td>\n",
       "      <td>0.354273</td>\n",
       "      <td>-0.019951</td>\n",
       "      <td>1.000000</td>\n",
       "      <td>0.008133</td>\n",
       "      <td>0.102813</td>\n",
       "    </tr>\n",
       "    <tr>\n",
       "      <th>uranium</th>\n",
       "      <td>0.014723</td>\n",
       "      <td>0.014635</td>\n",
       "      <td>0.001469</td>\n",
       "      <td>-0.002541</td>\n",
       "      <td>-0.005911</td>\n",
       "      <td>-0.007648</td>\n",
       "      <td>-0.005472</td>\n",
       "      <td>0.006802</td>\n",
       "      <td>0.016849</td>\n",
       "      <td>0.045077</td>\n",
       "      <td>...</td>\n",
       "      <td>-0.009372</td>\n",
       "      <td>0.000795</td>\n",
       "      <td>-0.010035</td>\n",
       "      <td>0.031733</td>\n",
       "      <td>0.000981</td>\n",
       "      <td>0.020565</td>\n",
       "      <td>-0.022276</td>\n",
       "      <td>0.008133</td>\n",
       "      <td>1.000000</td>\n",
       "      <td>-0.075619</td>\n",
       "    </tr>\n",
       "    <tr>\n",
       "      <th>is_safe</th>\n",
       "      <td>0.333974</td>\n",
       "      <td>-0.022919</td>\n",
       "      <td>-0.123362</td>\n",
       "      <td>0.090858</td>\n",
       "      <td>-0.256034</td>\n",
       "      <td>0.186704</td>\n",
       "      <td>0.182306</td>\n",
       "      <td>0.029498</td>\n",
       "      <td>0.006550</td>\n",
       "      <td>-0.022077</td>\n",
       "      <td>...</td>\n",
       "      <td>-0.009970</td>\n",
       "      <td>-0.072100</td>\n",
       "      <td>0.046986</td>\n",
       "      <td>-0.036817</td>\n",
       "      <td>0.075735</td>\n",
       "      <td>0.064743</td>\n",
       "      <td>-0.030923</td>\n",
       "      <td>0.102813</td>\n",
       "      <td>-0.075619</td>\n",
       "      <td>1.000000</td>\n",
       "    </tr>\n",
       "  </tbody>\n",
       "</table>\n",
       "<p>21 rows × 21 columns</p>\n",
       "</div>"
      ],
      "text/plain": [
       "             aluminium   ammonia   arsenic    barium   cadmium  chloramine  \\\n",
       "aluminium     1.000000  0.067369  0.225725  0.294091 -0.099902    0.369221   \n",
       "ammonia       0.067369  1.000000  0.046783  0.070099 -0.006422    0.104775   \n",
       "arsenic       0.225725  0.046783  1.000000  0.362925  0.334782    0.356509   \n",
       "barium        0.294091  0.070099  0.362925  1.000000 -0.037901    0.446869   \n",
       "cadmium      -0.099902 -0.006422  0.334782 -0.037901  1.000000   -0.144366   \n",
       "chloramine    0.369221  0.104775  0.356509  0.446869 -0.144366    1.000000   \n",
       "chromium      0.353134  0.124782  0.312421  0.415937 -0.157716    0.555846   \n",
       "copper        0.168569  0.015953 -0.036488  0.065277 -0.109252    0.118975   \n",
       "flouride     -0.009877 -0.028221  0.003731 -0.018637  0.005005    0.004254   \n",
       "bacteria     -0.078324  0.063603  0.035642  0.101304 -0.092133    0.154443   \n",
       "viruses      -0.071040  0.105856  0.011596 -0.002429  0.021255    0.003432   \n",
       "lead          0.020957 -0.037065 -0.087669 -0.042829 -0.035313   -0.030241   \n",
       "nitrates     -0.003851  0.006483  0.027533 -0.011423  0.020232   -0.001619   \n",
       "nitrites      0.237439 -0.063309  0.305113  0.312783 -0.015829    0.379916   \n",
       "mercury      -0.003129  0.020884 -0.015288  0.006165 -0.016169   -0.021198   \n",
       "perchlorate   0.362986  0.090928  0.332228  0.462207 -0.149269    0.588683   \n",
       "radium        0.243396  0.050401  0.218328  0.286890 -0.098936    0.389119   \n",
       "selenium     -0.003651  0.029897 -0.006993  0.035222  0.009933    0.011435   \n",
       "silver        0.334923  0.075547  0.307794  0.431542 -0.155441    0.522372   \n",
       "uranium       0.014723  0.014635  0.001469 -0.002541 -0.005911   -0.007648   \n",
       "is_safe       0.333974 -0.022919 -0.123362  0.090858 -0.256034    0.186704   \n",
       "\n",
       "             chromium    copper  flouride  bacteria  ...      lead  nitrates  \\\n",
       "aluminium    0.353134  0.168569 -0.009877 -0.078324  ...  0.020957 -0.003851   \n",
       "ammonia      0.124782  0.015953 -0.028221  0.063603  ... -0.037065  0.006483   \n",
       "arsenic      0.312421 -0.036488  0.003731  0.035642  ... -0.087669  0.027533   \n",
       "barium       0.415937  0.065277 -0.018637  0.101304  ... -0.042829 -0.011423   \n",
       "cadmium     -0.157716 -0.109252  0.005005 -0.092133  ... -0.035313  0.020232   \n",
       "chloramine   0.555846  0.118975  0.004254  0.154443  ... -0.030241 -0.001619   \n",
       "chromium     1.000000  0.113003 -0.002424  0.141937  ... -0.050254 -0.012843   \n",
       "copper       0.113003  1.000000  0.011647  0.149271  ...  0.121762  0.002259   \n",
       "flouride    -0.002424  0.011647  1.000000  0.013984  ...  0.012146 -0.008245   \n",
       "bacteria     0.141937  0.149271  0.013984  1.000000  ... -0.027179 -0.033993   \n",
       "viruses      0.002193  0.006183  0.018261  0.618535  ...  0.017886 -0.044621   \n",
       "lead        -0.050254  0.121762  0.012146 -0.027179  ...  1.000000  0.035095   \n",
       "nitrates    -0.012843  0.002259 -0.008245 -0.033993  ...  0.035095  1.000000   \n",
       "nitrites     0.335940  0.162092 -0.016591  0.246463  ... -0.052656  0.016898   \n",
       "mercury     -0.022541  0.017785 -0.004263 -0.004406  ... -0.008073 -0.020429   \n",
       "perchlorate  0.524432  0.104527 -0.016352  0.147526  ... -0.027426 -0.014091   \n",
       "radium       0.315484  0.026534  0.007683  0.099080  ... -0.048623 -0.021406   \n",
       "selenium     0.030598 -0.003356  0.022726 -0.006779  ...  0.031694  0.043180   \n",
       "silver       0.510705  0.089241  0.014446  0.148199  ... -0.057207  0.005149   \n",
       "uranium     -0.005472  0.006802  0.016849  0.045077  ... -0.009372  0.000795   \n",
       "is_safe      0.182306  0.029498  0.006550 -0.022077  ... -0.009970 -0.072100   \n",
       "\n",
       "             nitrites   mercury  perchlorate    radium  selenium    silver  \\\n",
       "aluminium    0.237439 -0.003129     0.362986  0.243396 -0.003651  0.334923   \n",
       "ammonia     -0.063309  0.020884     0.090928  0.050401  0.029897  0.075547   \n",
       "arsenic      0.305113 -0.015288     0.332228  0.218328 -0.006993  0.307794   \n",
       "barium       0.312783  0.006165     0.462207  0.286890  0.035222  0.431542   \n",
       "cadmium     -0.015829 -0.016169    -0.149269 -0.098936  0.009933 -0.155441   \n",
       "chloramine   0.379916 -0.021198     0.588683  0.389119  0.011435  0.522372   \n",
       "chromium     0.335940 -0.022541     0.524432  0.315484  0.030598  0.510705   \n",
       "copper       0.162092  0.017785     0.104527  0.026534 -0.003356  0.089241   \n",
       "flouride    -0.016591 -0.004263    -0.016352  0.007683  0.022726  0.014446   \n",
       "bacteria     0.246463 -0.004406     0.147526  0.099080 -0.006779  0.148199   \n",
       "viruses     -0.091364  0.011728     0.002965 -0.019955 -0.035013  0.011680   \n",
       "lead        -0.052656 -0.008073    -0.027426 -0.048623  0.031694 -0.057207   \n",
       "nitrates     0.016898 -0.020429    -0.014091 -0.021406  0.043180  0.005149   \n",
       "nitrites     1.000000 -0.016936     0.346407  0.272939  0.012100  0.332877   \n",
       "mercury     -0.016936  1.000000     0.006356  0.032427  0.034659  0.006304   \n",
       "perchlorate  0.346407  0.006356     1.000000  0.373242  0.014517  0.504539   \n",
       "radium       0.272939  0.032427     0.373242  1.000000  0.028467  0.354273   \n",
       "selenium     0.012100  0.034659     0.014517  0.028467  1.000000 -0.019951   \n",
       "silver       0.332877  0.006304     0.504539  0.354273 -0.019951  1.000000   \n",
       "uranium     -0.010035  0.031733     0.000981  0.020565 -0.022276  0.008133   \n",
       "is_safe      0.046986 -0.036817     0.075735  0.064743 -0.030923  0.102813   \n",
       "\n",
       "              uranium   is_safe  \n",
       "aluminium    0.014723  0.333974  \n",
       "ammonia      0.014635 -0.022919  \n",
       "arsenic      0.001469 -0.123362  \n",
       "barium      -0.002541  0.090858  \n",
       "cadmium     -0.005911 -0.256034  \n",
       "chloramine  -0.007648  0.186704  \n",
       "chromium    -0.005472  0.182306  \n",
       "copper       0.006802  0.029498  \n",
       "flouride     0.016849  0.006550  \n",
       "bacteria     0.045077 -0.022077  \n",
       "viruses      0.058473 -0.097040  \n",
       "lead        -0.009372 -0.009970  \n",
       "nitrates     0.000795 -0.072100  \n",
       "nitrites    -0.010035  0.046986  \n",
       "mercury      0.031733 -0.036817  \n",
       "perchlorate  0.000981  0.075735  \n",
       "radium       0.020565  0.064743  \n",
       "selenium    -0.022276 -0.030923  \n",
       "silver       0.008133  0.102813  \n",
       "uranium      1.000000 -0.075619  \n",
       "is_safe     -0.075619  1.000000  \n",
       "\n",
       "[21 rows x 21 columns]"
      ]
     },
     "execution_count": 21,
     "metadata": {},
     "output_type": "execute_result"
    }
   ],
   "source": [
    "corr_matrix"
   ]
  },
  {
   "cell_type": "code",
   "execution_count": 22,
   "id": "d560055f",
   "metadata": {},
   "outputs": [
    {
     "data": {
      "text/plain": [
       "<AxesSubplot:>"
      ]
     },
     "execution_count": 22,
     "metadata": {},
     "output_type": "execute_result"
    },
    {
     "data": {
      "image/png": "[encoded data removed]",
      "text/plain": [
       "<Figure size 1296x576 with 2 Axes>"
      ]
     },
     "metadata": {
      "needs_background": "light"
     },
     "output_type": "display_data"
    }
   ],
   "source": [
    "plt.figure(figsize = (18, 8))\n",
    "sns.heatmap(\n",
    "    corr_matrix, \n",
    "    annot = True, \n",
    "    cmap = 'magma'\n",
    ")"
   ]
  },
  {
   "cell_type": "code",
   "execution_count": 23,
   "id": "4df61d46",
   "metadata": {},
   "outputs": [],
   "source": [
    "dataset = dataframe.drop('is_safe', axis = 1)"
   ]
  },
  {
   "cell_type": "code",
   "execution_count": 24,
   "id": "3d29bf81",
   "metadata": {},
   "outputs": [
    {
     "data": {
      "text/plain": [
       "<AxesSubplot:title={'center':'Correlation With Safe'}>"
      ]
     },
     "execution_count": 24,
     "metadata": {},
     "output_type": "execute_result"
    },
    {
     "data": {
      "image/png": "[encoded data removed]",
      "text/plain": [
       "<Figure size 864x360 with 1 Axes>"
      ]
     },
     "metadata": {
      "needs_background": "light"
     },
     "output_type": "display_data"
    }
   ],
   "source": [
    "dataset.corrwith(dataframe['is_safe']).plot.bar(\n",
    "    figsize = (12, 5),\n",
    "    title = 'Correlation With Safe',\n",
    "    rot = 90\n",
    ")"
   ]
  },
  {
   "cell_type": "code",
   "execution_count": 25,
   "id": "6f3c69c7",
   "metadata": {},
   "outputs": [
    {
     "data": {
      "text/plain": [
       "Index(['aluminium', 'ammonia', 'arsenic', 'barium', 'cadmium', 'chloramine',\n",
       "       'chromium', 'copper', 'flouride', 'bacteria', 'viruses', 'lead',\n",
       "       'nitrates', 'nitrites', 'mercury', 'perchlorate', 'radium', 'selenium',\n",
       "       'silver', 'uranium', 'is_safe'],\n",
       "      dtype='object')"
      ]
     },
     "execution_count": 25,
     "metadata": {},
     "output_type": "execute_result"
    }
   ],
   "source": [
    "dataframe.columns"
   ]
  },
  {
   "cell_type": "code",
   "execution_count": 26,
   "id": "d5ab168a",
   "metadata": {},
   "outputs": [
    {
     "data": {
      "text/html": [
       "<div>\n",
       "<style scoped>\n",
       "    .dataframe tbody tr th:only-of-type {\n",
       "        vertical-align: middle;\n",
       "    }\n",
       "\n",
       "    .dataframe tbody tr th {\n",
       "        vertical-align: top;\n",
       "    }\n",
       "\n",
       "    .dataframe thead th {\n",
       "        text-align: right;\n",
       "    }\n",
       "</style>\n",
       "<table border=\"1\" class=\"dataframe\">\n",
       "  <thead>\n",
       "    <tr style=\"text-align: right;\">\n",
       "      <th></th>\n",
       "      <th>aluminium</th>\n",
       "      <th>ammonia</th>\n",
       "      <th>arsenic</th>\n",
       "      <th>barium</th>\n",
       "      <th>cadmium</th>\n",
       "      <th>chloramine</th>\n",
       "      <th>chromium</th>\n",
       "      <th>copper</th>\n",
       "      <th>flouride</th>\n",
       "      <th>bacteria</th>\n",
       "      <th>...</th>\n",
       "      <th>lead</th>\n",
       "      <th>nitrates</th>\n",
       "      <th>nitrites</th>\n",
       "      <th>mercury</th>\n",
       "      <th>perchlorate</th>\n",
       "      <th>radium</th>\n",
       "      <th>selenium</th>\n",
       "      <th>silver</th>\n",
       "      <th>uranium</th>\n",
       "      <th>is_safe</th>\n",
       "    </tr>\n",
       "  </thead>\n",
       "  <tbody>\n",
       "    <tr>\n",
       "      <th>0</th>\n",
       "      <td>1.65</td>\n",
       "      <td>9.08</td>\n",
       "      <td>0.04</td>\n",
       "      <td>2.85</td>\n",
       "      <td>0.007</td>\n",
       "      <td>0.35</td>\n",
       "      <td>0.83</td>\n",
       "      <td>0.17</td>\n",
       "      <td>0.05</td>\n",
       "      <td>0.20</td>\n",
       "      <td>...</td>\n",
       "      <td>0.054</td>\n",
       "      <td>16.08</td>\n",
       "      <td>1.13</td>\n",
       "      <td>0.007</td>\n",
       "      <td>37.75</td>\n",
       "      <td>6.78</td>\n",
       "      <td>0.08</td>\n",
       "      <td>0.34</td>\n",
       "      <td>0.02</td>\n",
       "      <td>1</td>\n",
       "    </tr>\n",
       "    <tr>\n",
       "      <th>1</th>\n",
       "      <td>2.32</td>\n",
       "      <td>21.16</td>\n",
       "      <td>0.01</td>\n",
       "      <td>3.31</td>\n",
       "      <td>0.002</td>\n",
       "      <td>5.28</td>\n",
       "      <td>0.68</td>\n",
       "      <td>0.66</td>\n",
       "      <td>0.90</td>\n",
       "      <td>0.65</td>\n",
       "      <td>...</td>\n",
       "      <td>0.100</td>\n",
       "      <td>2.01</td>\n",
       "      <td>1.93</td>\n",
       "      <td>0.003</td>\n",
       "      <td>32.26</td>\n",
       "      <td>3.21</td>\n",
       "      <td>0.08</td>\n",
       "      <td>0.27</td>\n",
       "      <td>0.05</td>\n",
       "      <td>1</td>\n",
       "    </tr>\n",
       "    <tr>\n",
       "      <th>2</th>\n",
       "      <td>1.01</td>\n",
       "      <td>14.02</td>\n",
       "      <td>0.04</td>\n",
       "      <td>0.58</td>\n",
       "      <td>0.008</td>\n",
       "      <td>4.24</td>\n",
       "      <td>0.53</td>\n",
       "      <td>0.02</td>\n",
       "      <td>0.99</td>\n",
       "      <td>0.05</td>\n",
       "      <td>...</td>\n",
       "      <td>0.078</td>\n",
       "      <td>14.16</td>\n",
       "      <td>1.11</td>\n",
       "      <td>0.006</td>\n",
       "      <td>50.28</td>\n",
       "      <td>7.07</td>\n",
       "      <td>0.07</td>\n",
       "      <td>0.44</td>\n",
       "      <td>0.01</td>\n",
       "      <td>0</td>\n",
       "    </tr>\n",
       "    <tr>\n",
       "      <th>3</th>\n",
       "      <td>1.36</td>\n",
       "      <td>11.33</td>\n",
       "      <td>0.04</td>\n",
       "      <td>2.96</td>\n",
       "      <td>0.001</td>\n",
       "      <td>7.23</td>\n",
       "      <td>0.03</td>\n",
       "      <td>1.66</td>\n",
       "      <td>1.08</td>\n",
       "      <td>0.71</td>\n",
       "      <td>...</td>\n",
       "      <td>0.016</td>\n",
       "      <td>1.41</td>\n",
       "      <td>1.29</td>\n",
       "      <td>0.004</td>\n",
       "      <td>9.12</td>\n",
       "      <td>1.72</td>\n",
       "      <td>0.02</td>\n",
       "      <td>0.45</td>\n",
       "      <td>0.05</td>\n",
       "      <td>1</td>\n",
       "    </tr>\n",
       "    <tr>\n",
       "      <th>4</th>\n",
       "      <td>0.92</td>\n",
       "      <td>24.33</td>\n",
       "      <td>0.03</td>\n",
       "      <td>0.20</td>\n",
       "      <td>0.006</td>\n",
       "      <td>2.67</td>\n",
       "      <td>0.69</td>\n",
       "      <td>0.57</td>\n",
       "      <td>0.61</td>\n",
       "      <td>0.13</td>\n",
       "      <td>...</td>\n",
       "      <td>0.117</td>\n",
       "      <td>6.74</td>\n",
       "      <td>1.11</td>\n",
       "      <td>0.003</td>\n",
       "      <td>16.90</td>\n",
       "      <td>2.41</td>\n",
       "      <td>0.02</td>\n",
       "      <td>0.06</td>\n",
       "      <td>0.02</td>\n",
       "      <td>1</td>\n",
       "    </tr>\n",
       "  </tbody>\n",
       "</table>\n",
       "<p>5 rows × 21 columns</p>\n",
       "</div>"
      ],
      "text/plain": [
       "   aluminium  ammonia  arsenic  barium  cadmium  chloramine  chromium  copper  \\\n",
       "0       1.65     9.08     0.04    2.85    0.007        0.35      0.83    0.17   \n",
       "1       2.32    21.16     0.01    3.31    0.002        5.28      0.68    0.66   \n",
       "2       1.01    14.02     0.04    0.58    0.008        4.24      0.53    0.02   \n",
       "3       1.36    11.33     0.04    2.96    0.001        7.23      0.03    1.66   \n",
       "4       0.92    24.33     0.03    0.20    0.006        2.67      0.69    0.57   \n",
       "\n",
       "   flouride  bacteria  ...   lead  nitrates  nitrites  mercury  perchlorate  \\\n",
       "0      0.05      0.20  ...  0.054     16.08      1.13    0.007        37.75   \n",
       "1      0.90      0.65  ...  0.100      2.01      1.93    0.003        32.26   \n",
       "2      0.99      0.05  ...  0.078     14.16      1.11    0.006        50.28   \n",
       "3      1.08      0.71  ...  0.016      1.41      1.29    0.004         9.12   \n",
       "4      0.61      0.13  ...  0.117      6.74      1.11    0.003        16.90   \n",
       "\n",
       "   radium  selenium  silver  uranium  is_safe  \n",
       "0    6.78      0.08    0.34     0.02        1  \n",
       "1    3.21      0.08    0.27     0.05        1  \n",
       "2    7.07      0.07    0.44     0.01        0  \n",
       "3    1.72      0.02    0.45     0.05        1  \n",
       "4    2.41      0.02    0.06     0.02        1  \n",
       "\n",
       "[5 rows x 21 columns]"
      ]
     },
     "execution_count": 26,
     "metadata": {},
     "output_type": "execute_result"
    }
   ],
   "source": [
    "dataframe.head()"
   ]
  },
  {
   "cell_type": "markdown",
   "id": "9238de91",
   "metadata": {},
   "source": [
    "# Splitting Data"
   ]
  },
  {
   "cell_type": "markdown",
   "id": "949515ed",
   "metadata": {},
   "source": [
    "Splitting a dataset refers to the process of dividing a given dataset into two or more subsets for training and evaluation purposes. The most common type of split is between the training set and the testing (or validation) set. This division allows us to assess the performance of a machine learning model on unseen data and evaluate its generalization capabilities.\n",
    "\n",
    "Train-Test Split: This is the most basic type of split, where the dataset is divided into a training set and a testing set. The training set is used to train the machine learning model, while the testing set is used to evaluate its performance. The split is typically done using a fixed ratio, such as 80% for training and 20% for testing."
   ]
  },
  {
   "cell_type": "code",
   "execution_count": 27,
   "id": "5c646eab",
   "metadata": {},
   "outputs": [],
   "source": [
    "x = dataframe.drop('is_safe', axis = 1)\n",
    "y = dataframe['is_safe']"
   ]
  },
  {
   "cell_type": "code",
   "execution_count": 28,
   "id": "28400500",
   "metadata": {},
   "outputs": [],
   "source": [
    "from sklearn.model_selection import train_test_split"
   ]
  },
  {
   "cell_type": "code",
   "execution_count": 29,
   "id": "fb02d225",
   "metadata": {},
   "outputs": [],
   "source": [
    "x_train, x_test, y_train, y_test = train_test_split(x,\n",
    "                                                    y,\n",
    "                                                    test_size = 0.2,\n",
    "                                                    random_state = 42)"
   ]
  },
  {
   "cell_type": "code",
   "execution_count": 30,
   "id": "fe7611e6",
   "metadata": {},
   "outputs": [
    {
     "data": {
      "text/plain": [
       "((6396, 20), (1600, 20), (6396,), (1600,))"
      ]
     },
     "execution_count": 30,
     "metadata": {},
     "output_type": "execute_result"
    }
   ],
   "source": [
    "x_train.shape, x_test.shape, y_train.shape, y_test.shape"
   ]
  },
  {
   "cell_type": "markdown",
   "id": "68c68684",
   "metadata": {},
   "source": [
    "# Scaling"
   ]
  },
  {
   "cell_type": "markdown",
   "id": "258f0fea",
   "metadata": {},
   "source": [
    "Scaling is a preprocessing technique used in machine learning to transform the input features to a similar scale. It is often necessary because features can have different units, ranges, or magnitudes, which can affect the performance of certain algorithms. Scaling ensures that all features contribute equally to the learning process and prevents features with larger values from dominating those with smaller values.\n",
    "\n",
    "StandardScaler follows the concept of standardization, also known as Z-score normalization. It transforms the features such that they have a mean of 0 and a standard deviation of 1. This process centers the feature distribution around 0 and scales it to a standard deviation of 1."
   ]
  },
  {
   "cell_type": "code",
   "execution_count": 31,
   "id": "f32c4d84",
   "metadata": {},
   "outputs": [],
   "source": [
    "from sklearn.preprocessing import StandardScaler"
   ]
  },
  {
   "cell_type": "code",
   "execution_count": 32,
   "id": "0380ca3a",
   "metadata": {},
   "outputs": [],
   "source": [
    "scaler = StandardScaler()"
   ]
  },
  {
   "cell_type": "code",
   "execution_count": 33,
   "id": "26fcb3f0",
   "metadata": {},
   "outputs": [],
   "source": [
    "x_train = scaler.fit_transform(x_train)\n",
    "x_test = scaler.transform(x_test)"
   ]
  },
  {
   "cell_type": "code",
   "execution_count": 34,
   "id": "a31f8e95",
   "metadata": {},
   "outputs": [
    {
     "data": {
      "text/plain": [
       "array([[-0.46001722,  1.00069649, -0.28079184, ...,  1.39962141,\n",
       "        -0.61048898, -0.17962468],\n",
       "       [-0.51543167,  1.02094028, -0.47840986, ..., -1.03109425,\n",
       "         0.57518018,  0.56158788],\n",
       "       [ 2.98359541,  0.93546652,  3.07871445, ..., -1.03109425,\n",
       "        -0.88946997,  0.56158788],\n",
       "       ...,\n",
       "       [ 1.18658376,  0.0526126 , -0.59698067, ...,  0.70513122,\n",
       "         0.2961992 ,  0.93219416],\n",
       "       [-0.48376627, -0.70540466, -0.47840986, ..., -0.33660406,\n",
       "        -0.61048898,  0.93219416],\n",
       "       [-0.46001722, -0.44785873, -0.51793347, ..., -0.33660406,\n",
       "        -0.88946997,  0.93219416]])"
      ]
     },
     "execution_count": 34,
     "metadata": {},
     "output_type": "execute_result"
    }
   ],
   "source": [
    "x_train"
   ]
  },
  {
   "cell_type": "code",
   "execution_count": 35,
   "id": "bff3cf94",
   "metadata": {},
   "outputs": [
    {
     "data": {
      "text/plain": [
       "array([[-0.51543167, -1.58938324, -0.28079184, ...,  0.70513122,\n",
       "        -0.81972472, -1.6620498 ],\n",
       "       [-0.30960655,  1.40219821, -0.47840986, ..., -0.68384916,\n",
       "         0.2961992 ,  0.1909816 ],\n",
       "       [-0.50751532,  0.32252972,  0.39110942, ..., -0.33660406,\n",
       "        -0.68023423, -0.92083724],\n",
       "       ...,\n",
       "       [-0.45210087, -1.57926134, -0.43888626, ...,  0.35788613,\n",
       "        -0.61048898,  0.1909816 ],\n",
       "       [-0.48376627, -0.28703312, -0.32031545, ..., -1.37833935,\n",
       "        -0.81972472,  0.93219416],\n",
       "       [ 1.85947359,  1.03893475,  2.76252563, ..., -0.68384916,\n",
       "         1.0633969 ,  0.1909816 ]])"
      ]
     },
     "execution_count": 35,
     "metadata": {},
     "output_type": "execute_result"
    }
   ],
   "source": [
    "x_test"
   ]
  },
  {
   "cell_type": "code",
   "execution_count": 36,
   "id": "9fad8835",
   "metadata": {},
   "outputs": [
    {
     "data": {
      "text/plain": [
       "((6396, 20), (1600, 20))"
      ]
     },
     "execution_count": 36,
     "metadata": {},
     "output_type": "execute_result"
    }
   ],
   "source": [
    "x_train.shape, x_test.shape"
   ]
  },
  {
   "cell_type": "code",
   "execution_count": 37,
   "id": "6efaa254",
   "metadata": {},
   "outputs": [],
   "source": [
    "x_train = x_train.reshape(6396, 20, 1)\n",
    "x_test = x_test.reshape(1600, 20, 1)"
   ]
  },
  {
   "cell_type": "code",
   "execution_count": 38,
   "id": "0b592607",
   "metadata": {},
   "outputs": [
    {
     "data": {
      "text/plain": [
       "((6396, 20, 1), (1600, 20, 1))"
      ]
     },
     "execution_count": 38,
     "metadata": {},
     "output_type": "execute_result"
    }
   ],
   "source": [
    "x_train.shape, x_test.shape"
   ]
  },
  {
   "cell_type": "markdown",
   "id": "102d0a83",
   "metadata": {},
   "source": [
    "# Building CNN Model"
   ]
  },
  {
   "cell_type": "markdown",
   "id": "077fd29f",
   "metadata": {},
   "source": [
    "Creating a deep learning model involves defining the architecture and structure of the neural network, specifying the layers, and configuring the parameters for training."
   ]
  },
  {
   "cell_type": "code",
   "execution_count": 40,
   "id": "0e8c3b8b",
   "metadata": {},
   "outputs": [],
   "source": [
    "from tensorflow.keras.models import Sequential\n",
    "from tensorflow.keras.layers import Dense, Flatten, Dropout\n",
    "from tensorflow.keras.layers import MaxPooling1D, Conv1D, BatchNormalization\n",
    "from tensorflow.keras.optimizers import Adam\n",
    "from tensorflow.keras.callbacks import EarlyStopping"
   ]
  },
  {
   "cell_type": "code",
   "execution_count": 48,
   "id": "d540f219",
   "metadata": {},
   "outputs": [],
   "source": [
    "model = Sequential()\n",
    "model.add(Conv1D(32, kernel_size = 3, activation = 'relu', input_shape = (20, 1)))\n",
    "model.add(MaxPooling1D(pool_size = 2))\n",
    "model.add(BatchNormalization())\n",
    "\n",
    "model.add(Conv1D(64, kernel_size = 3, activation = 'relu'))\n",
    "model.add(MaxPooling1D(pool_size = 2))\n",
    "model.add(BatchNormalization())\n",
    "\n",
    "model.add(Flatten())\n",
    "\n",
    "model.add(Dense(64, activation = 'relu'))\n",
    "model.add(Dropout(0.5))\n",
    "\n",
    "model.add(Dense(1, activation = 'sigmoid'))"
   ]
  },
  {
   "cell_type": "code",
   "execution_count": 49,
   "id": "e246a340",
   "metadata": {},
   "outputs": [
    {
     "name": "stdout",
     "output_type": "stream",
     "text": [
      "Model: \"sequential_3\"\n",
      "_________________________________________________________________\n",
      " Layer (type)                Output Shape              Param #   \n",
      "=================================================================\n",
      " conv1d_3 (Conv1D)           (None, 18, 32)            128       \n",
      "                                                                 \n",
      " max_pooling1d_3 (MaxPooling  (None, 9, 32)            0         \n",
      " 1D)                                                             \n",
      "                                                                 \n",
      " batch_normalization_3 (Batc  (None, 9, 32)            128       \n",
      " hNormalization)                                                 \n",
      "                                                                 \n",
      " conv1d_4 (Conv1D)           (None, 7, 64)             6208      \n",
      "                                                                 \n",
      " max_pooling1d_4 (MaxPooling  (None, 3, 64)            0         \n",
      " 1D)                                                             \n",
      "                                                                 \n",
      " batch_normalization_4 (Batc  (None, 3, 64)            256       \n",
      " hNormalization)                                                 \n",
      "                                                                 \n",
      " flatten_1 (Flatten)         (None, 192)               0         \n",
      "                                                                 \n",
      " dense_2 (Dense)             (None, 64)                12352     \n",
      "                                                                 \n",
      " dropout_1 (Dropout)         (None, 64)                0         \n",
      "                                                                 \n",
      " dense_3 (Dense)             (None, 1)                 65        \n",
      "                                                                 \n",
      "=================================================================\n",
      "Total params: 19,137\n",
      "Trainable params: 18,945\n",
      "Non-trainable params: 192\n",
      "_________________________________________________________________\n"
     ]
    }
   ],
   "source": [
    "model.summary()"
   ]
  },
  {
   "cell_type": "code",
   "execution_count": 50,
   "id": "079ed99c",
   "metadata": {},
   "outputs": [],
   "source": [
    "early_stop = EarlyStopping(monitor = 'val_loss',\n",
    "                           patience = 3,\n",
    "                           restore_best_weights = True)"
   ]
  },
  {
   "cell_type": "markdown",
   "id": "fcb58674",
   "metadata": {},
   "source": [
    "# Compiling Model"
   ]
  },
  {
   "cell_type": "markdown",
   "id": "47384d1a",
   "metadata": {},
   "source": [
    "Compiling the model in deep learning involves configuring essential components that define how the model will be trained."
   ]
  },
  {
   "cell_type": "code",
   "execution_count": 51,
   "id": "004077b9",
   "metadata": {},
   "outputs": [],
   "source": [
    "model.compile(optimizer = Adam(0.0001), loss = 'binary_crossentropy', metrics = ['accuracy'])"
   ]
  },
  {
   "cell_type": "markdown",
   "id": "72274870",
   "metadata": {},
   "source": [
    "# Training Model"
   ]
  },
  {
   "cell_type": "markdown",
   "id": "cb371145",
   "metadata": {},
   "source": [
    "Training the model in deep learning involves the process of iteratively updating the model's parameters (weights and biases) based on the provided training data to minimize the loss function and improve the model's performance."
   ]
  },
  {
   "cell_type": "code",
   "execution_count": 52,
   "id": "e65dcc05",
   "metadata": {
    "scrolled": false
   },
   "outputs": [
    {
     "name": "stdout",
     "output_type": "stream",
     "text": [
      "Epoch 1/250\n",
      "200/200 [==============================] - 27s 52ms/step - loss: 0.6001 - accuracy: 0.6981 - val_loss: 0.4048 - val_accuracy: 0.8756\n",
      "Epoch 2/250\n",
      "200/200 [==============================] - 8s 42ms/step - loss: 0.3701 - accuracy: 0.8433 - val_loss: 0.3131 - val_accuracy: 0.8794\n",
      "Epoch 3/250\n",
      "200/200 [==============================] - 7s 33ms/step - loss: 0.3193 - accuracy: 0.8770 - val_loss: 0.2850 - val_accuracy: 0.8888\n",
      "Epoch 4/250\n",
      "200/200 [==============================] - 7s 34ms/step - loss: 0.2982 - accuracy: 0.8859 - val_loss: 0.2709 - val_accuracy: 0.8956\n",
      "Epoch 5/250\n",
      "200/200 [==============================] - 9s 43ms/step - loss: 0.2773 - accuracy: 0.8949 - val_loss: 0.2598 - val_accuracy: 0.8981\n",
      "Epoch 6/250\n",
      "200/200 [==============================] - 7s 35ms/step - loss: 0.2633 - accuracy: 0.8999 - val_loss: 0.2529 - val_accuracy: 0.8975\n",
      "Epoch 7/250\n",
      "200/200 [==============================] - 9s 44ms/step - loss: 0.2501 - accuracy: 0.9059 - val_loss: 0.2480 - val_accuracy: 0.8975\n",
      "Epoch 8/250\n",
      "200/200 [==============================] - 4s 22ms/step - loss: 0.2457 - accuracy: 0.9060 - val_loss: 0.2444 - val_accuracy: 0.9013\n",
      "Epoch 9/250\n",
      "200/200 [==============================] - 3s 13ms/step - loss: 0.2351 - accuracy: 0.9131 - val_loss: 0.2401 - val_accuracy: 0.9025\n",
      "Epoch 10/250\n",
      "200/200 [==============================] - 3s 13ms/step - loss: 0.2319 - accuracy: 0.9114 - val_loss: 0.2376 - val_accuracy: 0.9013\n",
      "Epoch 11/250\n",
      "200/200 [==============================] - 2s 11ms/step - loss: 0.2304 - accuracy: 0.9165 - val_loss: 0.2361 - val_accuracy: 0.9000\n",
      "Epoch 12/250\n",
      "200/200 [==============================] - 2s 11ms/step - loss: 0.2256 - accuracy: 0.9162 - val_loss: 0.2327 - val_accuracy: 0.9006\n",
      "Epoch 13/250\n",
      "200/200 [==============================] - 2s 11ms/step - loss: 0.2166 - accuracy: 0.9185 - val_loss: 0.2322 - val_accuracy: 0.9044\n",
      "Epoch 14/250\n",
      "200/200 [==============================] - 2s 10ms/step - loss: 0.2138 - accuracy: 0.9203 - val_loss: 0.2270 - val_accuracy: 0.9069\n",
      "Epoch 15/250\n",
      "200/200 [==============================] - 2s 11ms/step - loss: 0.2130 - accuracy: 0.9154 - val_loss: 0.2262 - val_accuracy: 0.9062\n",
      "Epoch 16/250\n",
      "200/200 [==============================] - 3s 13ms/step - loss: 0.2056 - accuracy: 0.9217 - val_loss: 0.2244 - val_accuracy: 0.9075\n",
      "Epoch 17/250\n",
      "200/200 [==============================] - 3s 13ms/step - loss: 0.2035 - accuracy: 0.9254 - val_loss: 0.2215 - val_accuracy: 0.9069\n",
      "Epoch 18/250\n",
      "200/200 [==============================] - 3s 13ms/step - loss: 0.2003 - accuracy: 0.9260 - val_loss: 0.2213 - val_accuracy: 0.9062\n",
      "Epoch 19/250\n",
      "200/200 [==============================] - 2s 11ms/step - loss: 0.1969 - accuracy: 0.9273 - val_loss: 0.2175 - val_accuracy: 0.9125\n",
      "Epoch 20/250\n",
      "200/200 [==============================] - 2s 11ms/step - loss: 0.1933 - accuracy: 0.9309 - val_loss: 0.2166 - val_accuracy: 0.9100\n",
      "Epoch 21/250\n",
      "200/200 [==============================] - 2s 11ms/step - loss: 0.1907 - accuracy: 0.9264 - val_loss: 0.2168 - val_accuracy: 0.9100\n",
      "Epoch 22/250\n",
      "200/200 [==============================] - 2s 11ms/step - loss: 0.1984 - accuracy: 0.9228 - val_loss: 0.2149 - val_accuracy: 0.9087\n",
      "Epoch 23/250\n",
      "200/200 [==============================] - 3s 13ms/step - loss: 0.1865 - accuracy: 0.9303 - val_loss: 0.2140 - val_accuracy: 0.9119\n",
      "Epoch 24/250\n",
      "200/200 [==============================] - 3s 15ms/step - loss: 0.1818 - accuracy: 0.9323 - val_loss: 0.2128 - val_accuracy: 0.9119\n",
      "Epoch 25/250\n",
      "200/200 [==============================] - 2s 12ms/step - loss: 0.1797 - accuracy: 0.9357 - val_loss: 0.2105 - val_accuracy: 0.9137\n",
      "Epoch 26/250\n",
      "200/200 [==============================] - 3s 13ms/step - loss: 0.1815 - accuracy: 0.9300 - val_loss: 0.2094 - val_accuracy: 0.9150\n",
      "Epoch 27/250\n",
      "200/200 [==============================] - 3s 14ms/step - loss: 0.1743 - accuracy: 0.9356 - val_loss: 0.2103 - val_accuracy: 0.9131\n",
      "Epoch 28/250\n",
      "200/200 [==============================] - 4s 19ms/step - loss: 0.1789 - accuracy: 0.9328 - val_loss: 0.2092 - val_accuracy: 0.9150\n",
      "Epoch 29/250\n",
      "200/200 [==============================] - 4s 20ms/step - loss: 0.1733 - accuracy: 0.9359 - val_loss: 0.2070 - val_accuracy: 0.9175\n",
      "Epoch 30/250\n",
      "200/200 [==============================] - 3s 14ms/step - loss: 0.1673 - accuracy: 0.9351 - val_loss: 0.2059 - val_accuracy: 0.9169\n",
      "Epoch 31/250\n",
      "200/200 [==============================] - 2s 11ms/step - loss: 0.1710 - accuracy: 0.9351 - val_loss: 0.2044 - val_accuracy: 0.9169\n",
      "Epoch 32/250\n",
      "200/200 [==============================] - 2s 11ms/step - loss: 0.1695 - accuracy: 0.9339 - val_loss: 0.2027 - val_accuracy: 0.9200\n",
      "Epoch 33/250\n",
      "200/200 [==============================] - 2s 11ms/step - loss: 0.1645 - accuracy: 0.9382 - val_loss: 0.2028 - val_accuracy: 0.9175\n",
      "Epoch 34/250\n",
      "200/200 [==============================] - 3s 13ms/step - loss: 0.1644 - accuracy: 0.9393 - val_loss: 0.2040 - val_accuracy: 0.9162\n",
      "Epoch 35/250\n",
      "200/200 [==============================] - 3s 14ms/step - loss: 0.1642 - accuracy: 0.9400 - val_loss: 0.2043 - val_accuracy: 0.9169\n"
     ]
    },
    {
     "data": {
      "text/plain": [
       "<keras.callbacks.History at 0x1aba70b97e0>"
      ]
     },
     "execution_count": 52,
     "metadata": {},
     "output_type": "execute_result"
    }
   ],
   "source": [
    "model.fit(x_train, y_train, \n",
    "          validation_data = (x_test, y_test), \n",
    "          epochs = 250, \n",
    "          callbacks = [early_stop])"
   ]
  },
  {
   "cell_type": "code",
   "execution_count": 53,
   "id": "b0ac4f1d",
   "metadata": {},
   "outputs": [],
   "source": [
    "model.save('model_pure_water_classifier.h5')"
   ]
  },
  {
   "cell_type": "markdown",
   "id": "95002e0c",
   "metadata": {},
   "source": [
    "# Learning Curve"
   ]
  },
  {
   "cell_type": "markdown",
   "id": "0631d9a0",
   "metadata": {},
   "source": [
    "The learning curve is a plot that shows how the loss and accuracy of a model change during training. It provides insights into how well the model is learning from the training data and how it generalizes to unseen data. The learning curve typically shows the training and validation loss/accuracy on the y-axis and the number of epochs on the x-axis. By analyzing the learning curve, you can identify if the model is overfitting (high training loss, low validation loss) or underfitting (high training and validation loss). It is a useful tool for monitoring and evaluating the performance of machine learning models."
   ]
  },
  {
   "cell_type": "code",
   "execution_count": 54,
   "id": "dc608bc2",
   "metadata": {},
   "outputs": [],
   "source": [
    "losses = pd.DataFrame(model.history.history)"
   ]
  },
  {
   "cell_type": "code",
   "execution_count": 56,
   "id": "725ca572",
   "metadata": {},
   "outputs": [
    {
     "data": {
      "text/html": [
       "<div>\n",
       "<style scoped>\n",
       "    .dataframe tbody tr th:only-of-type {\n",
       "        vertical-align: middle;\n",
       "    }\n",
       "\n",
       "    .dataframe tbody tr th {\n",
       "        vertical-align: top;\n",
       "    }\n",
       "\n",
       "    .dataframe thead th {\n",
       "        text-align: right;\n",
       "    }\n",
       "</style>\n",
       "<table border=\"1\" class=\"dataframe\">\n",
       "  <thead>\n",
       "    <tr style=\"text-align: right;\">\n",
       "      <th></th>\n",
       "      <th>loss</th>\n",
       "      <th>accuracy</th>\n",
       "      <th>val_loss</th>\n",
       "      <th>val_accuracy</th>\n",
       "    </tr>\n",
       "  </thead>\n",
       "  <tbody>\n",
       "    <tr>\n",
       "      <th>0</th>\n",
       "      <td>0.600057</td>\n",
       "      <td>0.698093</td>\n",
       "      <td>0.404840</td>\n",
       "      <td>0.875625</td>\n",
       "    </tr>\n",
       "    <tr>\n",
       "      <th>1</th>\n",
       "      <td>0.370064</td>\n",
       "      <td>0.843340</td>\n",
       "      <td>0.313077</td>\n",
       "      <td>0.879375</td>\n",
       "    </tr>\n",
       "    <tr>\n",
       "      <th>2</th>\n",
       "      <td>0.319264</td>\n",
       "      <td>0.876954</td>\n",
       "      <td>0.284994</td>\n",
       "      <td>0.888750</td>\n",
       "    </tr>\n",
       "    <tr>\n",
       "      <th>3</th>\n",
       "      <td>0.298172</td>\n",
       "      <td>0.885866</td>\n",
       "      <td>0.270897</td>\n",
       "      <td>0.895625</td>\n",
       "    </tr>\n",
       "    <tr>\n",
       "      <th>4</th>\n",
       "      <td>0.277273</td>\n",
       "      <td>0.894934</td>\n",
       "      <td>0.259765</td>\n",
       "      <td>0.898125</td>\n",
       "    </tr>\n",
       "  </tbody>\n",
       "</table>\n",
       "</div>"
      ],
      "text/plain": [
       "       loss  accuracy  val_loss  val_accuracy\n",
       "0  0.600057  0.698093  0.404840      0.875625\n",
       "1  0.370064  0.843340  0.313077      0.879375\n",
       "2  0.319264  0.876954  0.284994      0.888750\n",
       "3  0.298172  0.885866  0.270897      0.895625\n",
       "4  0.277273  0.894934  0.259765      0.898125"
      ]
     },
     "execution_count": 56,
     "metadata": {},
     "output_type": "execute_result"
    }
   ],
   "source": [
    "losses.head()"
   ]
  },
  {
   "cell_type": "code",
   "execution_count": 57,
   "id": "c9f8d090",
   "metadata": {},
   "outputs": [
    {
     "data": {
      "text/plain": [
       "<AxesSubplot:>"
      ]
     },
     "execution_count": 57,
     "metadata": {},
     "output_type": "execute_result"
    },
    {
     "data": {
      "image/png": "[encoded data removed]",
      "text/plain": [
       "<Figure size 432x288 with 1 Axes>"
      ]
     },
     "metadata": {
      "needs_background": "light"
     },
     "output_type": "display_data"
    }
   ],
   "source": [
    "losses.plot()"
   ]
  },
  {
   "cell_type": "code",
   "execution_count": 58,
   "id": "1232c560",
   "metadata": {},
   "outputs": [
    {
     "data": {
      "text/plain": [
       "<AxesSubplot:>"
      ]
     },
     "execution_count": 58,
     "metadata": {},
     "output_type": "execute_result"
    },
    {
     "data": {
      "image/png": "[encoded data removed]",
      "text/plain": [
       "<Figure size 432x288 with 1 Axes>"
      ]
     },
     "metadata": {
      "needs_background": "light"
     },
     "output_type": "display_data"
    }
   ],
   "source": [
    "losses[['loss', 'val_loss']].plot()"
   ]
  },
  {
   "cell_type": "code",
   "execution_count": 59,
   "id": "8bb887fb",
   "metadata": {},
   "outputs": [
    {
     "data": {
      "text/plain": [
       "<AxesSubplot:>"
      ]
     },
     "execution_count": 59,
     "metadata": {},
     "output_type": "execute_result"
    },
    {
     "data": {
      "image/png": "[encoded data removed]",
      "text/plain": [
       "<Figure size 432x288 with 1 Axes>"
      ]
     },
     "metadata": {
      "needs_background": "light"
     },
     "output_type": "display_data"
    }
   ],
   "source": [
    "losses[['accuracy', 'val_accuracy']].plot()"
   ]
  },
  {
   "cell_type": "markdown",
   "id": "11f8acea",
   "metadata": {},
   "source": [
    "# Prediction "
   ]
  },
  {
   "cell_type": "code",
   "execution_count": 60,
   "id": "b6823c49",
   "metadata": {},
   "outputs": [
    {
     "name": "stdout",
     "output_type": "stream",
     "text": [
      "50/50 [==============================] - 1s 5ms/step\n"
     ]
    }
   ],
   "source": [
    "y_pred = model.predict(x_test)\n",
    "predict_class = y_pred.argmax(axis = 1)"
   ]
  },
  {
   "cell_type": "code",
   "execution_count": 62,
   "id": "7bfcb5a1",
   "metadata": {},
   "outputs": [
    {
     "name": "stdout",
     "output_type": "stream",
     "text": [
      "0\n",
      "[0.00898908]\n"
     ]
    },
    {
     "data": {
      "text/plain": [
       "(None, None)"
      ]
     },
     "execution_count": 62,
     "metadata": {},
     "output_type": "execute_result"
    }
   ],
   "source": [
    "print(y_test.iloc[20]), print(y_pred[20])"
   ]
  },
  {
   "cell_type": "code",
   "execution_count": 66,
   "id": "32f4372c",
   "metadata": {},
   "outputs": [
    {
     "name": "stdout",
     "output_type": "stream",
     "text": [
      "0\n",
      "[0.17754799]\n"
     ]
    },
    {
     "data": {
      "text/plain": [
       "(None, None)"
      ]
     },
     "execution_count": 66,
     "metadata": {},
     "output_type": "execute_result"
    }
   ],
   "source": [
    "print(y_test.iloc[44]), print(y_pred[44])"
   ]
  },
  {
   "cell_type": "markdown",
   "id": "8df3b049",
   "metadata": {},
   "source": [
    "# Error Analysis"
   ]
  },
  {
   "cell_type": "markdown",
   "id": "e6afb6b7",
   "metadata": {},
   "source": [
    "Error analysis is an important step in evaluating and improving the performance of a machine learning model. It involves analyzing the errors made by the model during prediction or classification tasks and gaining insights into the types of mistakes it is making. Error analysis can provide valuable information for model refinement and identifying areas for improvement"
   ]
  },
  {
   "cell_type": "code",
   "execution_count": 67,
   "id": "f3074a5d",
   "metadata": {},
   "outputs": [],
   "source": [
    "from sklearn.metrics import confusion_matrix, ConfusionMatrixDisplay, classification_report, accuracy_score"
   ]
  },
  {
   "cell_type": "markdown",
   "id": "92886e47",
   "metadata": {},
   "source": [
    "The accuracy score is calculated using the following formula:\n",
    "\n",
    "Accuracy = (Number of Correct Predictions) / (Total Number of Predictions)"
   ]
  },
  {
   "cell_type": "code",
   "execution_count": 68,
   "id": "3e8ffa69",
   "metadata": {},
   "outputs": [],
   "source": [
    "accuracy_score = accuracy_score(y_test, predict_class)"
   ]
  },
  {
   "cell_type": "code",
   "execution_count": 69,
   "id": "84025d70",
   "metadata": {},
   "outputs": [
    {
     "data": {
      "text/plain": [
       "0.875"
      ]
     },
     "execution_count": 69,
     "metadata": {},
     "output_type": "execute_result"
    }
   ],
   "source": [
    "accuracy_score"
   ]
  },
  {
   "cell_type": "markdown",
   "id": "84343037",
   "metadata": {},
   "source": [
    "A classification report is a summary of various evaluation metrics for a classification model. It provides a comprehensive overview of the model's performance, including metrics such as precision, recall, F1 score, and support."
   ]
  },
  {
   "cell_type": "code",
   "execution_count": 71,
   "id": "5104b69a",
   "metadata": {},
   "outputs": [
    {
     "name": "stderr",
     "output_type": "stream",
     "text": [
      "E:\\Anaconda\\lib\\site-packages\\sklearn\\metrics\\_classification.py:1344: UndefinedMetricWarning: Precision and F-score are ill-defined and being set to 0.0 in labels with no predicted samples. Use `zero_division` parameter to control this behavior.\n",
      "  _warn_prf(average, modifier, msg_start, len(result))\n",
      "E:\\Anaconda\\lib\\site-packages\\sklearn\\metrics\\_classification.py:1344: UndefinedMetricWarning: Precision and F-score are ill-defined and being set to 0.0 in labels with no predicted samples. Use `zero_division` parameter to control this behavior.\n",
      "  _warn_prf(average, modifier, msg_start, len(result))\n",
      "E:\\Anaconda\\lib\\site-packages\\sklearn\\metrics\\_classification.py:1344: UndefinedMetricWarning: Precision and F-score are ill-defined and being set to 0.0 in labels with no predicted samples. Use `zero_division` parameter to control this behavior.\n",
      "  _warn_prf(average, modifier, msg_start, len(result))\n"
     ]
    }
   ],
   "source": [
    "classification_report = classification_report(y_test, predict_class)"
   ]
  },
  {
   "cell_type": "code",
   "execution_count": 74,
   "id": "a60ed051",
   "metadata": {},
   "outputs": [
    {
     "name": "stdout",
     "output_type": "stream",
     "text": [
      "              precision    recall  f1-score   support\n",
      "\n",
      "           0       0.88      1.00      0.93      1400\n",
      "           1       0.00      0.00      0.00       200\n",
      "\n",
      "    accuracy                           0.88      1600\n",
      "   macro avg       0.44      0.50      0.47      1600\n",
      "weighted avg       0.77      0.88      0.82      1600\n",
      "\n"
     ]
    }
   ],
   "source": [
    "print(classification_report)"
   ]
  },
  {
   "cell_type": "markdown",
   "id": "af811297",
   "metadata": {},
   "source": [
    "A confusion matrix is a table that summarizes the performance of a classification model by showing the counts of true positive (TP), true negative (TN), false positive (FP), and false negative (FN) predictions. It is a useful tool for evaluating the accuracy and effectiveness of a classification model."
   ]
  },
  {
   "cell_type": "code",
   "execution_count": 75,
   "id": "c8baa2ee",
   "metadata": {},
   "outputs": [],
   "source": [
    "confusion_matrix = confusion_matrix(y_test, predict_class)"
   ]
  },
  {
   "cell_type": "code",
   "execution_count": 76,
   "id": "6659d335",
   "metadata": {},
   "outputs": [
    {
     "data": {
      "text/plain": [
       "array([[1400,    0],\n",
       "       [ 200,    0]], dtype=int64)"
      ]
     },
     "execution_count": 76,
     "metadata": {},
     "output_type": "execute_result"
    }
   ],
   "source": [
    "confusion_matrix"
   ]
  },
  {
   "cell_type": "code",
   "execution_count": 82,
   "id": "f2473ef5",
   "metadata": {},
   "outputs": [
    {
     "data": {
      "text/plain": [
       "<AxesSubplot:>"
      ]
     },
     "execution_count": 82,
     "metadata": {},
     "output_type": "execute_result"
    },
    {
     "data": {
      "image/png": "[encoded data removed]",
      "text/plain": [
       "<Figure size 432x288 with 2 Axes>"
      ]
     },
     "metadata": {
      "needs_background": "light"
     },
     "output_type": "display_data"
    }
   ],
   "source": [
    "plt.figure(figsize = (6, 4))\n",
    "sns.heatmap(confusion_matrix, \n",
    "            annot = True, \n",
    "            cmap = 'RdPu')"
   ]
  }
 ],
 "metadata": {
  "kernelspec": {
   "display_name": "Python 3 (ipykernel)",
   "language": "python",
   "name": "python3"
  },
  "language_info": {
   "codemirror_mode": {
    "name": "ipython",
    "version": 3
   },
   "file_extension": ".py",
   "mimetype": "text/x-python",
   "name": "python",
   "nbconvert_exporter": "python",
   "pygments_lexer": "ipython3",
   "version": "3.10.9"
  }
 },
 "nbformat": 4,
 "nbformat_minor": 5
}
