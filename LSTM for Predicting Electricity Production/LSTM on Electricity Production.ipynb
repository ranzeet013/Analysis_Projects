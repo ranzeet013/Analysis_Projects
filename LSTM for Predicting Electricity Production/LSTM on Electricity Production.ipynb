{
 "cells": [
  {
   "cell_type": "markdown",
   "id": "5de69cfd",
   "metadata": {},
   "source": [
    "# LSTM on Electricity Production"
   ]
  },
  {
   "cell_type": "markdown",
   "id": "c029b875",
   "metadata": {},
   "source": [
    "The goal of this project is to implement a LSTM Recurrent Neural Network (RNN) model to predict the values of a electricity production. The RNN will be trained on a sequence of electricity production data points and learn to predict the next value in the sequence."
   ]
  },
  {
   "cell_type": "markdown",
   "id": "7ddc91ac",
   "metadata": {},
   "source": [
    "# Importing Libraries"
   ]
  },
  {
   "cell_type": "markdown",
   "id": "9f306eaf",
   "metadata": {},
   "source": [
    "These are just a few examples of popular Python libraries. You can import any other library using the same import statement followed by the library name or alias:"
   ]
  },
  {
   "cell_type": "markdown",
   "id": "8e3123be",
   "metadata": {},
   "source": [
    "NumPy: for numerical operations and array manipulation\n",
    "\n",
    "Pandas: for data manipulation and analysis\n",
    "\n",
    "Matplotlib: for creating visualizations\n",
    "\n",
    "Scikit-learn: for machine learning algorithms"
   ]
  },
  {
   "cell_type": "code",
   "execution_count": 1,
   "id": "a8f9228f",
   "metadata": {},
   "outputs": [],
   "source": [
    "import pandas as pd\n",
    "import numpy as np\n",
    "import matplotlib.pyplot as plt\n",
    "import seaborn as sns\n",
    "%matplotlib inline"
   ]
  },
  {
   "cell_type": "markdown",
   "id": "359b70ea",
   "metadata": {},
   "source": [
    "# Reading Dataset"
   ]
  },
  {
   "cell_type": "code",
   "execution_count": 2,
   "id": "8a397364",
   "metadata": {},
   "outputs": [],
   "source": [
    "dataframe = pd.read_csv('Electric_Production.csv', index_col = 'DATE', parse_dates = True)"
   ]
  },
  {
   "cell_type": "markdown",
   "id": "630da5ae",
   "metadata": {},
   "source": [
    "# Exploratory Data Analysis"
   ]
  },
  {
   "cell_type": "code",
   "execution_count": 3,
   "id": "089b832f",
   "metadata": {},
   "outputs": [
    {
     "data": {
      "text/html": [
       "<div>\n",
       "<style scoped>\n",
       "    .dataframe tbody tr th:only-of-type {\n",
       "        vertical-align: middle;\n",
       "    }\n",
       "\n",
       "    .dataframe tbody tr th {\n",
       "        vertical-align: top;\n",
       "    }\n",
       "\n",
       "    .dataframe thead th {\n",
       "        text-align: right;\n",
       "    }\n",
       "</style>\n",
       "<table border=\"1\" class=\"dataframe\">\n",
       "  <thead>\n",
       "    <tr style=\"text-align: right;\">\n",
       "      <th></th>\n",
       "      <th>IPG2211A2N</th>\n",
       "    </tr>\n",
       "    <tr>\n",
       "      <th>DATE</th>\n",
       "      <th></th>\n",
       "    </tr>\n",
       "  </thead>\n",
       "  <tbody>\n",
       "    <tr>\n",
       "      <th>1985-01-01</th>\n",
       "      <td>72.5052</td>\n",
       "    </tr>\n",
       "    <tr>\n",
       "      <th>1985-02-01</th>\n",
       "      <td>70.6720</td>\n",
       "    </tr>\n",
       "    <tr>\n",
       "      <th>1985-03-01</th>\n",
       "      <td>62.4502</td>\n",
       "    </tr>\n",
       "    <tr>\n",
       "      <th>1985-04-01</th>\n",
       "      <td>57.4714</td>\n",
       "    </tr>\n",
       "    <tr>\n",
       "      <th>1985-05-01</th>\n",
       "      <td>55.3151</td>\n",
       "    </tr>\n",
       "  </tbody>\n",
       "</table>\n",
       "</div>"
      ],
      "text/plain": [
       "            IPG2211A2N\n",
       "DATE                  \n",
       "1985-01-01     72.5052\n",
       "1985-02-01     70.6720\n",
       "1985-03-01     62.4502\n",
       "1985-04-01     57.4714\n",
       "1985-05-01     55.3151"
      ]
     },
     "execution_count": 3,
     "metadata": {},
     "output_type": "execute_result"
    }
   ],
   "source": [
    "dataframe.head()"
   ]
  },
  {
   "cell_type": "code",
   "execution_count": 4,
   "id": "83e9c05d",
   "metadata": {},
   "outputs": [
    {
     "data": {
      "text/html": [
       "<div>\n",
       "<style scoped>\n",
       "    .dataframe tbody tr th:only-of-type {\n",
       "        vertical-align: middle;\n",
       "    }\n",
       "\n",
       "    .dataframe tbody tr th {\n",
       "        vertical-align: top;\n",
       "    }\n",
       "\n",
       "    .dataframe thead th {\n",
       "        text-align: right;\n",
       "    }\n",
       "</style>\n",
       "<table border=\"1\" class=\"dataframe\">\n",
       "  <thead>\n",
       "    <tr style=\"text-align: right;\">\n",
       "      <th></th>\n",
       "      <th>IPG2211A2N</th>\n",
       "    </tr>\n",
       "    <tr>\n",
       "      <th>DATE</th>\n",
       "      <th></th>\n",
       "    </tr>\n",
       "  </thead>\n",
       "  <tbody>\n",
       "    <tr>\n",
       "      <th>2017-09-01</th>\n",
       "      <td>98.6154</td>\n",
       "    </tr>\n",
       "    <tr>\n",
       "      <th>2017-10-01</th>\n",
       "      <td>93.6137</td>\n",
       "    </tr>\n",
       "    <tr>\n",
       "      <th>2017-11-01</th>\n",
       "      <td>97.3359</td>\n",
       "    </tr>\n",
       "    <tr>\n",
       "      <th>2017-12-01</th>\n",
       "      <td>114.7212</td>\n",
       "    </tr>\n",
       "    <tr>\n",
       "      <th>2018-01-01</th>\n",
       "      <td>129.4048</td>\n",
       "    </tr>\n",
       "  </tbody>\n",
       "</table>\n",
       "</div>"
      ],
      "text/plain": [
       "            IPG2211A2N\n",
       "DATE                  \n",
       "2017-09-01     98.6154\n",
       "2017-10-01     93.6137\n",
       "2017-11-01     97.3359\n",
       "2017-12-01    114.7212\n",
       "2018-01-01    129.4048"
      ]
     },
     "execution_count": 4,
     "metadata": {},
     "output_type": "execute_result"
    }
   ],
   "source": [
    "dataframe.tail()"
   ]
  },
  {
   "cell_type": "code",
   "execution_count": 5,
   "id": "9c86562b",
   "metadata": {},
   "outputs": [],
   "source": [
    "dataframe.columns = ['Production']"
   ]
  },
  {
   "cell_type": "code",
   "execution_count": 6,
   "id": "a8fcedeb",
   "metadata": {},
   "outputs": [
    {
     "data": {
      "text/html": [
       "<div>\n",
       "<style scoped>\n",
       "    .dataframe tbody tr th:only-of-type {\n",
       "        vertical-align: middle;\n",
       "    }\n",
       "\n",
       "    .dataframe tbody tr th {\n",
       "        vertical-align: top;\n",
       "    }\n",
       "\n",
       "    .dataframe thead th {\n",
       "        text-align: right;\n",
       "    }\n",
       "</style>\n",
       "<table border=\"1\" class=\"dataframe\">\n",
       "  <thead>\n",
       "    <tr style=\"text-align: right;\">\n",
       "      <th></th>\n",
       "      <th>Production</th>\n",
       "    </tr>\n",
       "    <tr>\n",
       "      <th>DATE</th>\n",
       "      <th></th>\n",
       "    </tr>\n",
       "  </thead>\n",
       "  <tbody>\n",
       "    <tr>\n",
       "      <th>1985-01-01</th>\n",
       "      <td>72.5052</td>\n",
       "    </tr>\n",
       "    <tr>\n",
       "      <th>1985-02-01</th>\n",
       "      <td>70.6720</td>\n",
       "    </tr>\n",
       "    <tr>\n",
       "      <th>1985-03-01</th>\n",
       "      <td>62.4502</td>\n",
       "    </tr>\n",
       "    <tr>\n",
       "      <th>1985-04-01</th>\n",
       "      <td>57.4714</td>\n",
       "    </tr>\n",
       "    <tr>\n",
       "      <th>1985-05-01</th>\n",
       "      <td>55.3151</td>\n",
       "    </tr>\n",
       "  </tbody>\n",
       "</table>\n",
       "</div>"
      ],
      "text/plain": [
       "            Production\n",
       "DATE                  \n",
       "1985-01-01     72.5052\n",
       "1985-02-01     70.6720\n",
       "1985-03-01     62.4502\n",
       "1985-04-01     57.4714\n",
       "1985-05-01     55.3151"
      ]
     },
     "execution_count": 6,
     "metadata": {},
     "output_type": "execute_result"
    }
   ],
   "source": [
    "dataframe.head()"
   ]
  },
  {
   "cell_type": "code",
   "execution_count": 7,
   "id": "4c9a4db7",
   "metadata": {},
   "outputs": [
    {
     "data": {
      "text/plain": [
       "<AxesSubplot:xlabel='DATE'>"
      ]
     },
     "execution_count": 7,
     "metadata": {},
     "output_type": "execute_result"
    },
    {
     "data": {
      "image/png": "[encoded data removed]",
      "text/plain": [
       "<Figure size 864x360 with 1 Axes>"
      ]
     },
     "metadata": {
      "needs_background": "light"
     },
     "output_type": "display_data"
    }
   ],
   "source": [
    "dataframe.plot(figsize = (12, 5))"
   ]
  },
  {
   "cell_type": "code",
   "execution_count": 8,
   "id": "26eb1978",
   "metadata": {},
   "outputs": [
    {
     "data": {
      "text/plain": [
       "397"
      ]
     },
     "execution_count": 8,
     "metadata": {},
     "output_type": "execute_result"
    }
   ],
   "source": [
    "len(dataframe)"
   ]
  },
  {
   "cell_type": "code",
   "execution_count": 9,
   "id": "399fcafc",
   "metadata": {},
   "outputs": [],
   "source": [
    "test_size = 60"
   ]
  },
  {
   "cell_type": "code",
   "execution_count": 10,
   "id": "473b64ba",
   "metadata": {},
   "outputs": [],
   "source": [
    "test_index = len(dataframe) - test_size"
   ]
  },
  {
   "cell_type": "code",
   "execution_count": 11,
   "id": "4aca87b1",
   "metadata": {},
   "outputs": [
    {
     "data": {
      "text/plain": [
       "337"
      ]
     },
     "execution_count": 11,
     "metadata": {},
     "output_type": "execute_result"
    }
   ],
   "source": [
    "test_index"
   ]
  },
  {
   "cell_type": "markdown",
   "id": "0534aa8d",
   "metadata": {},
   "source": [
    "# Splitting The Dataset"
   ]
  },
  {
   "cell_type": "markdown",
   "id": "46fc6427",
   "metadata": {},
   "source": [
    "Dataset splitting is an important step in machine learning and data analysis. It involves dividing a dataset into two or more subsets to train and evaluate a model effectively. The most common type of dataset splitting is into training and testing subsets."
   ]
  },
  {
   "cell_type": "code",
   "execution_count": 12,
   "id": "00b6a524",
   "metadata": {},
   "outputs": [],
   "source": [
    "train_dataframe = dataframe.iloc[:test_index]\n",
    "test_dataframe = dataframe.iloc[test_index:]"
   ]
  },
  {
   "cell_type": "code",
   "execution_count": 13,
   "id": "2c81ba3e",
   "metadata": {},
   "outputs": [
    {
     "data": {
      "text/html": [
       "<div>\n",
       "<style scoped>\n",
       "    .dataframe tbody tr th:only-of-type {\n",
       "        vertical-align: middle;\n",
       "    }\n",
       "\n",
       "    .dataframe tbody tr th {\n",
       "        vertical-align: top;\n",
       "    }\n",
       "\n",
       "    .dataframe thead th {\n",
       "        text-align: right;\n",
       "    }\n",
       "</style>\n",
       "<table border=\"1\" class=\"dataframe\">\n",
       "  <thead>\n",
       "    <tr style=\"text-align: right;\">\n",
       "      <th></th>\n",
       "      <th>Production</th>\n",
       "    </tr>\n",
       "    <tr>\n",
       "      <th>DATE</th>\n",
       "      <th></th>\n",
       "    </tr>\n",
       "  </thead>\n",
       "  <tbody>\n",
       "    <tr>\n",
       "      <th>1985-01-01</th>\n",
       "      <td>72.5052</td>\n",
       "    </tr>\n",
       "    <tr>\n",
       "      <th>1985-02-01</th>\n",
       "      <td>70.6720</td>\n",
       "    </tr>\n",
       "    <tr>\n",
       "      <th>1985-03-01</th>\n",
       "      <td>62.4502</td>\n",
       "    </tr>\n",
       "    <tr>\n",
       "      <th>1985-04-01</th>\n",
       "      <td>57.4714</td>\n",
       "    </tr>\n",
       "    <tr>\n",
       "      <th>1985-05-01</th>\n",
       "      <td>55.3151</td>\n",
       "    </tr>\n",
       "    <tr>\n",
       "      <th>...</th>\n",
       "      <td>...</td>\n",
       "    </tr>\n",
       "    <tr>\n",
       "      <th>2012-09-01</th>\n",
       "      <td>96.7431</td>\n",
       "    </tr>\n",
       "    <tr>\n",
       "      <th>2012-10-01</th>\n",
       "      <td>90.3805</td>\n",
       "    </tr>\n",
       "    <tr>\n",
       "      <th>2012-11-01</th>\n",
       "      <td>94.3417</td>\n",
       "    </tr>\n",
       "    <tr>\n",
       "      <th>2012-12-01</th>\n",
       "      <td>105.2722</td>\n",
       "    </tr>\n",
       "    <tr>\n",
       "      <th>2013-01-01</th>\n",
       "      <td>115.5010</td>\n",
       "    </tr>\n",
       "  </tbody>\n",
       "</table>\n",
       "<p>337 rows × 1 columns</p>\n",
       "</div>"
      ],
      "text/plain": [
       "            Production\n",
       "DATE                  \n",
       "1985-01-01     72.5052\n",
       "1985-02-01     70.6720\n",
       "1985-03-01     62.4502\n",
       "1985-04-01     57.4714\n",
       "1985-05-01     55.3151\n",
       "...                ...\n",
       "2012-09-01     96.7431\n",
       "2012-10-01     90.3805\n",
       "2012-11-01     94.3417\n",
       "2012-12-01    105.2722\n",
       "2013-01-01    115.5010\n",
       "\n",
       "[337 rows x 1 columns]"
      ]
     },
     "execution_count": 13,
     "metadata": {},
     "output_type": "execute_result"
    }
   ],
   "source": [
    "train_dataframe"
   ]
  },
  {
   "cell_type": "code",
   "execution_count": 14,
   "id": "9c43dcd6",
   "metadata": {
    "scrolled": true
   },
   "outputs": [
    {
     "data": {
      "text/html": [
       "<div>\n",
       "<style scoped>\n",
       "    .dataframe tbody tr th:only-of-type {\n",
       "        vertical-align: middle;\n",
       "    }\n",
       "\n",
       "    .dataframe tbody tr th {\n",
       "        vertical-align: top;\n",
       "    }\n",
       "\n",
       "    .dataframe thead th {\n",
       "        text-align: right;\n",
       "    }\n",
       "</style>\n",
       "<table border=\"1\" class=\"dataframe\">\n",
       "  <thead>\n",
       "    <tr style=\"text-align: right;\">\n",
       "      <th></th>\n",
       "      <th>Production</th>\n",
       "    </tr>\n",
       "    <tr>\n",
       "      <th>DATE</th>\n",
       "      <th></th>\n",
       "    </tr>\n",
       "  </thead>\n",
       "  <tbody>\n",
       "    <tr>\n",
       "      <th>2013-02-01</th>\n",
       "      <td>106.7340</td>\n",
       "    </tr>\n",
       "    <tr>\n",
       "      <th>2013-03-01</th>\n",
       "      <td>102.9948</td>\n",
       "    </tr>\n",
       "    <tr>\n",
       "      <th>2013-04-01</th>\n",
       "      <td>91.0092</td>\n",
       "    </tr>\n",
       "    <tr>\n",
       "      <th>2013-05-01</th>\n",
       "      <td>90.9634</td>\n",
       "    </tr>\n",
       "    <tr>\n",
       "      <th>2013-06-01</th>\n",
       "      <td>100.6957</td>\n",
       "    </tr>\n",
       "    <tr>\n",
       "      <th>2013-07-01</th>\n",
       "      <td>110.1480</td>\n",
       "    </tr>\n",
       "    <tr>\n",
       "      <th>2013-08-01</th>\n",
       "      <td>108.1756</td>\n",
       "    </tr>\n",
       "    <tr>\n",
       "      <th>2013-09-01</th>\n",
       "      <td>99.2809</td>\n",
       "    </tr>\n",
       "    <tr>\n",
       "      <th>2013-10-01</th>\n",
       "      <td>91.7871</td>\n",
       "    </tr>\n",
       "    <tr>\n",
       "      <th>2013-11-01</th>\n",
       "      <td>97.2853</td>\n",
       "    </tr>\n",
       "    <tr>\n",
       "      <th>2013-12-01</th>\n",
       "      <td>113.4732</td>\n",
       "    </tr>\n",
       "    <tr>\n",
       "      <th>2014-01-01</th>\n",
       "      <td>124.2549</td>\n",
       "    </tr>\n",
       "    <tr>\n",
       "      <th>2014-02-01</th>\n",
       "      <td>112.8811</td>\n",
       "    </tr>\n",
       "    <tr>\n",
       "      <th>2014-03-01</th>\n",
       "      <td>104.7631</td>\n",
       "    </tr>\n",
       "    <tr>\n",
       "      <th>2014-04-01</th>\n",
       "      <td>90.2867</td>\n",
       "    </tr>\n",
       "    <tr>\n",
       "      <th>2014-05-01</th>\n",
       "      <td>92.1340</td>\n",
       "    </tr>\n",
       "    <tr>\n",
       "      <th>2014-06-01</th>\n",
       "      <td>101.8780</td>\n",
       "    </tr>\n",
       "    <tr>\n",
       "      <th>2014-07-01</th>\n",
       "      <td>108.5497</td>\n",
       "    </tr>\n",
       "    <tr>\n",
       "      <th>2014-08-01</th>\n",
       "      <td>108.1940</td>\n",
       "    </tr>\n",
       "    <tr>\n",
       "      <th>2014-09-01</th>\n",
       "      <td>100.4172</td>\n",
       "    </tr>\n",
       "    <tr>\n",
       "      <th>2014-10-01</th>\n",
       "      <td>92.3837</td>\n",
       "    </tr>\n",
       "    <tr>\n",
       "      <th>2014-11-01</th>\n",
       "      <td>99.7033</td>\n",
       "    </tr>\n",
       "    <tr>\n",
       "      <th>2014-12-01</th>\n",
       "      <td>109.3477</td>\n",
       "    </tr>\n",
       "    <tr>\n",
       "      <th>2015-01-01</th>\n",
       "      <td>120.2696</td>\n",
       "    </tr>\n",
       "    <tr>\n",
       "      <th>2015-02-01</th>\n",
       "      <td>116.3788</td>\n",
       "    </tr>\n",
       "    <tr>\n",
       "      <th>2015-03-01</th>\n",
       "      <td>104.4706</td>\n",
       "    </tr>\n",
       "    <tr>\n",
       "      <th>2015-04-01</th>\n",
       "      <td>89.7461</td>\n",
       "    </tr>\n",
       "    <tr>\n",
       "      <th>2015-05-01</th>\n",
       "      <td>91.0930</td>\n",
       "    </tr>\n",
       "    <tr>\n",
       "      <th>2015-06-01</th>\n",
       "      <td>102.6495</td>\n",
       "    </tr>\n",
       "    <tr>\n",
       "      <th>2015-07-01</th>\n",
       "      <td>111.6354</td>\n",
       "    </tr>\n",
       "    <tr>\n",
       "      <th>2015-08-01</th>\n",
       "      <td>110.5925</td>\n",
       "    </tr>\n",
       "    <tr>\n",
       "      <th>2015-09-01</th>\n",
       "      <td>101.9204</td>\n",
       "    </tr>\n",
       "    <tr>\n",
       "      <th>2015-10-01</th>\n",
       "      <td>91.5959</td>\n",
       "    </tr>\n",
       "    <tr>\n",
       "      <th>2015-11-01</th>\n",
       "      <td>93.0628</td>\n",
       "    </tr>\n",
       "    <tr>\n",
       "      <th>2015-12-01</th>\n",
       "      <td>103.2203</td>\n",
       "    </tr>\n",
       "    <tr>\n",
       "      <th>2016-01-01</th>\n",
       "      <td>117.0837</td>\n",
       "    </tr>\n",
       "    <tr>\n",
       "      <th>2016-02-01</th>\n",
       "      <td>106.6688</td>\n",
       "    </tr>\n",
       "    <tr>\n",
       "      <th>2016-03-01</th>\n",
       "      <td>95.3548</td>\n",
       "    </tr>\n",
       "    <tr>\n",
       "      <th>2016-04-01</th>\n",
       "      <td>89.3254</td>\n",
       "    </tr>\n",
       "    <tr>\n",
       "      <th>2016-05-01</th>\n",
       "      <td>90.7369</td>\n",
       "    </tr>\n",
       "    <tr>\n",
       "      <th>2016-06-01</th>\n",
       "      <td>104.0375</td>\n",
       "    </tr>\n",
       "    <tr>\n",
       "      <th>2016-07-01</th>\n",
       "      <td>114.5397</td>\n",
       "    </tr>\n",
       "    <tr>\n",
       "      <th>2016-08-01</th>\n",
       "      <td>115.5159</td>\n",
       "    </tr>\n",
       "    <tr>\n",
       "      <th>2016-09-01</th>\n",
       "      <td>102.7637</td>\n",
       "    </tr>\n",
       "    <tr>\n",
       "      <th>2016-10-01</th>\n",
       "      <td>91.4867</td>\n",
       "    </tr>\n",
       "    <tr>\n",
       "      <th>2016-11-01</th>\n",
       "      <td>92.8900</td>\n",
       "    </tr>\n",
       "    <tr>\n",
       "      <th>2016-12-01</th>\n",
       "      <td>112.7694</td>\n",
       "    </tr>\n",
       "    <tr>\n",
       "      <th>2017-01-01</th>\n",
       "      <td>114.8505</td>\n",
       "    </tr>\n",
       "    <tr>\n",
       "      <th>2017-02-01</th>\n",
       "      <td>99.4901</td>\n",
       "    </tr>\n",
       "    <tr>\n",
       "      <th>2017-03-01</th>\n",
       "      <td>101.0396</td>\n",
       "    </tr>\n",
       "    <tr>\n",
       "      <th>2017-04-01</th>\n",
       "      <td>88.3530</td>\n",
       "    </tr>\n",
       "    <tr>\n",
       "      <th>2017-05-01</th>\n",
       "      <td>92.0805</td>\n",
       "    </tr>\n",
       "    <tr>\n",
       "      <th>2017-06-01</th>\n",
       "      <td>102.1532</td>\n",
       "    </tr>\n",
       "    <tr>\n",
       "      <th>2017-07-01</th>\n",
       "      <td>112.1538</td>\n",
       "    </tr>\n",
       "    <tr>\n",
       "      <th>2017-08-01</th>\n",
       "      <td>108.9312</td>\n",
       "    </tr>\n",
       "    <tr>\n",
       "      <th>2017-09-01</th>\n",
       "      <td>98.6154</td>\n",
       "    </tr>\n",
       "    <tr>\n",
       "      <th>2017-10-01</th>\n",
       "      <td>93.6137</td>\n",
       "    </tr>\n",
       "    <tr>\n",
       "      <th>2017-11-01</th>\n",
       "      <td>97.3359</td>\n",
       "    </tr>\n",
       "    <tr>\n",
       "      <th>2017-12-01</th>\n",
       "      <td>114.7212</td>\n",
       "    </tr>\n",
       "    <tr>\n",
       "      <th>2018-01-01</th>\n",
       "      <td>129.4048</td>\n",
       "    </tr>\n",
       "  </tbody>\n",
       "</table>\n",
       "</div>"
      ],
      "text/plain": [
       "            Production\n",
       "DATE                  \n",
       "2013-02-01    106.7340\n",
       "2013-03-01    102.9948\n",
       "2013-04-01     91.0092\n",
       "2013-05-01     90.9634\n",
       "2013-06-01    100.6957\n",
       "2013-07-01    110.1480\n",
       "2013-08-01    108.1756\n",
       "2013-09-01     99.2809\n",
       "2013-10-01     91.7871\n",
       "2013-11-01     97.2853\n",
       "2013-12-01    113.4732\n",
       "2014-01-01    124.2549\n",
       "2014-02-01    112.8811\n",
       "2014-03-01    104.7631\n",
       "2014-04-01     90.2867\n",
       "2014-05-01     92.1340\n",
       "2014-06-01    101.8780\n",
       "2014-07-01    108.5497\n",
       "2014-08-01    108.1940\n",
       "2014-09-01    100.4172\n",
       "2014-10-01     92.3837\n",
       "2014-11-01     99.7033\n",
       "2014-12-01    109.3477\n",
       "2015-01-01    120.2696\n",
       "2015-02-01    116.3788\n",
       "2015-03-01    104.4706\n",
       "2015-04-01     89.7461\n",
       "2015-05-01     91.0930\n",
       "2015-06-01    102.6495\n",
       "2015-07-01    111.6354\n",
       "2015-08-01    110.5925\n",
       "2015-09-01    101.9204\n",
       "2015-10-01     91.5959\n",
       "2015-11-01     93.0628\n",
       "2015-12-01    103.2203\n",
       "2016-01-01    117.0837\n",
       "2016-02-01    106.6688\n",
       "2016-03-01     95.3548\n",
       "2016-04-01     89.3254\n",
       "2016-05-01     90.7369\n",
       "2016-06-01    104.0375\n",
       "2016-07-01    114.5397\n",
       "2016-08-01    115.5159\n",
       "2016-09-01    102.7637\n",
       "2016-10-01     91.4867\n",
       "2016-11-01     92.8900\n",
       "2016-12-01    112.7694\n",
       "2017-01-01    114.8505\n",
       "2017-02-01     99.4901\n",
       "2017-03-01    101.0396\n",
       "2017-04-01     88.3530\n",
       "2017-05-01     92.0805\n",
       "2017-06-01    102.1532\n",
       "2017-07-01    112.1538\n",
       "2017-08-01    108.9312\n",
       "2017-09-01     98.6154\n",
       "2017-10-01     93.6137\n",
       "2017-11-01     97.3359\n",
       "2017-12-01    114.7212\n",
       "2018-01-01    129.4048"
      ]
     },
     "execution_count": 14,
     "metadata": {},
     "output_type": "execute_result"
    }
   ],
   "source": [
    "test_dataframe"
   ]
  },
  {
   "cell_type": "markdown",
   "id": "f5840984",
   "metadata": {},
   "source": [
    "# Scaling"
   ]
  },
  {
   "cell_type": "markdown",
   "id": "e6969438",
   "metadata": {},
   "source": [
    "Scaling is a common preprocessing step in data analysis and machine learning. It involves transforming the features of a dataset to a standard scale, which can help improve the performance and stability of models"
   ]
  },
  {
   "cell_type": "markdown",
   "id": "9e62e832",
   "metadata": {},
   "source": [
    "MinMaxScaler is a popular scaling technique used in data preprocessing. It scales the features to a specified range, typically between 0 and 1."
   ]
  },
  {
   "cell_type": "code",
   "execution_count": 15,
   "id": "15fcb249",
   "metadata": {},
   "outputs": [],
   "source": [
    "from sklearn.preprocessing import MinMaxScaler"
   ]
  },
  {
   "cell_type": "code",
   "execution_count": 16,
   "id": "daa3b676",
   "metadata": {},
   "outputs": [],
   "source": [
    "scaler = MinMaxScaler()"
   ]
  },
  {
   "cell_type": "code",
   "execution_count": 17,
   "id": "5fb08801",
   "metadata": {},
   "outputs": [
    {
     "data": {
      "text/html": [
       "<style>#sk-container-id-1 {color: black;background-color: white;}#sk-container-id-1 pre{padding: 0;}#sk-container-id-1 div.sk-toggleable {background-color: white;}#sk-container-id-1 label.sk-toggleable__label {cursor: pointer;display: block;width: 100%;margin-bottom: 0;padding: 0.3em;box-sizing: border-box;text-align: center;}#sk-container-id-1 label.sk-toggleable__label-arrow:before {content: \"▸\";float: left;margin-right: 0.25em;color: #696969;}#sk-container-id-1 label.sk-toggleable__label-arrow:hover:before {color: black;}#sk-container-id-1 div.sk-estimator:hover label.sk-toggleable__label-arrow:before {color: black;}#sk-container-id-1 div.sk-toggleable__content {max-height: 0;max-width: 0;overflow: hidden;text-align: left;background-color: #f0f8ff;}#sk-container-id-1 div.sk-toggleable__content pre {margin: 0.2em;color: black;border-radius: 0.25em;background-color: #f0f8ff;}#sk-container-id-1 input.sk-toggleable__control:checked~div.sk-toggleable__content {max-height: 200px;max-width: 100%;overflow: auto;}#sk-container-id-1 input.sk-toggleable__control:checked~label.sk-toggleable__label-arrow:before {content: \"▾\";}#sk-container-id-1 div.sk-estimator input.sk-toggleable__control:checked~label.sk-toggleable__label {background-color: #d4ebff;}#sk-container-id-1 div.sk-label input.sk-toggleable__control:checked~label.sk-toggleable__label {background-color: #d4ebff;}#sk-container-id-1 input.sk-hidden--visually {border: 0;clip: rect(1px 1px 1px 1px);clip: rect(1px, 1px, 1px, 1px);height: 1px;margin: -1px;overflow: hidden;padding: 0;position: absolute;width: 1px;}#sk-container-id-1 div.sk-estimator {font-family: monospace;background-color: #f0f8ff;border: 1px dotted black;border-radius: 0.25em;box-sizing: border-box;margin-bottom: 0.5em;}#sk-container-id-1 div.sk-estimator:hover {background-color: #d4ebff;}#sk-container-id-1 div.sk-parallel-item::after {content: \"\";width: 100%;border-bottom: 1px solid gray;flex-grow: 1;}#sk-container-id-1 div.sk-label:hover label.sk-toggleable__label {background-color: #d4ebff;}#sk-container-id-1 div.sk-serial::before {content: \"\";position: absolute;border-left: 1px solid gray;box-sizing: border-box;top: 0;bottom: 0;left: 50%;z-index: 0;}#sk-container-id-1 div.sk-serial {display: flex;flex-direction: column;align-items: center;background-color: white;padding-right: 0.2em;padding-left: 0.2em;position: relative;}#sk-container-id-1 div.sk-item {position: relative;z-index: 1;}#sk-container-id-1 div.sk-parallel {display: flex;align-items: stretch;justify-content: center;background-color: white;position: relative;}#sk-container-id-1 div.sk-item::before, #sk-container-id-1 div.sk-parallel-item::before {content: \"\";position: absolute;border-left: 1px solid gray;box-sizing: border-box;top: 0;bottom: 0;left: 50%;z-index: -1;}#sk-container-id-1 div.sk-parallel-item {display: flex;flex-direction: column;z-index: 1;position: relative;background-color: white;}#sk-container-id-1 div.sk-parallel-item:first-child::after {align-self: flex-end;width: 50%;}#sk-container-id-1 div.sk-parallel-item:last-child::after {align-self: flex-start;width: 50%;}#sk-container-id-1 div.sk-parallel-item:only-child::after {width: 0;}#sk-container-id-1 div.sk-dashed-wrapped {border: 1px dashed gray;margin: 0 0.4em 0.5em 0.4em;box-sizing: border-box;padding-bottom: 0.4em;background-color: white;}#sk-container-id-1 div.sk-label label {font-family: monospace;font-weight: bold;display: inline-block;line-height: 1.2em;}#sk-container-id-1 div.sk-label-container {text-align: center;}#sk-container-id-1 div.sk-container {/* jupyter's `normalize.less` sets `[hidden] { display: none; }` but bootstrap.min.css set `[hidden] { display: none !important; }` so we also need the `!important` here to be able to override the default hidden behavior on the sphinx rendered scikit-learn.org. See: https://github.com/scikit-learn/scikit-learn/issues/21755 */display: inline-block !important;position: relative;}#sk-container-id-1 div.sk-text-repr-fallback {display: none;}</style><div id=\"sk-container-id-1\" class=\"sk-top-container\"><div class=\"sk-text-repr-fallback\"><pre>MinMaxScaler()</pre><b>In a Jupyter environment, please rerun this cell to show the HTML representation or trust the notebook. <br />On GitHub, the HTML representation is unable to render, please try loading this page with nbviewer.org.</b></div><div class=\"sk-container\" hidden><div class=\"sk-item\"><div class=\"sk-estimator sk-toggleable\"><input class=\"sk-toggleable__control sk-hidden--visually\" id=\"sk-estimator-id-1\" type=\"checkbox\" checked><label for=\"sk-estimator-id-1\" class=\"sk-toggleable__label sk-toggleable__label-arrow\">MinMaxScaler</label><div class=\"sk-toggleable__content\"><pre>MinMaxScaler()</pre></div></div></div></div></div>"
      ],
      "text/plain": [
       "MinMaxScaler()"
      ]
     },
     "execution_count": 17,
     "metadata": {},
     "output_type": "execute_result"
    }
   ],
   "source": [
    "scaler.fit(train_dataframe)"
   ]
  },
  {
   "cell_type": "code",
   "execution_count": 18,
   "id": "f49f9cc7",
   "metadata": {},
   "outputs": [],
   "source": [
    "scaled_train = scaler.transform(train_dataframe)\n",
    "scaled_test = scaler.transform(test_dataframe)"
   ]
  },
  {
   "cell_type": "code",
   "execution_count": 19,
   "id": "b3f3a09c",
   "metadata": {},
   "outputs": [
    {
     "data": {
      "text/plain": [
       "array([[0.26787164],\n",
       "       [0.23930506],\n",
       "       [0.11118556],\n",
       "       [0.03360141],\n",
       "       [0.        ],\n",
       "       [0.04324723],\n",
       "       [0.11383466],\n",
       "       [0.12362539],\n",
       "       [0.0821141 ],\n",
       "       [0.01558758],\n",
       "       [0.04184632],\n",
       "       [0.20880153],\n",
       "       [0.28034575],\n",
       "       [0.19746342],\n",
       "       [0.1076311 ],\n",
       "       [0.02676831],\n",
       "       [0.00776963],\n",
       "       [0.07145384],\n",
       "       [0.16284756],\n",
       "       [0.14284067],\n",
       "       [0.08859503],\n",
       "       [0.03454885],\n",
       "       [0.06274611],\n",
       "       [0.19977748],\n",
       "       [0.28828524],\n",
       "       [0.22979949],\n",
       "       [0.16042442],\n",
       "       [0.07547578],\n",
       "       [0.05544864],\n",
       "       [0.13364987],\n",
       "       [0.21121533],\n",
       "       [0.22987585],\n",
       "       [0.13712954],\n",
       "       [0.0789087 ],\n",
       "       [0.11140528],\n",
       "       [0.2378356 ],\n",
       "       [0.38264127],\n",
       "       [0.32485831],\n",
       "       [0.23339603],\n",
       "       [0.12346801],\n",
       "       [0.09492169],\n",
       "       [0.18379409],\n",
       "       [0.27529533],\n",
       "       [0.31867658],\n",
       "       [0.19011296],\n",
       "       [0.12416612],\n",
       "       [0.15259868],\n",
       "       [0.28903166],\n",
       "       [0.35223124],\n",
       "       [0.33296142],\n",
       "       [0.28107192],\n",
       "       [0.15260336],\n",
       "       [0.13049278],\n",
       "       [0.2050258 ],\n",
       "       [0.29163401],\n",
       "       [0.30744598],\n",
       "       [0.21800791],\n",
       "       [0.16453051],\n",
       "       [0.21435061],\n",
       "       [0.45003109],\n",
       "       [0.45260071],\n",
       "       [0.34060328],\n",
       "       [0.27864254],\n",
       "       [0.18641825],\n",
       "       [0.16372487],\n",
       "       [0.25166854],\n",
       "       [0.33189867],\n",
       "       [0.33955299],\n",
       "       [0.27653262],\n",
       "       [0.18888659],\n",
       "       [0.20649527],\n",
       "       [0.34857081],\n",
       "       [0.47849326],\n",
       "       [0.34659802],\n",
       "       [0.28126982],\n",
       "       [0.18442208],\n",
       "       [0.21038632],\n",
       "       [0.3043294 ],\n",
       "       [0.38610847],\n",
       "       [0.37158209],\n",
       "       [0.28453132],\n",
       "       [0.20941394],\n",
       "       [0.26804929],\n",
       "       [0.37670574],\n",
       "       [0.4670258 ],\n",
       "       [0.38722264],\n",
       "       [0.29938494],\n",
       "       [0.2232874 ],\n",
       "       [0.18486464],\n",
       "       [0.24765438],\n",
       "       [0.34583134],\n",
       "       [0.33070502],\n",
       "       [0.26551706],\n",
       "       [0.21369612],\n",
       "       [0.28336104],\n",
       "       [0.4550332 ],\n",
       "       [0.50849034],\n",
       "       [0.45565963],\n",
       "       [0.37647667],\n",
       "       [0.24531695],\n",
       "       [0.19262181],\n",
       "       [0.29630264],\n",
       "       [0.41746126],\n",
       "       [0.41677094],\n",
       "       [0.30056301],\n",
       "       [0.22386241],\n",
       "       [0.29785314],\n",
       "       [0.45055312],\n",
       "       [0.60498279],\n",
       "       [0.49624686],\n",
       "       [0.37290663],\n",
       "       [0.24402513],\n",
       "       [0.21924052],\n",
       "       [0.35323322],\n",
       "       [0.43572754],\n",
       "       [0.41407043],\n",
       "       [0.31738475],\n",
       "       [0.24856287],\n",
       "       [0.31057814],\n",
       "       [0.45968937],\n",
       "       [0.57871937],\n",
       "       [0.50002727],\n",
       "       [0.40439189],\n",
       "       [0.28830862],\n",
       "       [0.27976139],\n",
       "       [0.35821196],\n",
       "       [0.47791202],\n",
       "       [0.53342766],\n",
       "       [0.36134256],\n",
       "       [0.28659294],\n",
       "       [0.37927536],\n",
       "       [0.55334884],\n",
       "       [0.68031989],\n",
       "       [0.58549949],\n",
       "       [0.49273915],\n",
       "       [0.34136372],\n",
       "       [0.33296765],\n",
       "       [0.41474672],\n",
       "       [0.47754582],\n",
       "       [0.48682699],\n",
       "       [0.37206983],\n",
       "       [0.30190314],\n",
       "       [0.40139841],\n",
       "       [0.54805689],\n",
       "       [0.672343  ],\n",
       "       [0.53705536],\n",
       "       [0.43160586],\n",
       "       [0.3246308 ],\n",
       "       [0.28878234],\n",
       "       [0.3809926 ],\n",
       "       [0.5163675 ],\n",
       "       [0.50594098],\n",
       "       [0.41487139],\n",
       "       [0.34574719],\n",
       "       [0.41652629],\n",
       "       [0.57323107],\n",
       "       [0.61516466],\n",
       "       [0.50652067],\n",
       "       [0.48680674],\n",
       "       [0.33405067],\n",
       "       [0.35396873],\n",
       "       [0.48529519],\n",
       "       [0.60029701],\n",
       "       [0.59551462],\n",
       "       [0.50217927],\n",
       "       [0.38610223],\n",
       "       [0.40702228],\n",
       "       [0.56673456],\n",
       "       [0.72958679],\n",
       "       [0.55892441],\n",
       "       [0.55199313],\n",
       "       [0.39272808],\n",
       "       [0.37513655],\n",
       "       [0.50688063],\n",
       "       [0.657212  ],\n",
       "       [0.64046661],\n",
       "       [0.49724572],\n",
       "       [0.39464945],\n",
       "       [0.41898371],\n",
       "       [0.61079054],\n",
       "       [0.73107184],\n",
       "       [0.60748073],\n",
       "       [0.51077012],\n",
       "       [0.40714071],\n",
       "       [0.45408732],\n",
       "       [0.55670696],\n",
       "       [0.6339218 ],\n",
       "       [0.68650941],\n",
       "       [0.55479338],\n",
       "       [0.43360515],\n",
       "       [0.50996449],\n",
       "       [0.7345889 ],\n",
       "       [0.83825104],\n",
       "       [0.65224729],\n",
       "       [0.58456451],\n",
       "       [0.43008653],\n",
       "       [0.42434423],\n",
       "       [0.54665443],\n",
       "       [0.63514194],\n",
       "       [0.68936109],\n",
       "       [0.51370438],\n",
       "       [0.42651805],\n",
       "       [0.43034988],\n",
       "       [0.58783381],\n",
       "       [0.74299899],\n",
       "       [0.62163935],\n",
       "       [0.59122309],\n",
       "       [0.47496529],\n",
       "       [0.46624042],\n",
       "       [0.59019461],\n",
       "       [0.73361029],\n",
       "       [0.72170963],\n",
       "       [0.59205366],\n",
       "       [0.49218751],\n",
       "       [0.5182842 ],\n",
       "       [0.70879141],\n",
       "       [0.85496526],\n",
       "       [0.75617901],\n",
       "       [0.61144346],\n",
       "       [0.46354302],\n",
       "       [0.46982761],\n",
       "       [0.55726015],\n",
       "       [0.73091445],\n",
       "       [0.76594793],\n",
       "       [0.58589218],\n",
       "       [0.48602447],\n",
       "       [0.51826238],\n",
       "       [0.75152751],\n",
       "       [0.91015834],\n",
       "       [0.7922955 ],\n",
       "       [0.62468425],\n",
       "       [0.4894309 ],\n",
       "       [0.52537909],\n",
       "       [0.62626747],\n",
       "       [0.7242886 ],\n",
       "       [0.69947595],\n",
       "       [0.60319699],\n",
       "       [0.50194241],\n",
       "       [0.53448262],\n",
       "       [0.78555278],\n",
       "       [0.87024741],\n",
       "       [0.72405018],\n",
       "       [0.68005965],\n",
       "       [0.48560218],\n",
       "       [0.49722391],\n",
       "       [0.68864739],\n",
       "       [0.8264392 ],\n",
       "       [0.84414293],\n",
       "       [0.68253733],\n",
       "       [0.53670007],\n",
       "       [0.54763927],\n",
       "       [0.82450068],\n",
       "       [0.76601338],\n",
       "       [0.72000019],\n",
       "       [0.67141426],\n",
       "       [0.50167906],\n",
       "       [0.54083733],\n",
       "       [0.70449208],\n",
       "       [0.86695786],\n",
       "       [0.87582297],\n",
       "       [0.63029877],\n",
       "       [0.54631628],\n",
       "       [0.57721406],\n",
       "       [0.74409759],\n",
       "       [0.88421281],\n",
       "       [0.88082041],\n",
       "       [0.68373722],\n",
       "       [0.55323353],\n",
       "       [0.57257191],\n",
       "       [0.71139843],\n",
       "       [0.81426116],\n",
       "       [0.91609542],\n",
       "       [0.72018718],\n",
       "       [0.58734606],\n",
       "       [0.60146105],\n",
       "       [0.80154863],\n",
       "       [0.92746315],\n",
       "       [0.82465028],\n",
       "       [0.70315507],\n",
       "       [0.55598703],\n",
       "       [0.55973316],\n",
       "       [0.75799909],\n",
       "       [0.86404074],\n",
       "       [0.81422844],\n",
       "       [0.6607649 ],\n",
       "       [0.55604157],\n",
       "       [0.59979524],\n",
       "       [0.84314407],\n",
       "       [0.95860558],\n",
       "       [0.76519995],\n",
       "       [0.66286236],\n",
       "       [0.51240009],\n",
       "       [0.50210447],\n",
       "       [0.65329134],\n",
       "       [0.75722774],\n",
       "       [0.78590028],\n",
       "       [0.61657179],\n",
       "       [0.52954752],\n",
       "       [0.53049496],\n",
       "       [0.86281437],\n",
       "       [0.99265422],\n",
       "       [0.86045511],\n",
       "       [0.66931836],\n",
       "       [0.48283465],\n",
       "       [0.55352493],\n",
       "       [0.76416525],\n",
       "       [0.8958844 ],\n",
       "       [0.89736166],\n",
       "       [0.69820438],\n",
       "       [0.52374133],\n",
       "       [0.58373394],\n",
       "       [0.91957041],\n",
       "       [1.        ],\n",
       "       [0.81124899],\n",
       "       [0.68233943],\n",
       "       [0.53049184],\n",
       "       [0.54157908],\n",
       "       [0.74027043],\n",
       "       [0.92549503],\n",
       "       [0.90818243],\n",
       "       [0.68808017],\n",
       "       [0.54604825],\n",
       "       [0.59985446],\n",
       "       [0.81056178],\n",
       "       [0.8827636 ],\n",
       "       [0.74880206],\n",
       "       [0.59623455],\n",
       "       [0.50241613],\n",
       "       [0.58350488],\n",
       "       [0.71408492],\n",
       "       [0.89945444],\n",
       "       [0.84996938],\n",
       "       [0.64556846],\n",
       "       [0.54642069],\n",
       "       [0.60814768],\n",
       "       [0.77847658],\n",
       "       [0.93787097]])"
      ]
     },
     "execution_count": 19,
     "metadata": {},
     "output_type": "execute_result"
    }
   ],
   "source": [
    "scaled_train"
   ]
  },
  {
   "cell_type": "code",
   "execution_count": 20,
   "id": "a0681fcd",
   "metadata": {
    "scrolled": true
   },
   "outputs": [
    {
     "data": {
      "text/plain": [
       "array([[0.80125567],\n",
       "       [0.74298808],\n",
       "       [0.55621766],\n",
       "       [0.55550396],\n",
       "       [0.70716143],\n",
       "       [0.8544557 ],\n",
       "       [0.82371998],\n",
       "       [0.68511474],\n",
       "       [0.5683396 ],\n",
       "       [0.65401751],\n",
       "       [0.90627196],\n",
       "       [1.07428213],\n",
       "       [0.89704533],\n",
       "       [0.77054333],\n",
       "       [0.54495901],\n",
       "       [0.5737453 ],\n",
       "       [0.7255851 ],\n",
       "       [0.82954955],\n",
       "       [0.82400671],\n",
       "       [0.7028216 ],\n",
       "       [0.57763635],\n",
       "       [0.69169696],\n",
       "       [0.8419847 ],\n",
       "       [1.0121796 ],\n",
       "       [0.95154964],\n",
       "       [0.76598533],\n",
       "       [0.53653489],\n",
       "       [0.5575235 ],\n",
       "       [0.73760731],\n",
       "       [0.87763371],\n",
       "       [0.8613823 ],\n",
       "       [0.72624581],\n",
       "       [0.56536014],\n",
       "       [0.5882187 ],\n",
       "       [0.74650203],\n",
       "       [0.96253403],\n",
       "       [0.80023967],\n",
       "       [0.62393471],\n",
       "       [0.52997917],\n",
       "       [0.55197443],\n",
       "       [0.75923638],\n",
       "       [0.92289113],\n",
       "       [0.93810316],\n",
       "       [0.73938688],\n",
       "       [0.56365849],\n",
       "       [0.58552598],\n",
       "       [0.89530472],\n",
       "       [0.92773429],\n",
       "       [0.68837469],\n",
       "       [0.71252039],\n",
       "       [0.51482635],\n",
       "       [0.57291162],\n",
       "       [0.72987351],\n",
       "       [0.88571188],\n",
       "       [0.83549442],\n",
       "       [0.67474432],\n",
       "       [0.59680332],\n",
       "       [0.654806  ],\n",
       "       [0.92571942],\n",
       "       [1.15453252]])"
      ]
     },
     "execution_count": 20,
     "metadata": {},
     "output_type": "execute_result"
    }
   ],
   "source": [
    "scaled_test"
   ]
  },
  {
   "cell_type": "markdown",
   "id": "4d6f3484",
   "metadata": {},
   "source": [
    "# Timeseries Generator"
   ]
  },
  {
   "cell_type": "markdown",
   "id": "57cc891b",
   "metadata": {},
   "source": [
    "In time series analysis, a common approach is to use a time series generator to generate batches of sequential data for training recurrent neural networks (RNNs) or other time-based models. This allows you to efficiently process and train models on large time series datasets. Here's an example of how you can create a time series generator using the TimeseriesGenerator calss."
   ]
  },
  {
   "cell_type": "code",
   "execution_count": 21,
   "id": "0606ed17",
   "metadata": {},
   "outputs": [],
   "source": [
    "from tensorflow.keras.preprocessing.sequence import TimeseriesGenerator"
   ]
  },
  {
   "cell_type": "code",
   "execution_count": 22,
   "id": "aaf85af9",
   "metadata": {},
   "outputs": [],
   "source": [
    "length = 12\n",
    "generator = TimeseriesGenerator(scaled_train, scaled_train, length=length, batch_size=1)"
   ]
  },
  {
   "cell_type": "code",
   "execution_count": 23,
   "id": "40085747",
   "metadata": {},
   "outputs": [],
   "source": [
    "from tensorflow.keras.models import Sequential\n",
    "from tensorflow.keras.layers import Dense, LSTM\n",
    "from tensorflow.keras.callbacks import EarlyStopping"
   ]
  },
  {
   "cell_type": "markdown",
   "id": "41328b4c",
   "metadata": {},
   "source": [
    "# Building Model"
   ]
  },
  {
   "cell_type": "markdown",
   "id": "16071457",
   "metadata": {},
   "source": [
    "Creating a deep learning model involves defining the architecture and structure of the neural network, specifying the layers, and configuring the parameters for training."
   ]
  },
  {
   "cell_type": "code",
   "execution_count": 24,
   "id": "4e8c929e",
   "metadata": {},
   "outputs": [],
   "source": [
    "n_features = 1"
   ]
  },
  {
   "cell_type": "code",
   "execution_count": 25,
   "id": "deae9cae",
   "metadata": {},
   "outputs": [],
   "source": [
    "model = Sequential()\n",
    "model.add(LSTM(100, activation = 'relu', input_shape = (length, n_features)))\n",
    "model.add(Dense(1))"
   ]
  },
  {
   "cell_type": "markdown",
   "id": "24e9facf",
   "metadata": {},
   "source": [
    "# Compiling Model "
   ]
  },
  {
   "cell_type": "markdown",
   "id": "151d4f01",
   "metadata": {},
   "source": [
    "Compiling the model in deep learning involves configuring essential components that define how the model will be trained."
   ]
  },
  {
   "cell_type": "code",
   "execution_count": 26,
   "id": "03a7625b",
   "metadata": {},
   "outputs": [],
   "source": [
    "model.compile(optimizer = 'adam', loss = 'mse')"
   ]
  },
  {
   "cell_type": "code",
   "execution_count": 27,
   "id": "44ec3fa1",
   "metadata": {},
   "outputs": [
    {
     "name": "stdout",
     "output_type": "stream",
     "text": [
      "Model: \"sequential\"\n",
      "_________________________________________________________________\n",
      " Layer (type)                Output Shape              Param #   \n",
      "=================================================================\n",
      " lstm (LSTM)                 (None, 100)               40800     \n",
      "                                                                 \n",
      " dense (Dense)               (None, 1)                 101       \n",
      "                                                                 \n",
      "=================================================================\n",
      "Total params: 40,901\n",
      "Trainable params: 40,901\n",
      "Non-trainable params: 0\n",
      "_________________________________________________________________\n"
     ]
    }
   ],
   "source": [
    "model.summary()"
   ]
  },
  {
   "cell_type": "code",
   "execution_count": 28,
   "id": "f315c896",
   "metadata": {},
   "outputs": [],
   "source": [
    "early_stopping = EarlyStopping(monitor = 'val_loss', patience = 2)"
   ]
  },
  {
   "cell_type": "code",
   "execution_count": 29,
   "id": "6381eb93",
   "metadata": {},
   "outputs": [],
   "source": [
    "validation_generator = TimeseriesGenerator(scaled_test,scaled_test, length=length, batch_size=1)"
   ]
  },
  {
   "cell_type": "markdown",
   "id": "39c1d796",
   "metadata": {},
   "source": [
    "# Training The Model"
   ]
  },
  {
   "cell_type": "markdown",
   "id": "9ca84994",
   "metadata": {},
   "source": [
    "Training the model in deep learning involves the process of iteratively updating the model's parameters (weights and biases) based on the provided training data to minimize the loss function and improve the model's performance"
   ]
  },
  {
   "cell_type": "code",
   "execution_count": 30,
   "id": "d6483b22",
   "metadata": {},
   "outputs": [
    {
     "name": "stdout",
     "output_type": "stream",
     "text": [
      "Epoch 1/20\n",
      "325/325 [==============================] - 12s 20ms/step - loss: 0.0325 - val_loss: 0.0232\n",
      "Epoch 2/20\n",
      "325/325 [==============================] - 7s 22ms/step - loss: 0.0189 - val_loss: 0.0349\n",
      "Epoch 3/20\n",
      "325/325 [==============================] - 8s 23ms/step - loss: 0.0149 - val_loss: 0.0322\n"
     ]
    },
    {
     "data": {
      "text/plain": [
       "<keras.callbacks.History at 0x1a8bfbc6620>"
      ]
     },
     "execution_count": 30,
     "metadata": {},
     "output_type": "execute_result"
    }
   ],
   "source": [
    "model.fit(generator, \n",
    "          validation_data = validation_generator,\n",
    "          epochs = 20,\n",
    "          callbacks = [early_stopping])"
   ]
  },
  {
   "cell_type": "code",
   "execution_count": 31,
   "id": "a4d6de31",
   "metadata": {},
   "outputs": [
    {
     "name": "stdout",
     "output_type": "stream",
     "text": [
      "INFO:tensorflow:Assets written to: model_LSTM_production\\assets\n"
     ]
    }
   ],
   "source": [
    "model.save('model_LSTM_production')"
   ]
  },
  {
   "cell_type": "code",
   "execution_count": 33,
   "id": "b70ed2bd",
   "metadata": {},
   "outputs": [],
   "source": [
    "loss = pd.DataFrame(model.history.history)"
   ]
  },
  {
   "cell_type": "code",
   "execution_count": 34,
   "id": "b4b1a205",
   "metadata": {},
   "outputs": [
    {
     "data": {
      "text/plain": [
       "<AxesSubplot:>"
      ]
     },
     "execution_count": 34,
     "metadata": {},
     "output_type": "execute_result"
    },
    {
     "data": {
      "image/png": "[encoded data removed]",
      "text/plain": [
       "<Figure size 432x288 with 1 Axes>"
      ]
     },
     "metadata": {
      "needs_background": "light"
     },
     "output_type": "display_data"
    }
   ],
   "source": [
    "loss.plot()"
   ]
  },
  {
   "cell_type": "markdown",
   "id": "77ce2e8c",
   "metadata": {},
   "source": [
    "# Test Prediction On Test Dataset"
   ]
  },
  {
   "cell_type": "code",
   "execution_count": 39,
   "id": "35eba536",
   "metadata": {},
   "outputs": [
    {
     "name": "stdout",
     "output_type": "stream",
     "text": [
      "1/1 [==============================] - 1s 1s/step\n",
      "1/1 [==============================] - 0s 60ms/step\n",
      "1/1 [==============================] - 0s 60ms/step\n",
      "1/1 [==============================] - 0s 63ms/step\n",
      "1/1 [==============================] - 0s 65ms/step\n",
      "1/1 [==============================] - 0s 69ms/step\n",
      "1/1 [==============================] - 0s 71ms/step\n",
      "1/1 [==============================] - 0s 67ms/step\n",
      "1/1 [==============================] - 0s 63ms/step\n",
      "1/1 [==============================] - 0s 142ms/step\n",
      "1/1 [==============================] - 0s 98ms/step\n",
      "1/1 [==============================] - 0s 82ms/step\n",
      "1/1 [==============================] - 0s 83ms/step\n",
      "1/1 [==============================] - 0s 171ms/step\n",
      "1/1 [==============================] - 0s 51ms/step\n",
      "1/1 [==============================] - 0s 47ms/step\n",
      "1/1 [==============================] - 0s 61ms/step\n",
      "1/1 [==============================] - 0s 69ms/step\n",
      "1/1 [==============================] - 0s 70ms/step\n",
      "1/1 [==============================] - 0s 59ms/step\n",
      "1/1 [==============================] - 0s 52ms/step\n",
      "1/1 [==============================] - 0s 64ms/step\n",
      "1/1 [==============================] - 0s 57ms/step\n",
      "1/1 [==============================] - 0s 56ms/step\n",
      "1/1 [==============================] - 0s 55ms/step\n",
      "1/1 [==============================] - 0s 55ms/step\n",
      "1/1 [==============================] - 0s 56ms/step\n",
      "1/1 [==============================] - 0s 52ms/step\n",
      "1/1 [==============================] - 0s 70ms/step\n",
      "1/1 [==============================] - 0s 92ms/step\n",
      "1/1 [==============================] - 0s 92ms/step\n",
      "1/1 [==============================] - 0s 63ms/step\n",
      "1/1 [==============================] - 0s 71ms/step\n",
      "1/1 [==============================] - 0s 65ms/step\n",
      "1/1 [==============================] - 0s 56ms/step\n",
      "1/1 [==============================] - 0s 67ms/step\n",
      "1/1 [==============================] - 0s 56ms/step\n",
      "1/1 [==============================] - 0s 57ms/step\n",
      "1/1 [==============================] - 0s 56ms/step\n",
      "1/1 [==============================] - 0s 64ms/step\n",
      "1/1 [==============================] - 0s 58ms/step\n",
      "1/1 [==============================] - 0s 57ms/step\n",
      "1/1 [==============================] - 0s 61ms/step\n",
      "1/1 [==============================] - 0s 67ms/step\n",
      "1/1 [==============================] - 0s 82ms/step\n",
      "1/1 [==============================] - 0s 81ms/step\n",
      "1/1 [==============================] - 0s 86ms/step\n",
      "1/1 [==============================] - 0s 63ms/step\n",
      "1/1 [==============================] - 0s 75ms/step\n",
      "1/1 [==============================] - 0s 70ms/step\n",
      "1/1 [==============================] - 0s 64ms/step\n",
      "1/1 [==============================] - 0s 61ms/step\n",
      "1/1 [==============================] - 0s 80ms/step\n",
      "1/1 [==============================] - 0s 132ms/step\n",
      "1/1 [==============================] - 0s 57ms/step\n",
      "1/1 [==============================] - 0s 63ms/step\n",
      "1/1 [==============================] - 0s 74ms/step\n",
      "1/1 [==============================] - 0s 55ms/step\n",
      "1/1 [==============================] - 0s 57ms/step\n",
      "1/1 [==============================] - 0s 68ms/step\n"
     ]
    }
   ],
   "source": [
    "test_predictions = []\n",
    "first_eval_batch = scaled_train[-length:]\n",
    "current_batch = first_eval_batch.reshape((1, length, n_features))\n",
    "for i in range(len(test_dataframe)):\n",
    "    current_pred = model.predict(current_batch)[0]\n",
    "    test_predictions.append(current_pred) \n",
    "    current_batch = np.append(current_batch[:,1:,:],[[current_pred]],axis=1)"
   ]
  },
  {
   "cell_type": "code",
   "execution_count": 41,
   "id": "db66f0f8",
   "metadata": {},
   "outputs": [],
   "source": [
    "test_prediction = scaler.inverse_transform(test_predictions)"
   ]
  },
  {
   "cell_type": "code",
   "execution_count": 42,
   "id": "d0a5cd36",
   "metadata": {
    "scrolled": true
   },
   "outputs": [
    {
     "data": {
      "text/plain": [
       "[array([0.8149214], dtype=float32),\n",
       " array([0.7810354], dtype=float32),\n",
       " array([0.7874399], dtype=float32),\n",
       " array([0.84693706], dtype=float32),\n",
       " array([0.9337412], dtype=float32),\n",
       " array([0.96968853], dtype=float32),\n",
       " array([0.92363036], dtype=float32),\n",
       " array([0.8782593], dtype=float32),\n",
       " array([0.8895543], dtype=float32),\n",
       " array([0.9678361], dtype=float32),\n",
       " array([1.0724647], dtype=float32),\n",
       " array([1.09239], dtype=float32),\n",
       " array([1.0735313], dtype=float32),\n",
       " array([1.090834], dtype=float32),\n",
       " array([1.1376837], dtype=float32),\n",
       " array([1.2111853], dtype=float32),\n",
       " array([1.2779702], dtype=float32),\n",
       " array([1.3029583], dtype=float32),\n",
       " array([1.3092377], dtype=float32),\n",
       " array([1.3421732], dtype=float32),\n",
       " array([1.4236324], dtype=float32),\n",
       " array([1.54703], dtype=float32),\n",
       " array([1.6518679], dtype=float32),\n",
       " array([1.7140695], dtype=float32),\n",
       " array([1.7881521], dtype=float32),\n",
       " array([1.9063383], dtype=float32),\n",
       " array([2.0737352], dtype=float32),\n",
       " array([2.2770061], dtype=float32),\n",
       " array([2.4775221], dtype=float32),\n",
       " array([2.6714268], dtype=float32),\n",
       " array([2.919398], dtype=float32),\n",
       " array([3.3024395], dtype=float32),\n",
       " array([3.8884585], dtype=float32),\n",
       " array([4.665717], dtype=float32),\n",
       " array([5.5959015], dtype=float32),\n",
       " array([6.819123], dtype=float32),\n",
       " array([8.715559], dtype=float32),\n",
       " array([11.807741], dtype=float32),\n",
       " array([16.714294], dtype=float32),\n",
       " array([23.879053], dtype=float32),\n",
       " array([33.865765], dtype=float32),\n",
       " array([48.65907], dtype=float32),\n",
       " array([72.81061], dtype=float32),\n",
       " array([113.4159], dtype=float32),\n",
       " array([178.55122], dtype=float32),\n",
       " array([274.93054], dtype=float32),\n",
       " array([419.37943], dtype=float32),\n",
       " array([662.1044], dtype=float32),\n",
       " array([1103.5496], dtype=float32),\n",
       " array([1756.0446], dtype=float32),\n",
       " array([2608.4429], dtype=float32),\n",
       " array([3848.6404], dtype=float32),\n",
       " array([5758.4863], dtype=float32),\n",
       " array([8515.217], dtype=float32),\n",
       " array([12642.346], dtype=float32),\n",
       " array([19835.273], dtype=float32),\n",
       " array([33265.844], dtype=float32),\n",
       " array([51591.33], dtype=float32),\n",
       " array([79068.12], dtype=float32),\n",
       " array([125125.5], dtype=float32)]"
      ]
     },
     "execution_count": 42,
     "metadata": {},
     "output_type": "execute_result"
    }
   ],
   "source": [
    "test_predictions"
   ]
  },
  {
   "cell_type": "code",
   "execution_count": 44,
   "id": "f9307635",
   "metadata": {},
   "outputs": [
    {
     "name": "stderr",
     "output_type": "stream",
     "text": [
      "C:\\Users\\DELL\\AppData\\Local\\Temp\\ipykernel_7068\\4208336148.py:1: SettingWithCopyWarning: \n",
      "A value is trying to be set on a copy of a slice from a DataFrame.\n",
      "Try using .loc[row_indexer,col_indexer] = value instead\n",
      "\n",
      "See the caveats in the documentation: https://pandas.pydata.org/pandas-docs/stable/user_guide/indexing.html#returning-a-view-versus-a-copy\n",
      "  test_dataframe['Prediction'] = test_prediction\n"
     ]
    }
   ],
   "source": [
    "test_dataframe['Prediction'] = test_prediction"
   ]
  },
  {
   "cell_type": "code",
   "execution_count": 45,
   "id": "fc8aa584",
   "metadata": {},
   "outputs": [
    {
     "data": {
      "text/html": [
       "<div>\n",
       "<style scoped>\n",
       "    .dataframe tbody tr th:only-of-type {\n",
       "        vertical-align: middle;\n",
       "    }\n",
       "\n",
       "    .dataframe tbody tr th {\n",
       "        vertical-align: top;\n",
       "    }\n",
       "\n",
       "    .dataframe thead th {\n",
       "        text-align: right;\n",
       "    }\n",
       "</style>\n",
       "<table border=\"1\" class=\"dataframe\">\n",
       "  <thead>\n",
       "    <tr style=\"text-align: right;\">\n",
       "      <th></th>\n",
       "      <th>Production</th>\n",
       "      <th>Prediction</th>\n",
       "    </tr>\n",
       "    <tr>\n",
       "      <th>DATE</th>\n",
       "      <th></th>\n",
       "      <th></th>\n",
       "    </tr>\n",
       "  </thead>\n",
       "  <tbody>\n",
       "    <tr>\n",
       "      <th>2013-02-01</th>\n",
       "      <td>106.7340</td>\n",
       "      <td>107.610968</td>\n",
       "    </tr>\n",
       "    <tr>\n",
       "      <th>2013-03-01</th>\n",
       "      <td>102.9948</td>\n",
       "      <td>105.436408</td>\n",
       "    </tr>\n",
       "    <tr>\n",
       "      <th>2013-04-01</th>\n",
       "      <td>91.0092</td>\n",
       "      <td>105.847401</td>\n",
       "    </tr>\n",
       "    <tr>\n",
       "      <th>2013-05-01</th>\n",
       "      <td>90.9634</td>\n",
       "      <td>109.665507</td>\n",
       "    </tr>\n",
       "    <tr>\n",
       "      <th>2013-06-01</th>\n",
       "      <td>100.6957</td>\n",
       "      <td>115.235981</td>\n",
       "    </tr>\n",
       "  </tbody>\n",
       "</table>\n",
       "</div>"
      ],
      "text/plain": [
       "            Production  Prediction\n",
       "DATE                              \n",
       "2013-02-01    106.7340  107.610968\n",
       "2013-03-01    102.9948  105.436408\n",
       "2013-04-01     91.0092  105.847401\n",
       "2013-05-01     90.9634  109.665507\n",
       "2013-06-01    100.6957  115.235981"
      ]
     },
     "execution_count": 45,
     "metadata": {},
     "output_type": "execute_result"
    }
   ],
   "source": [
    "test_dataframe.head()"
   ]
  },
  {
   "cell_type": "code",
   "execution_count": 46,
   "id": "167fa8aa",
   "metadata": {},
   "outputs": [
    {
     "data": {
      "text/plain": [
       "<AxesSubplot:xlabel='DATE'>"
      ]
     },
     "execution_count": 46,
     "metadata": {},
     "output_type": "execute_result"
    },
    {
     "data": {
      "image/png": "[encoded data removed]",
      "text/plain": [
       "<Figure size 864x360 with 1 Axes>"
      ]
     },
     "metadata": {
      "needs_background": "light"
     },
     "output_type": "display_data"
    }
   ],
   "source": [
    "test_dataframe.plot(figsize = (12, 5))"
   ]
  },
  {
   "cell_type": "markdown",
   "id": "60969a55",
   "metadata": {},
   "source": [
    "# Predicting On Whole Dataset"
   ]
  },
  {
   "cell_type": "code",
   "execution_count": 47,
   "id": "72cc7463",
   "metadata": {},
   "outputs": [],
   "source": [
    "full_scaler = MinMaxScaler()"
   ]
  },
  {
   "cell_type": "code",
   "execution_count": 49,
   "id": "d84620df",
   "metadata": {},
   "outputs": [],
   "source": [
    "full_dataset_scaled = full_scaler.fit_transform(dataframe)"
   ]
  },
  {
   "cell_type": "code",
   "execution_count": 50,
   "id": "9278d3bf",
   "metadata": {},
   "outputs": [],
   "source": [
    "length = 12\n",
    "generator = TimeseriesGenerator(full_dataset_scaled, full_dataset_scaled, length=length, batch_size=1)"
   ]
  },
  {
   "cell_type": "code",
   "execution_count": 53,
   "id": "33540087",
   "metadata": {},
   "outputs": [],
   "source": [
    "model = Sequential()\n",
    "model.add(LSTM(100, activation='relu', input_shape=(length, n_features)))\n",
    "model.add(Dense(1))"
   ]
  },
  {
   "cell_type": "code",
   "execution_count": 54,
   "id": "24b0704d",
   "metadata": {},
   "outputs": [],
   "source": [
    "model.compile(optimizer = 'adam', loss = 'mse')"
   ]
  },
  {
   "cell_type": "code",
   "execution_count": 55,
   "id": "6f7d12e1",
   "metadata": {},
   "outputs": [
    {
     "name": "stdout",
     "output_type": "stream",
     "text": [
      "Model: \"sequential_3\"\n",
      "_________________________________________________________________\n",
      " Layer (type)                Output Shape              Param #   \n",
      "=================================================================\n",
      " lstm_1 (LSTM)               (None, 100)               40800     \n",
      "                                                                 \n",
      " dense_1 (Dense)             (None, 1)                 101       \n",
      "                                                                 \n",
      "=================================================================\n",
      "Total params: 40,901\n",
      "Trainable params: 40,901\n",
      "Non-trainable params: 0\n",
      "_________________________________________________________________\n"
     ]
    }
   ],
   "source": [
    "model.summary()"
   ]
  },
  {
   "cell_type": "code",
   "execution_count": 56,
   "id": "9026d323",
   "metadata": {},
   "outputs": [
    {
     "name": "stdout",
     "output_type": "stream",
     "text": [
      "Epoch 1/8\n"
     ]
    },
    {
     "name": "stderr",
     "output_type": "stream",
     "text": [
      "C:\\Users\\DELL\\AppData\\Local\\Temp\\ipykernel_7068\\3861282865.py:1: UserWarning: `Model.fit_generator` is deprecated and will be removed in a future version. Please use `Model.fit`, which supports generators.\n",
      "  model.fit_generator(generator,epochs=8)\n"
     ]
    },
    {
     "name": "stdout",
     "output_type": "stream",
     "text": [
      "385/385 [==============================] - 13s 19ms/step - loss: 0.0219\n",
      "Epoch 2/8\n",
      "385/385 [==============================] - 7s 18ms/step - loss: 0.0132\n",
      "Epoch 3/8\n",
      "385/385 [==============================] - 7s 19ms/step - loss: 0.0106\n",
      "Epoch 4/8\n",
      "385/385 [==============================] - 8s 20ms/step - loss: 0.0061\n",
      "Epoch 5/8\n",
      "385/385 [==============================] - 6s 16ms/step - loss: 0.0047\n",
      "Epoch 6/8\n",
      "385/385 [==============================] - 8s 20ms/step - loss: 0.0037\n",
      "Epoch 7/8\n",
      "385/385 [==============================] - 7s 18ms/step - loss: 0.0029\n",
      "Epoch 8/8\n",
      "385/385 [==============================] - 8s 20ms/step - loss: 0.0028\n"
     ]
    },
    {
     "data": {
      "text/plain": [
       "<keras.callbacks.History at 0x1a8c680aad0>"
      ]
     },
     "execution_count": 56,
     "metadata": {},
     "output_type": "execute_result"
    }
   ],
   "source": [
    "model.fit_generator(generator,epochs=8)"
   ]
  },
  {
   "cell_type": "code",
   "execution_count": 58,
   "id": "538551c5",
   "metadata": {},
   "outputs": [
    {
     "name": "stdout",
     "output_type": "stream",
     "text": [
      "1/1 [==============================] - 1s 757ms/step\n",
      "1/1 [==============================] - 0s 71ms/step\n",
      "1/1 [==============================] - 0s 64ms/step\n",
      "1/1 [==============================] - 0s 104ms/step\n",
      "1/1 [==============================] - 0s 180ms/step\n",
      "1/1 [==============================] - 0s 73ms/step\n",
      "1/1 [==============================] - 0s 60ms/step\n",
      "1/1 [==============================] - 0s 211ms/step\n",
      "1/1 [==============================] - 0s 59ms/step\n",
      "1/1 [==============================] - 0s 70ms/step\n",
      "1/1 [==============================] - 0s 73ms/step\n",
      "1/1 [==============================] - 0s 54ms/step\n"
     ]
    }
   ],
   "source": [
    "prediction = []\n",
    "periods = 12\n",
    "first_eval_batch = full_dataset_scaled[-length:]\n",
    "current_batch = first_eval_batch.reshape((1, length, n_features))\n",
    "for i in range(periods):\n",
    "    current_pred = model.predict(current_batch)[0]\n",
    "    prediction.append(current_pred) \n",
    "    current_batch = np.append(current_batch[:,1:,:],[[current_pred]],axis=1)"
   ]
  },
  {
   "cell_type": "code",
   "execution_count": 136,
   "id": "23761ab7",
   "metadata": {},
   "outputs": [],
   "source": [
    "model.save('model_LSTM_full_df.h5')"
   ]
  },
  {
   "cell_type": "code",
   "execution_count": 59,
   "id": "5b11e395",
   "metadata": {},
   "outputs": [],
   "source": [
    "loss = pd.DataFrame(model.history.history)"
   ]
  },
  {
   "cell_type": "code",
   "execution_count": 62,
   "id": "411c73f9",
   "metadata": {},
   "outputs": [],
   "source": [
    "prediction = scaler.inverse_transform(prediction)"
   ]
  },
  {
   "cell_type": "code",
   "execution_count": 128,
   "id": "1bbf9128",
   "metadata": {},
   "outputs": [],
   "source": [
    "prediction_index = pd.date_range(start='2017-10-01',periods=periods,freq='MS')"
   ]
  },
  {
   "cell_type": "code",
   "execution_count": 129,
   "id": "97f41c67",
   "metadata": {},
   "outputs": [],
   "source": [
    "prediction_df = pd.DataFrame(data=prediction,\n",
    "                             index=prediction_index,\n",
    "                             columns=['Prediction'])"
   ]
  },
  {
   "cell_type": "code",
   "execution_count": 130,
   "id": "3ee35fd9",
   "metadata": {},
   "outputs": [
    {
     "data": {
      "text/html": [
       "<div>\n",
       "<style scoped>\n",
       "    .dataframe tbody tr th:only-of-type {\n",
       "        vertical-align: middle;\n",
       "    }\n",
       "\n",
       "    .dataframe tbody tr th {\n",
       "        vertical-align: top;\n",
       "    }\n",
       "\n",
       "    .dataframe thead th {\n",
       "        text-align: right;\n",
       "    }\n",
       "</style>\n",
       "<table border=\"1\" class=\"dataframe\">\n",
       "  <thead>\n",
       "    <tr style=\"text-align: right;\">\n",
       "      <th></th>\n",
       "      <th>Prediction</th>\n",
       "    </tr>\n",
       "  </thead>\n",
       "  <tbody>\n",
       "    <tr>\n",
       "      <th>2017-10-01</th>\n",
       "      <td>97.661921</td>\n",
       "    </tr>\n",
       "    <tr>\n",
       "      <th>2017-11-01</th>\n",
       "      <td>89.970254</td>\n",
       "    </tr>\n",
       "    <tr>\n",
       "      <th>2017-12-01</th>\n",
       "      <td>85.054490</td>\n",
       "    </tr>\n",
       "    <tr>\n",
       "      <th>2018-01-01</th>\n",
       "      <td>87.350563</td>\n",
       "    </tr>\n",
       "    <tr>\n",
       "      <th>2018-02-01</th>\n",
       "      <td>95.815967</td>\n",
       "    </tr>\n",
       "    <tr>\n",
       "      <th>2018-03-01</th>\n",
       "      <td>102.878736</td>\n",
       "    </tr>\n",
       "    <tr>\n",
       "      <th>2018-04-01</th>\n",
       "      <td>100.726288</td>\n",
       "    </tr>\n",
       "    <tr>\n",
       "      <th>2018-05-01</th>\n",
       "      <td>92.831176</td>\n",
       "    </tr>\n",
       "    <tr>\n",
       "      <th>2018-06-01</th>\n",
       "      <td>88.421185</td>\n",
       "    </tr>\n",
       "    <tr>\n",
       "      <th>2018-07-01</th>\n",
       "      <td>92.706764</td>\n",
       "    </tr>\n",
       "    <tr>\n",
       "      <th>2018-08-01</th>\n",
       "      <td>105.154104</td>\n",
       "    </tr>\n",
       "    <tr>\n",
       "      <th>2018-09-01</th>\n",
       "      <td>113.138782</td>\n",
       "    </tr>\n",
       "  </tbody>\n",
       "</table>\n",
       "</div>"
      ],
      "text/plain": [
       "            Prediction\n",
       "2017-10-01   97.661921\n",
       "2017-11-01   89.970254\n",
       "2017-12-01   85.054490\n",
       "2018-01-01   87.350563\n",
       "2018-02-01   95.815967\n",
       "2018-03-01  102.878736\n",
       "2018-04-01  100.726288\n",
       "2018-05-01   92.831176\n",
       "2018-06-01   88.421185\n",
       "2018-07-01   92.706764\n",
       "2018-08-01  105.154104\n",
       "2018-09-01  113.138782"
      ]
     },
     "execution_count": 130,
     "metadata": {},
     "output_type": "execute_result"
    }
   ],
   "source": [
    "prediction_df"
   ]
  },
  {
   "cell_type": "code",
   "execution_count": 131,
   "id": "32f38a92",
   "metadata": {},
   "outputs": [
    {
     "data": {
      "text/plain": [
       "<AxesSubplot:xlabel='DATE'>"
      ]
     },
     "execution_count": 131,
     "metadata": {},
     "output_type": "execute_result"
    },
    {
     "data": {
      "image/png": "[encoded data removed]",
      "text/plain": [
       "<Figure size 432x288 with 1 Axes>"
      ]
     },
     "metadata": {
      "needs_background": "light"
     },
     "output_type": "display_data"
    }
   ],
   "source": [
    "dataframe.plot()"
   ]
  },
  {
   "cell_type": "code",
   "execution_count": 132,
   "id": "a4a555b2",
   "metadata": {},
   "outputs": [
    {
     "data": {
      "text/plain": [
       "<AxesSubplot:>"
      ]
     },
     "execution_count": 132,
     "metadata": {},
     "output_type": "execute_result"
    },
    {
     "data": {
      "image/png": "[encoded data removed]",
      "text/plain": [
       "<Figure size 432x288 with 1 Axes>"
      ]
     },
     "metadata": {
      "needs_background": "light"
     },
     "output_type": "display_data"
    }
   ],
   "source": [
    "prediction_df.plot()"
   ]
  },
  {
   "cell_type": "code",
   "execution_count": 133,
   "id": "860d1180",
   "metadata": {},
   "outputs": [
    {
     "data": {
      "text/plain": [
       "<AxesSubplot:xlabel='DATE'>"
      ]
     },
     "execution_count": 133,
     "metadata": {},
     "output_type": "execute_result"
    },
    {
     "data": {
      "image/png": "[encoded data removed]",
      "text/plain": [
       "<Figure size 432x288 with 1 Axes>"
      ]
     },
     "metadata": {
      "needs_background": "light"
     },
     "output_type": "display_data"
    }
   ],
   "source": [
    "ax = dataframe.plot()\n",
    "prediction_df.plot(ax = ax)"
   ]
  }
 ],
 "metadata": {
  "kernelspec": {
   "display_name": "Python 3 (ipykernel)",
   "language": "python",
   "name": "python3"
  },
  "language_info": {
   "codemirror_mode": {
    "name": "ipython",
    "version": 3
   },
   "file_extension": ".py",
   "mimetype": "text/x-python",
   "name": "python",
   "nbconvert_exporter": "python",
   "pygments_lexer": "ipython3",
   "version": "3.10.9"
  }
 },
 "nbformat": 4,
 "nbformat_minor": 5
}
