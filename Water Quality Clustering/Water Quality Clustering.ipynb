{
 "cells": [
  {
   "cell_type": "markdown",
   "id": "a9ae69ef",
   "metadata": {},
   "source": [
    "# Importing Libraries"
   ]
  },
  {
   "cell_type": "markdown",
   "id": "355b16b7",
   "metadata": {},
   "source": [
    "These are just a few examples of popular Python libraries. You can import any other library using the same import statement followed by the library name or alias:"
   ]
  },
  {
   "cell_type": "markdown",
   "id": "52bdd712",
   "metadata": {},
   "source": [
    "NumPy: for numerical operations and array manipulation\n",
    "\n",
    "Pandas: for data manipulation and analysis\n",
    "\n",
    "Matplotlib: for creating visualizations\n",
    "\n",
    "Scikit-learn: for machine learning algorithms"
   ]
  },
  {
   "cell_type": "code",
   "execution_count": 1,
   "id": "92541383",
   "metadata": {},
   "outputs": [],
   "source": [
    "import pandas as pd\n",
    "import numpy as np\n",
    "import seaborn as sns\n",
    "import matplotlib.pyplot as plt\n",
    "\n",
    "%matplotlib inline"
   ]
  },
  {
   "cell_type": "code",
   "execution_count": 2,
   "id": "3610b0c6",
   "metadata": {},
   "outputs": [],
   "source": [
    "import warnings\n",
    "warnings.filterwarnings('ignore')"
   ]
  },
  {
   "cell_type": "markdown",
   "id": "239354f4",
   "metadata": {},
   "source": [
    "# Reading Dataset"
   ]
  },
  {
   "cell_type": "code",
   "execution_count": 3,
   "id": "86d84db6",
   "metadata": {},
   "outputs": [],
   "source": [
    "dataframe = pd.read_csv('Water Quality Testing.csv')"
   ]
  },
  {
   "cell_type": "markdown",
   "id": "b9818472",
   "metadata": {},
   "source": [
    "# Exploring Dataset"
   ]
  },
  {
   "cell_type": "markdown",
   "id": "707061b0",
   "metadata": {},
   "source": [
    "The process of analyzing and understanding a dataset to gain insights and identify patterns or trends. The goal of exploring the data is to become familiar with its structure, distribution, and quality, as well as to identify potential issues or anomalies that may need to be addressed before further analysis."
   ]
  },
  {
   "cell_type": "code",
   "execution_count": 4,
   "id": "062273a6",
   "metadata": {},
   "outputs": [
    {
     "data": {
      "text/html": [
       "<div>\n",
       "<style scoped>\n",
       "    .dataframe tbody tr th:only-of-type {\n",
       "        vertical-align: middle;\n",
       "    }\n",
       "\n",
       "    .dataframe tbody tr th {\n",
       "        vertical-align: top;\n",
       "    }\n",
       "\n",
       "    .dataframe thead th {\n",
       "        text-align: right;\n",
       "    }\n",
       "</style>\n",
       "<table border=\"1\" class=\"dataframe\">\n",
       "  <thead>\n",
       "    <tr style=\"text-align: right;\">\n",
       "      <th></th>\n",
       "      <th>Sample ID</th>\n",
       "      <th>pH</th>\n",
       "      <th>Temperature (°C)</th>\n",
       "      <th>Turbidity (NTU)</th>\n",
       "      <th>Dissolved Oxygen (mg/L)</th>\n",
       "      <th>Conductivity (µS/cm)</th>\n",
       "    </tr>\n",
       "  </thead>\n",
       "  <tbody>\n",
       "    <tr>\n",
       "      <th>0</th>\n",
       "      <td>1</td>\n",
       "      <td>7.25</td>\n",
       "      <td>23.1</td>\n",
       "      <td>4.5</td>\n",
       "      <td>7.8</td>\n",
       "      <td>342</td>\n",
       "    </tr>\n",
       "    <tr>\n",
       "      <th>1</th>\n",
       "      <td>2</td>\n",
       "      <td>7.11</td>\n",
       "      <td>22.3</td>\n",
       "      <td>5.1</td>\n",
       "      <td>6.2</td>\n",
       "      <td>335</td>\n",
       "    </tr>\n",
       "    <tr>\n",
       "      <th>2</th>\n",
       "      <td>3</td>\n",
       "      <td>7.03</td>\n",
       "      <td>21.5</td>\n",
       "      <td>3.9</td>\n",
       "      <td>8.3</td>\n",
       "      <td>356</td>\n",
       "    </tr>\n",
       "    <tr>\n",
       "      <th>3</th>\n",
       "      <td>4</td>\n",
       "      <td>7.38</td>\n",
       "      <td>22.9</td>\n",
       "      <td>3.2</td>\n",
       "      <td>9.5</td>\n",
       "      <td>327</td>\n",
       "    </tr>\n",
       "    <tr>\n",
       "      <th>4</th>\n",
       "      <td>5</td>\n",
       "      <td>7.45</td>\n",
       "      <td>20.7</td>\n",
       "      <td>3.8</td>\n",
       "      <td>8.1</td>\n",
       "      <td>352</td>\n",
       "    </tr>\n",
       "  </tbody>\n",
       "</table>\n",
       "</div>"
      ],
      "text/plain": [
       "   Sample ID    pH  Temperature (°C)  Turbidity (NTU)  \\\n",
       "0          1  7.25              23.1              4.5   \n",
       "1          2  7.11              22.3              5.1   \n",
       "2          3  7.03              21.5              3.9   \n",
       "3          4  7.38              22.9              3.2   \n",
       "4          5  7.45              20.7              3.8   \n",
       "\n",
       "   Dissolved Oxygen (mg/L)  Conductivity (µS/cm)  \n",
       "0                      7.8                   342  \n",
       "1                      6.2                   335  \n",
       "2                      8.3                   356  \n",
       "3                      9.5                   327  \n",
       "4                      8.1                   352  "
      ]
     },
     "execution_count": 4,
     "metadata": {},
     "output_type": "execute_result"
    }
   ],
   "source": [
    "dataframe.head()"
   ]
  },
  {
   "cell_type": "code",
   "execution_count": 5,
   "id": "c1414e74",
   "metadata": {},
   "outputs": [
    {
     "data": {
      "text/html": [
       "<div>\n",
       "<style scoped>\n",
       "    .dataframe tbody tr th:only-of-type {\n",
       "        vertical-align: middle;\n",
       "    }\n",
       "\n",
       "    .dataframe tbody tr th {\n",
       "        vertical-align: top;\n",
       "    }\n",
       "\n",
       "    .dataframe thead th {\n",
       "        text-align: right;\n",
       "    }\n",
       "</style>\n",
       "<table border=\"1\" class=\"dataframe\">\n",
       "  <thead>\n",
       "    <tr style=\"text-align: right;\">\n",
       "      <th></th>\n",
       "      <th>Sample ID</th>\n",
       "      <th>pH</th>\n",
       "      <th>Temperature (°C)</th>\n",
       "      <th>Turbidity (NTU)</th>\n",
       "      <th>Dissolved Oxygen (mg/L)</th>\n",
       "      <th>Conductivity (µS/cm)</th>\n",
       "    </tr>\n",
       "  </thead>\n",
       "  <tbody>\n",
       "    <tr>\n",
       "      <th>495</th>\n",
       "      <td>496</td>\n",
       "      <td>7.01</td>\n",
       "      <td>20.8</td>\n",
       "      <td>4.6</td>\n",
       "      <td>7.1</td>\n",
       "      <td>327</td>\n",
       "    </tr>\n",
       "    <tr>\n",
       "      <th>496</th>\n",
       "      <td>497</td>\n",
       "      <td>7.31</td>\n",
       "      <td>22.5</td>\n",
       "      <td>3.8</td>\n",
       "      <td>9.4</td>\n",
       "      <td>361</td>\n",
       "    </tr>\n",
       "    <tr>\n",
       "      <th>497</th>\n",
       "      <td>498</td>\n",
       "      <td>7.02</td>\n",
       "      <td>21.2</td>\n",
       "      <td>4.7</td>\n",
       "      <td>7.5</td>\n",
       "      <td>334</td>\n",
       "    </tr>\n",
       "    <tr>\n",
       "      <th>498</th>\n",
       "      <td>499</td>\n",
       "      <td>7.25</td>\n",
       "      <td>23.0</td>\n",
       "      <td>3.9</td>\n",
       "      <td>8.7</td>\n",
       "      <td>359</td>\n",
       "    </tr>\n",
       "    <tr>\n",
       "      <th>499</th>\n",
       "      <td>500</td>\n",
       "      <td>7.12</td>\n",
       "      <td>20.9</td>\n",
       "      <td>4.4</td>\n",
       "      <td>8.2</td>\n",
       "      <td>339</td>\n",
       "    </tr>\n",
       "  </tbody>\n",
       "</table>\n",
       "</div>"
      ],
      "text/plain": [
       "     Sample ID    pH  Temperature (°C)  Turbidity (NTU)  \\\n",
       "495        496  7.01              20.8              4.6   \n",
       "496        497  7.31              22.5              3.8   \n",
       "497        498  7.02              21.2              4.7   \n",
       "498        499  7.25              23.0              3.9   \n",
       "499        500  7.12              20.9              4.4   \n",
       "\n",
       "     Dissolved Oxygen (mg/L)  Conductivity (µS/cm)  \n",
       "495                      7.1                   327  \n",
       "496                      9.4                   361  \n",
       "497                      7.5                   334  \n",
       "498                      8.7                   359  \n",
       "499                      8.2                   339  "
      ]
     },
     "execution_count": 5,
     "metadata": {},
     "output_type": "execute_result"
    }
   ],
   "source": [
    "dataframe.tail()"
   ]
  },
  {
   "cell_type": "code",
   "execution_count": 6,
   "id": "e9113bfe",
   "metadata": {},
   "outputs": [
    {
     "name": "stdout",
     "output_type": "stream",
     "text": [
      "<class 'pandas.core.frame.DataFrame'>\n",
      "RangeIndex: 500 entries, 0 to 499\n",
      "Data columns (total 6 columns):\n",
      " #   Column                   Non-Null Count  Dtype  \n",
      "---  ------                   --------------  -----  \n",
      " 0   Sample ID                500 non-null    int64  \n",
      " 1   pH                       500 non-null    float64\n",
      " 2   Temperature (°C)         500 non-null    float64\n",
      " 3   Turbidity (NTU)          500 non-null    float64\n",
      " 4   Dissolved Oxygen (mg/L)  500 non-null    float64\n",
      " 5   Conductivity (µS/cm)     500 non-null    int64  \n",
      "dtypes: float64(4), int64(2)\n",
      "memory usage: 23.6 KB\n"
     ]
    }
   ],
   "source": [
    "dataframe.info()"
   ]
  },
  {
   "cell_type": "code",
   "execution_count": 7,
   "id": "55013dfe",
   "metadata": {},
   "outputs": [
    {
     "data": {
      "text/plain": [
       "Sample ID                  0\n",
       "pH                         0\n",
       "Temperature (°C)           0\n",
       "Turbidity (NTU)            0\n",
       "Dissolved Oxygen (mg/L)    0\n",
       "Conductivity (µS/cm)       0\n",
       "dtype: int64"
      ]
     },
     "execution_count": 7,
     "metadata": {},
     "output_type": "execute_result"
    }
   ],
   "source": [
    "dataframe.isna().sum()"
   ]
  },
  {
   "cell_type": "code",
   "execution_count": 8,
   "id": "df4739fe",
   "metadata": {},
   "outputs": [
    {
     "data": {
      "text/plain": [
       "(500, 6)"
      ]
     },
     "execution_count": 8,
     "metadata": {},
     "output_type": "execute_result"
    }
   ],
   "source": [
    "dataframe.shape"
   ]
  },
  {
   "cell_type": "markdown",
   "id": "815abda1",
   "metadata": {},
   "source": [
    "# Statical Info"
   ]
  },
  {
   "cell_type": "code",
   "execution_count": 9,
   "id": "046e2153",
   "metadata": {},
   "outputs": [
    {
     "data": {
      "text/html": [
       "<div>\n",
       "<style scoped>\n",
       "    .dataframe tbody tr th:only-of-type {\n",
       "        vertical-align: middle;\n",
       "    }\n",
       "\n",
       "    .dataframe tbody tr th {\n",
       "        vertical-align: top;\n",
       "    }\n",
       "\n",
       "    .dataframe thead th {\n",
       "        text-align: right;\n",
       "    }\n",
       "</style>\n",
       "<table border=\"1\" class=\"dataframe\">\n",
       "  <thead>\n",
       "    <tr style=\"text-align: right;\">\n",
       "      <th></th>\n",
       "      <th>Sample ID</th>\n",
       "      <th>pH</th>\n",
       "      <th>Temperature (°C)</th>\n",
       "      <th>Turbidity (NTU)</th>\n",
       "      <th>Dissolved Oxygen (mg/L)</th>\n",
       "      <th>Conductivity (µS/cm)</th>\n",
       "    </tr>\n",
       "  </thead>\n",
       "  <tbody>\n",
       "    <tr>\n",
       "      <th>count</th>\n",
       "      <td>500.000000</td>\n",
       "      <td>500.000000</td>\n",
       "      <td>500.000000</td>\n",
       "      <td>500.000000</td>\n",
       "      <td>500.000000</td>\n",
       "      <td>500.000000</td>\n",
       "    </tr>\n",
       "    <tr>\n",
       "      <th>mean</th>\n",
       "      <td>250.500000</td>\n",
       "      <td>7.161140</td>\n",
       "      <td>22.054400</td>\n",
       "      <td>4.169400</td>\n",
       "      <td>8.382200</td>\n",
       "      <td>344.362000</td>\n",
       "    </tr>\n",
       "    <tr>\n",
       "      <th>std</th>\n",
       "      <td>144.481833</td>\n",
       "      <td>0.107531</td>\n",
       "      <td>0.903123</td>\n",
       "      <td>0.397492</td>\n",
       "      <td>0.822396</td>\n",
       "      <td>13.038672</td>\n",
       "    </tr>\n",
       "    <tr>\n",
       "      <th>min</th>\n",
       "      <td>1.000000</td>\n",
       "      <td>6.830000</td>\n",
       "      <td>20.300000</td>\n",
       "      <td>3.100000</td>\n",
       "      <td>6.000000</td>\n",
       "      <td>316.000000</td>\n",
       "    </tr>\n",
       "    <tr>\n",
       "      <th>25%</th>\n",
       "      <td>125.750000</td>\n",
       "      <td>7.080000</td>\n",
       "      <td>21.200000</td>\n",
       "      <td>3.800000</td>\n",
       "      <td>7.800000</td>\n",
       "      <td>333.000000</td>\n",
       "    </tr>\n",
       "    <tr>\n",
       "      <th>50%</th>\n",
       "      <td>250.500000</td>\n",
       "      <td>7.160000</td>\n",
       "      <td>22.200000</td>\n",
       "      <td>4.200000</td>\n",
       "      <td>8.400000</td>\n",
       "      <td>344.000000</td>\n",
       "    </tr>\n",
       "    <tr>\n",
       "      <th>75%</th>\n",
       "      <td>375.250000</td>\n",
       "      <td>7.250000</td>\n",
       "      <td>22.900000</td>\n",
       "      <td>4.500000</td>\n",
       "      <td>9.100000</td>\n",
       "      <td>355.000000</td>\n",
       "    </tr>\n",
       "    <tr>\n",
       "      <th>max</th>\n",
       "      <td>500.000000</td>\n",
       "      <td>7.480000</td>\n",
       "      <td>23.600000</td>\n",
       "      <td>5.100000</td>\n",
       "      <td>9.900000</td>\n",
       "      <td>370.000000</td>\n",
       "    </tr>\n",
       "  </tbody>\n",
       "</table>\n",
       "</div>"
      ],
      "text/plain": [
       "        Sample ID          pH  Temperature (°C)  Turbidity (NTU)  \\\n",
       "count  500.000000  500.000000        500.000000       500.000000   \n",
       "mean   250.500000    7.161140         22.054400         4.169400   \n",
       "std    144.481833    0.107531          0.903123         0.397492   \n",
       "min      1.000000    6.830000         20.300000         3.100000   \n",
       "25%    125.750000    7.080000         21.200000         3.800000   \n",
       "50%    250.500000    7.160000         22.200000         4.200000   \n",
       "75%    375.250000    7.250000         22.900000         4.500000   \n",
       "max    500.000000    7.480000         23.600000         5.100000   \n",
       "\n",
       "       Dissolved Oxygen (mg/L)  Conductivity (µS/cm)  \n",
       "count               500.000000            500.000000  \n",
       "mean                  8.382200            344.362000  \n",
       "std                   0.822396             13.038672  \n",
       "min                   6.000000            316.000000  \n",
       "25%                   7.800000            333.000000  \n",
       "50%                   8.400000            344.000000  \n",
       "75%                   9.100000            355.000000  \n",
       "max                   9.900000            370.000000  "
      ]
     },
     "execution_count": 9,
     "metadata": {},
     "output_type": "execute_result"
    }
   ],
   "source": [
    "dataframe.describe()"
   ]
  },
  {
   "cell_type": "markdown",
   "id": "7016682d",
   "metadata": {},
   "source": [
    "# Correlation Matrix"
   ]
  },
  {
   "cell_type": "markdown",
   "id": "722e18bd",
   "metadata": {},
   "source": [
    "A correlation matrix is a table that shows the pairwise correlations between variables in a dataset. Each cell in the table represents the correlation between two variables, and the strength and direction of the correlation is indicated by the color and magnitude of the cell."
   ]
  },
  {
   "cell_type": "markdown",
   "id": "d0f076ee",
   "metadata": {},
   "source": [
    "Correlation matrices are commonly used in data analysis to identify relationships between variables and to help understand the structure of the data. The values in the correlation matrix range from -1 to 1, with -1 indicating a perfect negative correlation, 1 indicating a perfect positive correlation, and 0 indicating no correlation."
   ]
  },
  {
   "cell_type": "code",
   "execution_count": 10,
   "id": "f3f940d9",
   "metadata": {},
   "outputs": [],
   "source": [
    "corr_matrix = dataframe.corr()"
   ]
  },
  {
   "cell_type": "code",
   "execution_count": 11,
   "id": "3b0784f3",
   "metadata": {},
   "outputs": [
    {
     "data": {
      "text/html": [
       "<div>\n",
       "<style scoped>\n",
       "    .dataframe tbody tr th:only-of-type {\n",
       "        vertical-align: middle;\n",
       "    }\n",
       "\n",
       "    .dataframe tbody tr th {\n",
       "        vertical-align: top;\n",
       "    }\n",
       "\n",
       "    .dataframe thead th {\n",
       "        text-align: right;\n",
       "    }\n",
       "</style>\n",
       "<table border=\"1\" class=\"dataframe\">\n",
       "  <thead>\n",
       "    <tr style=\"text-align: right;\">\n",
       "      <th></th>\n",
       "      <th>Sample ID</th>\n",
       "      <th>pH</th>\n",
       "      <th>Temperature (°C)</th>\n",
       "      <th>Turbidity (NTU)</th>\n",
       "      <th>Dissolved Oxygen (mg/L)</th>\n",
       "      <th>Conductivity (µS/cm)</th>\n",
       "    </tr>\n",
       "  </thead>\n",
       "  <tbody>\n",
       "    <tr>\n",
       "      <th>Sample ID</th>\n",
       "      <td>1.000000</td>\n",
       "      <td>0.020123</td>\n",
       "      <td>-0.059358</td>\n",
       "      <td>0.118832</td>\n",
       "      <td>0.180574</td>\n",
       "      <td>0.184919</td>\n",
       "    </tr>\n",
       "    <tr>\n",
       "      <th>pH</th>\n",
       "      <td>0.020123</td>\n",
       "      <td>1.000000</td>\n",
       "      <td>0.152374</td>\n",
       "      <td>-0.092860</td>\n",
       "      <td>0.705248</td>\n",
       "      <td>0.664232</td>\n",
       "    </tr>\n",
       "    <tr>\n",
       "      <th>Temperature (°C)</th>\n",
       "      <td>-0.059358</td>\n",
       "      <td>0.152374</td>\n",
       "      <td>1.000000</td>\n",
       "      <td>-0.232663</td>\n",
       "      <td>0.246976</td>\n",
       "      <td>0.317573</td>\n",
       "    </tr>\n",
       "    <tr>\n",
       "      <th>Turbidity (NTU)</th>\n",
       "      <td>0.118832</td>\n",
       "      <td>-0.092860</td>\n",
       "      <td>-0.232663</td>\n",
       "      <td>1.000000</td>\n",
       "      <td>-0.275270</td>\n",
       "      <td>-0.087372</td>\n",
       "    </tr>\n",
       "    <tr>\n",
       "      <th>Dissolved Oxygen (mg/L)</th>\n",
       "      <td>0.180574</td>\n",
       "      <td>0.705248</td>\n",
       "      <td>0.246976</td>\n",
       "      <td>-0.275270</td>\n",
       "      <td>1.000000</td>\n",
       "      <td>0.760700</td>\n",
       "    </tr>\n",
       "    <tr>\n",
       "      <th>Conductivity (µS/cm)</th>\n",
       "      <td>0.184919</td>\n",
       "      <td>0.664232</td>\n",
       "      <td>0.317573</td>\n",
       "      <td>-0.087372</td>\n",
       "      <td>0.760700</td>\n",
       "      <td>1.000000</td>\n",
       "    </tr>\n",
       "  </tbody>\n",
       "</table>\n",
       "</div>"
      ],
      "text/plain": [
       "                         Sample ID        pH  Temperature (°C)  \\\n",
       "Sample ID                 1.000000  0.020123         -0.059358   \n",
       "pH                        0.020123  1.000000          0.152374   \n",
       "Temperature (°C)         -0.059358  0.152374          1.000000   \n",
       "Turbidity (NTU)           0.118832 -0.092860         -0.232663   \n",
       "Dissolved Oxygen (mg/L)   0.180574  0.705248          0.246976   \n",
       "Conductivity (µS/cm)      0.184919  0.664232          0.317573   \n",
       "\n",
       "                         Turbidity (NTU)  Dissolved Oxygen (mg/L)  \\\n",
       "Sample ID                       0.118832                 0.180574   \n",
       "pH                             -0.092860                 0.705248   \n",
       "Temperature (°C)               -0.232663                 0.246976   \n",
       "Turbidity (NTU)                 1.000000                -0.275270   \n",
       "Dissolved Oxygen (mg/L)        -0.275270                 1.000000   \n",
       "Conductivity (µS/cm)           -0.087372                 0.760700   \n",
       "\n",
       "                         Conductivity (µS/cm)  \n",
       "Sample ID                            0.184919  \n",
       "pH                                   0.664232  \n",
       "Temperature (°C)                     0.317573  \n",
       "Turbidity (NTU)                     -0.087372  \n",
       "Dissolved Oxygen (mg/L)              0.760700  \n",
       "Conductivity (µS/cm)                 1.000000  "
      ]
     },
     "execution_count": 11,
     "metadata": {},
     "output_type": "execute_result"
    }
   ],
   "source": [
    "corr_matrix"
   ]
  },
  {
   "cell_type": "code",
   "execution_count": 12,
   "id": "73660075",
   "metadata": {},
   "outputs": [
    {
     "data": {
      "text/plain": [
       "<AxesSubplot:>"
      ]
     },
     "execution_count": 12,
     "metadata": {},
     "output_type": "execute_result"
    },
    {
     "data": {
      "image/png": "[encoded data removed]",
      "text/plain": [
       "<Figure size 864x360 with 2 Axes>"
      ]
     },
     "metadata": {
      "needs_background": "light"
     },
     "output_type": "display_data"
    }
   ],
   "source": [
    "plt.figure(figsize = (12 ,5))\n",
    "sns.heatmap(corr_matrix,\n",
    "            annot = True, \n",
    "            cmap = 'coolwarm')"
   ]
  },
  {
   "cell_type": "code",
   "execution_count": 13,
   "id": "76e07d8f",
   "metadata": {},
   "outputs": [],
   "source": [
    "dataset = dataframe.copy()"
   ]
  },
  {
   "cell_type": "code",
   "execution_count": 14,
   "id": "9a210e2c",
   "metadata": {},
   "outputs": [
    {
     "data": {
      "text/html": [
       "<div>\n",
       "<style scoped>\n",
       "    .dataframe tbody tr th:only-of-type {\n",
       "        vertical-align: middle;\n",
       "    }\n",
       "\n",
       "    .dataframe tbody tr th {\n",
       "        vertical-align: top;\n",
       "    }\n",
       "\n",
       "    .dataframe thead th {\n",
       "        text-align: right;\n",
       "    }\n",
       "</style>\n",
       "<table border=\"1\" class=\"dataframe\">\n",
       "  <thead>\n",
       "    <tr style=\"text-align: right;\">\n",
       "      <th></th>\n",
       "      <th>Sample ID</th>\n",
       "      <th>pH</th>\n",
       "      <th>Temperature (°C)</th>\n",
       "      <th>Turbidity (NTU)</th>\n",
       "      <th>Dissolved Oxygen (mg/L)</th>\n",
       "      <th>Conductivity (µS/cm)</th>\n",
       "    </tr>\n",
       "  </thead>\n",
       "  <tbody>\n",
       "    <tr>\n",
       "      <th>0</th>\n",
       "      <td>1</td>\n",
       "      <td>7.25</td>\n",
       "      <td>23.1</td>\n",
       "      <td>4.5</td>\n",
       "      <td>7.8</td>\n",
       "      <td>342</td>\n",
       "    </tr>\n",
       "    <tr>\n",
       "      <th>1</th>\n",
       "      <td>2</td>\n",
       "      <td>7.11</td>\n",
       "      <td>22.3</td>\n",
       "      <td>5.1</td>\n",
       "      <td>6.2</td>\n",
       "      <td>335</td>\n",
       "    </tr>\n",
       "    <tr>\n",
       "      <th>2</th>\n",
       "      <td>3</td>\n",
       "      <td>7.03</td>\n",
       "      <td>21.5</td>\n",
       "      <td>3.9</td>\n",
       "      <td>8.3</td>\n",
       "      <td>356</td>\n",
       "    </tr>\n",
       "    <tr>\n",
       "      <th>3</th>\n",
       "      <td>4</td>\n",
       "      <td>7.38</td>\n",
       "      <td>22.9</td>\n",
       "      <td>3.2</td>\n",
       "      <td>9.5</td>\n",
       "      <td>327</td>\n",
       "    </tr>\n",
       "    <tr>\n",
       "      <th>4</th>\n",
       "      <td>5</td>\n",
       "      <td>7.45</td>\n",
       "      <td>20.7</td>\n",
       "      <td>3.8</td>\n",
       "      <td>8.1</td>\n",
       "      <td>352</td>\n",
       "    </tr>\n",
       "    <tr>\n",
       "      <th>...</th>\n",
       "      <td>...</td>\n",
       "      <td>...</td>\n",
       "      <td>...</td>\n",
       "      <td>...</td>\n",
       "      <td>...</td>\n",
       "      <td>...</td>\n",
       "    </tr>\n",
       "    <tr>\n",
       "      <th>495</th>\n",
       "      <td>496</td>\n",
       "      <td>7.01</td>\n",
       "      <td>20.8</td>\n",
       "      <td>4.6</td>\n",
       "      <td>7.1</td>\n",
       "      <td>327</td>\n",
       "    </tr>\n",
       "    <tr>\n",
       "      <th>496</th>\n",
       "      <td>497</td>\n",
       "      <td>7.31</td>\n",
       "      <td>22.5</td>\n",
       "      <td>3.8</td>\n",
       "      <td>9.4</td>\n",
       "      <td>361</td>\n",
       "    </tr>\n",
       "    <tr>\n",
       "      <th>497</th>\n",
       "      <td>498</td>\n",
       "      <td>7.02</td>\n",
       "      <td>21.2</td>\n",
       "      <td>4.7</td>\n",
       "      <td>7.5</td>\n",
       "      <td>334</td>\n",
       "    </tr>\n",
       "    <tr>\n",
       "      <th>498</th>\n",
       "      <td>499</td>\n",
       "      <td>7.25</td>\n",
       "      <td>23.0</td>\n",
       "      <td>3.9</td>\n",
       "      <td>8.7</td>\n",
       "      <td>359</td>\n",
       "    </tr>\n",
       "    <tr>\n",
       "      <th>499</th>\n",
       "      <td>500</td>\n",
       "      <td>7.12</td>\n",
       "      <td>20.9</td>\n",
       "      <td>4.4</td>\n",
       "      <td>8.2</td>\n",
       "      <td>339</td>\n",
       "    </tr>\n",
       "  </tbody>\n",
       "</table>\n",
       "<p>500 rows × 6 columns</p>\n",
       "</div>"
      ],
      "text/plain": [
       "     Sample ID    pH  Temperature (°C)  Turbidity (NTU)  \\\n",
       "0            1  7.25              23.1              4.5   \n",
       "1            2  7.11              22.3              5.1   \n",
       "2            3  7.03              21.5              3.9   \n",
       "3            4  7.38              22.9              3.2   \n",
       "4            5  7.45              20.7              3.8   \n",
       "..         ...   ...               ...              ...   \n",
       "495        496  7.01              20.8              4.6   \n",
       "496        497  7.31              22.5              3.8   \n",
       "497        498  7.02              21.2              4.7   \n",
       "498        499  7.25              23.0              3.9   \n",
       "499        500  7.12              20.9              4.4   \n",
       "\n",
       "     Dissolved Oxygen (mg/L)  Conductivity (µS/cm)  \n",
       "0                        7.8                   342  \n",
       "1                        6.2                   335  \n",
       "2                        8.3                   356  \n",
       "3                        9.5                   327  \n",
       "4                        8.1                   352  \n",
       "..                       ...                   ...  \n",
       "495                      7.1                   327  \n",
       "496                      9.4                   361  \n",
       "497                      7.5                   334  \n",
       "498                      8.7                   359  \n",
       "499                      8.2                   339  \n",
       "\n",
       "[500 rows x 6 columns]"
      ]
     },
     "execution_count": 14,
     "metadata": {},
     "output_type": "execute_result"
    }
   ],
   "source": [
    "dataset"
   ]
  },
  {
   "cell_type": "markdown",
   "id": "03a196cf",
   "metadata": {},
   "source": [
    "# Feature Scaling "
   ]
  },
  {
   "cell_type": "markdown",
   "id": "82254a4f",
   "metadata": {},
   "source": [
    "Feature scaling is a preprocessing technique used in machine learning to normalize or standardize the range of independent variables (features) in a dataset. This is often done to improve the performance of machine learning models and make the optimization process more efficient."
   ]
  },
  {
   "cell_type": "markdown",
   "id": "dd636c9b",
   "metadata": {},
   "source": [
    "Standard scaling, also known as feature scaling or standardization, is a common data preprocessing technique used in machine learning and data analysis. It involves transforming numerical features in a dataset to have a mean of zero and a standard deviation of one"
   ]
  },
  {
   "cell_type": "markdown",
   "id": "08c14d62",
   "metadata": {},
   "source": [
    "Mathematically, the standard scaling formula for a feature x is:\n",
    "\n",
    "x_scaled = (x - μ) / σ"
   ]
  },
  {
   "cell_type": "code",
   "execution_count": 15,
   "id": "8b441c8e",
   "metadata": {},
   "outputs": [],
   "source": [
    "from sklearn.preprocessing import StandardScaler"
   ]
  },
  {
   "cell_type": "code",
   "execution_count": 16,
   "id": "02663ea7",
   "metadata": {},
   "outputs": [],
   "source": [
    "scaler = StandardScaler()"
   ]
  },
  {
   "cell_type": "code",
   "execution_count": 17,
   "id": "ad4fb5bc",
   "metadata": {},
   "outputs": [],
   "source": [
    "dataset = scaler.fit_transform(dataset)"
   ]
  },
  {
   "cell_type": "code",
   "execution_count": 18,
   "id": "5033f1b3",
   "metadata": {},
   "outputs": [
    {
     "data": {
      "text/plain": [
       "array([[-1.72859016,  0.82719717,  1.15891932,  0.83254848, -0.70864011,\n",
       "        -0.18133484],\n",
       "       [-1.72166195, -0.47606193,  0.27221747,  2.34352575, -2.65612239,\n",
       "        -0.718737  ],\n",
       "       [-1.71473373, -1.22078142, -0.61448438, -0.6784288 , -0.1000519 ,\n",
       "         0.89346947],\n",
       "       ...,\n",
       "       [ 1.71473373, -1.31387136, -0.94699757,  1.33620757, -1.07379304,\n",
       "        -0.79550874],\n",
       "       [ 1.72166195,  0.82719717,  1.04808158, -0.6784288 ,  0.38681867,\n",
       "         1.12378468],\n",
       "       [ 1.72859016, -0.382972  , -1.27951077,  0.58071893, -0.22176954,\n",
       "        -0.41165005]])"
      ]
     },
     "execution_count": 18,
     "metadata": {},
     "output_type": "execute_result"
    }
   ],
   "source": [
    "dataset"
   ]
  },
  {
   "cell_type": "markdown",
   "id": "be6c5d46",
   "metadata": {},
   "source": [
    "# Clustering The Data"
   ]
  },
  {
   "cell_type": "markdown",
   "id": "46606ce0",
   "metadata": {},
   "source": [
    "The goal of clustering is to partition the data into distinct groups or clusters, where objects within each cluster are similar to each other and dissimilar to objects in other clusters. There are several different types of clustering algorithm. We are going to use :"
   ]
  },
  {
   "cell_type": "markdown",
   "id": "71e01efb",
   "metadata": {},
   "source": [
    "K-means clustering:\n",
    "\n",
    "This algorithm partitions the data into k clusters, where k is a user-specified parameter. The algorithm iteratively assigns each data point to the closest centroid (mean) of a cluster, and then updates the centroid based on the mean of the data points in the cluster."
   ]
  },
  {
   "cell_type": "code",
   "execution_count": 20,
   "id": "03b599b7",
   "metadata": {},
   "outputs": [],
   "source": [
    "from sklearn.cluster import KMeans"
   ]
  },
  {
   "cell_type": "code",
   "execution_count": 21,
   "id": "b44b8177",
   "metadata": {},
   "outputs": [],
   "source": [
    "wcss = []\n",
    "for i in range(1, 20):\n",
    "    kmeans = KMeans(n_clusters = i, init = 'k-means++')\n",
    "    kmeans.fit(dataset)\n",
    "    wcss.append(kmeans.inertia_)"
   ]
  },
  {
   "cell_type": "code",
   "execution_count": 22,
   "id": "1645fd8b",
   "metadata": {},
   "outputs": [
    {
     "data": {
      "image/png": "[encoded data removed]",
      "text/plain": [
       "<Figure size 432x288 with 1 Axes>"
      ]
     },
     "metadata": {
      "needs_background": "light"
     },
     "output_type": "display_data"
    }
   ],
   "source": [
    "plt.plot(range(1, 20), wcss, 'bx-')\n",
    "plt.title('The Elbo Methode')\n",
    "plt.xlabel('Number of Cluster')\n",
    "plt.ylabel('WCSS')\n",
    "plt.show()"
   ]
  },
  {
   "cell_type": "code",
   "execution_count": 23,
   "id": "ff1b28e5",
   "metadata": {},
   "outputs": [],
   "source": [
    "kmeans = KMeans(n_clusters = 8, init = 'k-means++', random_state = 0)"
   ]
  },
  {
   "cell_type": "code",
   "execution_count": 24,
   "id": "9a7c4b7c",
   "metadata": {},
   "outputs": [],
   "source": [
    "y_kmeans = kmeans.fit_predict(dataset)"
   ]
  },
  {
   "cell_type": "code",
   "execution_count": null,
   "id": "9cb265a3",
   "metadata": {},
   "outputs": [],
   "source": []
  },
  {
   "cell_type": "code",
   "execution_count": 25,
   "id": "1a178720",
   "metadata": {},
   "outputs": [
    {
     "data": {
      "text/plain": [
       "array([0, 0, 5, 1, 1, 0, 4, 5, 4, 0, 1, 5, 0, 1, 1, 0, 0, 1, 5, 0, 5, 4,\n",
       "       0, 1, 4, 0, 1, 0, 4, 5, 1, 0, 5, 4, 0, 1, 0, 0, 1, 5, 1, 4, 0, 5,\n",
       "       2, 5, 4, 5, 1, 4, 0, 1, 5, 1, 5, 1, 4, 5, 0, 4, 1, 0, 6, 5, 0, 2,\n",
       "       5, 6, 5, 0, 1, 0, 1, 4, 1, 5, 1, 0, 5, 2, 0, 4, 4, 4, 1, 0, 1, 0,\n",
       "       1, 4, 0, 0, 6, 1, 5, 2, 5, 1, 0, 4, 5, 4, 1, 5, 0, 1, 0, 4, 5, 2,\n",
       "       5, 4, 1, 4, 1, 0, 4, 0, 1, 4, 1, 0, 5, 4, 1, 0, 1, 0, 4, 0, 4, 1,\n",
       "       0, 1, 4, 1, 3, 1, 5, 2, 5, 4, 1, 4, 1, 0, 4, 5, 2, 0, 1, 0, 4, 1,\n",
       "       0, 0, 1, 0, 4, 0, 4, 2, 0, 1, 5, 2, 5, 4, 5, 2, 5, 4, 2, 4, 2, 5,\n",
       "       6, 3, 1, 0, 1, 3, 5, 6, 4, 5, 2, 0, 4, 5, 4, 5, 4, 5, 2, 4, 5, 6,\n",
       "       4, 5, 4, 1, 3, 1, 6, 4, 5, 4, 6, 2, 5, 6, 4, 1, 4, 7, 4, 5, 2, 5,\n",
       "       2, 3, 1, 4, 7, 3, 6, 7, 4, 4, 4, 2, 3, 7, 4, 1, 3, 6, 4, 2, 5, 2,\n",
       "       7, 4, 7, 3, 4, 5, 2, 5, 2, 0, 7, 4, 7, 3, 7, 3, 7, 4, 4, 2, 0, 7,\n",
       "       3, 4, 5, 4, 7, 2, 3, 6, 6, 4, 7, 3, 4, 5, 2, 5, 2, 0, 4, 6, 5, 3,\n",
       "       7, 0, 4, 6, 4, 2, 3, 7, 3, 7, 3, 6, 4, 2, 3, 6, 4, 7, 2, 7, 6, 3,\n",
       "       7, 6, 7, 3, 7, 4, 6, 3, 7, 3, 7, 3, 4, 2, 3, 7, 3, 7, 3, 6, 4, 2,\n",
       "       3, 6, 4, 7, 2, 7, 6, 3, 7, 3, 7, 3, 7, 4, 6, 3, 7, 3, 7, 3, 4, 2,\n",
       "       3, 7, 3, 7, 3, 6, 4, 2, 3, 6, 4, 7, 2, 7, 6, 3, 7, 3, 7, 3, 7, 3,\n",
       "       6, 3, 7, 3, 7, 3, 4, 2, 3, 7, 3, 7, 3, 6, 4, 2, 3, 6, 4, 7, 2, 7,\n",
       "       6, 3, 7, 3, 7, 3, 7, 3, 6, 3, 7, 3, 7, 3, 4, 2, 3, 7, 3, 7, 3, 6,\n",
       "       3, 2, 3, 6, 4, 7, 2, 7, 6, 3, 7, 3, 7, 3, 7, 3, 6, 3, 7, 3, 7, 3,\n",
       "       3, 2, 3, 7, 3, 7, 3, 6, 3, 2, 3, 6, 4, 7, 2, 7, 6, 3, 7, 3, 7, 3,\n",
       "       7, 3, 6, 3, 7, 3, 7, 3, 3, 2, 3, 7, 3, 7, 3, 6, 3, 2, 3, 6, 4, 7,\n",
       "       2, 7, 6, 3, 7, 3, 7, 3, 7, 3, 6, 3, 7, 3, 7, 3])"
      ]
     },
     "execution_count": 25,
     "metadata": {},
     "output_type": "execute_result"
    }
   ],
   "source": [
    "y_kmeans"
   ]
  },
  {
   "cell_type": "code",
   "execution_count": 26,
   "id": "717705f9",
   "metadata": {},
   "outputs": [
    {
     "data": {
      "text/plain": [
       "(500,)"
      ]
     },
     "execution_count": 26,
     "metadata": {},
     "output_type": "execute_result"
    }
   ],
   "source": [
    "y_kmeans.shape"
   ]
  },
  {
   "cell_type": "code",
   "execution_count": 28,
   "id": "c1219a25",
   "metadata": {},
   "outputs": [],
   "source": [
    "y_kmeans = y_kmeans.reshape(len(y_kmeans), 1)"
   ]
  },
  {
   "cell_type": "code",
   "execution_count": 30,
   "id": "2b4ec1c5",
   "metadata": {},
   "outputs": [
    {
     "data": {
      "text/plain": [
       "(500, 1)"
      ]
     },
     "execution_count": 30,
     "metadata": {},
     "output_type": "execute_result"
    }
   ],
   "source": [
    "y_kmeans.shape"
   ]
  },
  {
   "cell_type": "code",
   "execution_count": 31,
   "id": "6cb9e83b",
   "metadata": {},
   "outputs": [],
   "source": [
    "ax = np.concatenate((y_kmeans, dataframe), axis = 1)"
   ]
  },
  {
   "cell_type": "code",
   "execution_count": 32,
   "id": "1e8537d6",
   "metadata": {},
   "outputs": [
    {
     "data": {
      "text/plain": [
       "array([[  0.  ,   1.  ,   7.25, ...,   4.5 ,   7.8 , 342.  ],\n",
       "       [  0.  ,   2.  ,   7.11, ...,   5.1 ,   6.2 , 335.  ],\n",
       "       [  5.  ,   3.  ,   7.03, ...,   3.9 ,   8.3 , 356.  ],\n",
       "       ...,\n",
       "       [  3.  , 498.  ,   7.02, ...,   4.7 ,   7.5 , 334.  ],\n",
       "       [  7.  , 499.  ,   7.25, ...,   3.9 ,   8.7 , 359.  ],\n",
       "       [  3.  , 500.  ,   7.12, ...,   4.4 ,   8.2 , 339.  ]])"
      ]
     },
     "execution_count": 32,
     "metadata": {},
     "output_type": "execute_result"
    }
   ],
   "source": [
    "ax"
   ]
  },
  {
   "cell_type": "code",
   "execution_count": 33,
   "id": "61e54f98",
   "metadata": {},
   "outputs": [
    {
     "data": {
      "text/plain": [
       "Index(['Sample ID', 'pH', 'Temperature (°C)', 'Turbidity (NTU)',\n",
       "       'Dissolved Oxygen (mg/L)', 'Conductivity (µS/cm)'],\n",
       "      dtype='object')"
      ]
     },
     "execution_count": 33,
     "metadata": {},
     "output_type": "execute_result"
    }
   ],
   "source": [
    "dataframe.columns"
   ]
  },
  {
   "cell_type": "markdown",
   "id": "83c835c4",
   "metadata": {},
   "source": [
    "# Clustered Dataset"
   ]
  },
  {
   "cell_type": "code",
   "execution_count": 34,
   "id": "8c1c472e",
   "metadata": {},
   "outputs": [],
   "source": [
    "dataframe_cluster = pd.DataFrame(data = ax, columns = ['Cluster Number', 'Sample ID', 'pH', 'Temperature (°C)', 'Turbidity (NTU)',\n",
    "       'Dissolved Oxygen (mg/L)', 'Conductivity (µS/cm)'])"
   ]
  },
  {
   "cell_type": "code",
   "execution_count": 37,
   "id": "d76403a1",
   "metadata": {},
   "outputs": [
    {
     "data": {
      "text/html": [
       "<div>\n",
       "<style scoped>\n",
       "    .dataframe tbody tr th:only-of-type {\n",
       "        vertical-align: middle;\n",
       "    }\n",
       "\n",
       "    .dataframe tbody tr th {\n",
       "        vertical-align: top;\n",
       "    }\n",
       "\n",
       "    .dataframe thead th {\n",
       "        text-align: right;\n",
       "    }\n",
       "</style>\n",
       "<table border=\"1\" class=\"dataframe\">\n",
       "  <thead>\n",
       "    <tr style=\"text-align: right;\">\n",
       "      <th></th>\n",
       "      <th>Cluster Number</th>\n",
       "      <th>Sample ID</th>\n",
       "      <th>pH</th>\n",
       "      <th>Temperature (°C)</th>\n",
       "      <th>Turbidity (NTU)</th>\n",
       "      <th>Dissolved Oxygen (mg/L)</th>\n",
       "      <th>Conductivity (µS/cm)</th>\n",
       "    </tr>\n",
       "  </thead>\n",
       "  <tbody>\n",
       "    <tr>\n",
       "      <th>0</th>\n",
       "      <td>0.0</td>\n",
       "      <td>1.0</td>\n",
       "      <td>7.25</td>\n",
       "      <td>23.1</td>\n",
       "      <td>4.5</td>\n",
       "      <td>7.8</td>\n",
       "      <td>342.0</td>\n",
       "    </tr>\n",
       "    <tr>\n",
       "      <th>1</th>\n",
       "      <td>0.0</td>\n",
       "      <td>2.0</td>\n",
       "      <td>7.11</td>\n",
       "      <td>22.3</td>\n",
       "      <td>5.1</td>\n",
       "      <td>6.2</td>\n",
       "      <td>335.0</td>\n",
       "    </tr>\n",
       "    <tr>\n",
       "      <th>2</th>\n",
       "      <td>5.0</td>\n",
       "      <td>3.0</td>\n",
       "      <td>7.03</td>\n",
       "      <td>21.5</td>\n",
       "      <td>3.9</td>\n",
       "      <td>8.3</td>\n",
       "      <td>356.0</td>\n",
       "    </tr>\n",
       "    <tr>\n",
       "      <th>3</th>\n",
       "      <td>1.0</td>\n",
       "      <td>4.0</td>\n",
       "      <td>7.38</td>\n",
       "      <td>22.9</td>\n",
       "      <td>3.2</td>\n",
       "      <td>9.5</td>\n",
       "      <td>327.0</td>\n",
       "    </tr>\n",
       "    <tr>\n",
       "      <th>4</th>\n",
       "      <td>1.0</td>\n",
       "      <td>5.0</td>\n",
       "      <td>7.45</td>\n",
       "      <td>20.7</td>\n",
       "      <td>3.8</td>\n",
       "      <td>8.1</td>\n",
       "      <td>352.0</td>\n",
       "    </tr>\n",
       "    <tr>\n",
       "      <th>...</th>\n",
       "      <td>...</td>\n",
       "      <td>...</td>\n",
       "      <td>...</td>\n",
       "      <td>...</td>\n",
       "      <td>...</td>\n",
       "      <td>...</td>\n",
       "      <td>...</td>\n",
       "    </tr>\n",
       "    <tr>\n",
       "      <th>495</th>\n",
       "      <td>3.0</td>\n",
       "      <td>496.0</td>\n",
       "      <td>7.01</td>\n",
       "      <td>20.8</td>\n",
       "      <td>4.6</td>\n",
       "      <td>7.1</td>\n",
       "      <td>327.0</td>\n",
       "    </tr>\n",
       "    <tr>\n",
       "      <th>496</th>\n",
       "      <td>7.0</td>\n",
       "      <td>497.0</td>\n",
       "      <td>7.31</td>\n",
       "      <td>22.5</td>\n",
       "      <td>3.8</td>\n",
       "      <td>9.4</td>\n",
       "      <td>361.0</td>\n",
       "    </tr>\n",
       "    <tr>\n",
       "      <th>497</th>\n",
       "      <td>3.0</td>\n",
       "      <td>498.0</td>\n",
       "      <td>7.02</td>\n",
       "      <td>21.2</td>\n",
       "      <td>4.7</td>\n",
       "      <td>7.5</td>\n",
       "      <td>334.0</td>\n",
       "    </tr>\n",
       "    <tr>\n",
       "      <th>498</th>\n",
       "      <td>7.0</td>\n",
       "      <td>499.0</td>\n",
       "      <td>7.25</td>\n",
       "      <td>23.0</td>\n",
       "      <td>3.9</td>\n",
       "      <td>8.7</td>\n",
       "      <td>359.0</td>\n",
       "    </tr>\n",
       "    <tr>\n",
       "      <th>499</th>\n",
       "      <td>3.0</td>\n",
       "      <td>500.0</td>\n",
       "      <td>7.12</td>\n",
       "      <td>20.9</td>\n",
       "      <td>4.4</td>\n",
       "      <td>8.2</td>\n",
       "      <td>339.0</td>\n",
       "    </tr>\n",
       "  </tbody>\n",
       "</table>\n",
       "<p>500 rows × 7 columns</p>\n",
       "</div>"
      ],
      "text/plain": [
       "     Cluster Number  Sample ID    pH  Temperature (°C)  Turbidity (NTU)  \\\n",
       "0               0.0        1.0  7.25              23.1              4.5   \n",
       "1               0.0        2.0  7.11              22.3              5.1   \n",
       "2               5.0        3.0  7.03              21.5              3.9   \n",
       "3               1.0        4.0  7.38              22.9              3.2   \n",
       "4               1.0        5.0  7.45              20.7              3.8   \n",
       "..              ...        ...   ...               ...              ...   \n",
       "495             3.0      496.0  7.01              20.8              4.6   \n",
       "496             7.0      497.0  7.31              22.5              3.8   \n",
       "497             3.0      498.0  7.02              21.2              4.7   \n",
       "498             7.0      499.0  7.25              23.0              3.9   \n",
       "499             3.0      500.0  7.12              20.9              4.4   \n",
       "\n",
       "     Dissolved Oxygen (mg/L)  Conductivity (µS/cm)  \n",
       "0                        7.8                 342.0  \n",
       "1                        6.2                 335.0  \n",
       "2                        8.3                 356.0  \n",
       "3                        9.5                 327.0  \n",
       "4                        8.1                 352.0  \n",
       "..                       ...                   ...  \n",
       "495                      7.1                 327.0  \n",
       "496                      9.4                 361.0  \n",
       "497                      7.5                 334.0  \n",
       "498                      8.7                 359.0  \n",
       "499                      8.2                 339.0  \n",
       "\n",
       "[500 rows x 7 columns]"
      ]
     },
     "execution_count": 37,
     "metadata": {},
     "output_type": "execute_result"
    }
   ],
   "source": [
    "dataframe_cluster"
   ]
  },
  {
   "cell_type": "code",
   "execution_count": 40,
   "id": "6644151c",
   "metadata": {},
   "outputs": [
    {
     "data": {
      "text/html": [
       "<div>\n",
       "<style scoped>\n",
       "    .dataframe tbody tr th:only-of-type {\n",
       "        vertical-align: middle;\n",
       "    }\n",
       "\n",
       "    .dataframe tbody tr th {\n",
       "        vertical-align: top;\n",
       "    }\n",
       "\n",
       "    .dataframe thead th {\n",
       "        text-align: right;\n",
       "    }\n",
       "</style>\n",
       "<table border=\"1\" class=\"dataframe\">\n",
       "  <thead>\n",
       "    <tr style=\"text-align: right;\">\n",
       "      <th></th>\n",
       "      <th>Cluster Number</th>\n",
       "      <th>Sample ID</th>\n",
       "      <th>pH</th>\n",
       "      <th>Temperature (°C)</th>\n",
       "      <th>Turbidity (NTU)</th>\n",
       "      <th>Dissolved Oxygen (mg/L)</th>\n",
       "      <th>Conductivity (µS/cm)</th>\n",
       "    </tr>\n",
       "  </thead>\n",
       "  <tbody>\n",
       "    <tr>\n",
       "      <th>0</th>\n",
       "      <td>0.0</td>\n",
       "      <td>1.0</td>\n",
       "      <td>7.25</td>\n",
       "      <td>23.1</td>\n",
       "      <td>4.5</td>\n",
       "      <td>7.8</td>\n",
       "      <td>342.0</td>\n",
       "    </tr>\n",
       "    <tr>\n",
       "      <th>1</th>\n",
       "      <td>0.0</td>\n",
       "      <td>2.0</td>\n",
       "      <td>7.11</td>\n",
       "      <td>22.3</td>\n",
       "      <td>5.1</td>\n",
       "      <td>6.2</td>\n",
       "      <td>335.0</td>\n",
       "    </tr>\n",
       "    <tr>\n",
       "      <th>2</th>\n",
       "      <td>5.0</td>\n",
       "      <td>3.0</td>\n",
       "      <td>7.03</td>\n",
       "      <td>21.5</td>\n",
       "      <td>3.9</td>\n",
       "      <td>8.3</td>\n",
       "      <td>356.0</td>\n",
       "    </tr>\n",
       "    <tr>\n",
       "      <th>3</th>\n",
       "      <td>1.0</td>\n",
       "      <td>4.0</td>\n",
       "      <td>7.38</td>\n",
       "      <td>22.9</td>\n",
       "      <td>3.2</td>\n",
       "      <td>9.5</td>\n",
       "      <td>327.0</td>\n",
       "    </tr>\n",
       "    <tr>\n",
       "      <th>4</th>\n",
       "      <td>1.0</td>\n",
       "      <td>5.0</td>\n",
       "      <td>7.45</td>\n",
       "      <td>20.7</td>\n",
       "      <td>3.8</td>\n",
       "      <td>8.1</td>\n",
       "      <td>352.0</td>\n",
       "    </tr>\n",
       "  </tbody>\n",
       "</table>\n",
       "</div>"
      ],
      "text/plain": [
       "   Cluster Number  Sample ID    pH  Temperature (°C)  Turbidity (NTU)  \\\n",
       "0             0.0        1.0  7.25              23.1              4.5   \n",
       "1             0.0        2.0  7.11              22.3              5.1   \n",
       "2             5.0        3.0  7.03              21.5              3.9   \n",
       "3             1.0        4.0  7.38              22.9              3.2   \n",
       "4             1.0        5.0  7.45              20.7              3.8   \n",
       "\n",
       "   Dissolved Oxygen (mg/L)  Conductivity (µS/cm)  \n",
       "0                      7.8                 342.0  \n",
       "1                      6.2                 335.0  \n",
       "2                      8.3                 356.0  \n",
       "3                      9.5                 327.0  \n",
       "4                      8.1                 352.0  "
      ]
     },
     "execution_count": 40,
     "metadata": {},
     "output_type": "execute_result"
    }
   ],
   "source": [
    "dataframe_cluster.head()"
   ]
  },
  {
   "cell_type": "code",
   "execution_count": 41,
   "id": "9cecc58f",
   "metadata": {},
   "outputs": [],
   "source": [
    "dataframe_cluster.to_csv('Cluster Dataset')"
   ]
  }
 ],
 "metadata": {
  "kernelspec": {
   "display_name": "Python 3 (ipykernel)",
   "language": "python",
   "name": "python3"
  },
  "language_info": {
   "codemirror_mode": {
    "name": "ipython",
    "version": 3
   },
   "file_extension": ".py",
   "mimetype": "text/x-python",
   "name": "python",
   "nbconvert_exporter": "python",
   "pygments_lexer": "ipython3",
   "version": "3.10.9"
  }
 },
 "nbformat": 4,
 "nbformat_minor": 5
}
